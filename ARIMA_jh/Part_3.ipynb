{
 "cells": [
  {
   "cell_type": "markdown",
   "metadata": {},
   "source": [
    "### Basic mathematics\n",
    "\n",
    "- $X_1, X_2, ..., X_t$ a **sequence of a random variable 가정** \n",
    "- $F_x(x) = P(X \\leq x)$ **: cdf(Cumalitive density function)** \n",
    "- $E(x) = \\mu_x$ \n",
    "- $V(x) = E[(x - \\mu_x)^2] = \\sigma x^2$\n",
    "- $Cov(x_1,x_2) = E[(x_1 - \\mu_1)(x_2 - \\mu_2)] = \\sigma x_1x_2$\n",
    "- $Cov(x_1,x_1) = V(x1) = \\sigma x_1^2$ \n",
    "\n",
    "- $Corr(x_1,x_2)$ \n",
    "\n",
    " $= \\frac{Cov(x_1,x_2)}{\\sqrt{V(x_1)V(x_2)}}$   \n",
    "\n",
    " $= \\frac{\\sigma x_1x_2}{\\sqrt{\\sigma x1^2 \\sigma x2^2}}$ \n",
    "\n",
    " $= \\frac{\\sigma x}{\\sigma x1 \\sigma x2}$ \n",
    "\n",
    "\n",
    "#### X, Y indipendent\n",
    "\n",
    "- $E[x, y] = E[x][y]$ \\\n",
    "- $Cov(x, y) = 0$ \\\n",
    "- $Cov(x+2, y) = Cov(x,y)$ \\\n",
    "- $Cov(x,y) = Cov(y,x)$ \\\n",
    "- $Cov(ax,y) = Cov(x,y)$"
   ]
  },
  {
   "cell_type": "markdown",
   "metadata": {},
   "source": [
    "--------------------------------------------------------------------------------"
   ]
  },
  {
   "cell_type": "markdown",
   "metadata": {},
   "source": [
    "### Autocovariance\n",
    "- $Cov(x_t, x_{t+h}) = \\gamma_x(h) **$\n",
    "- $\\gamma_x(0) = Cov(x_t,x_t) = V(x_t) = \\sigma x_t^2 $\n",
    "\n",
    "- $\\gamma x(-h) = Cov(x_t, x_{t-h}) = Cov(x_{t-h}, x_{(t-h)+h}) = \\gamma_x(h)$ \\\n",
    "즉_ $\\gamma x(-h) = \\gamma x(h)$ **for all h **\n",
    "> _**symmetry**_"
   ]
  },
  {
   "cell_type": "markdown",
   "metadata": {},
   "source": [
    "### Autocorrelation\n",
    "(rho) $P_x(h) = \\frac{Cov(x_t,x{t+h})}{\\sqrt{V(x_t)V(x_{t+jh})}}$ \\\n",
    "\\\n",
    "$= \\frac{\\gamma_x(h)}{\\sqrt{\\gamma_x(0)\\gamma_x(0)}}$\n",
    "\\\n",
    "\\\n",
    "$= \\frac{\\gamma_x(h)}{\\gamma_x(0)}$\n",
    "\n",
    "즉_ $P_x(0) = \\frac{\\gamma_x(0)}{\\gamma_x(0)} = 1, Corr(x_t,x_t)$ \\\n",
    "\\\n",
    "$Px(-h) = Px(h)$ **for all h ** \\\n",
    "\\\n",
    "$-1 \\leq P_x(h) \\leq 1$"
   ]
  },
  {
   "cell_type": "markdown",
   "metadata": {},
   "source": [
    "### White Noise\n",
    "$a_t$ \\\n",
    "$E(a_t) = 0, \\forall_t$ \\\n",
    "$V(a_t) = \\sigma_a^2, \\forall_t$ \\\n",
    "$Corr(a_t,a_s) = 0,  t!=s$  \n",
    "\\\n",
    "\\\n",
    "$\\gamma_a(h) = Cov(a_t, a_{t+h}) = \\left\\{\\begin{array}\\\\ \n",
    "                                    sigma_a^2 \\;\\;\\;Where \\;\\; h=0\\\\    \n",
    "                                    0, \\;\\;\\; Where \\;\\;h!=0\n",
    "                                    \\end{array}\n",
    "                                    \\right.$\n",
    "                                    \n",
    "$Pa(h) = \\left\\{\\begin{array}\\\\ \n",
    "            1, \\;\\;\\;Where \\;\\; h=0\\\\    \n",
    "            0, \\;\\;\\;Where \\;\\; h!=0\n",
    "            \\end{array}\n",
    "            \\right.$                                    "
   ]
  },
  {
   "cell_type": "markdown",
   "metadata": {},
   "source": [
    "**ARIMA**\n",
    "- $X_1, X_2, ..., X_t$ a **sequence of a random variable 가정** \n",
    "- $E(x_t) = \\mu, \\;\\;V(x_t) = \\sigma_x^2$\n",
    "\n",
    "_**상위의 기대값과 분산은, Time에 의해 파생된 것이 아니므로, 시간역에서 확률분포가 일정해야한다.\n",
    "    > Constant probability distribution over time.**_\n",
    "\n",
    "\n",
    "_**Stationary time series(Stationary process)**_"
   ]
  },
  {
   "cell_type": "markdown",
   "metadata": {},
   "source": [
    "--------------------------------------------------------------------------------------------------------"
   ]
  },
  {
   "cell_type": "markdown",
   "metadata": {},
   "source": [
    "Ex)_\n",
    "$Suppose Z_t = \\beta_0 + \\beta_1t + xt \\;\\; Where, x_t\\; is \\;\\;stationary$ \\\n",
    "**Show that** $Z_t$ is NOT stationary but $\\nabla Z_t = Z_t - Z_{t-1} \\; is \\; stationary$"
   ]
  },
  {
   "cell_type": "markdown",
   "metadata": {},
   "source": [
    "Sol__ Expectation \\\n",
    "$E(Z_t) = E(\\beta_0 + \\beta_1t + xt) = \\beta_0 + \\beta_1t + E(x_t) = \\beta_0 + \\beta_1t + \\mu$ \\ \n",
    "$E(Z_t - Z_{t-1}) = E(\\beta_0 + \\beta_1t + xt - \\beta_0 - \\beta1_{t-1} + x_{t-1})$ \\\n",
    "$E(xt + \\beta1 + x_{t-1})$ \\\n",
    "$E(xt) + \\beta1 E(x{t-1}) = \\mu + \\beta_1 - \\mu = \\beta$"
   ]
  },
  {
   "cell_type": "markdown",
   "metadata": {},
   "source": [
    "Sol__ Covariance \\\n",
    "$Cov(\\nabla Z_t, \\nabla Z{t-h}) = Cov(Z_t - Z_{t-1}, Z_{t-h} - Z_{t-h-1})$\n",
    "    - 위 역시 t에 대하여 Independent\n",
    "\n",
    "_**$\\nabla Z_t$ is Stationary**_"
   ]
  }
 ],
 "metadata": {
  "kernelspec": {
   "display_name": "Python 3",
   "language": "python",
   "name": "python3"
  },
  "language_info": {
   "codemirror_mode": {
    "name": "ipython",
    "version": 3
   },
   "file_extension": ".py",
   "mimetype": "text/x-python",
   "name": "python",
   "nbconvert_exporter": "python",
   "pygments_lexer": "ipython3",
   "version": "3.8.3"
  },
  "toc": {
   "base_numbering": 1,
   "nav_menu": {},
   "number_sections": true,
   "sideBar": true,
   "skip_h1_title": false,
   "title_cell": "Table of Contents",
   "title_sidebar": "Contents",
   "toc_cell": false,
   "toc_position": {},
   "toc_section_display": true,
   "toc_window_display": false
  }
 },
 "nbformat": 4,
 "nbformat_minor": 4
}
