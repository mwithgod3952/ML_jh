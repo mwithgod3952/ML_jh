{
 "cells": [
  {
   "cell_type": "markdown",
   "metadata": {},
   "source": [
    "### 정상프로세스(Stationary Process)\n",
    "\n",
    "- 정의 : 시간에 관계없이 평균과 분산이 일정한 시계열 데이터\n",
    "- 정상성 확인 >> Autocorrelation Funtion의 패턴을 이용해서 해석\n",
    "\n",
    "#### **ACF의 요소**\n",
    "* lag $y_t$와 $y_{t-h}$ 즉, 지금 현 데이터와 한 시점 ~ n 시점 미룬 데이터 간의 차이를 설명.\n",
    "* ACF, 자기상관\n",
    "#### **PACF(Partial Autocorrelation Funtion)의 요소**\n",
    "* 정상 시계열의 ACF를 표본버전으로 바꾼 Sample ACF가 PACF\n",
    "* PACF는 시점 $t$와 $t-h$ 사이에 관측된 시계열 값이 주어질 때, $y_t-h$의 조건부 상관을 시차 $h$함수로 나타낸 것.\n",
    "    "
   ]
  },
  {
   "cell_type": "markdown",
   "metadata": {},
   "source": [
    "### 비정상프로세스(Nonstationary Process)\n",
    "\n",
    "- 정의 : 시간에 따라 평균, 분산이 일정하지 않은 경우\n",
    "- 정상성 확인 >> Autocorrelation Funtion의 패턴을 이용해서 해석"
   ]
  },
  {
   "cell_type": "markdown",
   "metadata": {},
   "source": [
    "--------------------------------------------------------------------------------------------------------"
   ]
  },
  {
   "cell_type": "markdown",
   "metadata": {},
   "source": [
    "### Autoregressive (AR) Model\n",
    "\n",
    "* Models that use lags *** of the dependent variable(Y) as independe(X) variables.\n",
    "$y_t = \\phi_0 + \\phi_1y_{t-1} + \\phi_2y_{t-2} + ... + \\phi_py_{t-p} + \\varepsilon$\n",
    "\n",
    "**Different from a multiple regression model**\n",
    "    - Independence assumption is violated, the explanatory variable usually have a dependent relationship. >> Phi를 추정함에 있어, 최소제곱법을 통한 추정 불능\n",
    "    - Determining the number of past values to use is not always straightforward.\n",
    "    - Autocorrelation and partial autocorrelation can be used."
   ]
  },
  {
   "cell_type": "markdown",
   "metadata": {},
   "source": [
    "### Moving Average (MA) Models\n",
    "    - Models that ust past errors that follow a white noise distribution as explanatory variables.\n",
    "$y_t = \\theta_0 + \\varepsilon_t + \\theta_1\\varepsilon_{t-1} + \\theta_2\\varepsilon_{t-2} + ... + \\theta_q\\varepsilon_{t-q}$\n",
    "    - Explict dependence relationship is set up among succesive error terms."
   ]
  },
  {
   "cell_type": "markdown",
   "metadata": {},
   "source": [
    "### Autoregressive and Moving Average (ARMA)\n",
    "$y_t = \\phi_0 + \\phi_1y_{t-1} + \\phi_2y_{t-2} + \\phi_py_{t-p} + \\varepsilon_t + \\theta_1\\varepsilon_{t-1} + \\theta_2\\varepsilon_{t-2} + \\theta_q\\varepsilon_{t-q}$\n",
    "    - Autoregressive models combines the AR model with the MA model to form a general class of models, called \"ARMA\""
   ]
  },
  {
   "cell_type": "markdown",
   "metadata": {},
   "source": [
    "### Autoregressive Integrated Moving Average (ARIMA)\n",
    "\n",
    "#### After several simple differencing passes have been made to secure stationarity,\n",
    "#### An ARMA model is fitted \n",
    "    - the process is considered \"integrated.\"\n",
    "    - that is, the series must be \"derived\" to induce stationarity.\n",
    "#### The resulting model is called autoregressive integrated moving average time series (ARIMA) model \n",
    "    - AR_p, I_d, MA_q"
   ]
  },
  {
   "cell_type": "markdown",
   "metadata": {},
   "source": [
    "--------------------------------------------------------------------------------------------------------"
   ]
  },
  {
   "cell_type": "markdown",
   "metadata": {},
   "source": [
    "### ARIMA(p,d,q)\n",
    "    - Autoregressive integrated moving average models express the data values at time \"t\" as linear combination of previous data values and/or current and previous errors\n",
    "    \n",
    "**- p:AR Model에서 Independent variable의 개수** \n",
    "    - order of the AR part of the model\n",
    "**- q:MA Model에서 Independent variable의 개수** \n",
    "    - order of the MA part of the model\n",
    "**- d:Differencing의 개수**\n",
    "    - order of the MA part of the model\n",
    "    \n",
    "#### 차분(Differencing)\n",
    "    - If original series is nonstationary, differencing might be needed.\n",
    "**d차분** : $Y_t^{(d)} = X_t - X_{t-d} = \\nabla^{(d)}X_t$\n",
    "##### <font color = \"blue\">If original series is stationary, no need to differencing.</font>\n",
    "##### <font color = \"blue\">If original series has a constant(일정 증가, 일정감소) average tred, I_st order of differencing might work</font>\n",
    "##### <font color = \"blue\">If original series has a time varying trend(curvature), 2_nd order of diffencing might be needed.</font>\n",
    "\n",
    "**<font color=\"red\">3차분까지 적용되어야만 Stationary 특성을 확보할 수 있다면, ARIMA Model이 적합하지 않다고 판단해도 좋을 것.</font>**"
   ]
  }
 ],
 "metadata": {
  "kernelspec": {
   "display_name": "Python 3",
   "language": "python",
   "name": "python3"
  },
  "language_info": {
   "codemirror_mode": {
    "name": "ipython",
    "version": 3
   },
   "file_extension": ".py",
   "mimetype": "text/x-python",
   "name": "python",
   "nbconvert_exporter": "python",
   "pygments_lexer": "ipython3",
   "version": "3.8.3"
  },
  "toc": {
   "base_numbering": 1,
   "nav_menu": {},
   "number_sections": true,
   "sideBar": true,
   "skip_h1_title": false,
   "title_cell": "Table of Contents",
   "title_sidebar": "Contents",
   "toc_cell": false,
   "toc_position": {},
   "toc_section_display": true,
   "toc_window_display": false
  }
 },
 "nbformat": 4,
 "nbformat_minor": 4
}
