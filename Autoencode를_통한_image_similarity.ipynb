{
  "nbformat": 4,
  "nbformat_minor": 0,
  "metadata": {
    "colab": {
      "name": "Autoencode를 통한 image similarity",
      "provenance": [],
      "collapsed_sections": [],
      "mount_file_id": "1tbOefNTDah5zyNZV8xFYLNefxM8yFoBy",
      "authorship_tag": "ABX9TyM0xoALMyYhyPSiQ5HF+r+Z",
      "include_colab_link": true
    },
    "kernelspec": {
      "name": "python3",
      "display_name": "Python 3"
    },
    "language_info": {
      "name": "python"
    },
    "widgets": {
      "application/vnd.jupyter.widget-state+json": {
        "613f6d9ed8744d5485a02c8b4de948f4": {
          "model_module": "@jupyter-widgets/controls",
          "model_name": "HBoxModel",
          "model_module_version": "1.5.0",
          "state": {
            "_view_name": "HBoxView",
            "_dom_classes": [],
            "_model_name": "HBoxModel",
            "_view_module": "@jupyter-widgets/controls",
            "_model_module_version": "1.5.0",
            "_view_count": null,
            "_view_module_version": "1.5.0",
            "box_style": "",
            "layout": "IPY_MODEL_46b13e63d76f438e961d2128771be1ba",
            "_model_module": "@jupyter-widgets/controls",
            "children": [
              "IPY_MODEL_d8d2e005e1534e748d9a7aa0d44f8455",
              "IPY_MODEL_cca5a92f89dd4f548ba605c150022c09",
              "IPY_MODEL_7d36e796d3484143a4ea311c92061b40"
            ]
          }
        },
        "46b13e63d76f438e961d2128771be1ba": {
          "model_module": "@jupyter-widgets/base",
          "model_name": "LayoutModel",
          "model_module_version": "1.2.0",
          "state": {
            "_view_name": "LayoutView",
            "grid_template_rows": null,
            "right": null,
            "justify_content": null,
            "_view_module": "@jupyter-widgets/base",
            "overflow": null,
            "_model_module_version": "1.2.0",
            "_view_count": null,
            "flex_flow": null,
            "width": null,
            "min_width": null,
            "border": null,
            "align_items": null,
            "bottom": null,
            "_model_module": "@jupyter-widgets/base",
            "top": null,
            "grid_column": null,
            "overflow_y": null,
            "overflow_x": null,
            "grid_auto_flow": null,
            "grid_area": null,
            "grid_template_columns": null,
            "flex": null,
            "_model_name": "LayoutModel",
            "justify_items": null,
            "grid_row": null,
            "max_height": null,
            "align_content": null,
            "visibility": null,
            "align_self": null,
            "height": null,
            "min_height": null,
            "padding": null,
            "grid_auto_rows": null,
            "grid_gap": null,
            "max_width": null,
            "order": null,
            "_view_module_version": "1.2.0",
            "grid_template_areas": null,
            "object_position": null,
            "object_fit": null,
            "grid_auto_columns": null,
            "margin": null,
            "display": null,
            "left": null
          }
        },
        "d8d2e005e1534e748d9a7aa0d44f8455": {
          "model_module": "@jupyter-widgets/controls",
          "model_name": "HTMLModel",
          "model_module_version": "1.5.0",
          "state": {
            "_view_name": "HTMLView",
            "style": "IPY_MODEL_39255a9360654a57bb18e19ceb5d207e",
            "_dom_classes": [],
            "description": "",
            "_model_name": "HTMLModel",
            "placeholder": "​",
            "_view_module": "@jupyter-widgets/controls",
            "_model_module_version": "1.5.0",
            "value": "100%",
            "_view_count": null,
            "_view_module_version": "1.5.0",
            "description_tooltip": null,
            "_model_module": "@jupyter-widgets/controls",
            "layout": "IPY_MODEL_f15600c1cb104a9a92835118d744dafb"
          }
        },
        "cca5a92f89dd4f548ba605c150022c09": {
          "model_module": "@jupyter-widgets/controls",
          "model_name": "FloatProgressModel",
          "model_module_version": "1.5.0",
          "state": {
            "_view_name": "ProgressView",
            "style": "IPY_MODEL_e9a422ac052e4a37b5365dc165fe649e",
            "_dom_classes": [],
            "description": "",
            "_model_name": "FloatProgressModel",
            "bar_style": "success",
            "max": 215,
            "_view_module": "@jupyter-widgets/controls",
            "_model_module_version": "1.5.0",
            "value": 215,
            "_view_count": null,
            "_view_module_version": "1.5.0",
            "orientation": "horizontal",
            "min": 0,
            "description_tooltip": null,
            "_model_module": "@jupyter-widgets/controls",
            "layout": "IPY_MODEL_ecc214b9f2e24dca92f6a63c31a33b16"
          }
        },
        "7d36e796d3484143a4ea311c92061b40": {
          "model_module": "@jupyter-widgets/controls",
          "model_name": "HTMLModel",
          "model_module_version": "1.5.0",
          "state": {
            "_view_name": "HTMLView",
            "style": "IPY_MODEL_8751441c29d64444a37efb5e89278fac",
            "_dom_classes": [],
            "description": "",
            "_model_name": "HTMLModel",
            "placeholder": "​",
            "_view_module": "@jupyter-widgets/controls",
            "_model_module_version": "1.5.0",
            "value": " 215/215 [05:28&lt;00:00,  1.52s/it]",
            "_view_count": null,
            "_view_module_version": "1.5.0",
            "description_tooltip": null,
            "_model_module": "@jupyter-widgets/controls",
            "layout": "IPY_MODEL_a2e8c9cfc9f646c3b3b62fa4ce3073be"
          }
        },
        "39255a9360654a57bb18e19ceb5d207e": {
          "model_module": "@jupyter-widgets/controls",
          "model_name": "DescriptionStyleModel",
          "model_module_version": "1.5.0",
          "state": {
            "_view_name": "StyleView",
            "_model_name": "DescriptionStyleModel",
            "description_width": "",
            "_view_module": "@jupyter-widgets/base",
            "_model_module_version": "1.5.0",
            "_view_count": null,
            "_view_module_version": "1.2.0",
            "_model_module": "@jupyter-widgets/controls"
          }
        },
        "f15600c1cb104a9a92835118d744dafb": {
          "model_module": "@jupyter-widgets/base",
          "model_name": "LayoutModel",
          "model_module_version": "1.2.0",
          "state": {
            "_view_name": "LayoutView",
            "grid_template_rows": null,
            "right": null,
            "justify_content": null,
            "_view_module": "@jupyter-widgets/base",
            "overflow": null,
            "_model_module_version": "1.2.0",
            "_view_count": null,
            "flex_flow": null,
            "width": null,
            "min_width": null,
            "border": null,
            "align_items": null,
            "bottom": null,
            "_model_module": "@jupyter-widgets/base",
            "top": null,
            "grid_column": null,
            "overflow_y": null,
            "overflow_x": null,
            "grid_auto_flow": null,
            "grid_area": null,
            "grid_template_columns": null,
            "flex": null,
            "_model_name": "LayoutModel",
            "justify_items": null,
            "grid_row": null,
            "max_height": null,
            "align_content": null,
            "visibility": null,
            "align_self": null,
            "height": null,
            "min_height": null,
            "padding": null,
            "grid_auto_rows": null,
            "grid_gap": null,
            "max_width": null,
            "order": null,
            "_view_module_version": "1.2.0",
            "grid_template_areas": null,
            "object_position": null,
            "object_fit": null,
            "grid_auto_columns": null,
            "margin": null,
            "display": null,
            "left": null
          }
        },
        "e9a422ac052e4a37b5365dc165fe649e": {
          "model_module": "@jupyter-widgets/controls",
          "model_name": "ProgressStyleModel",
          "model_module_version": "1.5.0",
          "state": {
            "_view_name": "StyleView",
            "_model_name": "ProgressStyleModel",
            "description_width": "",
            "_view_module": "@jupyter-widgets/base",
            "_model_module_version": "1.5.0",
            "_view_count": null,
            "_view_module_version": "1.2.0",
            "bar_color": null,
            "_model_module": "@jupyter-widgets/controls"
          }
        },
        "ecc214b9f2e24dca92f6a63c31a33b16": {
          "model_module": "@jupyter-widgets/base",
          "model_name": "LayoutModel",
          "model_module_version": "1.2.0",
          "state": {
            "_view_name": "LayoutView",
            "grid_template_rows": null,
            "right": null,
            "justify_content": null,
            "_view_module": "@jupyter-widgets/base",
            "overflow": null,
            "_model_module_version": "1.2.0",
            "_view_count": null,
            "flex_flow": null,
            "width": null,
            "min_width": null,
            "border": null,
            "align_items": null,
            "bottom": null,
            "_model_module": "@jupyter-widgets/base",
            "top": null,
            "grid_column": null,
            "overflow_y": null,
            "overflow_x": null,
            "grid_auto_flow": null,
            "grid_area": null,
            "grid_template_columns": null,
            "flex": null,
            "_model_name": "LayoutModel",
            "justify_items": null,
            "grid_row": null,
            "max_height": null,
            "align_content": null,
            "visibility": null,
            "align_self": null,
            "height": null,
            "min_height": null,
            "padding": null,
            "grid_auto_rows": null,
            "grid_gap": null,
            "max_width": null,
            "order": null,
            "_view_module_version": "1.2.0",
            "grid_template_areas": null,
            "object_position": null,
            "object_fit": null,
            "grid_auto_columns": null,
            "margin": null,
            "display": null,
            "left": null
          }
        },
        "8751441c29d64444a37efb5e89278fac": {
          "model_module": "@jupyter-widgets/controls",
          "model_name": "DescriptionStyleModel",
          "model_module_version": "1.5.0",
          "state": {
            "_view_name": "StyleView",
            "_model_name": "DescriptionStyleModel",
            "description_width": "",
            "_view_module": "@jupyter-widgets/base",
            "_model_module_version": "1.5.0",
            "_view_count": null,
            "_view_module_version": "1.2.0",
            "_model_module": "@jupyter-widgets/controls"
          }
        },
        "a2e8c9cfc9f646c3b3b62fa4ce3073be": {
          "model_module": "@jupyter-widgets/base",
          "model_name": "LayoutModel",
          "model_module_version": "1.2.0",
          "state": {
            "_view_name": "LayoutView",
            "grid_template_rows": null,
            "right": null,
            "justify_content": null,
            "_view_module": "@jupyter-widgets/base",
            "overflow": null,
            "_model_module_version": "1.2.0",
            "_view_count": null,
            "flex_flow": null,
            "width": null,
            "min_width": null,
            "border": null,
            "align_items": null,
            "bottom": null,
            "_model_module": "@jupyter-widgets/base",
            "top": null,
            "grid_column": null,
            "overflow_y": null,
            "overflow_x": null,
            "grid_auto_flow": null,
            "grid_area": null,
            "grid_template_columns": null,
            "flex": null,
            "_model_name": "LayoutModel",
            "justify_items": null,
            "grid_row": null,
            "max_height": null,
            "align_content": null,
            "visibility": null,
            "align_self": null,
            "height": null,
            "min_height": null,
            "padding": null,
            "grid_auto_rows": null,
            "grid_gap": null,
            "max_width": null,
            "order": null,
            "_view_module_version": "1.2.0",
            "grid_template_areas": null,
            "object_position": null,
            "object_fit": null,
            "grid_auto_columns": null,
            "margin": null,
            "display": null,
            "left": null
          }
        },
        "3e3fb5d81e98449fa5925b1dd9f0a7d1": {
          "model_module": "@jupyter-widgets/controls",
          "model_name": "HBoxModel",
          "model_module_version": "1.5.0",
          "state": {
            "_view_name": "HBoxView",
            "_dom_classes": [],
            "_model_name": "HBoxModel",
            "_view_module": "@jupyter-widgets/controls",
            "_model_module_version": "1.5.0",
            "_view_count": null,
            "_view_module_version": "1.5.0",
            "box_style": "",
            "layout": "IPY_MODEL_9383f62b8dfc413d865c422bc8530a2d",
            "_model_module": "@jupyter-widgets/controls",
            "children": [
              "IPY_MODEL_2445871fefd84bda95533426407a6214",
              "IPY_MODEL_838ca7819e33423faadc12ca961dab18",
              "IPY_MODEL_234e4fd7ea7245adb8d95dfafa9e416b"
            ]
          }
        },
        "9383f62b8dfc413d865c422bc8530a2d": {
          "model_module": "@jupyter-widgets/base",
          "model_name": "LayoutModel",
          "model_module_version": "1.2.0",
          "state": {
            "_view_name": "LayoutView",
            "grid_template_rows": null,
            "right": null,
            "justify_content": null,
            "_view_module": "@jupyter-widgets/base",
            "overflow": null,
            "_model_module_version": "1.2.0",
            "_view_count": null,
            "flex_flow": null,
            "width": null,
            "min_width": null,
            "border": null,
            "align_items": null,
            "bottom": null,
            "_model_module": "@jupyter-widgets/base",
            "top": null,
            "grid_column": null,
            "overflow_y": null,
            "overflow_x": null,
            "grid_auto_flow": null,
            "grid_area": null,
            "grid_template_columns": null,
            "flex": null,
            "_model_name": "LayoutModel",
            "justify_items": null,
            "grid_row": null,
            "max_height": null,
            "align_content": null,
            "visibility": null,
            "align_self": null,
            "height": null,
            "min_height": null,
            "padding": null,
            "grid_auto_rows": null,
            "grid_gap": null,
            "max_width": null,
            "order": null,
            "_view_module_version": "1.2.0",
            "grid_template_areas": null,
            "object_position": null,
            "object_fit": null,
            "grid_auto_columns": null,
            "margin": null,
            "display": null,
            "left": null
          }
        },
        "2445871fefd84bda95533426407a6214": {
          "model_module": "@jupyter-widgets/controls",
          "model_name": "HTMLModel",
          "model_module_version": "1.5.0",
          "state": {
            "_view_name": "HTMLView",
            "style": "IPY_MODEL_a0660c9f8ea24f5d91509d465c8f70d7",
            "_dom_classes": [],
            "description": "",
            "_model_name": "HTMLModel",
            "placeholder": "​",
            "_view_module": "@jupyter-widgets/controls",
            "_model_module_version": "1.5.0",
            "value": "100%",
            "_view_count": null,
            "_view_module_version": "1.5.0",
            "description_tooltip": null,
            "_model_module": "@jupyter-widgets/controls",
            "layout": "IPY_MODEL_c5758bcca53f4e148ad5711763a811c1"
          }
        },
        "838ca7819e33423faadc12ca961dab18": {
          "model_module": "@jupyter-widgets/controls",
          "model_name": "FloatProgressModel",
          "model_module_version": "1.5.0",
          "state": {
            "_view_name": "ProgressView",
            "style": "IPY_MODEL_e2dd2174cfce4488b41c39c999b50806",
            "_dom_classes": [],
            "description": "",
            "_model_name": "FloatProgressModel",
            "bar_style": "success",
            "max": 38,
            "_view_module": "@jupyter-widgets/controls",
            "_model_module_version": "1.5.0",
            "value": 38,
            "_view_count": null,
            "_view_module_version": "1.5.0",
            "orientation": "horizontal",
            "min": 0,
            "description_tooltip": null,
            "_model_module": "@jupyter-widgets/controls",
            "layout": "IPY_MODEL_d7dd302725e04af6baeaa768ab2acc54"
          }
        },
        "234e4fd7ea7245adb8d95dfafa9e416b": {
          "model_module": "@jupyter-widgets/controls",
          "model_name": "HTMLModel",
          "model_module_version": "1.5.0",
          "state": {
            "_view_name": "HTMLView",
            "style": "IPY_MODEL_dc40de9fdec44ef4bae47b8267bb4eaf",
            "_dom_classes": [],
            "description": "",
            "_model_name": "HTMLModel",
            "placeholder": "​",
            "_view_module": "@jupyter-widgets/controls",
            "_model_module_version": "1.5.0",
            "value": " 38/38 [00:57&lt;00:00,  1.52s/it]",
            "_view_count": null,
            "_view_module_version": "1.5.0",
            "description_tooltip": null,
            "_model_module": "@jupyter-widgets/controls",
            "layout": "IPY_MODEL_1ddeaf1f3a964681b110d2008e2ed964"
          }
        },
        "a0660c9f8ea24f5d91509d465c8f70d7": {
          "model_module": "@jupyter-widgets/controls",
          "model_name": "DescriptionStyleModel",
          "model_module_version": "1.5.0",
          "state": {
            "_view_name": "StyleView",
            "_model_name": "DescriptionStyleModel",
            "description_width": "",
            "_view_module": "@jupyter-widgets/base",
            "_model_module_version": "1.5.0",
            "_view_count": null,
            "_view_module_version": "1.2.0",
            "_model_module": "@jupyter-widgets/controls"
          }
        },
        "c5758bcca53f4e148ad5711763a811c1": {
          "model_module": "@jupyter-widgets/base",
          "model_name": "LayoutModel",
          "model_module_version": "1.2.0",
          "state": {
            "_view_name": "LayoutView",
            "grid_template_rows": null,
            "right": null,
            "justify_content": null,
            "_view_module": "@jupyter-widgets/base",
            "overflow": null,
            "_model_module_version": "1.2.0",
            "_view_count": null,
            "flex_flow": null,
            "width": null,
            "min_width": null,
            "border": null,
            "align_items": null,
            "bottom": null,
            "_model_module": "@jupyter-widgets/base",
            "top": null,
            "grid_column": null,
            "overflow_y": null,
            "overflow_x": null,
            "grid_auto_flow": null,
            "grid_area": null,
            "grid_template_columns": null,
            "flex": null,
            "_model_name": "LayoutModel",
            "justify_items": null,
            "grid_row": null,
            "max_height": null,
            "align_content": null,
            "visibility": null,
            "align_self": null,
            "height": null,
            "min_height": null,
            "padding": null,
            "grid_auto_rows": null,
            "grid_gap": null,
            "max_width": null,
            "order": null,
            "_view_module_version": "1.2.0",
            "grid_template_areas": null,
            "object_position": null,
            "object_fit": null,
            "grid_auto_columns": null,
            "margin": null,
            "display": null,
            "left": null
          }
        },
        "e2dd2174cfce4488b41c39c999b50806": {
          "model_module": "@jupyter-widgets/controls",
          "model_name": "ProgressStyleModel",
          "model_module_version": "1.5.0",
          "state": {
            "_view_name": "StyleView",
            "_model_name": "ProgressStyleModel",
            "description_width": "",
            "_view_module": "@jupyter-widgets/base",
            "_model_module_version": "1.5.0",
            "_view_count": null,
            "_view_module_version": "1.2.0",
            "bar_color": null,
            "_model_module": "@jupyter-widgets/controls"
          }
        },
        "d7dd302725e04af6baeaa768ab2acc54": {
          "model_module": "@jupyter-widgets/base",
          "model_name": "LayoutModel",
          "model_module_version": "1.2.0",
          "state": {
            "_view_name": "LayoutView",
            "grid_template_rows": null,
            "right": null,
            "justify_content": null,
            "_view_module": "@jupyter-widgets/base",
            "overflow": null,
            "_model_module_version": "1.2.0",
            "_view_count": null,
            "flex_flow": null,
            "width": null,
            "min_width": null,
            "border": null,
            "align_items": null,
            "bottom": null,
            "_model_module": "@jupyter-widgets/base",
            "top": null,
            "grid_column": null,
            "overflow_y": null,
            "overflow_x": null,
            "grid_auto_flow": null,
            "grid_area": null,
            "grid_template_columns": null,
            "flex": null,
            "_model_name": "LayoutModel",
            "justify_items": null,
            "grid_row": null,
            "max_height": null,
            "align_content": null,
            "visibility": null,
            "align_self": null,
            "height": null,
            "min_height": null,
            "padding": null,
            "grid_auto_rows": null,
            "grid_gap": null,
            "max_width": null,
            "order": null,
            "_view_module_version": "1.2.0",
            "grid_template_areas": null,
            "object_position": null,
            "object_fit": null,
            "grid_auto_columns": null,
            "margin": null,
            "display": null,
            "left": null
          }
        },
        "dc40de9fdec44ef4bae47b8267bb4eaf": {
          "model_module": "@jupyter-widgets/controls",
          "model_name": "DescriptionStyleModel",
          "model_module_version": "1.5.0",
          "state": {
            "_view_name": "StyleView",
            "_model_name": "DescriptionStyleModel",
            "description_width": "",
            "_view_module": "@jupyter-widgets/base",
            "_model_module_version": "1.5.0",
            "_view_count": null,
            "_view_module_version": "1.2.0",
            "_model_module": "@jupyter-widgets/controls"
          }
        },
        "1ddeaf1f3a964681b110d2008e2ed964": {
          "model_module": "@jupyter-widgets/base",
          "model_name": "LayoutModel",
          "model_module_version": "1.2.0",
          "state": {
            "_view_name": "LayoutView",
            "grid_template_rows": null,
            "right": null,
            "justify_content": null,
            "_view_module": "@jupyter-widgets/base",
            "overflow": null,
            "_model_module_version": "1.2.0",
            "_view_count": null,
            "flex_flow": null,
            "width": null,
            "min_width": null,
            "border": null,
            "align_items": null,
            "bottom": null,
            "_model_module": "@jupyter-widgets/base",
            "top": null,
            "grid_column": null,
            "overflow_y": null,
            "overflow_x": null,
            "grid_auto_flow": null,
            "grid_area": null,
            "grid_template_columns": null,
            "flex": null,
            "_model_name": "LayoutModel",
            "justify_items": null,
            "grid_row": null,
            "max_height": null,
            "align_content": null,
            "visibility": null,
            "align_self": null,
            "height": null,
            "min_height": null,
            "padding": null,
            "grid_auto_rows": null,
            "grid_gap": null,
            "max_width": null,
            "order": null,
            "_view_module_version": "1.2.0",
            "grid_template_areas": null,
            "object_position": null,
            "object_fit": null,
            "grid_auto_columns": null,
            "margin": null,
            "display": null,
            "left": null
          }
        }
      }
    },
    "accelerator": "TPU"
  },
  "cells": [
    {
      "cell_type": "markdown",
      "metadata": {
        "id": "view-in-github",
        "colab_type": "text"
      },
      "source": [
        "<a href=\"https://colab.research.google.com/github/mwithgod3952/Machine_Learning_Theory_jh/blob/master/Autoencode%EB%A5%BC_%ED%86%B5%ED%95%9C_image_similarity.ipynb\" target=\"_parent\"><img src=\"https://colab.research.google.com/assets/colab-badge.svg\" alt=\"Open In Colab\"/></a>"
      ]
    },
    {
      "cell_type": "code",
      "metadata": {
        "colab": {
          "base_uri": "https://localhost:8080/"
        },
        "id": "ya1ruBchPbk7",
        "outputId": "bf84aea7-2eb7-4cbf-f2bd-b1e2103a12ba"
      },
      "source": [
        "from google.colab import drive; drive.mount(\"/content/drive\")"
      ],
      "execution_count": null,
      "outputs": [
        {
          "output_type": "stream",
          "text": [
            "Drive already mounted at /content/drive; to attempt to forcibly remount, call drive.mount(\"/content/drive\", force_remount=True).\n"
          ],
          "name": "stdout"
        }
      ]
    },
    {
      "cell_type": "code",
      "metadata": {
        "id": "NkGkaj5eS6f5"
      },
      "source": [
        "import os"
      ],
      "execution_count": null,
      "outputs": []
    },
    {
      "cell_type": "code",
      "metadata": {
        "id": "4JIhl0W4GyWH"
      },
      "source": [
        "imgs_dir = \"/content/drive/MyDrive/pr_image_similarity_with_dense_net/train\"\n",
        "img_path_lst = os.listdir(imgs_dir)"
      ],
      "execution_count": null,
      "outputs": []
    },
    {
      "cell_type": "code",
      "metadata": {
        "id": "7A054qPpQwKw"
      },
      "source": [
        "# for i in range(len(img_path_lst)):\n",
        "#     new_name = f\"row_{os.listdir(imgs_dir)[i].split('_')[0]}_{os.listdir(imgs_dir)[i]}\"\n",
        "#     os.rename(imgs_dir + \"/\" +  os.listdir(imgs_dir)[i], imgs_dir + \"/\" + new_name)"
      ],
      "execution_count": null,
      "outputs": []
    },
    {
      "cell_type": "code",
      "metadata": {
        "colab": {
          "base_uri": "https://localhost:8080/"
        },
        "id": "0LQAkqjiTuh-",
        "outputId": "8e672976-2bd3-453c-f032-c512c22577a0"
      },
      "source": [
        "img_path_lst = os.listdir(imgs_dir)\n",
        "img_path_lst[-5: ]"
      ],
      "execution_count": null,
      "outputs": [
        {
          "output_type": "execute_result",
          "data": {
            "text/plain": [
              "['032fac6b9.jpg',\n",
              " '034b31ef4.jpg',\n",
              " '039533860.jpg',\n",
              " '03056d2b8.jpg',\n",
              " '034e5fe12.jpg']"
            ]
          },
          "metadata": {},
          "execution_count": 6
        }
      ]
    },
    {
      "cell_type": "code",
      "metadata": {
        "colab": {
          "base_uri": "https://localhost:8080/"
        },
        "id": "F-Tbg-oVZKZU",
        "outputId": "5243e6d1-a463-49c9-cb72-345558164b77"
      },
      "source": [
        "print(\"training data length : \", len(img_path_lst))"
      ],
      "execution_count": null,
      "outputs": [
        {
          "output_type": "stream",
          "text": [
            "training data length :  25362\n"
          ],
          "name": "stdout"
        }
      ]
    },
    {
      "cell_type": "markdown",
      "metadata": {
        "id": "fLiItgIWZVk_"
      },
      "source": [
        "---"
      ]
    },
    {
      "cell_type": "code",
      "metadata": {
        "id": "S0w7_hWJYKzu"
      },
      "source": [
        "import time\n",
        "from tqdm.notebook import tqdm\n",
        "import warnings\n",
        "warnings.filterwarnings('ignore')\n",
        "\n",
        "import numpy as np\n",
        "import pandas as pd\n",
        "import pandas.util.testing as tm\n",
        "\n",
        "# Part of Visualization \n",
        "import matplotlib.pyplot as plt\n",
        "import matplotlib.ticker as ticker\n",
        "import seaborn as sns\n",
        "import cv2\n",
        "import imageio as io\n",
        "from pylab import *\n",
        "from sklearn.manifold import TSNE\n",
        "\n",
        "# Model Performance\n",
        "from sklearn.metrics import pairwise_distances\n",
        "from sklearn.metrics.pairwise import cosine_similarity\n",
        "from sklearn.externals import joblib\n",
        "\n",
        "# Model training\n",
        "from sklearn.model_selection import train_test_split\n",
        "from sklearn.cluster import KMeans\n",
        "from sklearn.neighbors import KNeighborsClassifier\n",
        "\n",
        "from keras import backend as K\n",
        "from keras.models import load_model\n",
        "from keras.preprocessing import image\n",
        "\n",
        "import tensorflow as tf\n",
        "\n",
        "from tensorflow.keras.models import Sequential\n",
        "from keras.applications.vgg16 import preprocess_input\n",
        "from tensorflow.keras.layers import Conv2D, Activation, MaxPooling2D, UpSampling2D\n",
        "from tensorflow.keras.optimizers import Adam, Adagrad, RMSprop\n",
        "from tensorflow.keras.callbacks import EarlyStopping, ModelCheckpoint"
      ],
      "execution_count": null,
      "outputs": []
    },
    {
      "cell_type": "code",
      "metadata": {
        "colab": {
          "base_uri": "https://localhost:8080/"
        },
        "id": "QydfpvXdn8UJ",
        "outputId": "8c42a9c4-2713-4a0a-e3df-adcd9b993ef3"
      },
      "source": [
        "# i used only 2/3 pictures as training data just for testing\n",
        "img_path_lst = img_path_lst[:int(len(img_path_lst)/100*1)]\n",
        "len(img_path_lst)"
      ],
      "execution_count": null,
      "outputs": [
        {
          "output_type": "execute_result",
          "data": {
            "text/plain": [
              "253"
            ]
          },
          "metadata": {},
          "execution_count": 9
        }
      ]
    },
    {
      "cell_type": "code",
      "metadata": {
        "id": "WuQFhyKrdUOs"
      },
      "source": [
        "train_files, test_files = train_test_split(img_path_lst, test_size = 0.15)"
      ],
      "execution_count": null,
      "outputs": []
    },
    {
      "cell_type": "code",
      "metadata": {
        "colab": {
          "base_uri": "https://localhost:8080/"
        },
        "id": "_vLj3RIodvKN",
        "outputId": "3d9ccac1-1f58-4157-a531-a29968b8dd19"
      },
      "source": [
        "print(\"the length of train dataset\", len(train_files), \" / \"\n",
        "      \"the length of test dataset\", len(test_files))"
      ],
      "execution_count": null,
      "outputs": [
        {
          "output_type": "stream",
          "text": [
            "the length of train dataset 215  / the length of test dataset 38\n"
          ],
          "name": "stdout"
        }
      ]
    },
    {
      "cell_type": "code",
      "metadata": {
        "id": "DQ7yKLoEnNb7"
      },
      "source": [
        "train_files = pd.DataFrame(train_files, columns=['dir'])\n",
        "test_files = pd.DataFrame(test_files, columns=['dir'])\n",
        "\n",
        "# Make train, test csv files\n",
        "train_files.to_csv('/content/drive/My Drive/train_file.csv')\n",
        "test_files.to_csv('/content/drive/My Drive/test_file.csv')\n",
        "\n",
        "# Import train, test csv files\n",
        "train_files = pd.read_csv('/content/drive/MyDrive/train_file.csv')\n",
        "test_files  = pd.read_csv('/content/drive/MyDrive/test_file.csv')\n",
        "\n",
        "# Save the file path information to the list\n",
        "train_files = list(train_files.iloc[:,1])\n",
        "test_files = list(test_files.iloc[:,1])"
      ],
      "execution_count": null,
      "outputs": []
    },
    {
      "cell_type": "code",
      "metadata": {
        "colab": {
          "base_uri": "https://localhost:8080/",
          "height": 228
        },
        "id": "rvEaY_oposz3",
        "outputId": "66ee789d-5b18-4f0b-d838-51c41fb2f022"
      },
      "source": [
        "img = cv2.imread('/content/drive/MyDrive/pr_image_similarity_with_dense_net/train/'+train_files[0])\n",
        "img = cv2.cvtColor(img, cv2.COLOR_BGR2RGB)\n",
        "plt.imshow(img)\n",
        "plt.show()"
      ],
      "execution_count": null,
      "outputs": [
        {
          "output_type": "display_data",
          "data": {
            "image/png": "[encoded data removed]",
            "text/plain": [
              "<Figure size 432x288 with 1 Axes>"
            ]
          },
          "metadata": {
            "needs_background": "light"
          }
        }
      ]
    },
    {
      "cell_type": "markdown",
      "metadata": {
        "id": "pWXJTat-qiO9"
      },
      "source": [
        "***Image load***"
      ]
    },
    {
      "cell_type": "code",
      "metadata": {
        "id": "9CBB4AYkp1fy"
      },
      "source": [
        "def image_to_array(file_array):\n",
        "    global image_array, image_array_\n",
        "    image_array = []\n",
        "    for path in tqdm(file_array):\n",
        "        img = cv2.imread('/content/drive/MyDrive/pr_image_similarity_with_dense_net/train/'+ path)\n",
        "        time.sleep(1.5)\n",
        "        img = cv2.cvtColor(img, cv2.COLOR_BGR2RGB)\n",
        "        img = cv2.resize(img, (224,224))\n",
        "        image_array.append(np.array(img))\n",
        "\n",
        "    image_array_ = image_array.copy()\n",
        "\n",
        "    image_array_ = np.array(image_array_)\n",
        "    image_array_ = image_array_.reshape(image_array_.shape[0], 224, 224, 3) \n",
        "    image_array_ = image_array_.astype('float32')\n",
        "    image_array_ /= 255      \n",
        "      \n",
        "    return np.array(image_array_)"
      ],
      "execution_count": null,
      "outputs": []
    },
    {
      "cell_type": "code",
      "metadata": {
        "id": "OgQXMBSntWkQ",
        "colab": {
          "base_uri": "https://localhost:8080/",
          "height": 48,
          "referenced_widgets": [
            "613f6d9ed8744d5485a02c8b4de948f4",
            "46b13e63d76f438e961d2128771be1ba",
            "d8d2e005e1534e748d9a7aa0d44f8455",
            "cca5a92f89dd4f548ba605c150022c09",
            "7d36e796d3484143a4ea311c92061b40",
            "39255a9360654a57bb18e19ceb5d207e",
            "f15600c1cb104a9a92835118d744dafb",
            "e9a422ac052e4a37b5365dc165fe649e",
            "ecc214b9f2e24dca92f6a63c31a33b16",
            "8751441c29d64444a37efb5e89278fac",
            "a2e8c9cfc9f646c3b3b62fa4ce3073be"
          ]
        },
        "outputId": "1e859333-2146-41e2-ba08-2b0e44dce215"
      },
      "source": [
        "train_data = image_to_array(train_files)"
      ],
      "execution_count": null,
      "outputs": [
        {
          "output_type": "display_data",
          "data": {
            "application/vnd.jupyter.widget-view+json": {
              "model_id": "613f6d9ed8744d5485a02c8b4de948f4",
              "version_minor": 0,
              "version_major": 2
            },
            "text/plain": [
              "  0%|          | 0/215 [00:00<?, ?it/s]"
            ]
          },
          "metadata": {}
        }
      ]
    },
    {
      "cell_type": "code",
      "metadata": {
        "colab": {
          "base_uri": "https://localhost:8080/",
          "height": 48,
          "referenced_widgets": [
            "3e3fb5d81e98449fa5925b1dd9f0a7d1",
            "9383f62b8dfc413d865c422bc8530a2d",
            "2445871fefd84bda95533426407a6214",
            "838ca7819e33423faadc12ca961dab18",
            "234e4fd7ea7245adb8d95dfafa9e416b",
            "a0660c9f8ea24f5d91509d465c8f70d7",
            "c5758bcca53f4e148ad5711763a811c1",
            "e2dd2174cfce4488b41c39c999b50806",
            "d7dd302725e04af6baeaa768ab2acc54",
            "dc40de9fdec44ef4bae47b8267bb4eaf",
            "1ddeaf1f3a964681b110d2008e2ed964"
          ]
        },
        "id": "VuLbgukzHeba",
        "outputId": "ce30f7eb-7f7c-42fc-bdcb-d4c40ea14882"
      },
      "source": [
        "test_data = image_to_array(test_files)"
      ],
      "execution_count": null,
      "outputs": [
        {
          "output_type": "display_data",
          "data": {
            "application/vnd.jupyter.widget-view+json": {
              "model_id": "3e3fb5d81e98449fa5925b1dd9f0a7d1",
              "version_minor": 0,
              "version_major": 2
            },
            "text/plain": [
              "  0%|          | 0/38 [00:00<?, ?it/s]"
            ]
          },
          "metadata": {}
        }
      ]
    },
    {
      "cell_type": "code",
      "metadata": {
        "id": "f7A_ktkflZv-"
      },
      "source": [
        "def AUEC_encoding_and_decoding():\n",
        "\n",
        "    # -------------------------- Encoding Section\n",
        "    model = Sequential(name='Conv_Autoencoder_Ml')\n",
        "    model.add(Conv2D(64, kernel_size=(3,3),activation='relu',input_shape=(224, 224, 3),padding='same', name='Encoding_Conv2D_1'))\n",
        "    model.add(MaxPooling2D(pool_size=(2,2), strides=2, padding='same', name='Encoding_MaxPooling2D_1'))\n",
        "    model.add(Conv2D(128, kernel_size=(3,3),strides=1,kernel_regularizer = tf.keras.regularizers.L2(0.001),activation='relu',padding='same', name='Encoding_Conv2D_2'))\n",
        "    # Regularizer : to avoid overfitting, apply penalties on layer parametrs / loss of L2 class = l2 * reduce_sum(square(0.001))\n",
        "    model.add(MaxPooling2D(pool_size=(2,2), strides=2, padding='same', name='Encoding_MaxPooling2D_2'))\n",
        "    model.add(Conv2D(256, kernel_size=(3,3), activation='relu',kernel_regularizer= tf.keras.regularizers.L2(0.001), padding='same', name='Encoding_Conv2D_3'))\n",
        "    model.add(MaxPooling2D(pool_size=(2,2), strides=2, padding='same', name='Encoding_MaxPooling2D_3'))\n",
        "    model.add(Conv2D(512, kernel_size=(3,3), activation='relu',kernel_regularizer= tf.keras.regularizers.L2(0.001), padding='same', name='Encoding_Conv2D_4'))\n",
        "    # padding='valid'\n",
        "    model.add(MaxPooling2D(pool_size=(2,2), strides=2,padding='valid', name='Encoding_MaxPooling2D_4'))\n",
        "    model.add(Conv2D(512, kernel_size=(3,3), activation='relu', padding='same', name='Encoding_Conv2D_5'))\n",
        "    model.add(MaxPooling2D(pool_size=(2,2), strides=2, padding='valid'))\n",
        "    \n",
        "    # -------------------------- Decoding Section\n",
        "    model.add(Conv2D(512, kernel_size=(3,3), kernel_regularizer = tf.keras.regularizers.L2(0.001),activation='relu', padding='same', name='Decoding_Conv2D_1'))\n",
        "    model.add(UpSampling2D((2,2), name='Decoding_Upsamping2D_1'))\n",
        "    model.add(Conv2D(512, kernel_size=(3,3), kernel_regularizer = tf.keras.regularizers.L2(0.001), activation='relu', padding='same', name='Decoding_Conv2D_2'))\n",
        "    model.add(UpSampling2D((2,2), name='Decoding_Upsamping2D_2'))\n",
        "    model.add(Conv2D(256, kernel_size=(3,3), kernel_regularizer = tf.keras.regularizers.L2(0.001), activation='relu', padding='same',name='Decoding_Conv2D_3'))\n",
        "    model.add(UpSampling2D((2,2),name='Decoding_Upsamping2D_3'))\n",
        "    model.add(Conv2D(128, kernel_size=(3,3), activation='relu', kernel_regularizer = tf.keras.regularizers.L2(0.001), padding='same',name='Decoding_Conv2D_4'))\n",
        "    model.add(UpSampling2D((2, 2),name='Decoding_Upsamping2D_4'))\n",
        "    model.add(Conv2D(64, kernel_size=(3,3), activation='relu', kernel_regularizer = tf.keras.regularizers.L2(0.001), padding='same',name='Decoding_Conv2D_5'))\n",
        "    model.add(UpSampling2D((2,2),name='Decoding_Upsamping2D_5'))\n",
        "    # in this section i use the sigmoid function because, it is the last step to classify.\n",
        "    model.add(Conv2D(3, kernel_size=(3,3), padding='same',activation='sigmoid',name='Decoding_Output'))\n",
        "\n",
        "    return model"
      ],
      "execution_count": null,
      "outputs": []
    },
    {
      "cell_type": "code",
      "metadata": {
        "colab": {
          "base_uri": "https://localhost:8080/"
        },
        "id": "bthlkca5DHm-",
        "outputId": "79e3ec37-4db7-477c-e1a7-bc87b27c4399"
      },
      "source": [
        "model = AUEC_encoding_and_decoding()\n",
        "model.summary()"
      ],
      "execution_count": null,
      "outputs": [
        {
          "output_type": "stream",
          "text": [
            "Model: \"Conv_Autoencoder_Ml\"\n",
            "_________________________________________________________________\n",
            "Layer (type)                 Output Shape              Param #   \n",
            "=================================================================\n",
            "Encoding_Conv2D_1 (Conv2D)   (None, 224, 224, 64)      1792      \n",
            "_________________________________________________________________\n",
            "Encoding_MaxPooling2D_1 (Max (None, 112, 112, 64)      0         \n",
            "_________________________________________________________________\n",
            "Encoding_Conv2D_2 (Conv2D)   (None, 112, 112, 128)     73856     \n",
            "_________________________________________________________________\n",
            "Encoding_MaxPooling2D_2 (Max (None, 56, 56, 128)       0         \n",
            "_________________________________________________________________\n",
            "Encoding_Conv2D_3 (Conv2D)   (None, 56, 56, 256)       295168    \n",
            "_________________________________________________________________\n",
            "Encoding_MaxPooling2D_3 (Max (None, 28, 28, 256)       0         \n",
            "_________________________________________________________________\n",
            "Encoding_Conv2D_4 (Conv2D)   (None, 28, 28, 512)       1180160   \n",
            "_________________________________________________________________\n",
            "Encoding_MaxPooling2D_4 (Max (None, 14, 14, 512)       0         \n",
            "_________________________________________________________________\n",
            "Encoding_Conv2D_5 (Conv2D)   (None, 14, 14, 512)       2359808   \n",
            "_________________________________________________________________\n",
            "max_pooling2d (MaxPooling2D) (None, 7, 7, 512)         0         \n",
            "_________________________________________________________________\n",
            "Decoding_Conv2D_1 (Conv2D)   (None, 7, 7, 512)         2359808   \n",
            "_________________________________________________________________\n",
            "Decoding_Upsamping2D_1 (UpSa (None, 14, 14, 512)       0         \n",
            "_________________________________________________________________\n",
            "Decoding_Conv2D_2 (Conv2D)   (None, 14, 14, 512)       2359808   \n",
            "_________________________________________________________________\n",
            "Decoding_Upsamping2D_2 (UpSa (None, 28, 28, 512)       0         \n",
            "_________________________________________________________________\n",
            "Decoding_Conv2D_3 (Conv2D)   (None, 28, 28, 256)       1179904   \n",
            "_________________________________________________________________\n",
            "Decoding_Upsamping2D_3 (UpSa (None, 56, 56, 256)       0         \n",
            "_________________________________________________________________\n",
            "Decoding_Conv2D_4 (Conv2D)   (None, 56, 56, 128)       295040    \n",
            "_________________________________________________________________\n",
            "Decoding_Upsamping2D_4 (UpSa (None, 112, 112, 128)     0         \n",
            "_________________________________________________________________\n",
            "Decoding_Conv2D_5 (Conv2D)   (None, 112, 112, 64)      73792     \n",
            "_________________________________________________________________\n",
            "Decoding_Upsamping2D_5 (UpSa (None, 224, 224, 64)      0         \n",
            "_________________________________________________________________\n",
            "Decoding_Output (Conv2D)     (None, 224, 224, 3)       1731      \n",
            "=================================================================\n",
            "Total params: 10,180,867\n",
            "Trainable params: 10,180,867\n",
            "Non-trainable params: 0\n",
            "_________________________________________________________________\n"
          ],
          "name": "stdout"
        }
      ]
    },
    {
      "cell_type": "markdown",
      "metadata": {
        "id": "Y2vlHextvfyr"
      },
      "source": [
        "***Parameter Tuning***"
      ]
    },
    {
      "cell_type": "code",
      "metadata": {
        "colab": {
          "base_uri": "https://localhost:8080/"
        },
        "id": "4IgSer-zvOMW",
        "outputId": "78563512-d9ea-4d84-a881-2384299f0c9b"
      },
      "source": [
        "# 1) Optimization\n",
        "\n",
        "mod_nm = ['Adagrad', 'Adam', 'RMSprop']\n",
        "param  = [0.01, 0.001, 0.0001, 0.00001]\n",
        "\n",
        "res = []\n",
        "\n",
        "for y in [0,1,2]:\n",
        "\n",
        "    res_ = []\n",
        "    print(f'Selected optimizer : {mod_nm[y]}')\n",
        "\n",
        "    for x in param:\n",
        "\n",
        "        print(f'learning_rate : , {x}')\n",
        "        model = AUEC_encoding_and_decoding()\n",
        "\n",
        "        if y == 0:\n",
        "            optimizer = Adagrad(learning_rate = x)\n",
        "        elif y == 1:\n",
        "            optimizer = Adam(learning_rate = x)\n",
        "        elif y == 2:\n",
        "            optimizer = RMSprop(learning_rate = x)    \n",
        "\n",
        "        model.compile(optimizer=optimizer, loss='mse')\n",
        "        model.fit(train_data, train_data, epochs=5, batch_size=32, validation_data=(test_data,test_data)) \n",
        "        res_.append(model.history.history)\n",
        "        \n",
        "    print()\n",
        "    res.append(res_)        "
      ],
      "execution_count": null,
      "outputs": [
        {
          "output_type": "stream",
          "text": [
            "Selected optimizer : Adagrad\n",
            "learning_rate : , 0.01\n",
            "Epoch 1/5\n",
            "7/7 [==============================] - 215s 30s/step - loss: 2.2898 - val_loss: 2.3019\n",
            "Epoch 2/5\n",
            "7/7 [==============================] - 213s 30s/step - loss: 2.2876 - val_loss: 2.2997\n",
            "Epoch 3/5\n",
            "7/7 [==============================] - 212s 30s/step - loss: 2.2854 - val_loss: 2.2975\n",
            "Epoch 4/5\n",
            "7/7 [==============================] - 211s 30s/step - loss: 2.2833 - val_loss: 2.2954\n",
            "Epoch 5/5\n",
            "7/7 [==============================] - 212s 30s/step - loss: 2.2812 - val_loss: 2.2933\n",
            "learning_rate : , 0.001\n",
            "Epoch 1/5\n",
            "7/7 [==============================] - 221s 31s/step - loss: 2.2893 - val_loss: 2.3026\n",
            "Epoch 2/5\n",
            "7/7 [==============================] - 215s 31s/step - loss: 2.2890 - val_loss: 2.3023\n",
            "Epoch 3/5\n",
            "7/7 [==============================] - 216s 31s/step - loss: 2.2888 - val_loss: 2.3021\n",
            "Epoch 4/5\n",
            "7/7 [==============================] - 215s 31s/step - loss: 2.2886 - val_loss: 2.3019\n",
            "Epoch 5/5\n",
            "7/7 [==============================] - 215s 31s/step - loss: 2.2884 - val_loss: 2.3017\n",
            "learning_rate : , 0.0001\n",
            "Epoch 1/5\n",
            "7/7 [==============================] - 217s 31s/step - loss: 2.2899 - val_loss: 2.3034\n",
            "Epoch 2/5\n",
            "7/7 [==============================] - 214s 31s/step - loss: 2.2899 - val_loss: 2.3034\n",
            "Epoch 3/5\n",
            "7/7 [==============================] - 214s 31s/step - loss: 2.2899 - val_loss: 2.3034\n",
            "Epoch 4/5\n",
            "7/7 [==============================] - 213s 31s/step - loss: 2.2899 - val_loss: 2.3034\n",
            "Epoch 5/5\n",
            "7/7 [==============================] - 211s 30s/step - loss: 2.2899 - val_loss: 2.3033\n",
            "learning_rate : , 1e-05\n",
            "Epoch 1/5\n",
            "7/7 [==============================] - 213s 30s/step - loss: 2.2902 - val_loss: 2.3036\n",
            "Epoch 2/5\n",
            "7/7 [==============================] - 213s 30s/step - loss: 2.2902 - val_loss: 2.3036\n",
            "Epoch 3/5\n",
            "7/7 [==============================] - 213s 31s/step - loss: 2.2902 - val_loss: 2.3036\n",
            "Epoch 4/5\n",
            "7/7 [==============================] - 214s 31s/step - loss: 2.2902 - val_loss: 2.3036\n",
            "Epoch 5/5\n",
            "7/7 [==============================] - 211s 30s/step - loss: 2.2901 - val_loss: 2.3036\n",
            "\n",
            "Selected optimizer : Adam\n",
            "learning_rate : , 0.01\n",
            "Epoch 1/5\n",
            "7/7 [==============================] - 211s 30s/step - loss: 0.8410 - val_loss: 0.6526\n",
            "Epoch 2/5\n",
            "7/7 [==============================] - 208s 30s/step - loss: 0.3948 - val_loss: 0.3615\n",
            "Epoch 3/5\n",
            "7/7 [==============================] - 208s 30s/step - loss: 0.3098 - val_loss: 0.2654\n",
            "Epoch 4/5\n",
            "7/7 [==============================] - 208s 30s/step - loss: 0.2287 - val_loss: 0.2043\n",
            "Epoch 5/5\n",
            "7/7 [==============================] - 211s 30s/step - loss: 0.1777 - val_loss: 0.1729\n",
            "learning_rate : , 0.001\n",
            "Epoch 1/5\n",
            "7/7 [==============================] - 210s 30s/step - loss: 1.7754 - val_loss: 1.1749\n",
            "Epoch 2/5\n",
            "7/7 [==============================] - 209s 30s/step - loss: 0.8831 - val_loss: 0.5783\n",
            "Epoch 3/5\n",
            "7/7 [==============================] - 213s 30s/step - loss: 0.4328 - val_loss: 0.3020\n",
            "Epoch 4/5\n",
            "7/7 [==============================] - 209s 30s/step - loss: 0.2370 - val_loss: 0.1932\n",
            "Epoch 5/5\n",
            "7/7 [==============================] - 209s 30s/step - loss: 0.1603 - val_loss: 0.1490\n",
            "learning_rate : , 0.0001\n",
            "Epoch 1/5\n",
            "7/7 [==============================] - 214s 30s/step - loss: 2.2311 - val_loss: 2.1572\n",
            "Epoch 2/5\n",
            "7/7 [==============================] - 213s 30s/step - loss: 2.0870 - val_loss: 2.0164\n",
            "Epoch 3/5\n",
            "7/7 [==============================] - 211s 30s/step - loss: 1.9484 - val_loss: 1.8759\n",
            "Epoch 4/5\n",
            "7/7 [==============================] - 214s 31s/step - loss: 1.8241 - val_loss: 1.7689\n",
            "Epoch 5/5\n",
            "7/7 [==============================] - 214s 30s/step - loss: 1.7158 - val_loss: 1.6615\n",
            "learning_rate : , 1e-05\n",
            "Epoch 1/5\n",
            "7/7 [==============================] - 218s 31s/step - loss: 2.2851 - val_loss: 2.2896\n",
            "Epoch 2/5\n",
            "7/7 [==============================] - 216s 31s/step - loss: 2.2700 - val_loss: 2.2743\n",
            "Epoch 3/5\n",
            "7/7 [==============================] - 217s 31s/step - loss: 2.2548 - val_loss: 2.2589\n",
            "Epoch 4/5\n",
            "7/7 [==============================] - 217s 31s/step - loss: 2.2395 - val_loss: 2.2435\n",
            "Epoch 5/5\n",
            "7/7 [==============================] - 214s 31s/step - loss: 2.2241 - val_loss: 2.2279\n",
            "\n",
            "Selected optimizer : RMSprop\n",
            "learning_rate : , 0.01\n",
            "Epoch 1/5\n",
            "7/7 [==============================] - 208s 29s/step - loss: 1.2436 - val_loss: 0.6707\n",
            "Epoch 2/5\n",
            "7/7 [==============================] - 205s 29s/step - loss: 0.6150 - val_loss: 0.4704\n",
            "Epoch 3/5\n",
            "7/7 [==============================] - 205s 29s/step - loss: 0.5189 - val_loss: 0.5942\n",
            "Epoch 4/5\n",
            "7/7 [==============================] - 206s 29s/step - loss: 0.5400 - val_loss: 0.4351\n",
            "Epoch 5/5\n",
            "7/7 [==============================] - 206s 29s/step - loss: 0.4344 - val_loss: 0.4779\n",
            "learning_rate : , 0.001\n",
            "Epoch 1/5\n",
            "7/7 [==============================] - 212s 30s/step - loss: 1.3531 - val_loss: 0.6369\n",
            "Epoch 2/5\n",
            "7/7 [==============================] - 209s 30s/step - loss: 0.4551 - val_loss: 0.2963\n",
            "Epoch 3/5\n",
            "7/7 [==============================] - 209s 30s/step - loss: 0.2221 - val_loss: 0.4524\n",
            "Epoch 4/5\n",
            "7/7 [==============================] - 210s 30s/step - loss: 0.1838 - val_loss: 0.1290\n",
            "Epoch 5/5\n",
            "7/7 [==============================] - 208s 30s/step - loss: 0.1069 - val_loss: 0.1077\n",
            "learning_rate : , 0.0001\n",
            "Epoch 1/5\n",
            "7/7 [==============================] - 211s 30s/step - loss: 2.1495 - val_loss: 2.0282\n",
            "Epoch 2/5\n",
            "7/7 [==============================] - 208s 30s/step - loss: 1.9506 - val_loss: 1.8773\n",
            "Epoch 3/5\n",
            "7/7 [==============================] - 208s 30s/step - loss: 1.8102 - val_loss: 1.7449\n",
            "Epoch 4/5\n",
            "7/7 [==============================] - 208s 30s/step - loss: 1.6947 - val_loss: 1.6289\n",
            "Epoch 5/5\n",
            "7/7 [==============================] - 208s 30s/step - loss: 1.5893 - val_loss: 1.5478\n",
            "learning_rate : , 1e-05\n",
            "Epoch 1/5\n",
            "7/7 [==============================] - 209s 30s/step - loss: 2.2749 - val_loss: 2.2729\n",
            "Epoch 2/5\n",
            "7/7 [==============================] - 208s 30s/step - loss: 2.2515 - val_loss: 2.2538\n",
            "Epoch 3/5\n",
            "7/7 [==============================] - 210s 30s/step - loss: 2.2336 - val_loss: 2.2367\n",
            "Epoch 4/5\n",
            "7/7 [==============================] - 208s 30s/step - loss: 2.2170 - val_loss: 2.2202\n",
            "Epoch 5/5\n",
            "7/7 [==============================] - 209s 30s/step - loss: 2.2009 - val_loss: 2.2040\n",
            "\n"
          ],
          "name": "stdout"
        }
      ]
    },
    {
      "cell_type": "code",
      "metadata": {
        "id": "Tu_WPos6E2H-",
        "colab": {
          "base_uri": "https://localhost:8080/",
          "height": 245
        },
        "outputId": "666d474a-35e5-4293-d201-a912ab33e377"
      },
      "source": [
        "plt.figure(figsize = (7, 3))\n",
        "\n",
        "plt.plot(min_train, color = 'b', label = 'training')\n",
        "plt.scatter(x=mod_nm, y=min_train, color = 'b', alpha = 0.7)\n",
        "\n",
        "plt.title('Mininum Loss')\n",
        "plt.ylabel('Loss')\n",
        "\n",
        "plt.legend()\n",
        "plt.show()"
      ],
      "execution_count": null,
      "outputs": [
        {
          "output_type": "error",
          "ename": "NameError",
          "evalue": "ignored",
          "traceback": [
            "\u001b[0;31m---------------------------------------------------------------------------\u001b[0m",
            "\u001b[0;31mNameError\u001b[0m                                 Traceback (most recent call last)",
            "\u001b[0;32m<ipython-input-20-cb07506c4b44>\u001b[0m in \u001b[0;36m<module>\u001b[0;34m()\u001b[0m\n\u001b[1;32m      1\u001b[0m \u001b[0mplt\u001b[0m\u001b[0;34m.\u001b[0m\u001b[0mfigure\u001b[0m\u001b[0;34m(\u001b[0m\u001b[0mfigsize\u001b[0m \u001b[0;34m=\u001b[0m \u001b[0;34m(\u001b[0m\u001b[0;36m7\u001b[0m\u001b[0;34m,\u001b[0m \u001b[0;36m3\u001b[0m\u001b[0;34m)\u001b[0m\u001b[0;34m)\u001b[0m\u001b[0;34m\u001b[0m\u001b[0;34m\u001b[0m\u001b[0m\n\u001b[1;32m      2\u001b[0m \u001b[0;34m\u001b[0m\u001b[0m\n\u001b[0;32m----> 3\u001b[0;31m \u001b[0mplt\u001b[0m\u001b[0;34m.\u001b[0m\u001b[0mplot\u001b[0m\u001b[0;34m(\u001b[0m\u001b[0mmin_train\u001b[0m\u001b[0;34m,\u001b[0m \u001b[0mcolor\u001b[0m \u001b[0;34m=\u001b[0m \u001b[0;34m'b'\u001b[0m\u001b[0;34m,\u001b[0m \u001b[0mlabel\u001b[0m \u001b[0;34m=\u001b[0m \u001b[0;34m'training'\u001b[0m\u001b[0;34m)\u001b[0m\u001b[0;34m\u001b[0m\u001b[0;34m\u001b[0m\u001b[0m\n\u001b[0m\u001b[1;32m      4\u001b[0m \u001b[0mplt\u001b[0m\u001b[0;34m.\u001b[0m\u001b[0mscatter\u001b[0m\u001b[0;34m(\u001b[0m\u001b[0mx\u001b[0m\u001b[0;34m=\u001b[0m\u001b[0mmod_nm\u001b[0m\u001b[0;34m,\u001b[0m \u001b[0my\u001b[0m\u001b[0;34m=\u001b[0m\u001b[0mmin_train\u001b[0m\u001b[0;34m,\u001b[0m \u001b[0mcolor\u001b[0m \u001b[0;34m=\u001b[0m \u001b[0;34m'b'\u001b[0m\u001b[0;34m,\u001b[0m \u001b[0malpha\u001b[0m \u001b[0;34m=\u001b[0m \u001b[0;36m0.7\u001b[0m\u001b[0;34m)\u001b[0m\u001b[0;34m\u001b[0m\u001b[0;34m\u001b[0m\u001b[0m\n\u001b[1;32m      5\u001b[0m \u001b[0;34m\u001b[0m\u001b[0m\n",
            "\u001b[0;31mNameError\u001b[0m: name 'min_train' is not defined"
          ]
        },
        {
          "output_type": "display_data",
          "data": {
            "text/plain": [
              "<Figure size 504x216 with 0 Axes>"
            ]
          },
          "metadata": {}
        }
      ]
    },
    {
      "cell_type": "code",
      "metadata": {
        "id": "bLH417muMRm4"
      },
      "source": [
        "plt.figure( figsize = (25, 5) )\n",
        "\n",
        "for i in range(4):\n",
        "    plt.subplot(1,4, i+1)\n",
        "\n",
        "    if i == 0:\n",
        "        plt.plot(res[1][i]['loss'], color = 'b', alpha = 0.7, label = 'Training')\n",
        "        plt.plot(res[1][i]['val_loss'], color='r', alpha = 0.5, label = 'Validation')\n",
        "\n",
        "    else:\n",
        "        plt.plot(res[1][i]['loss'], color = 'b', alpha = 0.7)\n",
        "        plt.plot(res[1][i]['val_loss'], color='r', alpha = 0.5)\n",
        "\n",
        "    plt.scatter(x=epochs, y=res[1][i]['loss'], color = 'b')\n",
        "    plt.scatter(x=epochs, y=res[1][i]['val_loss'], color = 'r')\n",
        "\n",
        "    plt.title(f'Optimizer : Adam, learning_rate : {param[i]}')\n",
        "    plt.xlabel('Epochs')\n",
        "    plt.ylabel('Loss')\n",
        "\n",
        "plt.show()"
      ],
      "execution_count": null,
      "outputs": []
    },
    {
      "cell_type": "code",
      "metadata": {
        "id": "qrHrqjnW5BVU"
      },
      "source": [
        "optimizer = Adam(learning_rate=0.001) \n",
        "model = AUEC_encoding_and_decoding() \n",
        "\n",
        "model.compile(optimizer=optimizer, loss='mse') \n",
        "\n",
        "early_stopping = EarlyStopping(monitor='val_loss', mode='min', verbose=1, patience=6, min_delta=0.0001) \n",
        "checkpoint = ModelCheckpoint('/content/drive/My Drive/encoder_model.h5', monitor='val_loss', mode='min', save_best_only=True) \n",
        "\n",
        "model.fit(train_data, train_data, epochs=35, batch_size=32,validation_data=(test_data,test_data),callbacks=[early_stopping, checkpoint])"
      ],
      "execution_count": null,
      "outputs": []
    },
    {
      "cell_type": "code",
      "metadata": {
        "id": "VM0OQZ1oeWOm"
      },
      "source": [
        ""
      ],
      "execution_count": null,
      "outputs": []
    }
  ]
}