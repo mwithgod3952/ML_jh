{
  "nbformat": 4,
  "nbformat_minor": 0,
  "metadata": {
    "colab": {
      "name": "study_DTW(Dynamic Time Warping)",
      "provenance": [],
      "collapsed_sections": [],
      "authorship_tag": "ABX9TyMCHjV774IdmV2vQFBLtNQZ",
      "include_colab_link": true
    },
    "kernelspec": {
      "name": "python3",
      "display_name": "Python 3"
    },
    "language_info": {
      "name": "python"
    }
  },
  "cells": [
    {
      "cell_type": "markdown",
      "metadata": {
        "id": "view-in-github",
        "colab_type": "text"
      },
      "source": [
        "<a href=\"https://colab.research.google.com/github/mwithgod3952/Machine_Learning_Theory_jh/blob/master/study_DTW(Dynamic_Time_Warping).ipynb\" target=\"_parent\"><img src=\"https://colab.research.google.com/assets/colab-badge.svg\" alt=\"Open In Colab\"/></a>"
      ]
    },
    {
      "cell_type": "markdown",
      "metadata": {
        "id": "49_DmVU9OIxc"
      },
      "source": [
        "***DTW(Dynamic Time Wrapping)***\n",
        "\n",
        "    - 개념 : 가장 기본적으로 접근할 수 있는 개념은, 두개의 시계열 데이터 간 유사도를 알아내기 위한 알고리즘 중 하나라고 이해하는 것이다.\n",
        "    두 개의 데이터 간 유사도를 판별할 수 있는 방안에 대하여, 가장 쉽게 접근할 수 있는 방법은 두 데이터간 유사도 측정 방법은 아무래도 MSE(Mean Squared Error) Distance를 계산하는 것일텐데, \n",
        "    이는 Sequences 에 대한 one to one 비교는 가능할지라도, \n",
        "\n",
        "    - lagging현상을 고려할 수 없는 점 \n",
        "    - '패턴' 비교 어려움과 같은 문제가 있다.\n",
        "\n",
        "<img src='https://t1.daumcdn.net/cfile/tistory/222BDE43595207D238' />  \n",
        "\n"
      ]
    },
    {
      "cell_type": "code",
      "metadata": {
        "id": "GEjd1XFxdl0t"
      },
      "source": [
        "# !pip install dtw-python"
      ],
      "execution_count": null,
      "outputs": []
    },
    {
      "cell_type": "code",
      "metadata": {
        "id": "JAA7movgj2Qb"
      },
      "source": [
        "from dtw import *\n",
        "import numpy as np"
      ],
      "execution_count": null,
      "outputs": []
    },
    {
      "cell_type": "code",
      "metadata": {
        "id": "GEQfqaUrj7Ci"
      },
      "source": [
        "# 임의에 데이터 생성\n",
        "idx = np.linspace(0,6.28,num=100)\n",
        "query = np.sin(idx) + np.random.uniform(size=100)/10.0\n",
        "template = np.cos(idx)\n",
        "\n",
        "alignment = dtw(query, template, keep_internals=True)\n",
        "alignment.plot(type=\"threeway\")\n",
        "\n",
        "dtw(query, template, keep_internals=True, step_pattern=rabinerJuangStepPattern(6, \"c\")).plot(type=\"twoway\",offset=-2)"
      ],
      "execution_count": null,
      "outputs": []
    },
    {
      "cell_type": "code",
      "metadata": {
        "id": "5ofhHUXJnkha"
      },
      "source": [
        ""
      ],
      "execution_count": null,
      "outputs": []
    }
  ]
}