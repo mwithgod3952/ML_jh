{
  "nbformat": 4,
  "nbformat_minor": 0,
  "metadata": {
    "colab": {
      "name": "study_DTW(Dynamic Time Warping)",
      "private_outputs": true,
      "provenance": [],
      "collapsed_sections": [],
      "authorship_tag": "ABX9TyOw32cCIFT5kNm6C7qE41EA",
      "include_colab_link": true
    },
    "kernelspec": {
      "name": "python3",
      "display_name": "Python 3"
    },
    "language_info": {
      "name": "python"
    }
  },
  "cells": [
    {
      "cell_type": "markdown",
      "metadata": {
        "id": "view-in-github",
        "colab_type": "text"
      },
      "source": [
        "<a href=\"https://colab.research.google.com/github/mwithgod3952/Machine_Learning_Theory_jh/blob/master/study_DTW(Dynamic_Time_Warping).ipynb\" target=\"_parent\"><img src=\"https://colab.research.google.com/assets/colab-badge.svg\" alt=\"Open In Colab\"/></a>"
      ]
    },
    {
      "cell_type": "markdown",
      "metadata": {
        "id": "49_DmVU9OIxc"
      },
      "source": [
        "***DTW(Dynamic Time Wrapping)***\n",
        "\n",
        "    - 개념 : \n",
        "    "
      ]
    },
    {
      "cell_type": "code",
      "metadata": {
        "id": "GEjd1XFxdl0t"
      },
      "source": [
        "# !pip install dtw-python"
      ],
      "execution_count": null,
      "outputs": []
    },
    {
      "cell_type": "code",
      "metadata": {
        "id": "JAA7movgj2Qb"
      },
      "source": [
        "from dtw import *\n",
        "import numpy as np"
      ],
      "execution_count": null,
      "outputs": []
    },
    {
      "cell_type": "code",
      "metadata": {
        "id": "GEQfqaUrj7Ci"
      },
      "source": [
        "# 임의에 데이터 생성\n",
        "idx = np.linspace(0,6.28,num=100)\n",
        "query = np.sin(idx) + np.random.uniform(size=100)/10.0\n",
        "template = np.cos(idx)\n",
        "\n",
        "alignment = dtw(query, template, keep_internals=True)\n",
        "alignment.plot(type=\"threeway\")\n",
        "\n",
        "dtw(query, template, keep_internals=True, step_pattern=rabinerJuangStepPattern(6, \"c\")).plot(type=\"twoway\",offset=-2)"
      ],
      "execution_count": null,
      "outputs": []
    },
    {
      "cell_type": "code",
      "metadata": {
        "id": "5ofhHUXJnkha"
      },
      "source": [
        ""
      ],
      "execution_count": null,
      "outputs": []
    }
  ]
}