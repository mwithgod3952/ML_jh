{
  "nbformat": 4,
  "nbformat_minor": 0,
  "metadata": {
    "colab": {
      "name": "kalmanfilter_original_for_smoothing data and prediction",
      "provenance": [],
      "collapsed_sections": [],
      "authorship_tag": "ABX9TyMPzM4UrREJC6WGwRE19Vvm",
      "include_colab_link": true
    },
    "kernelspec": {
      "name": "python3",
      "display_name": "Python 3"
    },
    "language_info": {
      "name": "python"
    }
  },
  "cells": [
    {
      "cell_type": "markdown",
      "metadata": {
        "id": "view-in-github",
        "colab_type": "text"
      },
      "source": [
        "<a href=\"https://colab.research.google.com/github/mwithgod3952/Machine_Learning_Theory_jh/blob/master/kalmanfilter_original_for_smoothing_data_and_prediction.ipynb\" target=\"_parent\"><img src=\"https://colab.research.google.com/assets/colab-badge.svg\" alt=\"Open In Colab\"/></a>"
      ]
    },
    {
      "cell_type": "code",
      "metadata": {
        "id": "r7HaYvjJ7vyD"
      },
      "source": [
        "import time\n",
        "import os\n",
        "\n",
        "import pandas as pd\n",
        "import numpy as np\n",
        "\n",
        "from urllib.parse import urlsplit, parse_qs\n",
        "\n",
        "from collections import namedtuple\n",
        "\n",
        "import matplotlib.pyplot as plt\n",
        "\n",
        "import warnings\n",
        "warnings.filterwarnings(\"ignore\")"
      ],
      "execution_count": 2,
      "outputs": []
    },
    {
      "cell_type": "code",
      "metadata": {
        "id": "5wQTtKG77u8Y"
      },
      "source": [
        "url = 'https://raw.githubusercontent.com/herzog-ch/stock-prediction-using-kalman-in-python/master/data/IFNNY.csv'\n",
        "stock_df = pd.read_csv(url)\n",
        "stock_df['Date'] = pd.to_datetime(stock_df['Date'])"
      ],
      "execution_count": 3,
      "outputs": []
    },
    {
      "cell_type": "code",
      "metadata": {
        "colab": {
          "base_uri": "https://localhost:8080/",
          "height": 80
        },
        "id": "ZxXV32iSBMei",
        "outputId": "1e10ef12-cec6-4242-8c55-13b8c9991c05"
      },
      "source": [
        "stock_df.tail(1)"
      ],
      "execution_count": 5,
      "outputs": [
        {
          "output_type": "execute_result",
          "data": {
            "text/html": [
              "<div>\n",
              "<style scoped>\n",
              "    .dataframe tbody tr th:only-of-type {\n",
              "        vertical-align: middle;\n",
              "    }\n",
              "\n",
              "    .dataframe tbody tr th {\n",
              "        vertical-align: top;\n",
              "    }\n",
              "\n",
              "    .dataframe thead th {\n",
              "        text-align: right;\n",
              "    }\n",
              "</style>\n",
              "<table border=\"1\" class=\"dataframe\">\n",
              "  <thead>\n",
              "    <tr style=\"text-align: right;\">\n",
              "      <th></th>\n",
              "      <th>Date</th>\n",
              "      <th>Open</th>\n",
              "      <th>High</th>\n",
              "      <th>Low</th>\n",
              "      <th>Close</th>\n",
              "      <th>Adj Close</th>\n",
              "      <th>Volume</th>\n",
              "    </tr>\n",
              "  </thead>\n",
              "  <tbody>\n",
              "    <tr>\n",
              "      <th>1258</th>\n",
              "      <td>2019-09-27</td>\n",
              "      <td>18.17</td>\n",
              "      <td>18.190001</td>\n",
              "      <td>17.719999</td>\n",
              "      <td>17.83</td>\n",
              "      <td>17.83</td>\n",
              "      <td>203700</td>\n",
              "    </tr>\n",
              "  </tbody>\n",
              "</table>\n",
              "</div>"
            ],
            "text/plain": [
              "           Date   Open       High        Low  Close  Adj Close  Volume\n",
              "1258 2019-09-27  18.17  18.190001  17.719999  17.83      17.83  203700"
            ]
          },
          "metadata": {},
          "execution_count": 5
        }
      ]
    },
    {
      "cell_type": "code",
      "metadata": {
        "colab": {
          "base_uri": "https://localhost:8080/"
        },
        "id": "Wkw2G9Tv8IEA",
        "outputId": "9060ccd4-df3a-4be8-8d64-62b588a8969d"
      },
      "source": [
        "print(\"- 컬럼의 구성: \", stock_df.columns.tolist())\n",
        "print(\"- 행의 수: \", stock_df.shape[0], \"열의 수: \", stock_df.shape[1])"
      ],
      "execution_count": 6,
      "outputs": [
        {
          "output_type": "stream",
          "text": [
            "- 컬럼의 구성:  ['Date', 'Open', 'High', 'Low', 'Close', 'Adj Close', 'Volume']\n",
            "- 행의 수:  1259 열의 수:  7\n"
          ],
          "name": "stdout"
        }
      ]
    },
    {
      "cell_type": "code",
      "metadata": {
        "id": "abHp0RJr8mCg"
      },
      "source": [
        "State = namedtuple('State', 'X, P')\n",
        "\n",
        "def predict(state, F, Q):\n",
        "    assert state.X.shape[0] == F.shape[1]\n",
        "    assert state.X.shape[1] == 1\n",
        "    assert F.shape[0] == F.shape[1]\n",
        "    assert Q.shape[0] == Q.shape[1]\n",
        "    assert Q.shape[0] == F.shape[0]\n",
        "\n",
        "    x_pred = np.matmul(F, state.X)\n",
        "    p_pred = np.matmul(F, np.matmul(state.P, F.T)) + Q\n",
        "    return State(x_pred, p_pred)\n",
        "\n",
        "\n",
        "def update(prior, z, R, H):\n",
        "    assert prior.X.shape[1] == 1\n",
        "    assert prior.X.shape[0] == H.shape[1]\n",
        "    assert H.shape[0] == z.shape[0]\n",
        "    assert z.shape[1] == 1\n",
        "    assert prior.P.shape[0] == prior.P.shape[1]\n",
        "    assert prior.P.shape[1] == H.shape[1]\n",
        "\n",
        "    z_pred = np.matmul(H, prior.X)\n",
        "    y = z - z_pred\n",
        "    S = np.matmul(H, np.matmul(prior.P, H.T)) + R\n",
        "    K = np.matmul(prior.P, np.matmul(H.T, np.linalg.inv(S)))\n",
        "    x_posterior = prior.X + np.matmul(K, y)\n",
        "    p_posterior = np.matmul((np.identity(prior.P.shape[0]) - np.matmul(K, H)), prior.P)\n",
        "    return State(x_posterior, p_posterior)"
      ],
      "execution_count": 7,
      "outputs": []
    },
    {
      "cell_type": "code",
      "metadata": {
        "id": "JKTVxfCFpQto",
        "colab": {
          "base_uri": "https://localhost:8080/",
          "height": 592
        },
        "outputId": "6f954ea9-2897-46e6-83e6-1d22923e61aa"
      },
      "source": [
        "data = []\n",
        "for row in range(len(stock_df)):\n",
        "    itr = stock_df.loc[row, ['Open', 'High', 'Low',\t'Close', 'Adj Close', 'Volume']]\n",
        "    data.append(np.array([[float(dict(itr)['Low'])]]))\n",
        "\n",
        "# init kalman filter\n",
        "x = np.full((2, 1), 2)\n",
        "P = np.full((2, 2), 2 ** 2)\n",
        "state = State(x, P)\n",
        "\n",
        "Q = np.full((2, 2), 1 ** 2)\n",
        "F = np.array([[1, 1],\n",
        "                [0, 1]])\n",
        "R = np.array([[0.5 ** 2]])\n",
        "H = np.array([[1, 0]])\n",
        "\n",
        "# data for plotting\n",
        "gt = {'price': [], 'trend': []}\n",
        "result = {'price': [], 'trend': []}\n",
        "velocity = []\n",
        "\n",
        "ind = 0\n",
        "while True:\n",
        "    z = data[ind + 1]\n",
        "    if ind == 0:\n",
        "        x = np.array([[z[0][0]], [0]])\n",
        "        state = State(x, P)\n",
        "\n",
        "    prior = predict(state, F, Q)\n",
        "    posterior = update(prior, z, R, H)\n",
        "    state = posterior\n",
        "\n",
        "    gt['price'].append(z[0][0])\n",
        "    result['price'].append(prior.X[0][0])\n",
        "    velocity.append(prior.X[1][0])\n",
        "\n",
        "    if ind == 0:\n",
        "        gt['trend'].append(1)\n",
        "        result['trend'].append(1)\n",
        "    else:\n",
        "        predicted_trend = 1 if prior.X[0][0] > result['price'][ind - 1] else -1\n",
        "        result['trend'].append(predicted_trend)\n",
        "        gt_trend = 1 if z[0][0] > gt['price'][ind - 1] else -1\n",
        "        gt['trend'].append(gt_trend)  \n",
        "    ind += 1\n",
        "    if ind > 100:\n",
        "        break\n",
        "\n",
        "correct_predictions = 0\n",
        "for x, y in zip(result['trend'], gt['trend']):\n",
        "    if x == y:\n",
        "        correct_predictions += 1\n",
        "# print(correct_predictions)\n",
        "# print(len(gt['trend']))\n",
        "# print(float(correct_predictions) / len(gt['trend']))\n",
        "\n",
        "plt.figure(1, figsize=(20, 10))\n",
        "\n",
        "plt.plot(gt['price'])\n",
        "plt.plot(result['price'])\n",
        "plt.plot(velocity)\n",
        "\n",
        "x_axis = list(range(len(gt['trend'])))\n",
        "plt.scatter(x_axis, gt['trend'], marker='.', color='g')\n",
        "plt.scatter(x_axis, result['trend'], marker='o', color='gray')\n",
        "\n",
        "plt.legend(['actual stock price', 'predicted stock price', 'actual trend', 'predicted trend', 'momentum'])\n",
        "\n",
        "plt.grid()\n",
        "plt.show()        "
      ],
      "execution_count": 28,
      "outputs": [
        {
          "output_type": "display_data",
          "data": {
            "image/png": "[encoded data removed]",
            "text/plain": [
              "<Figure size 1440x720 with 1 Axes>"
            ]
          },
          "metadata": {
            "needs_background": "light"
          }
        }
      ]
    },
    {
      "cell_type": "code",
      "metadata": {
        "id": "2dL9re6fiXYM"
      },
      "source": [
        ""
      ],
      "execution_count": null,
      "outputs": []
    },
    {
      "cell_type": "code",
      "metadata": {
        "colab": {
          "base_uri": "https://localhost:8080/",
          "height": 317
        },
        "id": "c_ZCY-jhbqSV",
        "outputId": "99182967-8263-48b7-ed07-401cf8640bc9"
      },
      "source": [
        "def main():\n",
        "\n",
        "    data_filename = '../data/IFNNY.csv'\n",
        "    dataReader = yahoo_financedata.YahooFinanceData()\n",
        "    dataReader.open_data(data_filename)\n",
        "\n",
        "    # init kalman filter\n",
        "    x = np.full((2, 1), 2)\n",
        "    P = np.full((2, 2), 2 ** 2)\n",
        "    state = kalman_filter.State(x, P)\n",
        "\n",
        "    Q = np.full((2, 2), 1 ** 2)\n",
        "    F = np.array([[1, 1],\n",
        "                  [0, 1]])\n",
        "    R = np.array([[0.5 ** 2]])\n",
        "    H = np.array([[1, 0]])\n",
        "\n",
        "    # data for plotting\n",
        "    gt = {'price': [], 'trend': []}\n",
        "    result = {'price': [], 'trend': []}\n",
        "    velocity = []\n",
        "\n",
        "    counter = 0\n",
        "\n",
        "    # 현재 1차원의 Time series가 어떻게 읽혀들여지고 있는지 확인이 필요.\n",
        "    while YahooFinanceData.has_more_data():\n",
        "        z = YahooFinanceData.next_measurement()\n",
        "\n",
        "        if counter == 0:\n",
        "            x = np.array([[z[0][0]], [0]])\n",
        "            state = kalman_filter.State(x, P)\n",
        "\n",
        "        prior = kalman_filter.predict(state, F, Q)\n",
        "        posterior = kalman_filter.update(prior, z, R, H)\n",
        "        state = posterior\n",
        "\n",
        "        gt['price'].append(z[0][0])\n",
        "        result['price'].append(prior.X[0][0])\n",
        "        velocity.append(prior.X[1][0])\n",
        "\n",
        "        if counter == 0:\n",
        "            gt['trend'].append(1)\n",
        "            result['trend'].append(1)\n",
        "        else:\n",
        "            predicted_trend = 1 if prior.X[0][0] > result['price'][counter - 1] else -1\n",
        "            result['trend'].append(predicted_trend)\n",
        "            gt_trend = 1 if z[0][0] > gt['price'][counter - 1] else -1\n",
        "            gt['trend'].append(gt_trend)\n",
        "\n",
        "        counter += 1\n",
        "        # if counter > 20:\n",
        "        #    break\n",
        "\n",
        "    # KPI\n",
        "    # number of correct trend predictions\n",
        "    correct_predictions = 0\n",
        "    for x, y in zip(result['trend'], gt['trend']):\n",
        "        if x == y:\n",
        "            correct_predictions += 1\n",
        "    print(correct_predictions)\n",
        "    print(len(gt['trend']))\n",
        "    print(float(correct_predictions) / len(gt['trend']))\n",
        "\n",
        "    plt.figure(1)\n",
        "\n",
        "    plt.plot(gt['price'])\n",
        "    plt.plot(result['price'])\n",
        "    plt.plot(velocity)\n",
        "\n",
        "    x_axis = list(range(len(gt['trend'])))\n",
        "    plt.scatter(x_axis, gt['trend'], marker='o', color='g')\n",
        "    plt.scatter(x_axis, result['trend'], marker='x', color='r')\n",
        "\n",
        "    plt.legend(['actual stock price', 'predicted stock price', 'actual trend', 'predicted trend', 'momentum'])\n",
        "\n",
        "    plt.grid()\n",
        "    plt.show()\n",
        "\n",
        "\n",
        "if __name__ == '__main__':\n",
        "    main()"
      ],
      "execution_count": null,
      "outputs": [
        {
          "output_type": "error",
          "ename": "TypeError",
          "evalue": "ignored",
          "traceback": [
            "\u001b[0;31m---------------------------------------------------------------------------\u001b[0m",
            "\u001b[0;31mTypeError\u001b[0m                                 Traceback (most recent call last)",
            "\u001b[0;32m<ipython-input-29-399c13bfb30d>\u001b[0m in \u001b[0;36m<module>\u001b[0;34m()\u001b[0m\n\u001b[1;32m     79\u001b[0m \u001b[0;34m\u001b[0m\u001b[0m\n\u001b[1;32m     80\u001b[0m \u001b[0;32mif\u001b[0m \u001b[0m__name__\u001b[0m \u001b[0;34m==\u001b[0m \u001b[0;34m'__main__'\u001b[0m\u001b[0;34m:\u001b[0m\u001b[0;34m\u001b[0m\u001b[0;34m\u001b[0m\u001b[0m\n\u001b[0;32m---> 81\u001b[0;31m     \u001b[0mmain\u001b[0m\u001b[0;34m(\u001b[0m\u001b[0;34m)\u001b[0m\u001b[0;34m\u001b[0m\u001b[0;34m\u001b[0m\u001b[0m\n\u001b[0m",
            "\u001b[0;32m<ipython-input-29-399c13bfb30d>\u001b[0m in \u001b[0;36mmain\u001b[0;34m()\u001b[0m\n\u001b[1;32m      3\u001b[0m     \u001b[0;31m# read data\u001b[0m\u001b[0;34m\u001b[0m\u001b[0;34m\u001b[0m\u001b[0;34m\u001b[0m\u001b[0m\n\u001b[1;32m      4\u001b[0m     \u001b[0mdata_filename\u001b[0m \u001b[0;34m=\u001b[0m \u001b[0;34m'../data/IFNNY.csv'\u001b[0m\u001b[0;34m\u001b[0m\u001b[0;34m\u001b[0m\u001b[0m\n\u001b[0;32m----> 5\u001b[0;31m     \u001b[0mYahooFinanceData\u001b[0m\u001b[0;34m.\u001b[0m\u001b[0mopen_data\u001b[0m\u001b[0;34m(\u001b[0m\u001b[0mdata_filename\u001b[0m\u001b[0;34m)\u001b[0m\u001b[0;34m\u001b[0m\u001b[0;34m\u001b[0m\u001b[0m\n\u001b[0m\u001b[1;32m      6\u001b[0m \u001b[0;34m\u001b[0m\u001b[0m\n\u001b[1;32m      7\u001b[0m     \u001b[0;31m# init kalman filter\u001b[0m\u001b[0;34m\u001b[0m\u001b[0;34m\u001b[0m\u001b[0;34m\u001b[0m\u001b[0m\n",
            "\u001b[0;31mTypeError\u001b[0m: open_data() missing 1 required positional argument: 'filename'"
          ]
        }
      ]
    },
    {
      "cell_type": "code",
      "metadata": {
        "id": "0hIw2mie_WFw"
      },
      "source": [
        "import src.kalman_filter as kalman_filter\n",
        "import src.yahoo_financedata as yahoo_financedata\n",
        "import numpy as np\n",
        "import matplotlib.pyplot as plt\n",
        "\n",
        "\n",
        "def main():\n",
        "\n",
        "    # read data\n",
        "    data_filename = '../data/IFNNY.csv'\n",
        "    dataReader = yahoo_financedata.YahooFinanceData()\n",
        "    dataReader.open_data(data_filename)\n",
        "\n",
        "    # init kalman filter\n",
        "    x = np.full((2, 1), 2)\n",
        "    P = np.full((2, 2), 2 ** 2)\n",
        "    state = kalman_filter.State(x, P)\n",
        "\n",
        "    Q = np.full((2, 2), 1 ** 2)\n",
        "    F = np.array([[1, 1],\n",
        "                  [0, 1]])\n",
        "    R = np.array([[0.5 ** 2]])\n",
        "    H = np.array([[1, 0]])\n",
        "\n",
        "    # data for plotting\n",
        "    gt = {'price': [], 'trend': []}\n",
        "    result = {'price': [], 'trend': []}\n",
        "    velocity = []\n",
        "\n",
        "    counter = 0\n",
        "\n",
        "    while dataReader.has_more_data():\n",
        "        z = dataReader.next_measurement()\n",
        "\n",
        "        if counter == 0:\n",
        "            x = np.array([[z[0][0]], [0]])\n",
        "            state = kalman_filter.State(x, P)\n",
        "\n",
        "        prior = kalman_filter.predict(state, F, Q)\n",
        "        posterior = kalman_filter.update(prior, z, R, H)\n",
        "        state = posterior\n",
        "\n",
        "        gt['price'].append(z[0][0])\n",
        "        result['price'].append(prior.X[0][0])\n",
        "        velocity.append(prior.X[1][0])\n",
        "\n",
        "        if counter == 0:\n",
        "            gt['trend'].append(1)\n",
        "            result['trend'].append(1)\n",
        "        else:\n",
        "            predicted_trend = 1 if prior.X[0][0] > result['price'][counter - 1] else -1\n",
        "            result['trend'].append(predicted_trend)\n",
        "            gt_trend = 1 if z[0][0] > gt['price'][counter - 1] else -1\n",
        "            gt['trend'].append(gt_trend)\n",
        "\n",
        "        counter += 1\n",
        "        # if counter > 20:\n",
        "        #    break\n",
        "\n",
        "    # KPI\n",
        "    # number of correct trend predictions\n",
        "    correct_predictions = 0\n",
        "    for x, y in zip(result['trend'], gt['trend']):\n",
        "        if x == y:\n",
        "            correct_predictions += 1\n",
        "    print(correct_predictions)\n",
        "    print(len(gt['trend']))\n",
        "    print(float(correct_predictions) / len(gt['trend']))\n",
        "\n",
        "    plt.figure(1)\n",
        "\n",
        "    plt.plot(gt['price'])\n",
        "    plt.plot(result['price'])\n",
        "    plt.plot(velocity)\n",
        "\n",
        "    x_axis = list(range(len(gt['trend'])))\n",
        "    plt.scatter(x_axis, gt['trend'], marker='o', color='g')\n",
        "    plt.scatter(x_axis, result['trend'], marker='x', color='r')\n",
        "\n",
        "    plt.legend(['actual stock price', 'predicted stock price', 'actual trend', 'predicted trend', 'momentum'])\n",
        "\n",
        "    plt.grid()\n",
        "    plt.show()\n",
        "\n",
        "\n",
        "if __name__ == '__main__':\n",
        "    main()"
      ],
      "execution_count": null,
      "outputs": []
    },
    {
      "cell_type": "code",
      "metadata": {
        "id": "j-59ekDr8-fJ"
      },
      "source": [
        ""
      ],
      "execution_count": null,
      "outputs": []
    }
  ]
}