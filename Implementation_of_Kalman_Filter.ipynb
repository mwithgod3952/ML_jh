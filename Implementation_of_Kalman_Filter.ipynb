{
  "nbformat": 4,
  "nbformat_minor": 0,
  "metadata": {
    "colab": {
      "name": "Implementation of Kalman Filter",
      "provenance": [],
      "collapsed_sections": [],
      "toc_visible": true,
      "authorship_tag": "ABX9TyOnc4bTMmgRATGGgr1RkWDv",
      "include_colab_link": true
    },
    "kernelspec": {
      "name": "python3",
      "display_name": "Python 3"
    },
    "language_info": {
      "name": "python"
    },
    "accelerator": "TPU"
  },
  "cells": [
    {
      "cell_type": "markdown",
      "metadata": {
        "id": "view-in-github",
        "colab_type": "text"
      },
      "source": [
        "<a href=\"https://colab.research.google.com/github/mwithgod3952/Machine_Learning_Theory_jh/blob/master/Implementation_of_Kalman_Filter.ipynb\" target=\"_parent\"><img src=\"https://colab.research.google.com/assets/colab-badge.svg\" alt=\"Open In Colab\"/></a>"
      ]
    },
    {
      "cell_type": "markdown",
      "metadata": {
        "id": "-C593QKE0Fpf"
      },
      "source": [
        "    - 참조논문 : Implementation of Kalman Filter, Mohamed LAARAIEDH\n",
        "    - 참고자료 : Understanding Kalman Filters with Python\n",
        "\n",
        "***https://medium.com/@jaems33/understanding-kalman-filters-with-python-2310e87b8f48***"
      ]
    },
    {
      "cell_type": "markdown",
      "metadata": {
        "id": "Z5HIJD41NzXK"
      },
      "source": [
        "***Preview_1)***    \n",
        "\n",
        "    - 가중합 \n",
        "        : 내적을 이용한 가중합 "
      ]
    },
    {
      "cell_type": "markdown",
      "metadata": {
        "id": "isykSadaP7LP"
      },
      "source": [
        "***Example***"
      ]
    },
    {
      "cell_type": "code",
      "metadata": {
        "colab": {
          "base_uri": "https://localhost:8080/"
        },
        "id": "XJudR6wSOGJq",
        "outputId": "5f3e89c0-5619-4145-b99c-a4a239719f42"
      },
      "source": [
        "import numpy as np\n",
        "a = np.array([0.5, 0.3, 0.1, 0.08, 0.02])\n",
        "b = np.arange(15).reshape(5, 3)\n",
        "print('First array', a)\n",
        "print('Second array including 5 arrays')\n",
        "b"
      ],
      "execution_count": 1,
      "outputs": [
        {
          "output_type": "stream",
          "text": [
            "First array [0.5  0.3  0.1  0.08 0.02]\n",
            "Second array including 5 arrays\n"
          ],
          "name": "stdout"
        },
        {
          "output_type": "execute_result",
          "data": {
            "text/plain": [
              "array([[ 0,  1,  2],\n",
              "       [ 3,  4,  5],\n",
              "       [ 6,  7,  8],\n",
              "       [ 9, 10, 11],\n",
              "       [12, 13, 14]])"
            ]
          },
          "metadata": {
            "tags": []
          },
          "execution_count": 1
        }
      ]
    },
    {
      "cell_type": "markdown",
      "metadata": {
        "id": "ngQcspsPQWBb"
      },
      "source": [
        "    1) 0.5*0 + 0.3*3 + 0.1*6 + 0.08*9 + 0.02*12  = 2.46\n",
        "    2) 0.5*1 + 0.3*4 + 0.1*7 + 0.08*10 + 0.02*13 = 3.46\n",
        "    3) 0.5*2 + 0.3*5 + 0.1*8 + 0.08*11 + 0.02*14 = 4.46"
      ]
    },
    {
      "cell_type": "code",
      "metadata": {
        "colab": {
          "base_uri": "https://localhost:8080/"
        },
        "id": "YlOB415TPbtG",
        "outputId": "4602a9f5-c607-405c-e230-131acf5993b3"
      },
      "source": [
        "Weight_sum = np.dot(a ,b)\n",
        "print('Weight_sum' , Weight_sum)"
      ],
      "execution_count": 2,
      "outputs": [
        {
          "output_type": "stream",
          "text": [
            "Weight_sum [2.46 3.46 4.46]\n"
          ],
          "name": "stdout"
        }
      ]
    },
    {
      "cell_type": "markdown",
      "metadata": {
        "id": "J1vDUqr3RCvJ"
      },
      "source": [
        "#### ***Kalman Filter_Ver_1***"
      ]
    },
    {
      "cell_type": "markdown",
      "metadata": {
        "id": "nN12i9SRlPd5"
      },
      "source": [
        "##### ***1) Prediction step***"
      ]
    },
    {
      "cell_type": "markdown",
      "metadata": {
        "id": "ytblWde3jgnc"
      },
      "source": [
        "    - X : The mean state estimate of the previous step(k - 1)\n",
        "    - A : The transition n * n matrix.\n",
        "        * dot(A, X)\n",
        "            : 이전 단계에서의 평상태 추정\n",
        "            : n * n 전이행렬 양간의 가중합\n",
        "\n",
        "    - B : The input effect matrix\n",
        "    - U : The contrl input  "
      ]
    },
    {
      "cell_type": "code",
      "metadata": {
        "id": "vAXlx4dYFEfR"
      },
      "source": [
        "from numpy import dot\n",
        "def kf_predict(X, P, A, Q, B, U):\n",
        "    X = dot(A, X) + dot(B, U)\n",
        "    P = dot(A, dot(P, A.T)) + Q\n",
        "    return(X, P) "
      ],
      "execution_count": null,
      "outputs": []
    },
    {
      "cell_type": "markdown",
      "metadata": {
        "id": "H9oiyi3ajV6m"
      },
      "source": [
        "##### ***2) Update step***"
      ]
    },
    {
      "cell_type": "code",
      "metadata": {
        "id": "pdbTj7WHSIHj"
      },
      "source": [
        "from numpy import dot, sum, tile, linalg\n",
        "from numpy.linalg import inv"
      ],
      "execution_count": null,
      "outputs": []
    },
    {
      "cell_type": "code",
      "metadata": {
        "id": "tHv8sDJGcC8C"
      },
      "source": [
        "def kf_update(X, P, Y, H, R):\n",
        "    IM = dot(H, X)\n",
        "    IS = R + dot(H, dot(P, H.T))\n",
        "    K = dot(P, dot(H.T, inv(IS)))\n",
        "    X = X + dot(K, (Y-IM))\n",
        "    P = P - dot(K, dot(IS, K.T))\n",
        "    LH = gauss_pdf(Y, IM, IS)\n",
        "    return (X,P,K,IM,IS,LH)\n",
        "\n",
        "def gauss_pdf(X, M, S):\n",
        "    if M.shape[1] == 1:\n",
        "        DX = X - tile(M, X.shape[1])\n",
        "        E = 0.5 * sum(DX * (dot(inv(S), DX)), axis=0)\n",
        "        E = E + 0.5 * M.shape[0] * log(2 * pi) + 0.5 * log(np.linalg.det(S))\n",
        "        P = exp(-E)\n",
        "    elif X.shape[1] == 1:\n",
        "         DX = tile(X, M.shape[1])- M\n",
        "         E = 0.5 * sum(DX * (dot(inv(S), DX)), axis=0)\n",
        "         E = E + 0.5 * M.shape[0] * log(2 * pi) + 0.5 * log(np.linalg.det(S))\n",
        "         P = exp(-E)\n",
        "    else:\n",
        "        DX = X-M\n",
        "        E = 0.5 * dot(DX.T, dot(inv(S), DX))\n",
        "        E = E + 0.5 * M.shape[0] * log(2 * pi) + 0.5 * log(np.linalg.det(S))\n",
        "        P = exp(-E)\n",
        "    return (P[0],E[0]) "
      ],
      "execution_count": null,
      "outputs": []
    },
    {
      "cell_type": "code",
      "metadata": {
        "id": "2AQx09tadZ-J"
      },
      "source": [
        "from numpy import *\n",
        "from numpy.linalg import inv\n",
        "\n",
        "dt = 0.1\n",
        "\n",
        "X = array([[0.0], [0.0], [0.1], [0.1]])\n",
        "P = diag((0.01, 0.01, 0.01, 0.01))\n",
        "A = array([[1, 0, dt , 0], [0, 1, 0, dt], [0, 0, 1, 0], [0, 0, 0,1]])\n",
        "Q = eye(X.shape[0])\n",
        "B = eye(X.shape[0])\n",
        "U = zeros((X.shape[0],1)) \n",
        "Y = array([[X[0,0] + abs(np.random.randn(1)[0])], [X[1,0] + abs(np.random.randn(1)[0])]])\n",
        "H = array([[1, 0, 0, 0], [0, 1, 0, 0]])\n",
        "R = eye(Y.shape[0])\n",
        "N_iter = 50\n",
        "\n",
        "for i in arange(0, N_iter):\n",
        "    (X, P) = kf_predict(X, P, A, Q, B, U)\n",
        "    (X, P, K, IM, IS, LH) = kf_update(X, P, Y, H, R)\n",
        "    Y = array([[X[0,0] + abs(0.1 * np.random.randn(1)[0])],[X[1, 0] + abs(0.1 * np.random.randn(1)[0])]]) "
      ],
      "execution_count": null,
      "outputs": []
    },
    {
      "cell_type": "code",
      "metadata": {
        "id": "ZuzgAAfLk7NM",
        "colab": {
          "base_uri": "https://localhost:8080/"
        },
        "outputId": "355f5445-6959-4bf5-d8b9-441ed8272467"
      },
      "source": [
        "Y"
      ],
      "execution_count": null,
      "outputs": [
        {
          "output_type": "execute_result",
          "data": {
            "text/plain": [
              "array([[3.44827942],\n",
              "       [3.78742439]])"
            ]
          },
          "metadata": {
            "tags": []
          },
          "execution_count": 28
        }
      ]
    },
    {
      "cell_type": "code",
      "metadata": {
        "colab": {
          "base_uri": "https://localhost:8080/"
        },
        "id": "OfVYlVfYsBPM",
        "outputId": "9cc6e75e-d5c3-48f7-8f48-33e6cce94f93"
      },
      "source": [
        "new_list_to_check_visualization = np.random.rand(100).tolist()\n",
        "print(new_list_to_check_visualization)"
      ],
      "execution_count": null,
      "outputs": [
        {
          "output_type": "stream",
          "text": [
            "[0.8719334628421451, 0.3359116709625889, 0.16257638065802482, 0.49391911674645284, 0.18252659763550716, 0.800477686552415, 0.17801334062015683, 0.3039442458364371, 0.34567575604449874, 0.49872630370762217, 0.39384931333832507, 0.8074763962150482, 0.2915676799237604, 0.9343837191043118, 0.9098210186487584, 0.6573784434212055, 0.9605049108682773, 0.5697308086815196, 0.7994141515128951, 0.17480074576041693, 0.6514245280008895, 0.1753426901600017, 0.611380093662948, 0.11909552887950325, 0.8786878315972412, 0.43677571975547635, 0.12384089221468775, 0.7200366143035113, 0.8428667025780825, 0.3936641383641222, 0.9611908790930402, 0.5555717275793953, 0.3298670124502264, 0.0017419226853996328, 0.1057305901976503, 0.3331729166458739, 0.4569482656920584, 0.9391544464219721, 0.9416189590176297, 0.4936804518549557, 0.6857712927636257, 0.24114305035677075, 0.7242736719099677, 0.4361698357557988, 0.6147832414767527, 0.38381472325771737, 0.48221369148883386, 0.5405921703503805, 0.7455167274191378, 0.17262085311851683, 0.022423224142053777, 0.1432613568133707, 0.1949655975736011, 0.30272406965234, 0.2642877646992564, 0.7174423234419935, 0.939310405438289, 0.05339861395937673, 0.3665035473108471, 0.7297072049967682, 0.5187362672645596, 0.19921100251988855, 0.08433675854174771, 0.6159689582666391, 0.9803687630360387, 0.531097458963492, 0.24959333071841383, 0.9976949747892541, 0.689882595801107, 0.2503372592765397, 0.5381278381817679, 0.027884453271086684, 0.7631629721305309, 0.8166833805519323, 0.7732938949772077, 0.1572032217059054, 0.743213990624955, 0.7509877928405928, 0.6079016468855238, 0.8438376733566848, 0.9741119718103867, 0.29233109264283585, 0.32342412523738595, 0.6520159854507793, 0.44113382401566237, 0.059630555060038004, 0.4245095218997591, 0.4176036688532173, 0.6099246370578849, 0.1779580595731467, 0.3902301402244056, 0.09935122250615114, 0.7443711572342226, 0.21765164857285013, 0.6870458384044549, 0.4190667875491254, 0.5789722210878254, 0.7787145470815794, 0.9012718901469323, 0.9333518149839513]\n"
          ],
          "name": "stdout"
        }
      ]
    },
    {
      "cell_type": "markdown",
      "metadata": {
        "id": "PjHCrNHssQzI"
      },
      "source": [
        "#### ***Kalman Filter_Ver_2***"
      ]
    },
    {
      "cell_type": "code",
      "metadata": {
        "id": "9WkFvNwEk2R-"
      },
      "source": [
        ""
      ],
      "execution_count": null,
      "outputs": []
    }
  ]
}