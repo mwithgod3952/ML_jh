{
  "nbformat": 4,
  "nbformat_minor": 0,
  "metadata": {
    "colab": {
      "name": "Implementation of Kalman Filter",
      "provenance": [],
      "collapsed_sections": [],
      "authorship_tag": "ABX9TyNPTHUilblaor9WUfQjNzr6",
      "include_colab_link": true
    },
    "kernelspec": {
      "name": "python3",
      "display_name": "Python 3"
    },
    "language_info": {
      "name": "python"
    }
  },
  "cells": [
    {
      "cell_type": "markdown",
      "metadata": {
        "id": "view-in-github",
        "colab_type": "text"
      },
      "source": [
        "<a href=\"https://colab.research.google.com/github/mwithgod3952/Machine_Learning_Theory_jh/blob/master/Implementation_of_Kalman_Filter.ipynb\" target=\"_parent\"><img src=\"https://colab.research.google.com/assets/colab-badge.svg\" alt=\"Open In Colab\"/></a>"
      ]
    },
    {
      "cell_type": "code",
      "metadata": {
        "colab": {
          "base_uri": "https://localhost:8080/"
        },
        "id": "4ZFWmd7OqNnc",
        "outputId": "b830b374-bca6-42d0-fe46-e2b130b5e9dc"
      },
      "source": [
        "from google.colab import drive\n",
        "drive.mount('/content/drive')\n",
        "from IPython.display import Image"
      ],
      "execution_count": 4,
      "outputs": [
        {
          "output_type": "stream",
          "text": [
            "Drive already mounted at /content/drive; to attempt to forcibly remount, call drive.mount(\"/content/drive\", force_remount=True).\n"
          ],
          "name": "stdout"
        }
      ]
    },
    {
      "cell_type": "markdown",
      "metadata": {
        "id": "-C593QKE0Fpf"
      },
      "source": [
        "    - 참조논문 : Implementation of Kalman Filter, Mohamed LAARAIEDH\n",
        "    - 참고자료 : Understanding Kalman Filters with Python\n",
        "\n",
        "***https://medium.com/@jaems33/understanding-kalman-filters-with-python-2310e87b8f48***"
      ]
    },
    {
      "cell_type": "markdown",
      "metadata": {
        "id": "Z5HIJD41NzXK"
      },
      "source": [
        "***Preview_1)***    \n",
        "\n",
        "    - 가중합 \n",
        "        : 내적을 이용한 가중합 "
      ]
    },
    {
      "cell_type": "markdown",
      "metadata": {
        "id": "isykSadaP7LP"
      },
      "source": [
        "***Example***"
      ]
    },
    {
      "cell_type": "code",
      "metadata": {
        "colab": {
          "base_uri": "https://localhost:8080/"
        },
        "id": "XJudR6wSOGJq",
        "outputId": "5f3e89c0-5619-4145-b99c-a4a239719f42"
      },
      "source": [
        "import numpy as np\n",
        "a = np.array([0.5, 0.3, 0.1, 0.08, 0.02])\n",
        "b = np.arange(15).reshape(5, 3)\n",
        "print('First array', a)\n",
        "print('Second array including 5 arrays')\n",
        "b"
      ],
      "execution_count": null,
      "outputs": [
        {
          "output_type": "stream",
          "text": [
            "First array [0.5  0.3  0.1  0.08 0.02]\n",
            "Second array including 5 arrays\n"
          ],
          "name": "stdout"
        },
        {
          "output_type": "execute_result",
          "data": {
            "text/plain": [
              "array([[ 0,  1,  2],\n",
              "       [ 3,  4,  5],\n",
              "       [ 6,  7,  8],\n",
              "       [ 9, 10, 11],\n",
              "       [12, 13, 14]])"
            ]
          },
          "metadata": {
            "tags": []
          },
          "execution_count": 1
        }
      ]
    },
    {
      "cell_type": "markdown",
      "metadata": {
        "id": "ngQcspsPQWBb"
      },
      "source": [
        "    1) 0.5*0 + 0.3*3 + 0.1*6 + 0.08*9 + 0.02*12  = 2.46\n",
        "    2) 0.5*1 + 0.3*4 + 0.1*7 + 0.08*10 + 0.02*13 = 3.46\n",
        "    3) 0.5*2 + 0.3*5 + 0.1*8 + 0.08*11 + 0.02*14 = 4.46"
      ]
    },
    {
      "cell_type": "code",
      "metadata": {
        "colab": {
          "base_uri": "https://localhost:8080/"
        },
        "id": "YlOB415TPbtG",
        "outputId": "4602a9f5-c607-405c-e230-131acf5993b3"
      },
      "source": [
        "Weight_sum = np.dot(a ,b)\n",
        "print('Weight_sum' , Weight_sum)"
      ],
      "execution_count": null,
      "outputs": [
        {
          "output_type": "stream",
          "text": [
            "Weight_sum [2.46 3.46 4.46]\n"
          ],
          "name": "stdout"
        }
      ]
    },
    {
      "cell_type": "markdown",
      "metadata": {
        "id": "J1vDUqr3RCvJ"
      },
      "source": [
        "#### ***Kalman Filter_Ver_1***"
      ]
    },
    {
      "cell_type": "markdown",
      "metadata": {
        "id": "nN12i9SRlPd5"
      },
      "source": [
        "##### ***1) Prediction step***"
      ]
    },
    {
      "cell_type": "markdown",
      "metadata": {
        "id": "ytblWde3jgnc"
      },
      "source": [
        "    - X : The mean state estimate of the previous step(k - 1)\n",
        "    - A : The transition n * n matrix.\n",
        "        * dot(A, X)\n",
        "            : 이전 단계에서의 평상태 추정\n",
        "            : n * n 전이행렬 양간의 가중합\n",
        "\n",
        "    - B : The input effect matrix\n",
        "    - U : The control input  \n",
        "\n",
        "            : 실제값 또는 De-noising이 필요한, Error 또는 Noise 값을 내포한 일련의 관측-시퀀스에 대하여, Position 및 Velocity 정보에 대한, 정확도 및 연속적인 수정 정보를 담은 행렬\n",
        "            : 시간변화에 따라 관측되는 특정 Noise-effect를 제거하는 과정에서,  타켓벨류의 다이나믹이 감쇠 및 예측되어 결정\n",
        "\n",
        "    - P : The state covariance of previous step (k−1)\n",
        "    - Q : The process noise covariance matrix"
      ]
    },
    {
      "cell_type": "code",
      "metadata": {
        "colab": {
          "base_uri": "https://localhost:8080/",
          "height": 239
        },
        "id": "-6jeNRLLrjm2",
        "outputId": "2422d66d-3c76-449b-8d63-6b7b03d0e106"
      },
      "source": [
        "Image(filename=\"drive/MyDrive/image/prediction_update section_Kalmanfilter.png\")"
      ],
      "execution_count": 3,
      "outputs": [
        {
          "output_type": "execute_result",
          "data": {
            "image/png": "[encoded data removed]",
            "text/plain": [
              "<IPython.core.display.Image object>"
            ]
          },
          "metadata": {
            "tags": []
          },
          "execution_count": 3
        }
      ]
    },
    {
      "cell_type": "markdown",
      "metadata": {
        "id": "uIFqSGGKsEK_"
      },
      "source": [
        "    - X는 이전 시점의 값과 비교하여 반복적인 평균 예측을 이루어 감 (5)\n",
        "    - 동일한 전이행렬을 활용하여 공분산 역시 반복적인 예측을 이루어 감 단, 이 때 Noise에 대한 분산을 함께 고려 (6)\n",
        "\n",
        "    - 결과적으로는 평균과 분산을 예측"
      ]
    },
    {
      "cell_type": "code",
      "metadata": {
        "id": "vAXlx4dYFEfR"
      },
      "source": [
        "from numpy import dot\n",
        "def kf_predict(X, P, A, Q, B, U):\n",
        "    X = dot(A, X) + dot(B, U)\n",
        "    P = dot(A, dot(P, A.T)) + Q\n",
        "    return(X, P) "
      ],
      "execution_count": null,
      "outputs": []
    },
    {
      "cell_type": "markdown",
      "metadata": {
        "id": "H9oiyi3ajV6m"
      },
      "source": [
        "##### ***2) Update step***"
      ]
    },
    {
      "cell_type": "code",
      "metadata": {
        "id": "pdbTj7WHSIHj"
      },
      "source": [
        "from numpy import dot, sum, tile, linalg\n",
        "from numpy.linalg import inv"
      ],
      "execution_count": null,
      "outputs": []
    },
    {
      "cell_type": "code",
      "metadata": {
        "id": "tHv8sDJGcC8C"
      },
      "source": [
        "def kf_update(X, P, Y, H, R):\n",
        "    IM = dot(H, X)\n",
        "    IS = R + dot(H, dot(P, H.T))\n",
        "    K = dot(P, dot(H.T, inv(IS)))\n",
        "    X = X + dot(K, (Y-IM))\n",
        "    P = P - dot(K, dot(IS, K.T))\n",
        "    LH = gauss_pdf(Y, IM, IS)\n",
        "    return (X,P,K,IM,IS,LH)\n",
        "\n",
        "def gauss_pdf(X, M, S):\n",
        "    if M.shape[1] == 1:\n",
        "        DX = X - tile(M, X.shape[1])\n",
        "        E = 0.5 * sum(DX * (dot(inv(S), DX)), axis=0)\n",
        "        E = E + 0.5 * M.shape[0] * log(2 * pi) + 0.5 * log(np.linalg.det(S))\n",
        "        P = exp(-E)\n",
        "    elif X.shape[1] == 1:\n",
        "         DX = tile(X, M.shape[1])- M\n",
        "         E = 0.5 * sum(DX * (dot(inv(S), DX)), axis=0)\n",
        "         E = E + 0.5 * M.shape[0] * log(2 * pi) + 0.5 * log(np.linalg.det(S))\n",
        "         P = exp(-E)\n",
        "    else:\n",
        "        DX = X-M\n",
        "        E = 0.5 * dot(DX.T, dot(inv(S), DX))\n",
        "        E = E + 0.5 * M.shape[0] * log(2 * pi) + 0.5 * log(np.linalg.det(S))\n",
        "        P = exp(-E)\n",
        "    return (P[0],E[0]) "
      ],
      "execution_count": null,
      "outputs": []
    },
    {
      "cell_type": "code",
      "metadata": {
        "id": "2AQx09tadZ-J"
      },
      "source": [
        "from numpy import *\n",
        "from numpy.linalg import inv\n",
        "\n",
        "dt = 0.1\n",
        "\n",
        "X = array([[0.0], [0.0], [0.1], [0.1]])\n",
        "P = diag((0.01, 0.01, 0.01, 0.01))\n",
        "A = array([[1, 0, dt , 0], [0, 1, 0, dt], [0, 0, 1, 0], [0, 0, 0,1]])\n",
        "Q = eye(X.shape[0])\n",
        "B = eye(X.shape[0])\n",
        "U = zeros((X.shape[0],1)) \n",
        "Y = array([[X[0,0] + abs(np.random.randn(1)[0])], [X[1,0] + abs(np.random.randn(1)[0])]])\n",
        "H = array([[1, 0, 0, 0], [0, 1, 0, 0]])\n",
        "R = eye(Y.shape[0])\n",
        "N_iter = 50\n",
        "\n",
        "for i in arange(0, N_iter):\n",
        "    (X, P) = kf_predict(X, P, A, Q, B, U)\n",
        "    (X, P, K, IM, IS, LH) = kf_update(X, P, Y, H, R)\n",
        "    Y = array([[X[0,0] + abs(0.1 * np.random.randn(1)[0])],[X[1, 0] + abs(0.1 * np.random.randn(1)[0])]]) "
      ],
      "execution_count": null,
      "outputs": []
    },
    {
      "cell_type": "code",
      "metadata": {
        "id": "ZuzgAAfLk7NM",
        "colab": {
          "base_uri": "https://localhost:8080/"
        },
        "outputId": "355f5445-6959-4bf5-d8b9-441ed8272467"
      },
      "source": [
        "Y"
      ],
      "execution_count": null,
      "outputs": [
        {
          "output_type": "execute_result",
          "data": {
            "text/plain": [
              "array([[3.44827942],\n",
              "       [3.78742439]])"
            ]
          },
          "metadata": {
            "tags": []
          },
          "execution_count": 28
        }
      ]
    },
    {
      "cell_type": "markdown",
      "metadata": {
        "id": "PjHCrNHssQzI"
      },
      "source": [
        "#### ***Kalman Filter_Ver_2***"
      ]
    },
    {
      "cell_type": "code",
      "metadata": {
        "id": "eNXxHqVPk-IY"
      },
      "source": [
        ""
      ],
      "execution_count": null,
      "outputs": []
    }
  ]
}