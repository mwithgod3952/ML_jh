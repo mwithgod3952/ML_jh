{
  "nbformat": 4,
  "nbformat_minor": 0,
  "metadata": {
    "colab": {
      "name": "Implementation of Kalman Filter",
      "provenance": [],
      "collapsed_sections": [],
      "authorship_tag": "ABX9TyMRPyqLy0ys1E/rZZP18D7g",
      "include_colab_link": true
    },
    "kernelspec": {
      "name": "python3",
      "display_name": "Python 3"
    },
    "language_info": {
      "name": "python"
    },
    "accelerator": "TPU"
  },
  "cells": [
    {
      "cell_type": "markdown",
      "metadata": {
        "id": "view-in-github",
        "colab_type": "text"
      },
      "source": [
        "<a href=\"https://colab.research.google.com/github/mwithgod3952/Machine_Learning_Theory_jh/blob/master/Implementation_of_Kalman_Filter.ipynb\" target=\"_parent\"><img src=\"https://colab.research.google.com/assets/colab-badge.svg\" alt=\"Open In Colab\"/></a>"
      ]
    },
    {
      "cell_type": "markdown",
      "metadata": {
        "id": "Z5HIJD41NzXK"
      },
      "source": [
        "***Preview_1)***    \n",
        "\n",
        "    - 가중합 \n",
        "        : 내적을 이용한 가중합 "
      ]
    },
    {
      "cell_type": "markdown",
      "metadata": {
        "id": "isykSadaP7LP"
      },
      "source": [
        "***Example***"
      ]
    },
    {
      "cell_type": "code",
      "metadata": {
        "colab": {
          "base_uri": "https://localhost:8080/"
        },
        "id": "XJudR6wSOGJq",
        "outputId": "36286c4e-fc5f-4ba4-f70e-b363e00075b4"
      },
      "source": [
        "import numpy as np\n",
        "a = np.array([0.5, 0.3, 0.1, 0.08, 0.02])\n",
        "b = np.arange(15).reshape(5, 3)\n",
        "print('First array', a)\n",
        "print('Second array including 5 arrays')\n",
        "b"
      ],
      "execution_count": 19,
      "outputs": [
        {
          "output_type": "stream",
          "text": [
            "First array [0.5  0.3  0.1  0.08 0.02]\n",
            "Second array including 5 arrays\n"
          ],
          "name": "stdout"
        },
        {
          "output_type": "execute_result",
          "data": {
            "text/plain": [
              "array([[ 0,  1,  2],\n",
              "       [ 3,  4,  5],\n",
              "       [ 6,  7,  8],\n",
              "       [ 9, 10, 11],\n",
              "       [12, 13, 14]])"
            ]
          },
          "metadata": {
            "tags": []
          },
          "execution_count": 19
        }
      ]
    },
    {
      "cell_type": "markdown",
      "metadata": {
        "id": "ngQcspsPQWBb"
      },
      "source": [
        "    1) 0.5*0 + 0.3*3 + 0.1*6 + 0.08*9 + 0.02*12  = 2.46\n",
        "    2) 0.5*1 + 0.3*4 + 0.1*7 + 0.08*10 + 0.02*13 = 3.46\n",
        "    3) 0.5*2 + 0.3*5 + 0.1*8 + 0.08*11 + 0.02*14 = 4.46"
      ]
    },
    {
      "cell_type": "code",
      "metadata": {
        "colab": {
          "base_uri": "https://localhost:8080/"
        },
        "id": "YlOB415TPbtG",
        "outputId": "eeba4aef-4032-443b-d6b9-00de61d44f97"
      },
      "source": [
        "Weight_sum = np.dot(a ,b)\n",
        "print('Weight_sum' , Weight_sum)"
      ],
      "execution_count": null,
      "outputs": [
        {
          "output_type": "stream",
          "text": [
            "Weight_sum [2.46 3.46 4.46]\n"
          ],
          "name": "stdout"
        }
      ]
    },
    {
      "cell_type": "markdown",
      "metadata": {
        "id": "J1vDUqr3RCvJ"
      },
      "source": [
        "#### ***Kalman Filter_Ver_1***\n",
        "\n",
        "    1) Prediction step"
      ]
    },
    {
      "cell_type": "code",
      "metadata": {
        "id": "vAXlx4dYFEfR"
      },
      "source": [
        "from numpy import dot\n",
        "def kf_predict(X, P, A, Q, B, U):\n",
        "    X = dot(A, X) + dot(B, U)\n",
        "    P = dot(A, dot(P, A.T)) + Q\n",
        "    return(X, P) "
      ],
      "execution_count": null,
      "outputs": []
    },
    {
      "cell_type": "code",
      "metadata": {
        "id": "pdbTj7WHSIHj"
      },
      "source": [
        "from numpy import dot, sum, tile, linalg\n",
        "from numpy.linalg import inv"
      ],
      "execution_count": null,
      "outputs": []
    },
    {
      "cell_type": "code",
      "metadata": {
        "id": "tHv8sDJGcC8C"
      },
      "source": [
        "def kf_update(X, P, Y, H, R):\n",
        "    IM = dot(H, X)\n",
        "    IS = R + dot(H, dot(P, H.T))\n",
        "    K = dot(P, dot(H.T, inv(IS)))\n",
        "    X = X + dot(K, (Y-IM))\n",
        "    P = P - dot(K, dot(IS, K.T))\n",
        "    LH = gauss_pdf(Y, IM, IS)\n",
        "    return (X,P,K,IM,IS,LH)\n",
        "\n",
        "def gauss_pdf(X, M, S):\n",
        "    if M.shape[1] == 1:\n",
        "        DX = X - tile(M, X.shape[1])\n",
        "        E = 0.5 * sum(DX * (dot(inv(S), DX)), axis=0)\n",
        "        E = E + 0.5 * M.shape[0] * log(2 * pi) + 0.5 * log(np.linalg.det(S))\n",
        "        P = exp(-E)\n",
        "    elif X.shape[1] == 1:\n",
        "         DX = tile(X, M.shape[1])- M\n",
        "         E = 0.5 * sum(DX * (dot(inv(S), DX)), axis=0)\n",
        "         E = E + 0.5 * M.shape[0] * log(2 * pi) + 0.5 * log(np.linalg.det(S))\n",
        "         P = exp(-E)\n",
        "    else:\n",
        "        DX = X-M\n",
        "        E = 0.5 * dot(DX.T, dot(inv(S), DX))\n",
        "        E = E + 0.5 * M.shape[0] * log(2 * pi) + 0.5 * log(np.linalg.det(S))\n",
        "        P = exp(-E)\n",
        "    return (P[0],E[0]) "
      ],
      "execution_count": null,
      "outputs": []
    },
    {
      "cell_type": "code",
      "metadata": {
        "id": "2AQx09tadZ-J"
      },
      "source": [
        "from numpy import *\n",
        "from numpy.linalg import inv\n",
        "\n",
        "dt = 0.1\n",
        "\n",
        "X = array([[0.0], [0.0], [0.1], [0.1]])\n",
        "P = diag((0.01, 0.01, 0.01, 0.01))\n",
        "A = array([[1, 0, dt , 0], [0, 1, 0, dt], [0, 0, 1, 0], [0, 0, 0,1]])\n",
        "Q = eye(X.shape[0])\n",
        "B = eye(X.shape[0])\n",
        "U = zeros((X.shape[0],1)) \n",
        "Y = array([[X[0,0] + abs(np.random.randn(1)[0])], [X[1,0] + abs(np.random.randn(1)[0])]])\n",
        "H = array([[1, 0, 0, 0], [0, 1, 0, 0]])\n",
        "R = eye(Y.shape[0])\n",
        "N_iter = 50\n",
        "\n",
        "for i in arange(0, N_iter):\n",
        "    (X, P) = kf_predict(X, P, A, Q, B, U)\n",
        "    (X, P, K, IM, IS, LH) = kf_update(X, P, Y, H, R)\n",
        "    Y = array([[X[0,0] + abs(0.1 * np.random.randn(1)[0])],[X[1, 0] + abs(0.1 * np.random.randn(1)[0])]]) "
      ],
      "execution_count": 25,
      "outputs": []
    },
    {
      "cell_type": "code",
      "metadata": {
        "id": "ZuzgAAfLk7NM",
        "colab": {
          "base_uri": "https://localhost:8080/"
        },
        "outputId": "a4ac1d09-521b-41a9-bac7-99a9854ca805"
      },
      "source": [
        "Y"
      ],
      "execution_count": 27,
      "outputs": [
        {
          "output_type": "execute_result",
          "data": {
            "text/plain": [
              "array([[3.44827942],\n",
              "       [3.78742439]])"
            ]
          },
          "metadata": {
            "tags": []
          },
          "execution_count": 27
        }
      ]
    }
  ]
}