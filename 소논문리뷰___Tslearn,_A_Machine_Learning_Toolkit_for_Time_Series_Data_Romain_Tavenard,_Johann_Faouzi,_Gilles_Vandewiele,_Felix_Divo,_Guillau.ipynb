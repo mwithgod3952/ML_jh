{
  "nbformat": 4,
  "nbformat_minor": 0,
  "metadata": {
    "colab": {
      "name": "소논문리뷰 _ Tslearn, A Machine Learning Toolkit for Time Series Data Romain Tavenard, Johann Faouzi, Gilles Vandewiele, Felix Divo, Guillau",
      "private_outputs": true,
      "provenance": [],
      "collapsed_sections": [],
      "authorship_tag": "ABX9TyNUwJdy2whYbyhz19oD94A8",
      "include_colab_link": true
    },
    "kernelspec": {
      "name": "python3",
      "display_name": "Python 3"
    },
    "language_info": {
      "name": "python"
    }
  },
  "cells": [
    {
      "cell_type": "markdown",
      "metadata": {
        "id": "view-in-github",
        "colab_type": "text"
      },
      "source": [
        "<a href=\"https://colab.research.google.com/github/mwithgod3952/Machine_Learning_Theory_jh/blob/master/%EC%86%8C%EB%85%BC%EB%AC%B8%EB%A6%AC%EB%B7%B0___Tslearn%2C_A_Machine_Learning_Toolkit_for_Time_Series_Data_Romain_Tavenard%2C_Johann_Faouzi%2C_Gilles_Vandewiele%2C_Felix_Divo%2C_Guillau.ipynb\" target=\"_parent\"><img src=\"https://colab.research.google.com/assets/colab-badge.svg\" alt=\"Open In Colab\"/></a>"
      ]
    },
    {
      "cell_type": "markdown",
      "metadata": {
        "id": "y5UYsE-fK-0O"
      },
      "source": [
        "##### 설치"
      ]
    },
    {
      "cell_type": "code",
      "metadata": {
        "id": "kxwTr5dGwA3S"
      },
      "source": [
        "!python -m pip install tslearn"
      ],
      "execution_count": null,
      "outputs": []
    },
    {
      "cell_type": "markdown",
      "metadata": {
        "id": "oFBafYhULGhW"
      },
      "source": [
        "#### study tslearn"
      ]
    },
    {
      "cell_type": "code",
      "metadata": {
        "id": "YX0c_PKuqqrG"
      },
      "source": [
        "from tslearn.utils import to_time_series_dataset\n",
        "from sklearn.model_selection import KFold, GridSearchCV\n",
        "from tslearn.neighbors import KNeighborsTimeSeriesClassifier"
      ],
      "execution_count": null,
      "outputs": []
    },
    {
      "cell_type": "code",
      "metadata": {
        "id": "Y_aZAG4rwAQh"
      },
      "source": [
        "my_first_time_series = [1, 3, 4, 2]\n",
        "my_second_time_series = [1, 2, 4, 2, 1]\n",
        "# array 를 temporal data로 변경 및 formatted_dataset은 2개의 time series를 내포하고 있음.\n",
        "formatted_dataset = to_time_series_dataset([my_first_time_series, my_second_time_series])"
      ],
      "execution_count": null,
      "outputs": []
    },
    {
      "cell_type": "code",
      "metadata": {
        "id": "Jgxj2ywHwbIL"
      },
      "source": [
        "print(formatted_dataset)"
      ],
      "execution_count": null,
      "outputs": []
    },
    {
      "cell_type": "code",
      "metadata": {
        "id": "x5aMxnLmw9-D"
      },
      "source": [
        "print(formatted_dataset.shape)"
      ],
      "execution_count": null,
      "outputs": []
    },
    {
      "cell_type": "markdown",
      "metadata": {
        "id": "whcJez14xFaD"
      },
      "source": [
        "***represented through a three dimenssional numpy array of shape (n,T,d)***\n",
        "\n",
        "  - n : number of time seriese\n",
        "  - T : length\n",
        "  - d : dimentionality\n",
        "\n",
        "    * 즉 2개의 Temporal data가 5개의 sample 길이 및 1개의 차원으로 구성되어 져있다고 위 데이터셋을 설명할 수 있다."
      ]
    },
    {
      "cell_type": "markdown",
      "metadata": {
        "id": "ejJd2Dd-4HGg"
      },
      "source": [
        "---"
      ]
    },
    {
      "cell_type": "markdown",
      "metadata": {
        "id": "H_A3tfIc_ixV"
      },
      "source": [
        "<font color = 'blue'>***사전학습***</font>\n",
        "\n",
        "    1. Cross_Validation(교차검증)\n",
        "        > 교차검증은 train_set을 train set + validation_set으로 분리한 뒤 validation set을 사용해 검증하는 방식이다. \n",
        "\n",
        "            만약, train_set을 통해 특정 모델을 활용한 학습과정을 거친 뒤, 일괄적으로 동일한 test_set을 통한 반복적 검증을 한다면, \n",
        "            특정 Feature Engineering 등을 통해 일괄적으로 모델의 성능은 올릴 수 있겠으나, 과적합(Overfitting)문제가 발생할 수 있으며, \n",
        "            추 후 새로운 데이터가 유입될 시 올바른 결과를 낼 수 없다.\n",
        "<font color = 'red'>***(Regression의 경우 MSE가, Classification의 경우 ER(Error Rate)현저히 다르게 나타날 수 있다는 것이다.)***</font>\n",
        "\n",
        "    1-1 교차검증의 장점 \n",
        "\n",
        "        - 모든 데이터셋을 훈련에 활용할 수 있다.\n",
        "        - 정확도를 향상시킬 수 있다.\n",
        "        - 데이터 부족으로 인한 underfitting을 방지할 수 있다.\n",
        "        - 평가에 사용되는 데이터 편중을 막을 수 있다.\n",
        "        - 평가 결과에 따라 좀 더 일반화된 모델을 만들 수 있다.\n",
        "\n",
        "    1-2 교차검증의 단점\n",
        "\n",
        "        - Iteration 횟수가 많기 때문에, 모델 훈련/평가 시간이 오래 걸린다."
      ]
    },
    {
      "cell_type": "markdown",
      "metadata": {
        "id": "1xWgCHUkDjCT"
      },
      "source": [
        "    1-3. 교차검증의 종류\n",
        "        - K-Fold Cross Validation ( k-겹 교차 검증 )\n",
        "            * cross-validation-splitter\n",
        "            * Leave-one-out-cross-validation( LOOCV )\n",
        "            * shuffle-split-cross-validation\n",
        "        - Stratified K-Fold Cross Validation ( 계층별 k-겹 교차 검증 )"
      ]
    },
    {
      "cell_type": "markdown",
      "metadata": {
        "id": "unmapr_9tiuf"
      },
      "source": [
        "---"
      ]
    },
    {
      "cell_type": "markdown",
      "metadata": {
        "id": "VBj1HhDjtkTR"
      },
      "source": [
        "            2 Grid-Search\n",
        "                > 매개변수를 튜닝하여 일반화 성능을 개선\n",
        "                > 가능한 조합들을 시도"
      ]
    },
    {
      "cell_type": "markdown",
      "metadata": {
        "id": "mkrDTsTNv_xq"
      },
      "source": [
        "    - 간단한 그리드서치 실습"
      ]
    },
    {
      "cell_type": "code",
      "metadata": {
        "id": "VqY0N5BRwEH7"
      },
      "source": [
        "from sklearn.svm import SVC\n",
        "from sklearn.model_selection import train_test_split\n",
        "\n",
        "from sklearn.datasets import load_iris\n",
        "iris = load_iris()"
      ],
      "execution_count": null,
      "outputs": []
    },
    {
      "cell_type": "code",
      "metadata": {
        "id": "Ccb5fjdmwGF4"
      },
      "source": [
        "X_train, X_test, y_train, y_test = train_test_split(iris.data, iris.target, random_state=0)\n",
        "print(\"훈련 세트의 크기: {} 테스트 세트의 크기: {}\".format(X_train.shape[0], X_test.shape[0]))"
      ],
      "execution_count": null,
      "outputs": []
    },
    {
      "cell_type": "markdown",
      "metadata": {
        "id": "-yP8naOSR21p"
      },
      "source": [
        "***Note***\n",
        "\n",
        "    - scikit-learn’s pipelines and model-selection tools can be used in conjunction with tslearn transformers and estimators"
      ]
    },
    {
      "cell_type": "code",
      "metadata": {
        "id": "r6c3cf_jR26k"
      },
      "source": [
        ""
      ],
      "execution_count": null,
      "outputs": []
    },
    {
      "cell_type": "code",
      "metadata": {
        "id": "3Ohzg1TRTUN-"
      },
      "source": [
        ""
      ],
      "execution_count": null,
      "outputs": []
    },
    {
      "cell_type": "code",
      "metadata": {
        "id": "f6WPjKMJwDWD"
      },
      "source": [
        ""
      ],
      "execution_count": null,
      "outputs": []
    }
  ]
}