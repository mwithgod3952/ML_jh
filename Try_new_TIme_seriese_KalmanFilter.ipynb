{
  "nbformat": 4,
  "nbformat_minor": 0,
  "metadata": {
    "colab": {
      "name": "Try new_TIme_seriese_KalmanFilter.ipynb",
      "provenance": [],
      "collapsed_sections": [],
      "authorship_tag": "ABX9TyMQgjNhQ96/Yk/zSlt88ZbT",
      "include_colab_link": true
    },
    "kernelspec": {
      "name": "python3",
      "display_name": "Python 3"
    },
    "language_info": {
      "name": "python"
    },
    "accelerator": "TPU"
  },
  "cells": [
    {
      "cell_type": "markdown",
      "metadata": {
        "id": "view-in-github",
        "colab_type": "text"
      },
      "source": [
        "<a href=\"https://colab.research.google.com/github/mwithgod3952/Machine_Learning_Theory_jh/blob/master/Try_new_TIme_seriese_KalmanFilter.ipynb\" target=\"_parent\"><img src=\"https://colab.research.google.com/assets/colab-badge.svg\" alt=\"Open In Colab\"/></a>"
      ]
    },
    {
      "cell_type": "code",
      "metadata": {
        "colab": {
          "base_uri": "https://localhost:8080/"
        },
        "id": "h8nxYU0JQ6N2",
        "outputId": "78939e02-6235-4302-f06b-85fc3b93ee40"
      },
      "source": [
        "!pip install git+https://github.com/strongio/torch-kalman.git#egg=torch_kalman"
      ],
      "execution_count": null,
      "outputs": [
        {
          "output_type": "stream",
          "text": [
            "Collecting torch_kalman\n",
            "  Cloning https://github.com/strongio/torch-kalman.git to /tmp/pip-install-t9s45x5i/torch-kalman\n",
            "  Running command git clone -q https://github.com/strongio/torch-kalman.git /tmp/pip-install-t9s45x5i/torch-kalman\n",
            "Requirement already satisfied: torch>=1.7 in /usr/local/lib/python3.7/dist-packages (from torch_kalman) (1.9.0+cu102)\n",
            "Requirement already satisfied: numpy>=1.4 in /usr/local/lib/python3.7/dist-packages (from torch_kalman) (1.19.5)\n",
            "Requirement already satisfied: tqdm>=4.0 in /usr/local/lib/python3.7/dist-packages (from torch_kalman) (4.41.1)\n",
            "Collecting filterpy>=1.4\n",
            "\u001b[?25l  Downloading https://files.pythonhosted.org/packages/f6/1d/ac8914360460fafa1990890259b7fa5ef7ba4cd59014e782e4ab3ab144d8/filterpy-1.4.5.zip (177kB)\n",
            "\u001b[K     |████████████████████████████████| 184kB 5.1MB/s \n",
            "\u001b[?25hCollecting lazy_object_proxy>=1.4\n",
            "\u001b[?25l  Downloading https://files.pythonhosted.org/packages/6e/b0/f055db25fd68ab4859832a887c8b304274fc12dd5a3f8e83e61250733aeb/lazy_object_proxy-1.6.0-cp37-cp37m-manylinux1_x86_64.whl (55kB)\n",
            "\u001b[K     |████████████████████████████████| 61kB 6.7MB/s \n",
            "\u001b[?25hCollecting parameterized>=0.7\n",
            "  Downloading https://files.pythonhosted.org/packages/31/13/fe468c8c7400a8eca204e6e160a29bf7dcd45a76e20f1c030f3eaa690d93/parameterized-0.8.1-py2.py3-none-any.whl\n",
            "Requirement already satisfied: typing-extensions in /usr/local/lib/python3.7/dist-packages (from torch>=1.7->torch_kalman) (3.7.4.3)\n",
            "Requirement already satisfied: scipy in /usr/local/lib/python3.7/dist-packages (from filterpy>=1.4->torch_kalman) (1.4.1)\n",
            "Requirement already satisfied: matplotlib in /usr/local/lib/python3.7/dist-packages (from filterpy>=1.4->torch_kalman) (3.2.2)\n",
            "Requirement already satisfied: cycler>=0.10 in /usr/local/lib/python3.7/dist-packages (from matplotlib->filterpy>=1.4->torch_kalman) (0.10.0)\n",
            "Requirement already satisfied: python-dateutil>=2.1 in /usr/local/lib/python3.7/dist-packages (from matplotlib->filterpy>=1.4->torch_kalman) (2.8.1)\n",
            "Requirement already satisfied: pyparsing!=2.0.4,!=2.1.2,!=2.1.6,>=2.0.1 in /usr/local/lib/python3.7/dist-packages (from matplotlib->filterpy>=1.4->torch_kalman) (2.4.7)\n",
            "Requirement already satisfied: kiwisolver>=1.0.1 in /usr/local/lib/python3.7/dist-packages (from matplotlib->filterpy>=1.4->torch_kalman) (1.3.1)\n",
            "Requirement already satisfied: six in /usr/local/lib/python3.7/dist-packages (from cycler>=0.10->matplotlib->filterpy>=1.4->torch_kalman) (1.15.0)\n",
            "Building wheels for collected packages: torch-kalman, filterpy\n",
            "  Building wheel for torch-kalman (setup.py) ... \u001b[?25l\u001b[?25hdone\n",
            "  Created wheel for torch-kalman: filename=torch_kalman-0.2.0-cp37-none-any.whl size=49262 sha256=91f33455a6995d4866b6738622ad6471b18176515e1c822989e308f224fced64\n",
            "  Stored in directory: /tmp/pip-ephem-wheel-cache-ugzfboq0/wheels/c3/d1/5c/107d5ce5f9c0b22fae87937666c02fab8513d936ff9f73f166\n",
            "  Building wheel for filterpy (setup.py) ... \u001b[?25l\u001b[?25hdone\n",
            "  Created wheel for filterpy: filename=filterpy-1.4.5-cp37-none-any.whl size=110476 sha256=048550ce135e8db1f522661d57eed35a1f6f7c68a7fccf271eaa5005438eccd9\n",
            "  Stored in directory: /root/.cache/pip/wheels/c3/0c/dd/e92392c3f38a41371602d99fc77d6c1d42aadbf0c6afccdd02\n",
            "Successfully built torch-kalman filterpy\n",
            "Installing collected packages: filterpy, lazy-object-proxy, parameterized, torch-kalman\n",
            "Successfully installed filterpy-1.4.5 lazy-object-proxy-1.6.0 parameterized-0.8.1 torch-kalman-0.2.0\n"
          ],
          "name": "stdout"
        }
      ]
    },
    {
      "cell_type": "code",
      "metadata": {
        "colab": {
          "base_uri": "https://localhost:8080/"
        },
        "id": "aJHRof8lV9Ck",
        "outputId": "1b561ef1-6c7d-4ed3-a06d-5f587e88c1a0"
      },
      "source": [
        "from google.colab import drive\n",
        "drive.mount(\"/content/drive\")"
      ],
      "execution_count": null,
      "outputs": [
        {
          "output_type": "stream",
          "text": [
            "Mounted at /content/drive\n"
          ],
          "name": "stdout"
        }
      ]
    },
    {
      "cell_type": "code",
      "metadata": {
        "id": "J36TbOS9XEXq"
      },
      "source": [
        "import glob\n",
        "import pandas as pd\n",
        "import numpy as np"
      ],
      "execution_count": null,
      "outputs": []
    },
    {
      "cell_type": "code",
      "metadata": {
        "colab": {
          "base_uri": "https://localhost:8080/"
        },
        "id": "E2TqV5cwWGq-",
        "outputId": "f99495b4-2ca9-4ce3-8f4c-6eee0910b8cc"
      },
      "source": [
        "local_path = '/content/drive/MyDrive/PRSA2017_Data_20130301-20170228 (1)'\n",
        "filenames = glob.glob(local_path + \"/*.csv\")\n",
        "filenames"
      ],
      "execution_count": null,
      "outputs": [
        {
          "output_type": "execute_result",
          "data": {
            "text/plain": [
              "['/content/drive/MyDrive/PRSA2017_Data_20130301-20170228 (1)/PRSA_Data_Aotizhongxin_20130301-20170228.csv',\n",
              " '/content/drive/MyDrive/PRSA2017_Data_20130301-20170228 (1)/PRSA_Data_Changping_20130301-20170228.csv',\n",
              " '/content/drive/MyDrive/PRSA2017_Data_20130301-20170228 (1)/PRSA_Data_Dingling_20130301-20170228.csv',\n",
              " '/content/drive/MyDrive/PRSA2017_Data_20130301-20170228 (1)/PRSA_Data_Dongsi_20130301-20170228.csv',\n",
              " '/content/drive/MyDrive/PRSA2017_Data_20130301-20170228 (1)/PRSA_Data_Guanyuan_20130301-20170228.csv',\n",
              " '/content/drive/MyDrive/PRSA2017_Data_20130301-20170228 (1)/PRSA_Data_Gucheng_20130301-20170228.csv',\n",
              " '/content/drive/MyDrive/PRSA2017_Data_20130301-20170228 (1)/PRSA_Data_Huairou_20130301-20170228.csv',\n",
              " '/content/drive/MyDrive/PRSA2017_Data_20130301-20170228 (1)/PRSA_Data_Nongzhanguan_20130301-20170228.csv',\n",
              " '/content/drive/MyDrive/PRSA2017_Data_20130301-20170228 (1)/PRSA_Data_Shunyi_20130301-20170228.csv',\n",
              " '/content/drive/MyDrive/PRSA2017_Data_20130301-20170228 (1)/PRSA_Data_Tiantan_20130301-20170228.csv',\n",
              " '/content/drive/MyDrive/PRSA2017_Data_20130301-20170228 (1)/PRSA_Data_Wanliu_20130301-20170228.csv',\n",
              " '/content/drive/MyDrive/PRSA2017_Data_20130301-20170228 (1)/PRSA_Data_Wanshouxigong_20130301-20170228.csv']"
            ]
          },
          "metadata": {
            "tags": []
          },
          "execution_count": 5
        }
      ]
    },
    {
      "cell_type": "code",
      "metadata": {
        "colab": {
          "base_uri": "https://localhost:8080/"
        },
        "id": "Z_6uUD5KWoiN",
        "outputId": "4ced4de5-8824-4516-b0f4-13b24665d4df"
      },
      "source": [
        "multiple_df_aq = [pd.read_csv(x) for x in filenames]\n",
        "np.shape(multiple_df_aq)"
      ],
      "execution_count": null,
      "outputs": [
        {
          "output_type": "execute_result",
          "data": {
            "text/plain": [
              "(12, 35064, 18)"
            ]
          },
          "metadata": {
            "tags": []
          },
          "execution_count": 25
        }
      ]
    },
    {
      "cell_type": "code",
      "metadata": {
        "id": "sPjmLpelbDg9"
      },
      "source": [
        "n = 0\n",
        "\n",
        "for df_aq in multiple_df_aq:\n",
        "    ds = []\n",
        "    for i in range(len(df_aq)):\n",
        "        ds.append(pd.to_datetime(str(df_aq.iloc[i,:]['year']) +  \"-\" + str(df_aq.iloc[i,:]['month']) + \"-\" + str(df_aq.iloc[i,:]['day'])).strftime(\"%Y-%m-%d\"))\n",
        "    multiple_df_aq[n][\"ds\"] = ds\n",
        "    multiple_df_aq[n] = multiple_df_aq[n].drop(['No', 'year', 'month',\t'day',\t'hour'], axis = 1)\n",
        "\n",
        "    # '열' 재배치\n",
        "    cols = multiple_df_aq[n].columns.tolist()\n",
        "    cols.remove('ds')\n",
        "    multiple_df_aq[n] = multiple_df_aq[n][sum([['ds'], a], [])]\n",
        "\n",
        "    n = n + 1 "
      ],
      "execution_count": null,
      "outputs": []
    },
    {
      "cell_type": "code",
      "metadata": {
        "colab": {
          "base_uri": "https://localhost:8080/",
          "height": 450
        },
        "id": "WaIs6lENla7F",
        "outputId": "511f82be-7fcb-48de-abf0-c317985617a6"
      },
      "source": [
        "T = multiple_df_aq[0].copy()\n",
        "T.groupby('ds').mean()"
      ],
      "execution_count": null,
      "outputs": [
        {
          "output_type": "execute_result",
          "data": {
            "text/html": [
              "<div>\n",
              "<style scoped>\n",
              "    .dataframe tbody tr th:only-of-type {\n",
              "        vertical-align: middle;\n",
              "    }\n",
              "\n",
              "    .dataframe tbody tr th {\n",
              "        vertical-align: top;\n",
              "    }\n",
              "\n",
              "    .dataframe thead th {\n",
              "        text-align: right;\n",
              "    }\n",
              "</style>\n",
              "<table border=\"1\" class=\"dataframe\">\n",
              "  <thead>\n",
              "    <tr style=\"text-align: right;\">\n",
              "      <th></th>\n",
              "      <th>PM2.5</th>\n",
              "      <th>PM10</th>\n",
              "      <th>SO2</th>\n",
              "      <th>NO2</th>\n",
              "      <th>CO</th>\n",
              "      <th>O3</th>\n",
              "      <th>TEMP</th>\n",
              "      <th>PRES</th>\n",
              "      <th>DEWP</th>\n",
              "      <th>RAIN</th>\n",
              "      <th>WSPM</th>\n",
              "    </tr>\n",
              "    <tr>\n",
              "      <th>ds</th>\n",
              "      <th></th>\n",
              "      <th></th>\n",
              "      <th></th>\n",
              "      <th></th>\n",
              "      <th></th>\n",
              "      <th></th>\n",
              "      <th></th>\n",
              "      <th></th>\n",
              "      <th></th>\n",
              "      <th></th>\n",
              "      <th></th>\n",
              "    </tr>\n",
              "  </thead>\n",
              "  <tbody>\n",
              "    <tr>\n",
              "      <th>2013-03-01</th>\n",
              "      <td>7.125000</td>\n",
              "      <td>10.750000</td>\n",
              "      <td>11.708333</td>\n",
              "      <td>22.583333</td>\n",
              "      <td>429.166667</td>\n",
              "      <td>63.875000</td>\n",
              "      <td>1.391667</td>\n",
              "      <td>1026.875000</td>\n",
              "      <td>-18.745833</td>\n",
              "      <td>0.0</td>\n",
              "      <td>3.254167</td>\n",
              "    </tr>\n",
              "    <tr>\n",
              "      <th>2013-03-02</th>\n",
              "      <td>30.750000</td>\n",
              "      <td>42.083333</td>\n",
              "      <td>36.625000</td>\n",
              "      <td>66.666667</td>\n",
              "      <td>824.916667</td>\n",
              "      <td>29.750000</td>\n",
              "      <td>0.616667</td>\n",
              "      <td>1026.850000</td>\n",
              "      <td>-15.937500</td>\n",
              "      <td>0.0</td>\n",
              "      <td>1.479167</td>\n",
              "    </tr>\n",
              "    <tr>\n",
              "      <th>2013-03-03</th>\n",
              "      <td>76.916667</td>\n",
              "      <td>120.541667</td>\n",
              "      <td>61.291667</td>\n",
              "      <td>81.000000</td>\n",
              "      <td>1620.625000</td>\n",
              "      <td>19.125000</td>\n",
              "      <td>5.566667</td>\n",
              "      <td>1014.608333</td>\n",
              "      <td>-12.316667</td>\n",
              "      <td>0.0</td>\n",
              "      <td>1.658333</td>\n",
              "    </tr>\n",
              "    <tr>\n",
              "      <th>2013-03-04</th>\n",
              "      <td>22.708333</td>\n",
              "      <td>44.583333</td>\n",
              "      <td>22.869565</td>\n",
              "      <td>46.956522</td>\n",
              "      <td>617.391304</td>\n",
              "      <td>53.750000</td>\n",
              "      <td>9.962500</td>\n",
              "      <td>1017.650000</td>\n",
              "      <td>-11.683333</td>\n",
              "      <td>0.0</td>\n",
              "      <td>2.404167</td>\n",
              "    </tr>\n",
              "    <tr>\n",
              "      <th>2013-03-05</th>\n",
              "      <td>148.875000</td>\n",
              "      <td>183.791667</td>\n",
              "      <td>93.875000</td>\n",
              "      <td>132.833333</td>\n",
              "      <td>2357.958333</td>\n",
              "      <td>68.458333</td>\n",
              "      <td>6.291667</td>\n",
              "      <td>1010.900000</td>\n",
              "      <td>-7.525000</td>\n",
              "      <td>0.0</td>\n",
              "      <td>1.129167</td>\n",
              "    </tr>\n",
              "    <tr>\n",
              "      <th>...</th>\n",
              "      <td>...</td>\n",
              "      <td>...</td>\n",
              "      <td>...</td>\n",
              "      <td>...</td>\n",
              "      <td>...</td>\n",
              "      <td>...</td>\n",
              "      <td>...</td>\n",
              "      <td>...</td>\n",
              "      <td>...</td>\n",
              "      <td>...</td>\n",
              "      <td>...</td>\n",
              "    </tr>\n",
              "    <tr>\n",
              "      <th>2017-02-24</th>\n",
              "      <td>21.541667</td>\n",
              "      <td>32.625000</td>\n",
              "      <td>16.583333</td>\n",
              "      <td>58.875000</td>\n",
              "      <td>575.000000</td>\n",
              "      <td>50.791667</td>\n",
              "      <td>5.166667</td>\n",
              "      <td>1021.012500</td>\n",
              "      <td>-11.141667</td>\n",
              "      <td>0.0</td>\n",
              "      <td>1.595833</td>\n",
              "    </tr>\n",
              "    <tr>\n",
              "      <th>2017-02-25</th>\n",
              "      <td>11.208333</td>\n",
              "      <td>19.708333</td>\n",
              "      <td>6.750000</td>\n",
              "      <td>43.375000</td>\n",
              "      <td>420.833333</td>\n",
              "      <td>65.875000</td>\n",
              "      <td>7.245833</td>\n",
              "      <td>1018.812500</td>\n",
              "      <td>-10.754167</td>\n",
              "      <td>0.0</td>\n",
              "      <td>1.825000</td>\n",
              "    </tr>\n",
              "    <tr>\n",
              "      <th>2017-02-26</th>\n",
              "      <td>28.125000</td>\n",
              "      <td>40.708333</td>\n",
              "      <td>10.083333</td>\n",
              "      <td>65.375000</td>\n",
              "      <td>720.833333</td>\n",
              "      <td>48.625000</td>\n",
              "      <td>7.208333</td>\n",
              "      <td>1020.337500</td>\n",
              "      <td>-8.258333</td>\n",
              "      <td>0.0</td>\n",
              "      <td>1.566667</td>\n",
              "    </tr>\n",
              "    <tr>\n",
              "      <th>2017-02-27</th>\n",
              "      <td>71.954545</td>\n",
              "      <td>94.863636</td>\n",
              "      <td>18.809524</td>\n",
              "      <td>98.000000</td>\n",
              "      <td>1366.666667</td>\n",
              "      <td>35.272727</td>\n",
              "      <td>8.337500</td>\n",
              "      <td>1017.141667</td>\n",
              "      <td>-7.145833</td>\n",
              "      <td>0.0</td>\n",
              "      <td>1.516667</td>\n",
              "    </tr>\n",
              "    <tr>\n",
              "      <th>2017-02-28</th>\n",
              "      <td>13.166667</td>\n",
              "      <td>23.291667</td>\n",
              "      <td>9.125000</td>\n",
              "      <td>38.291667</td>\n",
              "      <td>420.833333</td>\n",
              "      <td>82.208333</td>\n",
              "      <td>10.958333</td>\n",
              "      <td>1014.887500</td>\n",
              "      <td>-12.783333</td>\n",
              "      <td>0.0</td>\n",
              "      <td>2.058333</td>\n",
              "    </tr>\n",
              "  </tbody>\n",
              "</table>\n",
              "<p>1461 rows × 11 columns</p>\n",
              "</div>"
            ],
            "text/plain": [
              "                 PM2.5        PM10        SO2  ...       DEWP  RAIN      WSPM\n",
              "ds                                             ...                           \n",
              "2013-03-01    7.125000   10.750000  11.708333  ... -18.745833   0.0  3.254167\n",
              "2013-03-02   30.750000   42.083333  36.625000  ... -15.937500   0.0  1.479167\n",
              "2013-03-03   76.916667  120.541667  61.291667  ... -12.316667   0.0  1.658333\n",
              "2013-03-04   22.708333   44.583333  22.869565  ... -11.683333   0.0  2.404167\n",
              "2013-03-05  148.875000  183.791667  93.875000  ...  -7.525000   0.0  1.129167\n",
              "...                ...         ...        ...  ...        ...   ...       ...\n",
              "2017-02-24   21.541667   32.625000  16.583333  ... -11.141667   0.0  1.595833\n",
              "2017-02-25   11.208333   19.708333   6.750000  ... -10.754167   0.0  1.825000\n",
              "2017-02-26   28.125000   40.708333  10.083333  ...  -8.258333   0.0  1.566667\n",
              "2017-02-27   71.954545   94.863636  18.809524  ...  -7.145833   0.0  1.516667\n",
              "2017-02-28   13.166667   23.291667   9.125000  ... -12.783333   0.0  2.058333\n",
              "\n",
              "[1461 rows x 11 columns]"
            ]
          },
          "metadata": {
            "tags": []
          },
          "execution_count": 65
        }
      ]
    },
    {
      "cell_type": "code",
      "metadata": {
        "colab": {
          "base_uri": "https://localhost:8080/"
        },
        "id": "1vvuGjiP7zWs",
        "outputId": "d8c7c0aa-d386-49a1-9d09-87d94d9ca683"
      },
      "source": [
        "pd.to_datetime(T['ds']) + pd.to_timedelta(7, unit='d')"
      ],
      "execution_count": null,
      "outputs": [
        {
          "output_type": "execute_result",
          "data": {
            "text/plain": [
              "0       2013-03-08\n",
              "1       2013-03-08\n",
              "2       2013-03-08\n",
              "3       2013-03-08\n",
              "4       2013-03-08\n",
              "           ...    \n",
              "35059   2017-03-07\n",
              "35060   2017-03-07\n",
              "35061   2017-03-07\n",
              "35062   2017-03-07\n",
              "35063   2017-03-07\n",
              "Name: ds, Length: 35064, dtype: datetime64[ns]"
            ]
          },
          "metadata": {
            "tags": []
          },
          "execution_count": 66
        }
      ]
    },
    {
      "cell_type": "code",
      "metadata": {
        "id": "DIvK-BHZlsmF"
      },
      "source": [
        "df['Date'] = pd.to_datetime(df['Date']) - pd.to_timedelta(7, unit='d')\n",
        "df = df.groupby(['Name', pd.Grouper(key='Date', freq='W-MON')])['Quantity']\n",
        "       .sum()\n",
        "       .reset_index()\n",
        "       .sort_values('Date')"
      ],
      "execution_count": null,
      "outputs": []
    },
    {
      "cell_type": "code",
      "metadata": {
        "id": "m1ImwSwKluPB"
      },
      "source": [
        ""
      ],
      "execution_count": null,
      "outputs": []
    },
    {
      "cell_type": "code",
      "metadata": {
        "id": "IS2xah_TluNT"
      },
      "source": [
        ""
      ],
      "execution_count": null,
      "outputs": []
    },
    {
      "cell_type": "code",
      "metadata": {
        "id": "VhWyXBYqluKQ"
      },
      "source": [
        ""
      ],
      "execution_count": null,
      "outputs": []
    },
    {
      "cell_type": "code",
      "metadata": {
        "id": "71WM6aFQluH8"
      },
      "source": [
        ""
      ],
      "execution_count": null,
      "outputs": []
    },
    {
      "cell_type": "code",
      "metadata": {
        "id": "hfrNsRiFluFb"
      },
      "source": [
        ""
      ],
      "execution_count": null,
      "outputs": []
    },
    {
      "cell_type": "code",
      "metadata": {
        "id": "Bcv15hwQluDK"
      },
      "source": [
        ""
      ],
      "execution_count": null,
      "outputs": []
    },
    {
      "cell_type": "code",
      "metadata": {
        "id": "ADYXZPbCluAt"
      },
      "source": [
        ""
      ],
      "execution_count": null,
      "outputs": []
    },
    {
      "cell_type": "code",
      "metadata": {
        "id": "WpHlQdEslt-g"
      },
      "source": [
        ""
      ],
      "execution_count": null,
      "outputs": []
    },
    {
      "cell_type": "code",
      "metadata": {
        "id": "OSKH4fv8lt7w"
      },
      "source": [
        ""
      ],
      "execution_count": null,
      "outputs": []
    },
    {
      "cell_type": "code",
      "metadata": {
        "id": "C3c7H6NUlt5c"
      },
      "source": [
        ""
      ],
      "execution_count": null,
      "outputs": []
    },
    {
      "cell_type": "code",
      "metadata": {
        "id": "TYjRCA5xlt3G"
      },
      "source": [
        ""
      ],
      "execution_count": null,
      "outputs": []
    },
    {
      "cell_type": "code",
      "metadata": {
        "id": "Bem8tjRJlt0r"
      },
      "source": [
        ""
      ],
      "execution_count": null,
      "outputs": []
    },
    {
      "cell_type": "code",
      "metadata": {
        "id": "_pDs0HF5ltya"
      },
      "source": [
        ""
      ],
      "execution_count": null,
      "outputs": []
    }
  ]
}