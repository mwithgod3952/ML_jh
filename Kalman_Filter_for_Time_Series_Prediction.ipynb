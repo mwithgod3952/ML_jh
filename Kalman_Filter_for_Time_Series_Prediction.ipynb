{
  "nbformat": 4,
  "nbformat_minor": 0,
  "metadata": {
    "colab": {
      "name": "Kalman Filter for Time-Series Prediction",
      "provenance": [],
      "collapsed_sections": [],
      "authorship_tag": "ABX9TyPoraxTdLUFuyNk4Shgo54Z",
      "include_colab_link": true
    },
    "kernelspec": {
      "name": "python3",
      "display_name": "Python 3"
    },
    "language_info": {
      "name": "python"
    }
  },
  "cells": [
    {
      "cell_type": "markdown",
      "metadata": {
        "id": "view-in-github",
        "colab_type": "text"
      },
      "source": [
        "<a href=\"https://colab.research.google.com/github/mwithgod3952/Machine_Learning_Theory_jh/blob/master/Kalman_Filter_for_Time_Series_Prediction.ipynb\" target=\"_parent\"><img src=\"https://colab.research.google.com/assets/colab-badge.svg\" alt=\"Open In Colab\"/></a>"
      ]
    },
    {
      "cell_type": "code",
      "metadata": {
        "colab": {
          "base_uri": "https://localhost:8080/"
        },
        "id": "NJesm8KvWjzl",
        "outputId": "14668213-e533-43cf-d3ca-5a940e4f4979"
      },
      "source": [
        "from google.colab import drive\n",
        "drive.mount(\"/content.drive/\")"
      ],
      "execution_count": 11,
      "outputs": [
        {
          "output_type": "stream",
          "text": [
            "Drive already mounted at /content.drive/; to attempt to forcibly remount, call drive.mount(\"/content.drive/\", force_remount=True).\n"
          ],
          "name": "stdout"
        }
      ]
    },
    {
      "cell_type": "code",
      "metadata": {
        "id": "-Okxsdaaof0p"
      },
      "source": [
        "import pandas as pd\n",
        "import matplotlib.pyplot as plt"
      ],
      "execution_count": 32,
      "outputs": []
    },
    {
      "cell_type": "code",
      "metadata": {
        "colab": {
          "base_uri": "https://localhost:8080/",
          "height": 445
        },
        "id": "yaOFkHifnENj",
        "outputId": "30c860f0-0a8f-4aed-b398-8777c2bcaa69"
      },
      "source": [
        "url = \"https://raw.githubusercontent.com/herzog-ch/stock-prediction-using-kalman-in-python/master/data/IFNNY.csv\"\n",
        "df = pd.read_csv(url, index_col=0)\n",
        "df"
      ],
      "execution_count": 48,
      "outputs": [
        {
          "output_type": "execute_result",
          "data": {
            "text/html": [
              "<div>\n",
              "<style scoped>\n",
              "    .dataframe tbody tr th:only-of-type {\n",
              "        vertical-align: middle;\n",
              "    }\n",
              "\n",
              "    .dataframe tbody tr th {\n",
              "        vertical-align: top;\n",
              "    }\n",
              "\n",
              "    .dataframe thead th {\n",
              "        text-align: right;\n",
              "    }\n",
              "</style>\n",
              "<table border=\"1\" class=\"dataframe\">\n",
              "  <thead>\n",
              "    <tr style=\"text-align: right;\">\n",
              "      <th></th>\n",
              "      <th>Open</th>\n",
              "      <th>High</th>\n",
              "      <th>Low</th>\n",
              "      <th>Close</th>\n",
              "      <th>Adj Close</th>\n",
              "      <th>Volume</th>\n",
              "    </tr>\n",
              "    <tr>\n",
              "      <th>Date</th>\n",
              "      <th></th>\n",
              "      <th></th>\n",
              "      <th></th>\n",
              "      <th></th>\n",
              "      <th></th>\n",
              "      <th></th>\n",
              "    </tr>\n",
              "  </thead>\n",
              "  <tbody>\n",
              "    <tr>\n",
              "      <th>2014-09-29</th>\n",
              "      <td>10.620000</td>\n",
              "      <td>10.740000</td>\n",
              "      <td>10.610000</td>\n",
              "      <td>10.710000</td>\n",
              "      <td>9.922544</td>\n",
              "      <td>12300</td>\n",
              "    </tr>\n",
              "    <tr>\n",
              "      <th>2014-09-30</th>\n",
              "      <td>10.260000</td>\n",
              "      <td>10.320000</td>\n",
              "      <td>10.210000</td>\n",
              "      <td>10.300000</td>\n",
              "      <td>9.542690</td>\n",
              "      <td>20300</td>\n",
              "    </tr>\n",
              "    <tr>\n",
              "      <th>2014-10-01</th>\n",
              "      <td>10.070000</td>\n",
              "      <td>10.070000</td>\n",
              "      <td>10.000000</td>\n",
              "      <td>10.050000</td>\n",
              "      <td>9.311070</td>\n",
              "      <td>24400</td>\n",
              "    </tr>\n",
              "    <tr>\n",
              "      <th>2014-10-02</th>\n",
              "      <td>10.020000</td>\n",
              "      <td>10.020000</td>\n",
              "      <td>9.850000</td>\n",
              "      <td>9.920000</td>\n",
              "      <td>9.190628</td>\n",
              "      <td>29100</td>\n",
              "    </tr>\n",
              "    <tr>\n",
              "      <th>2014-10-03</th>\n",
              "      <td>9.920000</td>\n",
              "      <td>9.950000</td>\n",
              "      <td>9.870000</td>\n",
              "      <td>9.940000</td>\n",
              "      <td>9.209157</td>\n",
              "      <td>24400</td>\n",
              "    </tr>\n",
              "    <tr>\n",
              "      <th>...</th>\n",
              "      <td>...</td>\n",
              "      <td>...</td>\n",
              "      <td>...</td>\n",
              "      <td>...</td>\n",
              "      <td>...</td>\n",
              "      <td>...</td>\n",
              "    </tr>\n",
              "    <tr>\n",
              "      <th>2019-09-23</th>\n",
              "      <td>18.620001</td>\n",
              "      <td>18.780001</td>\n",
              "      <td>18.559999</td>\n",
              "      <td>18.700001</td>\n",
              "      <td>18.700001</td>\n",
              "      <td>241600</td>\n",
              "    </tr>\n",
              "    <tr>\n",
              "      <th>2019-09-24</th>\n",
              "      <td>18.760000</td>\n",
              "      <td>18.790001</td>\n",
              "      <td>18.459999</td>\n",
              "      <td>18.520000</td>\n",
              "      <td>18.520000</td>\n",
              "      <td>227200</td>\n",
              "    </tr>\n",
              "    <tr>\n",
              "      <th>2019-09-25</th>\n",
              "      <td>18.250000</td>\n",
              "      <td>18.440001</td>\n",
              "      <td>18.110001</td>\n",
              "      <td>18.410000</td>\n",
              "      <td>18.410000</td>\n",
              "      <td>245200</td>\n",
              "    </tr>\n",
              "    <tr>\n",
              "      <th>2019-09-26</th>\n",
              "      <td>18.580000</td>\n",
              "      <td>18.600000</td>\n",
              "      <td>18.400000</td>\n",
              "      <td>18.520000</td>\n",
              "      <td>18.520000</td>\n",
              "      <td>139600</td>\n",
              "    </tr>\n",
              "    <tr>\n",
              "      <th>2019-09-27</th>\n",
              "      <td>18.170000</td>\n",
              "      <td>18.190001</td>\n",
              "      <td>17.719999</td>\n",
              "      <td>17.830000</td>\n",
              "      <td>17.830000</td>\n",
              "      <td>203700</td>\n",
              "    </tr>\n",
              "  </tbody>\n",
              "</table>\n",
              "<p>1259 rows × 6 columns</p>\n",
              "</div>"
            ],
            "text/plain": [
              "                 Open       High        Low      Close  Adj Close  Volume\n",
              "Date                                                                     \n",
              "2014-09-29  10.620000  10.740000  10.610000  10.710000   9.922544   12300\n",
              "2014-09-30  10.260000  10.320000  10.210000  10.300000   9.542690   20300\n",
              "2014-10-01  10.070000  10.070000  10.000000  10.050000   9.311070   24400\n",
              "2014-10-02  10.020000  10.020000   9.850000   9.920000   9.190628   29100\n",
              "2014-10-03   9.920000   9.950000   9.870000   9.940000   9.209157   24400\n",
              "...               ...        ...        ...        ...        ...     ...\n",
              "2019-09-23  18.620001  18.780001  18.559999  18.700001  18.700001  241600\n",
              "2019-09-24  18.760000  18.790001  18.459999  18.520000  18.520000  227200\n",
              "2019-09-25  18.250000  18.440001  18.110001  18.410000  18.410000  245200\n",
              "2019-09-26  18.580000  18.600000  18.400000  18.520000  18.520000  139600\n",
              "2019-09-27  18.170000  18.190001  17.719999  17.830000  17.830000  203700\n",
              "\n",
              "[1259 rows x 6 columns]"
            ]
          },
          "metadata": {
            "tags": []
          },
          "execution_count": 48
        }
      ]
    },
    {
      "cell_type": "code",
      "metadata": {
        "colab": {
          "base_uri": "https://localhost:8080/"
        },
        "id": "zZD-IrZKoriE",
        "outputId": "cfe0b104-7e8e-4921-a2a7-9e6edd529ffb"
      },
      "source": [
        "df.shape"
      ],
      "execution_count": 49,
      "outputs": [
        {
          "output_type": "execute_result",
          "data": {
            "text/plain": [
              "(1259, 6)"
            ]
          },
          "metadata": {
            "tags": []
          },
          "execution_count": 49
        }
      ]
    },
    {
      "cell_type": "code",
      "metadata": {
        "colab": {
          "base_uri": "https://localhost:8080/"
        },
        "id": "XzFa9Mcgr_9w",
        "outputId": "61b449b1-3240-4c10-a563-92cfffbb5a53"
      },
      "source": [
        "df.index = (pd.to_datetime(df.index))\n",
        "type(df.index)"
      ],
      "execution_count": 50,
      "outputs": [
        {
          "output_type": "execute_result",
          "data": {
            "text/plain": [
              "pandas.core.indexes.datetimes.DatetimeIndex"
            ]
          },
          "metadata": {
            "tags": []
          },
          "execution_count": 50
        }
      ]
    },
    {
      "cell_type": "code",
      "metadata": {
        "colab": {
          "base_uri": "https://localhost:8080/",
          "height": 225
        },
        "id": "PwogIJUOqzMM",
        "outputId": "a1c71374-fe42-41e0-8e92-d215c65b3a87"
      },
      "source": [
        "plt.figure(figsize=(12, 3))\n",
        "\n",
        "plt.plot(df.iloc[:,1])\n",
        "plt.xticks(rotation=45)\n",
        "plt.show()"
      ],
      "execution_count": 52,
      "outputs": [
        {
          "output_type": "display_data",
          "data": {
            "image/png": "[encoded data removed]",
            "text/plain": [
              "<Figure size 864x216 with 1 Axes>"
            ]
          },
          "metadata": {
            "tags": [],
            "needs_background": "light"
          }
        }
      ]
    },
    {
      "cell_type": "code",
      "metadata": {
        "id": "e24zbjYUpvEy"
      },
      "source": [
        "import numpy as np\n",
        "from collections import namedtuple\n",
        "\n",
        "State = namedtuple('State', 'X, P')\n",
        "\n",
        "\n",
        "def predict(state, F, Q):\n",
        "    \"\"\"Perform the predict step\n",
        "    x_pred = Fx\n",
        "    P_pred = F P F^T + Q\n",
        "    :param state: State namedtuple\n",
        "    :param F: Transition matrix\n",
        "    :param Q: Process Covariance\n",
        "    :return: The prior as a State namedtuple\n",
        "    \"\"\"\n",
        "\n",
        "    assert state.X.shape[0] == F.shape[1]\n",
        "    assert state.X.shape[1] == 1\n",
        "    assert F.shape[0] == F.shape[1]\n",
        "    assert Q.shape[0] == Q.shape[1]\n",
        "    assert Q.shape[0] == F.shape[0]\n",
        "\n",
        "    x_pred = np.matmul(F, state.X)\n",
        "    p_pred = np.matmul(F, np.matmul(state.P, F.T)) + Q\n",
        "    return State(x_pred, p_pred)\n",
        "\n",
        "\n",
        "def update(prior, z, R, H):\n",
        "    \"\"\"Perform update step\n",
        "    S = H P_prior H^T + R\n",
        "    K = P_prior H^T S^-1\n",
        "    y = z - H x_prior\n",
        "    x = x_prior + Ky\n",
        "    P = (I - KH) P_prior\n",
        "    :param prior: State namedtuple holding the prior mean and covariance\n",
        "    :param z: measurement vector\n",
        "    :param R: measurement covariance matrix\n",
        "    :param H: measurement matrix\n",
        "    :return: Returns the posterior mean and covariance as State namedtuple\n",
        "    \"\"\"\n",
        "\n",
        "    assert prior.X.shape[1] == 1\n",
        "    assert prior.X.shape[0] == H.shape[1]\n",
        "    assert H.shape[0] == z.shape[0]\n",
        "    assert z.shape[1] == 1\n",
        "    assert prior.P.shape[0] == prior.P.shape[1]\n",
        "    assert prior.P.shape[1] == H.shape[1]\n",
        "\n",
        "    z_pred = np.matmul(H, prior.X)\n",
        "    y = z - z_pred\n",
        "    S = np.matmul(H, np.matmul(prior.P, H.T)) + R\n",
        "    K = np.matmul(prior.P, np.matmul(H.T, np.linalg.inv(S)))\n",
        "    x_posterior = prior.X + np.matmul(K, y)\n",
        "    p_posterior = np.matmul((np.identity(prior.P.shape[0]) - np.matmul(K, H)), prior.P)\n",
        "    return State(x_posterior, p_posterior)"
      ],
      "execution_count": 53,
      "outputs": []
    },
    {
      "cell_type": "code",
      "metadata": {
        "colab": {
          "base_uri": "https://localhost:8080/",
          "height": 383
        },
        "id": "yotUjfCbqlxM",
        "outputId": "d86bb893-6ac2-491d-9a1e-656660e50043"
      },
      "source": [
        "import numpy as np\n",
        "import matplotlib.pyplot as plt\n",
        "\n",
        "\n",
        "def main():\n",
        "\n",
        "    # read data\n",
        "    data_filename = '../data/IFNNY.csv'\n",
        "    dataReader = yahoo_financedata.YahooFinanceData()\n",
        "    dataReader.open_data(data_filename)\n",
        "\n",
        "    # init kalman filter\n",
        "    x = np.full((2, 1), 2)\n",
        "    P = np.full((2, 2), 2 ** 2)\n",
        "    state = kalman_filter.State(x, P)\n",
        "\n",
        "    Q = np.full((2, 2), 1 ** 2)\n",
        "    F = np.array([[1, 1],\n",
        "                  [0, 1]])\n",
        "    R = np.array([[0.5 ** 2]])\n",
        "    H = np.array([[1, 0]])\n",
        "\n",
        "    # data for plotting\n",
        "    gt = {'price': [], 'trend': []}\n",
        "    result = {'price': [], 'trend': []}\n",
        "    velocity = []\n",
        "\n",
        "    counter = 0\n",
        "\n",
        "    while dataReader.has_more_data():\n",
        "        z = dataReader.next_measurement()\n",
        "\n",
        "        if counter == 0:\n",
        "            x = np.array([[z[0][0]], [0]])\n",
        "            state = kalman_filter.State(x, P)\n",
        "\n",
        "        prior = kalman_filter.predict(state, F, Q)\n",
        "        posterior = kalman_filter.update(prior, z, R, H)\n",
        "        state = posterior\n",
        "\n",
        "        gt['price'].append(z[0][0])\n",
        "        result['price'].append(prior.X[0][0])\n",
        "        velocity.append(prior.X[1][0])\n",
        "\n",
        "        if counter == 0:\n",
        "            gt['trend'].append(1)\n",
        "            result['trend'].append(1)\n",
        "        else:\n",
        "            predicted_trend = 1 if prior.X[0][0] > result['price'][counter - 1] else -1\n",
        "            result['trend'].append(predicted_trend)\n",
        "            gt_trend = 1 if z[0][0] > gt['price'][counter - 1] else -1\n",
        "            gt['trend'].append(gt_trend)\n",
        "\n",
        "        counter += 1\n",
        "        # if counter > 20:\n",
        "        #    break\n",
        "\n",
        "    # KPI\n",
        "    # number of correct trend predictions\n",
        "    correct_predictions = 0\n",
        "    for x, y in zip(result['trend'], gt['trend']):\n",
        "        if x == y:\n",
        "            correct_predictions += 1\n",
        "    print(correct_predictions)\n",
        "    print(len(gt['trend']))\n",
        "    print(float(correct_predictions) / len(gt['trend']))\n",
        "\n",
        "    plt.figure(1)\n",
        "\n",
        "    plt.plot(gt['price'])\n",
        "    plt.plot(result['price'])\n",
        "    plt.plot(velocity)\n",
        "\n",
        "    x_axis = list(range(len(gt['trend'])))\n",
        "    plt.scatter(x_axis, gt['trend'], marker='o', color='g')\n",
        "    plt.scatter(x_axis, result['trend'], marker='x', color='r')\n",
        "\n",
        "    plt.legend(['actual stock price', 'predicted stock price', 'actual trend', 'predicted trend', 'momentum'])\n",
        "\n",
        "    plt.grid()\n",
        "    plt.show()\n",
        "\n",
        "\n",
        "if __name__ == '__main__':\n",
        "    main()"
      ],
      "execution_count": 54,
      "outputs": [
        {
          "output_type": "error",
          "ename": "ModuleNotFoundError",
          "evalue": "ignored",
          "traceback": [
            "\u001b[0;31m---------------------------------------------------------------------------\u001b[0m",
            "\u001b[0;31mModuleNotFoundError\u001b[0m                       Traceback (most recent call last)",
            "\u001b[0;32m<ipython-input-54-8c430eaf35a7>\u001b[0m in \u001b[0;36m<module>\u001b[0;34m()\u001b[0m\n\u001b[0;32m----> 1\u001b[0;31m \u001b[0;32mimport\u001b[0m \u001b[0msrc\u001b[0m\u001b[0;34m.\u001b[0m\u001b[0mkalman_filter\u001b[0m \u001b[0;32mas\u001b[0m \u001b[0mkalman_filter\u001b[0m\u001b[0;34m\u001b[0m\u001b[0;34m\u001b[0m\u001b[0m\n\u001b[0m\u001b[1;32m      2\u001b[0m \u001b[0;32mimport\u001b[0m \u001b[0msrc\u001b[0m\u001b[0;34m.\u001b[0m\u001b[0myahoo_financedata\u001b[0m \u001b[0;32mas\u001b[0m \u001b[0myahoo_financedata\u001b[0m\u001b[0;34m\u001b[0m\u001b[0;34m\u001b[0m\u001b[0m\n\u001b[1;32m      3\u001b[0m \u001b[0;32mimport\u001b[0m \u001b[0mnumpy\u001b[0m \u001b[0;32mas\u001b[0m \u001b[0mnp\u001b[0m\u001b[0;34m\u001b[0m\u001b[0;34m\u001b[0m\u001b[0m\n\u001b[1;32m      4\u001b[0m \u001b[0;32mimport\u001b[0m \u001b[0mmatplotlib\u001b[0m\u001b[0;34m.\u001b[0m\u001b[0mpyplot\u001b[0m \u001b[0;32mas\u001b[0m \u001b[0mplt\u001b[0m\u001b[0;34m\u001b[0m\u001b[0;34m\u001b[0m\u001b[0m\n\u001b[1;32m      5\u001b[0m \u001b[0;34m\u001b[0m\u001b[0m\n",
            "\u001b[0;31mModuleNotFoundError\u001b[0m: No module named 'src'",
            "",
            "\u001b[0;31m---------------------------------------------------------------------------\u001b[0;32m\nNOTE: If your import is failing due to a missing package, you can\nmanually install dependencies using either !pip or !apt.\n\nTo view examples of installing some common dependencies, click the\n\"Open Examples\" button below.\n\u001b[0;31m---------------------------------------------------------------------------\u001b[0m\n"
          ]
        }
      ]
    },
    {
      "cell_type": "code",
      "metadata": {
        "id": "NYMIpUC5vvkT"
      },
      "source": [
        ""
      ],
      "execution_count": null,
      "outputs": []
    }
  ]
}