{
  "nbformat": 4,
  "nbformat_minor": 0,
  "metadata": {
    "colab": {
      "provenance": [],
      "collapsed_sections": [
        "mi4u_6msQILx"
      ],
      "authorship_tag": "ABX9TyM1PFhKUoUGXwUWd9bi79Z4",
      "include_colab_link": true
    },
    "kernelspec": {
      "name": "python3",
      "display_name": "Python 3"
    },
    "language_info": {
      "name": "python"
    }
  },
  "cells": [
    {
      "cell_type": "markdown",
      "metadata": {
        "id": "view-in-github",
        "colab_type": "text"
      },
      "source": [
        "<a href=\"https://colab.research.google.com/github/mwithgod3952/ML_jh/blob/master/class_code3.ipynb\" target=\"_parent\"><img src=\"https://colab.research.google.com/assets/colab-badge.svg\" alt=\"Open In Colab\"/></a>"
      ]
    },
    {
      "cell_type": "markdown",
      "source": [
        "<img src=\"https://images.emojiterra.com/openmoji/v13.1/512px/2699.png\" width=\"100\"/><font size = 4><font color = 'grey'> <b><i>환경설정</i></b></font>"
      ],
      "metadata": {
        "id": "-8BkPNXf1R1T"
      }
    },
    {
      "cell_type": "code",
      "source": [
        "from google.colab import drive; drive.mount('/content/drive', force_remount=True)\n",
        "from IPython import display; display.clear_output()\n",
        "\n",
        "wp = input('- 작업경로를 입력해주세요: '); print('\\n'); display.clear_output()\n",
        "\n",
        "import os; os.chdir(wp)\n",
        "if os.getcwd() == wp:\n",
        "    print(f'\\t\\033[1mMounted at{new_path}\\033[0m\\n')  \n",
        "    print('\\t\\033[1mThe working path is stored in variable \\033[91mwp\\033[0m')"
      ],
      "metadata": {
        "colab": {
          "base_uri": "https://localhost:8080/"
        },
        "id": "IGzDFc71pedl",
        "outputId": "5a537455-2755-40a3-a2f6-ca61c22617bc"
      },
      "execution_count": null,
      "outputs": [
        {
          "output_type": "stream",
          "name": "stdout",
          "text": [
            "\t\u001b[1mMounted atdisplay.clear_output()\u001b[0m\n",
            "\n",
            "\t\u001b[1mThe working path is stored in variable \u001b[91mwp\u001b[0m\n"
          ]
        }
      ]
    },
    {
      "cell_type": "markdown",
      "source": [
        "---"
      ],
      "metadata": {
        "id": "nJ-Q7EQbaXPF"
      }
    },
    {
      "cell_type": "markdown",
      "source": [
        "<img src=\"https://images.emojiterra.com/openmoji/v13.1/512px/1f3af.png\" width=\"75\"><font size = 4><font color = 'grey'> <b><i>학습목표</i></b></font>\n",
        "\n",
        "<font size =5>1.</font>\n",
        "<font size=2><font color = 'blue'> <b>데이터프레임 구조이해와 생성 (데이터의 구조변환)</b></font> \n",
        "\n",
        "<font size =5>2.</font>\n",
        "<font size=2><font color = 'blue'> <b>딕셔너리와 리스트, 리스트와 시리즈</b></font> "
      ],
      "metadata": {
        "id": "_h48UBSRaGhh"
      }
    },
    {
      "cell_type": "markdown",
      "source": [
        "<fnot size = 10><font color = 'white'>.</font>\n"
      ],
      "metadata": {
        "id": "W0aX49a7Ek1p"
      }
    },
    {
      "cell_type": "markdown",
      "source": [
        "---"
      ],
      "metadata": {
        "id": "lkWw5N3GEZFj"
      }
    },
    {
      "cell_type": "markdown",
      "source": [
        "<font size = 2>**Homework**: 아래의 pandas 공식페이지에 들어가 \"10 minutes to pandas\" 코드를 카피코딩 해봅시다.</font>\n",
        "\n",
        "<font size = 2>pandas library는 데이터 추출, 처리, 분석 분야에 있어 필수적입니다. 아래의 링크를 통해 확인할 수 있는 문서의 코드를 카피 코딩하며 데이터라는 것이 어떤 형식과 방식으로 사용되는지를 학습해 봅시다.</font>\n",
        "\n",
        "> <font size = 2>**[Link](https://pandas.pydata.org/docs/user_guide/10min.html)**</font>"
      ],
      "metadata": {
        "id": "-kvSfSumEYOn"
      }
    },
    {
      "cell_type": "markdown",
      "source": [
        "---"
      ],
      "metadata": {
        "id": "xNUpZxZobSyO"
      }
    },
    {
      "cell_type": "code",
      "source": [
        "import os\n",
        "import copy\n",
        "import random\n",
        "import numpy as np\n",
        "import pandas as pd\n",
        "\n",
        "from google.colab import data_table\n",
        "\n",
        "import warnings \n",
        "warnings.filterwarnings('ignore')"
      ],
      "metadata": {
        "id": "z2BOkUEwdPrL"
      },
      "execution_count": null,
      "outputs": []
    },
    {
      "cell_type": "markdown",
      "source": [
        "<fnot size = 10><font color = 'white'>.</font>"
      ],
      "metadata": {
        "id": "FdIMVROXE3EW"
      }
    },
    {
      "cell_type": "markdown",
      "source": [
        "<img src=\"https://images.emojiterra.com/twitter/v13.1/512px/1f4ca.png\" width=\"100\"><font size = 4><font color = 'grey'> <b><i> 데이터 준비</i></b></font>"
      ],
      "metadata": {
        "id": "hZGuC56H8PKf"
      }
    },
    {
      "cell_type": "code",
      "source": [
        "# 공유파일 URL: https://drive.google.com/file/d/1wu8Zoowp96csMfEuCNRkA3LQGWLyS0Un/view?usp=sharing\n",
        "URL = input('공유받고자 하는 파일의 링크를 입력해주세요.: ')\n",
        "\n",
        "!pip install -U -q PyDrive\n",
        "from google.colab import auth\n",
        "from pydrive.auth import GoogleAuth\n",
        "from pydrive.drive import GoogleDrive\n",
        "from oauth2client.client import GoogleCredentials\n",
        "\n",
        "auth.authenticate_user()\n",
        "gauth = GoogleAuth()\n",
        "gauth.credentials = GoogleCredentials.get_application_default()\n",
        "drive = GoogleDrive(gauth)\n",
        "filename = input('저장하고자 하는 파일의 이름을 입력해 주세요. (확장자명 제외): ')\n",
        "display.clear_output()\n",
        "\n",
        "shared_drv_id = URL[URL.find('/d/'):].split('/')[2]\n",
        "drive.CreateFile({'id':shared_drv_id}).GetContentFile(f'{os.getcwd()}/{filename}.csv') \n",
        "i = 0\n",
        "for fi in os.listdir():\n",
        "    if i == 0:\n",
        "        if filename in fi:\n",
        "            print('\\n')\n",
        "            print('*'*1); print('\\t\\033[1mNew data has been created\\033[0m');\n",
        "            i += 1 \n",
        "if i > 0:\n",
        "    df = pd.read_csv(f'{filename}.csv').iloc[:, 1:]\n",
        "    print('*'*2); print('\\t\\033[1mThe file is stored in variable \\033[91mdf\\033[0m');"
      ],
      "metadata": {
        "colab": {
          "base_uri": "https://localhost:8080/"
        },
        "id": "rQuO5ueCsWdZ",
        "outputId": "4b071c75-a202-4d37-fb96-00f0c25886a8"
      },
      "execution_count": null,
      "outputs": [
        {
          "output_type": "stream",
          "name": "stdout",
          "text": [
            "\n",
            "\n",
            "*\n",
            "\t\u001b[1mNew data has been created\u001b[0m\n",
            "**\n",
            "\t\u001b[1mThe file is stored in variable \u001b[91mdf\u001b[0m\n"
          ]
        }
      ]
    },
    {
      "cell_type": "code",
      "source": [
        "data_table.DataTable(df, include_index=True, num_rows_per_page=10)"
      ],
      "metadata": {
        "colab": {
          "base_uri": "https://localhost:8080/",
          "height": 314
        },
        "id": "3PAvaf6i1ppr",
        "outputId": "63ed7606-d64f-481a-c63d-9fe405cc02d0"
      },
      "execution_count": null,
      "outputs": [
        {
          "output_type": "execute_result",
          "data": {
            "text/html": [
              "<div>\n",
              "<style scoped>\n",
              "    .dataframe tbody tr th:only-of-type {\n",
              "        vertical-align: middle;\n",
              "    }\n",
              "\n",
              "    .dataframe tbody tr th {\n",
              "        vertical-align: top;\n",
              "    }\n",
              "\n",
              "    .dataframe thead th {\n",
              "        text-align: right;\n",
              "    }\n",
              "</style>\n",
              "<table border=\"1\" class=\"dataframe\">\n",
              "  <thead>\n",
              "    <tr style=\"text-align: right;\">\n",
              "      <th></th>\n",
              "      <th>키워드</th>\n",
              "      <th>출처</th>\n",
              "      <th>카테고리</th>\n",
              "      <th>검색량</th>\n",
              "      <th>상품량</th>\n",
              "      <th>경쟁률</th>\n",
              "      <th>쇼핑전환</th>\n",
              "    </tr>\n",
              "  </thead>\n",
              "  <tbody>\n",
              "    <tr>\n",
              "      <th>0</th>\n",
              "      <td>헬스장</td>\n",
              "      <td>상품</td>\n",
              "      <td>피트니스/PT</td>\n",
              "      <td>307600.0</td>\n",
              "      <td>473360.0</td>\n",
              "      <td>1.53</td>\n",
              "      <td>0.76</td>\n",
              "    </tr>\n",
              "    <tr>\n",
              "      <th>1</th>\n",
              "      <td>헬스</td>\n",
              "      <td>상품</td>\n",
              "      <td>웨이트용품</td>\n",
              "      <td>61210.0</td>\n",
              "      <td>9333156.0</td>\n",
              "      <td>152.47</td>\n",
              "      <td>0.62</td>\n",
              "    </tr>\n",
              "    <tr>\n",
              "      <th>2</th>\n",
              "      <td>벨트</td>\n",
              "      <td>상품</td>\n",
              "      <td>정장벨트</td>\n",
              "      <td>36360.0</td>\n",
              "      <td>9646001.0</td>\n",
              "      <td>265.29</td>\n",
              "      <td>0.10</td>\n",
              "    </tr>\n",
              "    <tr>\n",
              "      <th>3</th>\n",
              "      <td>디자인</td>\n",
              "      <td>상품</td>\n",
              "      <td>디자인문패</td>\n",
              "      <td>24420.0</td>\n",
              "      <td>21640053.0</td>\n",
              "      <td>886.16</td>\n",
              "      <td>0.27</td>\n",
              "    </tr>\n",
              "    <tr>\n",
              "      <th>4</th>\n",
              "      <td>학과</td>\n",
              "      <td>상품</td>\n",
              "      <td>기타교구</td>\n",
              "      <td>19400.0</td>\n",
              "      <td>16837.0</td>\n",
              "      <td>0.86</td>\n",
              "      <td>0.00</td>\n",
              "    </tr>\n",
              "    <tr>\n",
              "      <th>5</th>\n",
              "      <td>마네킹</td>\n",
              "      <td>인기</td>\n",
              "      <td>마네킹</td>\n",
              "      <td>13800.0</td>\n",
              "      <td>270619.0</td>\n",
              "      <td>19.61</td>\n",
              "      <td>3.72</td>\n",
              "    </tr>\n",
              "    <tr>\n",
              "      <th>6</th>\n",
              "      <td>디스플레이</td>\n",
              "      <td>상품</td>\n",
              "      <td>모니터</td>\n",
              "      <td>12570.0</td>\n",
              "      <td>5074783.0</td>\n",
              "      <td>403.72</td>\n",
              "      <td>0.06</td>\n",
              "    </tr>\n",
              "    <tr>\n",
              "      <th>7</th>\n",
              "      <td>여성</td>\n",
              "      <td>상품</td>\n",
              "      <td>중목/장목양말</td>\n",
              "      <td>9430.0</td>\n",
              "      <td>255894816.0</td>\n",
              "      <td>27136.24</td>\n",
              "      <td>0.08</td>\n",
              "    </tr>\n",
              "    <tr>\n",
              "      <th>8</th>\n",
              "      <td>가정용런닝머신</td>\n",
              "      <td>상품</td>\n",
              "      <td>접이식</td>\n",
              "      <td>9200.0</td>\n",
              "      <td>55649.0</td>\n",
              "      <td>6.04</td>\n",
              "      <td>2.47</td>\n",
              "    </tr>\n",
              "    <tr>\n",
              "      <th>9</th>\n",
              "      <td>러닝머신</td>\n",
              "      <td>상품</td>\n",
              "      <td>접이식</td>\n",
              "      <td>9040.0</td>\n",
              "      <td>198830.0</td>\n",
              "      <td>21.99</td>\n",
              "      <td>1.58</td>\n",
              "    </tr>\n",
              "    <tr>\n",
              "      <th>10</th>\n",
              "      <td>의류</td>\n",
              "      <td>상품</td>\n",
              "      <td>다리/발마사지기</td>\n",
              "      <td>6910.0</td>\n",
              "      <td>260913983.0</td>\n",
              "      <td>37758.89</td>\n",
              "      <td>0.28</td>\n",
              "    </tr>\n",
              "    <tr>\n",
              "      <th>11</th>\n",
              "      <td>수업</td>\n",
              "      <td>상품</td>\n",
              "      <td>골프레슨</td>\n",
              "      <td>4500.0</td>\n",
              "      <td>752688.0</td>\n",
              "      <td>167.26</td>\n",
              "      <td>0.01</td>\n",
              "    </tr>\n",
              "    <tr>\n",
              "      <th>12</th>\n",
              "      <td>실습</td>\n",
              "      <td>상품</td>\n",
              "      <td>기타교구</td>\n",
              "      <td>3880.0</td>\n",
              "      <td>124635.0</td>\n",
              "      <td>32.12</td>\n",
              "      <td>0.00</td>\n",
              "    </tr>\n",
              "    <tr>\n",
              "      <th>13</th>\n",
              "      <td>장식</td>\n",
              "      <td>상품</td>\n",
              "      <td>펌프스</td>\n",
              "      <td>2320.0</td>\n",
              "      <td>30415888.0</td>\n",
              "      <td>13110.29</td>\n",
              "      <td>0.12</td>\n",
              "    </tr>\n",
              "    <tr>\n",
              "      <th>14</th>\n",
              "      <td>소형</td>\n",
              "      <td>상품</td>\n",
              "      <td>기타소형기계</td>\n",
              "      <td>2250.0</td>\n",
              "      <td>16547119.0</td>\n",
              "      <td>7354.27</td>\n",
              "      <td>0.03</td>\n",
              "    </tr>\n",
              "    <tr>\n",
              "      <th>15</th>\n",
              "      <td>무음</td>\n",
              "      <td>상품</td>\n",
              "      <td>벽시계</td>\n",
              "      <td>1840.0</td>\n",
              "      <td>2396334.0</td>\n",
              "      <td>1302.35</td>\n",
              "      <td>7.01</td>\n",
              "    </tr>\n",
              "    <tr>\n",
              "      <th>16</th>\n",
              "      <td>전신마네킹</td>\n",
              "      <td>인기</td>\n",
              "      <td>마네킹</td>\n",
              "      <td>1500.0</td>\n",
              "      <td>43808.0</td>\n",
              "      <td>29.20</td>\n",
              "      <td>4.51</td>\n",
              "    </tr>\n",
              "    <tr>\n",
              "      <th>17</th>\n",
              "      <td>L3</td>\n",
              "      <td>상품</td>\n",
              "      <td>노트북</td>\n",
              "      <td>1270.0</td>\n",
              "      <td>293033.0</td>\n",
              "      <td>230.73</td>\n",
              "      <td>0.05</td>\n",
              "    </tr>\n",
              "    <tr>\n",
              "      <th>18</th>\n",
              "      <td>여자마네킹</td>\n",
              "      <td>인기</td>\n",
              "      <td>마네킹</td>\n",
              "      <td>1180.0</td>\n",
              "      <td>79921.0</td>\n",
              "      <td>67.72</td>\n",
              "      <td>6.31</td>\n",
              "    </tr>\n",
              "    <tr>\n",
              "      <th>19</th>\n",
              "      <td>데콜테마네킹</td>\n",
              "      <td>인기</td>\n",
              "      <td>마네킹</td>\n",
              "      <td>1040.0</td>\n",
              "      <td>3001.0</td>\n",
              "      <td>2.88</td>\n",
              "      <td>1.40</td>\n",
              "    </tr>\n",
              "    <tr>\n",
              "      <th>20</th>\n",
              "      <td>중고마네킹</td>\n",
              "      <td>인기</td>\n",
              "      <td>마네킹</td>\n",
              "      <td>850.0</td>\n",
              "      <td>342.0</td>\n",
              "      <td>0.40</td>\n",
              "      <td>11.32</td>\n",
              "    </tr>\n",
              "    <tr>\n",
              "      <th>21</th>\n",
              "      <td>강아지마네킹</td>\n",
              "      <td>인기</td>\n",
              "      <td>마네킹</td>\n",
              "      <td>750.0</td>\n",
              "      <td>9044.0</td>\n",
              "      <td>12.05</td>\n",
              "      <td>2.73</td>\n",
              "    </tr>\n",
              "    <tr>\n",
              "      <th>22</th>\n",
              "      <td>상반신마네킹</td>\n",
              "      <td>인기</td>\n",
              "      <td>마네킹</td>\n",
              "      <td>750.0</td>\n",
              "      <td>26142.0</td>\n",
              "      <td>34.85</td>\n",
              "      <td>3.71</td>\n",
              "    </tr>\n",
              "    <tr>\n",
              "      <th>23</th>\n",
              "      <td>두상마네킹</td>\n",
              "      <td>인기</td>\n",
              "      <td>마네킹</td>\n",
              "      <td>620.0</td>\n",
              "      <td>16605.0</td>\n",
              "      <td>26.78</td>\n",
              "      <td>4.11</td>\n",
              "    </tr>\n",
              "    <tr>\n",
              "      <th>24</th>\n",
              "      <td>가정용</td>\n",
              "      <td>상품</td>\n",
              "      <td>좌욕기</td>\n",
              "      <td>600.0</td>\n",
              "      <td>20825364.0</td>\n",
              "      <td>34708.94</td>\n",
              "      <td>0.00</td>\n",
              "    </tr>\n",
              "    <tr>\n",
              "      <th>25</th>\n",
              "      <td>가봉마네킹</td>\n",
              "      <td>인기</td>\n",
              "      <td>마네킹</td>\n",
              "      <td>580.0</td>\n",
              "      <td>7159.0</td>\n",
              "      <td>12.34</td>\n",
              "      <td>3.24</td>\n",
              "    </tr>\n",
              "    <tr>\n",
              "      <th>26</th>\n",
              "      <td>남자마네킹</td>\n",
              "      <td>인기</td>\n",
              "      <td>마네킹</td>\n",
              "      <td>530.0</td>\n",
              "      <td>32409.0</td>\n",
              "      <td>61.14</td>\n",
              "      <td>3.66</td>\n",
              "    </tr>\n",
              "    <tr>\n",
              "      <th>27</th>\n",
              "      <td>손모형</td>\n",
              "      <td>인기</td>\n",
              "      <td>마네킹</td>\n",
              "      <td>500.0</td>\n",
              "      <td>140521.0</td>\n",
              "      <td>281.04</td>\n",
              "      <td>0.31</td>\n",
              "    </tr>\n",
              "    <tr>\n",
              "      <th>28</th>\n",
              "      <td>아동마네킹</td>\n",
              "      <td>인기</td>\n",
              "      <td>마네킹</td>\n",
              "      <td>480.0</td>\n",
              "      <td>16524.0</td>\n",
              "      <td>34.42</td>\n",
              "      <td>5.22</td>\n",
              "    </tr>\n",
              "    <tr>\n",
              "      <th>29</th>\n",
              "      <td>얼굴마네킹</td>\n",
              "      <td>인기</td>\n",
              "      <td>마네킹</td>\n",
              "      <td>390.0</td>\n",
              "      <td>10562.0</td>\n",
              "      <td>27.08</td>\n",
              "      <td>2.65</td>\n",
              "    </tr>\n",
              "    <tr>\n",
              "      <th>30</th>\n",
              "      <td>피노키오마네킹</td>\n",
              "      <td>인기</td>\n",
              "      <td>마네킹</td>\n",
              "      <td>380.0</td>\n",
              "      <td>5612.0</td>\n",
              "      <td>14.76</td>\n",
              "      <td>8.08</td>\n",
              "    </tr>\n",
              "    <tr>\n",
              "      <th>31</th>\n",
              "      <td>미니마네킹</td>\n",
              "      <td>인기</td>\n",
              "      <td>마네킹</td>\n",
              "      <td>380.0</td>\n",
              "      <td>5959.0</td>\n",
              "      <td>15.68</td>\n",
              "      <td>2.60</td>\n",
              "    </tr>\n",
              "    <tr>\n",
              "      <th>32</th>\n",
              "      <td>목걸이마네킹</td>\n",
              "      <td>인기</td>\n",
              "      <td>마네킹</td>\n",
              "      <td>340.0</td>\n",
              "      <td>12837.0</td>\n",
              "      <td>37.75</td>\n",
              "      <td>1.83</td>\n",
              "    </tr>\n",
              "    <tr>\n",
              "      <th>33</th>\n",
              "      <td>유아마네킹</td>\n",
              "      <td>인기</td>\n",
              "      <td>마네킹</td>\n",
              "      <td>280.0</td>\n",
              "      <td>3368.0</td>\n",
              "      <td>12.02</td>\n",
              "      <td>4.75</td>\n",
              "    </tr>\n",
              "    <tr>\n",
              "      <th>34</th>\n",
              "      <td>철제마네킹</td>\n",
              "      <td>인기</td>\n",
              "      <td>마네킹</td>\n",
              "      <td>210.0</td>\n",
              "      <td>5791.0</td>\n",
              "      <td>27.57</td>\n",
              "      <td>1.75</td>\n",
              "    </tr>\n",
              "    <tr>\n",
              "      <th>35</th>\n",
              "      <td>손마네킹</td>\n",
              "      <td>인기</td>\n",
              "      <td>마네킹</td>\n",
              "      <td>210.0</td>\n",
              "      <td>18327.0</td>\n",
              "      <td>87.27</td>\n",
              "      <td>0.67</td>\n",
              "    </tr>\n",
              "    <tr>\n",
              "      <th>36</th>\n",
              "      <td>발마네킹</td>\n",
              "      <td>인기</td>\n",
              "      <td>마네킹</td>\n",
              "      <td>150.0</td>\n",
              "      <td>12397.0</td>\n",
              "      <td>82.64</td>\n",
              "      <td>1.79</td>\n",
              "    </tr>\n",
              "  </tbody>\n",
              "</table>\n",
              "</div>"
            ],
            "application/vnd.google.colaboratory.module+javascript": "\n      import \"https://ssl.gstatic.com/colaboratory/data_table/a8bd4d5e58f96183/data_table.js\";\n\n      window.createDataTable({\n        data: [[{\n            'v': 0,\n            'f': \"0\",\n        },\n\"\\ud5ec\\uc2a4\\uc7a5\",\n\"\\uc0c1\\ud488\",\n\"\\ud53c\\ud2b8\\ub2c8\\uc2a4/PT\",\n{\n            'v': 307600.0,\n            'f': \"307600.0\",\n        },\n{\n            'v': 473360.0,\n            'f': \"473360.0\",\n        },\n{\n            'v': 1.53,\n            'f': \"1.53\",\n        },\n{\n            'v': 0.76,\n            'f': \"0.76\",\n        }],\n [{\n            'v': 1,\n            'f': \"1\",\n        },\n\"\\ud5ec\\uc2a4\",\n\"\\uc0c1\\ud488\",\n\"\\uc6e8\\uc774\\ud2b8\\uc6a9\\ud488\",\n{\n            'v': 61210.0,\n            'f': \"61210.0\",\n        },\n{\n            'v': 9333156.0,\n            'f': \"9333156.0\",\n        },\n{\n            'v': 152.47,\n            'f': \"152.47\",\n        },\n{\n            'v': 0.62,\n            'f': \"0.62\",\n        }],\n [{\n            'v': 2,\n            'f': \"2\",\n        },\n\"\\ubca8\\ud2b8\",\n\"\\uc0c1\\ud488\",\n\"\\uc815\\uc7a5\\ubca8\\ud2b8\",\n{\n            'v': 36360.0,\n            'f': \"36360.0\",\n        },\n{\n            'v': 9646001.0,\n            'f': \"9646001.0\",\n        },\n{\n            'v': 265.29,\n            'f': \"265.29\",\n        },\n{\n            'v': 0.1,\n            'f': \"0.1\",\n        }],\n [{\n            'v': 3,\n            'f': \"3\",\n        },\n\"\\ub514\\uc790\\uc778\",\n\"\\uc0c1\\ud488\",\n\"\\ub514\\uc790\\uc778\\ubb38\\ud328\",\n{\n            'v': 24420.0,\n            'f': \"24420.0\",\n        },\n{\n            'v': 21640053.0,\n            'f': \"21640053.0\",\n        },\n{\n            'v': 886.16,\n            'f': \"886.16\",\n        },\n{\n            'v': 0.27,\n            'f': \"0.27\",\n        }],\n [{\n            'v': 4,\n            'f': \"4\",\n        },\n\"\\ud559\\uacfc\",\n\"\\uc0c1\\ud488\",\n\"\\uae30\\ud0c0\\uad50\\uad6c\",\n{\n            'v': 19400.0,\n            'f': \"19400.0\",\n        },\n{\n            'v': 16837.0,\n            'f': \"16837.0\",\n        },\n{\n            'v': 0.86,\n            'f': \"0.86\",\n        },\n{\n            'v': 0.0,\n            'f': \"0.0\",\n        }],\n [{\n            'v': 5,\n            'f': \"5\",\n        },\n\"\\ub9c8\\ub124\\ud0b9\",\n\"\\uc778\\uae30\",\n\"\\ub9c8\\ub124\\ud0b9\",\n{\n            'v': 13800.0,\n            'f': \"13800.0\",\n        },\n{\n            'v': 270619.0,\n            'f': \"270619.0\",\n        },\n{\n            'v': 19.61,\n            'f': \"19.61\",\n        },\n{\n            'v': 3.72,\n            'f': \"3.72\",\n        }],\n [{\n            'v': 6,\n            'f': \"6\",\n        },\n\"\\ub514\\uc2a4\\ud50c\\ub808\\uc774\",\n\"\\uc0c1\\ud488\",\n\"\\ubaa8\\ub2c8\\ud130\",\n{\n            'v': 12570.0,\n            'f': \"12570.0\",\n        },\n{\n            'v': 5074783.0,\n            'f': \"5074783.0\",\n        },\n{\n            'v': 403.72,\n            'f': \"403.72\",\n        },\n{\n            'v': 0.06,\n            'f': \"0.06\",\n        }],\n [{\n            'v': 7,\n            'f': \"7\",\n        },\n\"\\uc5ec\\uc131\",\n\"\\uc0c1\\ud488\",\n\"\\uc911\\ubaa9/\\uc7a5\\ubaa9\\uc591\\ub9d0\",\n{\n            'v': 9430.0,\n            'f': \"9430.0\",\n        },\n{\n            'v': 255894816.0,\n            'f': \"255894816.0\",\n        },\n{\n            'v': 27136.24,\n            'f': \"27136.24\",\n        },\n{\n            'v': 0.08,\n            'f': \"0.08\",\n        }],\n [{\n            'v': 8,\n            'f': \"8\",\n        },\n\"\\uac00\\uc815\\uc6a9\\ub7f0\\ub2dd\\uba38\\uc2e0\",\n\"\\uc0c1\\ud488\",\n\"\\uc811\\uc774\\uc2dd\",\n{\n            'v': 9200.0,\n            'f': \"9200.0\",\n        },\n{\n            'v': 55649.0,\n            'f': \"55649.0\",\n        },\n{\n            'v': 6.04,\n            'f': \"6.04\",\n        },\n{\n            'v': 2.47,\n            'f': \"2.47\",\n        }],\n [{\n            'v': 9,\n            'f': \"9\",\n        },\n\"\\ub7ec\\ub2dd\\uba38\\uc2e0\",\n\"\\uc0c1\\ud488\",\n\"\\uc811\\uc774\\uc2dd\",\n{\n            'v': 9040.0,\n            'f': \"9040.0\",\n        },\n{\n            'v': 198830.0,\n            'f': \"198830.0\",\n        },\n{\n            'v': 21.99,\n            'f': \"21.99\",\n        },\n{\n            'v': 1.58,\n            'f': \"1.58\",\n        }],\n [{\n            'v': 10,\n            'f': \"10\",\n        },\n\"\\uc758\\ub958\",\n\"\\uc0c1\\ud488\",\n\"\\ub2e4\\ub9ac/\\ubc1c\\ub9c8\\uc0ac\\uc9c0\\uae30\",\n{\n            'v': 6910.0,\n            'f': \"6910.0\",\n        },\n{\n            'v': 260913983.0,\n            'f': \"260913983.0\",\n        },\n{\n            'v': 37758.89,\n            'f': \"37758.89\",\n        },\n{\n            'v': 0.28,\n            'f': \"0.28\",\n        }],\n [{\n            'v': 11,\n            'f': \"11\",\n        },\n\"\\uc218\\uc5c5\",\n\"\\uc0c1\\ud488\",\n\"\\uace8\\ud504\\ub808\\uc2a8\",\n{\n            'v': 4500.0,\n            'f': \"4500.0\",\n        },\n{\n            'v': 752688.0,\n            'f': \"752688.0\",\n        },\n{\n            'v': 167.26,\n            'f': \"167.26\",\n        },\n{\n            'v': 0.01,\n            'f': \"0.01\",\n        }],\n [{\n            'v': 12,\n            'f': \"12\",\n        },\n\"\\uc2e4\\uc2b5\",\n\"\\uc0c1\\ud488\",\n\"\\uae30\\ud0c0\\uad50\\uad6c\",\n{\n            'v': 3880.0,\n            'f': \"3880.0\",\n        },\n{\n            'v': 124635.0,\n            'f': \"124635.0\",\n        },\n{\n            'v': 32.12,\n            'f': \"32.12\",\n        },\n{\n            'v': 0.0,\n            'f': \"0.0\",\n        }],\n [{\n            'v': 13,\n            'f': \"13\",\n        },\n\"\\uc7a5\\uc2dd\",\n\"\\uc0c1\\ud488\",\n\"\\ud38c\\ud504\\uc2a4\",\n{\n            'v': 2320.0,\n            'f': \"2320.0\",\n        },\n{\n            'v': 30415888.0,\n            'f': \"30415888.0\",\n        },\n{\n            'v': 13110.29,\n            'f': \"13110.29\",\n        },\n{\n            'v': 0.12,\n            'f': \"0.12\",\n        }],\n [{\n            'v': 14,\n            'f': \"14\",\n        },\n\"\\uc18c\\ud615\",\n\"\\uc0c1\\ud488\",\n\"\\uae30\\ud0c0\\uc18c\\ud615\\uae30\\uacc4\",\n{\n            'v': 2250.0,\n            'f': \"2250.0\",\n        },\n{\n            'v': 16547119.0,\n            'f': \"16547119.0\",\n        },\n{\n            'v': 7354.27,\n            'f': \"7354.27\",\n        },\n{\n            'v': 0.03,\n            'f': \"0.03\",\n        }],\n [{\n            'v': 15,\n            'f': \"15\",\n        },\n\"\\ubb34\\uc74c\",\n\"\\uc0c1\\ud488\",\n\"\\ubcbd\\uc2dc\\uacc4\",\n{\n            'v': 1840.0,\n            'f': \"1840.0\",\n        },\n{\n            'v': 2396334.0,\n            'f': \"2396334.0\",\n        },\n{\n            'v': 1302.35,\n            'f': \"1302.35\",\n        },\n{\n            'v': 7.01,\n            'f': \"7.01\",\n        }],\n [{\n            'v': 16,\n            'f': \"16\",\n        },\n\"\\uc804\\uc2e0\\ub9c8\\ub124\\ud0b9\",\n\"\\uc778\\uae30\",\n\"\\ub9c8\\ub124\\ud0b9\",\n{\n            'v': 1500.0,\n            'f': \"1500.0\",\n        },\n{\n            'v': 43808.0,\n            'f': \"43808.0\",\n        },\n{\n            'v': 29.2,\n            'f': \"29.2\",\n        },\n{\n            'v': 4.51,\n            'f': \"4.51\",\n        }],\n [{\n            'v': 17,\n            'f': \"17\",\n        },\n\"L3\",\n\"\\uc0c1\\ud488\",\n\"\\ub178\\ud2b8\\ubd81\",\n{\n            'v': 1270.0,\n            'f': \"1270.0\",\n        },\n{\n            'v': 293033.0,\n            'f': \"293033.0\",\n        },\n{\n            'v': 230.73,\n            'f': \"230.73\",\n        },\n{\n            'v': 0.05,\n            'f': \"0.05\",\n        }],\n [{\n            'v': 18,\n            'f': \"18\",\n        },\n\"\\uc5ec\\uc790\\ub9c8\\ub124\\ud0b9\",\n\"\\uc778\\uae30\",\n\"\\ub9c8\\ub124\\ud0b9\",\n{\n            'v': 1180.0,\n            'f': \"1180.0\",\n        },\n{\n            'v': 79921.0,\n            'f': \"79921.0\",\n        },\n{\n            'v': 67.72,\n            'f': \"67.72\",\n        },\n{\n            'v': 6.31,\n            'f': \"6.31\",\n        }],\n [{\n            'v': 19,\n            'f': \"19\",\n        },\n\"\\ub370\\ucf5c\\ud14c\\ub9c8\\ub124\\ud0b9\",\n\"\\uc778\\uae30\",\n\"\\ub9c8\\ub124\\ud0b9\",\n{\n            'v': 1040.0,\n            'f': \"1040.0\",\n        },\n{\n            'v': 3001.0,\n            'f': \"3001.0\",\n        },\n{\n            'v': 2.88,\n            'f': \"2.88\",\n        },\n{\n            'v': 1.4,\n            'f': \"1.4\",\n        }],\n [{\n            'v': 20,\n            'f': \"20\",\n        },\n\"\\uc911\\uace0\\ub9c8\\ub124\\ud0b9\",\n\"\\uc778\\uae30\",\n\"\\ub9c8\\ub124\\ud0b9\",\n{\n            'v': 850.0,\n            'f': \"850.0\",\n        },\n{\n            'v': 342.0,\n            'f': \"342.0\",\n        },\n{\n            'v': 0.4,\n            'f': \"0.4\",\n        },\n{\n            'v': 11.32,\n            'f': \"11.32\",\n        }],\n [{\n            'v': 21,\n            'f': \"21\",\n        },\n\"\\uac15\\uc544\\uc9c0\\ub9c8\\ub124\\ud0b9\",\n\"\\uc778\\uae30\",\n\"\\ub9c8\\ub124\\ud0b9\",\n{\n            'v': 750.0,\n            'f': \"750.0\",\n        },\n{\n            'v': 9044.0,\n            'f': \"9044.0\",\n        },\n{\n            'v': 12.05,\n            'f': \"12.05\",\n        },\n{\n            'v': 2.73,\n            'f': \"2.73\",\n        }],\n [{\n            'v': 22,\n            'f': \"22\",\n        },\n\"\\uc0c1\\ubc18\\uc2e0\\ub9c8\\ub124\\ud0b9\",\n\"\\uc778\\uae30\",\n\"\\ub9c8\\ub124\\ud0b9\",\n{\n            'v': 750.0,\n            'f': \"750.0\",\n        },\n{\n            'v': 26142.0,\n            'f': \"26142.0\",\n        },\n{\n            'v': 34.85,\n            'f': \"34.85\",\n        },\n{\n            'v': 3.71,\n            'f': \"3.71\",\n        }],\n [{\n            'v': 23,\n            'f': \"23\",\n        },\n\"\\ub450\\uc0c1\\ub9c8\\ub124\\ud0b9\",\n\"\\uc778\\uae30\",\n\"\\ub9c8\\ub124\\ud0b9\",\n{\n            'v': 620.0,\n            'f': \"620.0\",\n        },\n{\n            'v': 16605.0,\n            'f': \"16605.0\",\n        },\n{\n            'v': 26.78,\n            'f': \"26.78\",\n        },\n{\n            'v': 4.11,\n            'f': \"4.11\",\n        }],\n [{\n            'v': 24,\n            'f': \"24\",\n        },\n\"\\uac00\\uc815\\uc6a9\",\n\"\\uc0c1\\ud488\",\n\"\\uc88c\\uc695\\uae30\",\n{\n            'v': 600.0,\n            'f': \"600.0\",\n        },\n{\n            'v': 20825364.0,\n            'f': \"20825364.0\",\n        },\n{\n            'v': 34708.94,\n            'f': \"34708.94\",\n        },\n{\n            'v': 0.0,\n            'f': \"0.0\",\n        }],\n [{\n            'v': 25,\n            'f': \"25\",\n        },\n\"\\uac00\\ubd09\\ub9c8\\ub124\\ud0b9\",\n\"\\uc778\\uae30\",\n\"\\ub9c8\\ub124\\ud0b9\",\n{\n            'v': 580.0,\n            'f': \"580.0\",\n        },\n{\n            'v': 7159.0,\n            'f': \"7159.0\",\n        },\n{\n            'v': 12.34,\n            'f': \"12.34\",\n        },\n{\n            'v': 3.24,\n            'f': \"3.24\",\n        }],\n [{\n            'v': 26,\n            'f': \"26\",\n        },\n\"\\ub0a8\\uc790\\ub9c8\\ub124\\ud0b9\",\n\"\\uc778\\uae30\",\n\"\\ub9c8\\ub124\\ud0b9\",\n{\n            'v': 530.0,\n            'f': \"530.0\",\n        },\n{\n            'v': 32409.0,\n            'f': \"32409.0\",\n        },\n{\n            'v': 61.14,\n            'f': \"61.14\",\n        },\n{\n            'v': 3.66,\n            'f': \"3.66\",\n        }],\n [{\n            'v': 27,\n            'f': \"27\",\n        },\n\"\\uc190\\ubaa8\\ud615\",\n\"\\uc778\\uae30\",\n\"\\ub9c8\\ub124\\ud0b9\",\n{\n            'v': 500.0,\n            'f': \"500.0\",\n        },\n{\n            'v': 140521.0,\n            'f': \"140521.0\",\n        },\n{\n            'v': 281.04,\n            'f': \"281.04\",\n        },\n{\n            'v': 0.31,\n            'f': \"0.31\",\n        }],\n [{\n            'v': 28,\n            'f': \"28\",\n        },\n\"\\uc544\\ub3d9\\ub9c8\\ub124\\ud0b9\",\n\"\\uc778\\uae30\",\n\"\\ub9c8\\ub124\\ud0b9\",\n{\n            'v': 480.0,\n            'f': \"480.0\",\n        },\n{\n            'v': 16524.0,\n            'f': \"16524.0\",\n        },\n{\n            'v': 34.42,\n            'f': \"34.42\",\n        },\n{\n            'v': 5.22,\n            'f': \"5.22\",\n        }],\n [{\n            'v': 29,\n            'f': \"29\",\n        },\n\"\\uc5bc\\uad74\\ub9c8\\ub124\\ud0b9\",\n\"\\uc778\\uae30\",\n\"\\ub9c8\\ub124\\ud0b9\",\n{\n            'v': 390.0,\n            'f': \"390.0\",\n        },\n{\n            'v': 10562.0,\n            'f': \"10562.0\",\n        },\n{\n            'v': 27.08,\n            'f': \"27.08\",\n        },\n{\n            'v': 2.65,\n            'f': \"2.65\",\n        }],\n [{\n            'v': 30,\n            'f': \"30\",\n        },\n\"\\ud53c\\ub178\\ud0a4\\uc624\\ub9c8\\ub124\\ud0b9\",\n\"\\uc778\\uae30\",\n\"\\ub9c8\\ub124\\ud0b9\",\n{\n            'v': 380.0,\n            'f': \"380.0\",\n        },\n{\n            'v': 5612.0,\n            'f': \"5612.0\",\n        },\n{\n            'v': 14.76,\n            'f': \"14.76\",\n        },\n{\n            'v': 8.08,\n            'f': \"8.08\",\n        }],\n [{\n            'v': 31,\n            'f': \"31\",\n        },\n\"\\ubbf8\\ub2c8\\ub9c8\\ub124\\ud0b9\",\n\"\\uc778\\uae30\",\n\"\\ub9c8\\ub124\\ud0b9\",\n{\n            'v': 380.0,\n            'f': \"380.0\",\n        },\n{\n            'v': 5959.0,\n            'f': \"5959.0\",\n        },\n{\n            'v': 15.68,\n            'f': \"15.68\",\n        },\n{\n            'v': 2.6,\n            'f': \"2.6\",\n        }],\n [{\n            'v': 32,\n            'f': \"32\",\n        },\n\"\\ubaa9\\uac78\\uc774\\ub9c8\\ub124\\ud0b9\",\n\"\\uc778\\uae30\",\n\"\\ub9c8\\ub124\\ud0b9\",\n{\n            'v': 340.0,\n            'f': \"340.0\",\n        },\n{\n            'v': 12837.0,\n            'f': \"12837.0\",\n        },\n{\n            'v': 37.75,\n            'f': \"37.75\",\n        },\n{\n            'v': 1.83,\n            'f': \"1.83\",\n        }],\n [{\n            'v': 33,\n            'f': \"33\",\n        },\n\"\\uc720\\uc544\\ub9c8\\ub124\\ud0b9\",\n\"\\uc778\\uae30\",\n\"\\ub9c8\\ub124\\ud0b9\",\n{\n            'v': 280.0,\n            'f': \"280.0\",\n        },\n{\n            'v': 3368.0,\n            'f': \"3368.0\",\n        },\n{\n            'v': 12.02,\n            'f': \"12.02\",\n        },\n{\n            'v': 4.75,\n            'f': \"4.75\",\n        }],\n [{\n            'v': 34,\n            'f': \"34\",\n        },\n\"\\ucca0\\uc81c\\ub9c8\\ub124\\ud0b9\",\n\"\\uc778\\uae30\",\n\"\\ub9c8\\ub124\\ud0b9\",\n{\n            'v': 210.0,\n            'f': \"210.0\",\n        },\n{\n            'v': 5791.0,\n            'f': \"5791.0\",\n        },\n{\n            'v': 27.57,\n            'f': \"27.57\",\n        },\n{\n            'v': 1.75,\n            'f': \"1.75\",\n        }],\n [{\n            'v': 35,\n            'f': \"35\",\n        },\n\"\\uc190\\ub9c8\\ub124\\ud0b9\",\n\"\\uc778\\uae30\",\n\"\\ub9c8\\ub124\\ud0b9\",\n{\n            'v': 210.0,\n            'f': \"210.0\",\n        },\n{\n            'v': 18327.0,\n            'f': \"18327.0\",\n        },\n{\n            'v': 87.27,\n            'f': \"87.27\",\n        },\n{\n            'v': 0.67,\n            'f': \"0.67\",\n        }],\n [{\n            'v': 36,\n            'f': \"36\",\n        },\n\"\\ubc1c\\ub9c8\\ub124\\ud0b9\",\n\"\\uc778\\uae30\",\n\"\\ub9c8\\ub124\\ud0b9\",\n{\n            'v': 150.0,\n            'f': \"150.0\",\n        },\n{\n            'v': 12397.0,\n            'f': \"12397.0\",\n        },\n{\n            'v': 82.64,\n            'f': \"82.64\",\n        },\n{\n            'v': 1.79,\n            'f': \"1.79\",\n        }]],\n        columns: [[\"number\", \"index\"], [\"string\", \"\\ud0a4\\uc6cc\\ub4dc\"], [\"string\", \"\\ucd9c\\ucc98\"], [\"string\", \"\\uce74\\ud14c\\uace0\\ub9ac\"], [\"number\", \"\\uac80\\uc0c9\\ub7c9\"], [\"number\", \"\\uc0c1\\ud488\\ub7c9\"], [\"number\", \"\\uacbd\\uc7c1\\ub960\"], [\"number\", \"\\uc1fc\\ud551\\uc804\\ud658\"]],\n        columnOptions: [{\"width\": \"1px\", \"className\": \"index_column\"}],\n        rowsPerPage: 10,\n        helpUrl: \"https://colab.research.google.com/notebooks/data_table.ipynb\",\n        suppressOutputScrolling: true,\n        minimumWidth: undefined,\n      });\n    ",
            "text/plain": [
              "<google.colab.data_table.DataTable object>"
            ]
          },
          "metadata": {},
          "execution_count": 15
        }
      ]
    },
    {
      "cell_type": "markdown",
      "source": [
        "    우리는 공유받은 csv 파일을 url 형태로 공유받아 이를 'df'라는 변수에 'Pandas' Library의 'DataFrame'이라는 데이터 타입으로 저장하였어요.\n",
        "\n",
        "<font size = 2><font color = 'grey'>*** 우리가 비록 DataFrame을 처음 접했을지라도 구조를 천천히 살펴보아요. 기존에 공부했던 데이터 자료형들과는 어떤 차이가 있는지 또, DataFrame만이 가지고 있는 특징은 어떤 것들이 있을지 함께 토론해봐요 :)**</font>"
      ],
      "metadata": {
        "id": "C_dbG24O5XO4"
      }
    },
    {
      "cell_type": "markdown",
      "source": [
        "# <font size = 4><b>1. 데이터프레임 구조이해와 생성(데이터의 구조변환)</b></font>"
      ],
      "metadata": {
        "id": "eoVWjDilA9mZ"
      }
    },
    {
      "cell_type": "markdown",
      "source": [
        "## <font color = 'red'>***Q***</font><font size = 3>**: 데이터프레임의 각 열과 행은 무엇으로 구분할 수 있나요?**</font>"
      ],
      "metadata": {
        "id": "kjdvWqEBA6uz"
      }
    },
    {
      "cell_type": "markdown",
      "source": [
        "---"
      ],
      "metadata": {
        "id": "Q0GQMXwwBni7"
      }
    },
    {
      "cell_type": "markdown",
      "source": [
        "### <font size=3><font color = 'grey'>**1. 먼저 데이터프레임의 '열'은 '열의 이름'으로 구분지을 수 있어요.**</font>"
      ],
      "metadata": {
        "id": "GyrVvYkS3Wmd"
      }
    },
    {
      "cell_type": "markdown",
      "source": [
        "<iframe src=\"https://cdn.britannica.com/72/232772-050-4E3D86CC/mind-blown-emoji-head-exploding-emoticon.jpg\" width=\"600\" height=\"300\"></iframe>"
      ],
      "metadata": {
        "id": "4OU4axUXJTIJ"
      }
    },
    {
      "cell_type": "markdown",
      "source": [
        "> <font size=2><font color = 'blue'>**먼저 데이터의 모든 열의 이름을 불러보죠. .columns라는 함수를 변수 df에 바로 적용하여 열의 이름을 불러와보겠습니다.**</font>\n",
        "\n",
        "> <font size=2><font color = 'blue'>**.columns 함수를 통해 불러온 전체 열의 정보와, 각, 열의 데이터 타입은 어떤 형태로 저장되어 있는지도 알아보죠 ![An image](https://cdn.dribbble.com/users/1179659/screenshots/4128574/media/4c17d841e4437eaab777b1df30f8779d.gif)**</font>"
      ],
      "metadata": {
        "id": "bIVRaS-P-b7p"
      }
    },
    {
      "cell_type": "code",
      "source": [
        "colname = df.columns\n",
        "print('DataType: {:}\\n'.format(type(colname)))\n",
        "colname"
      ],
      "metadata": {
        "colab": {
          "base_uri": "https://localhost:8080/"
        },
        "id": "WEAvv4DhJ4mm",
        "outputId": "da15a919-0a50-4d6d-f7cd-5bbe931a5ee0"
      },
      "execution_count": null,
      "outputs": [
        {
          "output_type": "stream",
          "name": "stdout",
          "text": [
            "DataType: <class 'pandas.core.indexes.base.Index'>\n",
            "\n"
          ]
        },
        {
          "output_type": "execute_result",
          "data": {
            "text/plain": [
              "Index(['키워드', '출처', '카테고리', '검색량', '상품량', '경쟁률', '쇼핑전환'], dtype='object')"
            ]
          },
          "metadata": {},
          "execution_count": 16
        }
      ]
    },
    {
      "cell_type": "code",
      "source": [
        "i = 0\n",
        "for ci in colname:\n",
        "    print('\\t {:} | \\033[1m{:<5}\\033[0m{:>5}'.format(type(ci), f'col{i}', ci))\n",
        "    i += 1\n",
        "print('\\n')"
      ],
      "metadata": {
        "colab": {
          "base_uri": "https://localhost:8080/"
        },
        "id": "Qrj1EDdhCGxM",
        "outputId": "3db4b343-04cb-46dc-a6c7-600800e45515"
      },
      "execution_count": null,
      "outputs": [
        {
          "output_type": "stream",
          "name": "stdout",
          "text": [
            "\t <class 'str'> | \u001b[1mcol0 \u001b[0m  키워드\n",
            "\t <class 'str'> | \u001b[1mcol1 \u001b[0m   출처\n",
            "\t <class 'str'> | \u001b[1mcol2 \u001b[0m 카테고리\n",
            "\t <class 'str'> | \u001b[1mcol3 \u001b[0m  검색량\n",
            "\t <class 'str'> | \u001b[1mcol4 \u001b[0m  상품량\n",
            "\t <class 'str'> | \u001b[1mcol5 \u001b[0m  경쟁률\n",
            "\t <class 'str'> | \u001b[1mcol6 \u001b[0m 쇼핑전환\n",
            "\n",
            "\n"
          ]
        }
      ]
    },
    {
      "cell_type": "markdown",
      "source": [
        "<img src=\"http://s3.amazonaws.com/pix.iemoji.com/images/emoji/apple/ios-12/256/heavy-check-mark.png\" width='20'/><font size = 2>**class str 형태의 각 열 이름이 class .Index 형태로 함께 저장되어 있는 것 을 확인할 수 있어요.**</font>\n",
        "\n",
        "<font color = 'crimeson'><font size = 2>**더불어, 이것을 꼭 기억해 두세요. 프로그래밍에서 인덱스는 데이터의 색인과 같은 역할을 해요. 인덱스를 생성하면 데이터 검색을 빠르게 할 수 있는 경우가 있어요.**</font> \n",
        "\n",
        "<font color = 'grey'><font size = 2>즉, .columns 함수를 사용하여 추출할 수 있는 열의 이름들은 이름과 함께 순서가 정다는 것이 특징입니다. [ex]'키워드' 열은 0번째, '출처' 열은 1번째에 위치해 있습니다.</font>\n",
        "    "
      ],
      "metadata": {
        "id": "akVPlEk9KT8n"
      }
    },
    {
      "cell_type": "markdown",
      "source": [
        "> <font size=2><font color = 'blue'>**먼저 데이터의 모든 열의 이름을 변경해보죠. .rename 이라는 함수를 사용하여 기존 열의 이름을 우리가 원하는 새로운 이름으로 바꿔보겠습니다.**</font>"
      ],
      "metadata": {
        "id": "KlKtVQPdFFos"
      }
    },
    {
      "cell_type": "code",
      "source": [
        "new_col_name = {\n",
        "    colname[0]: 'keyword',\n",
        "    colname[1]: 'source',\n",
        "    colname[2]: 'category',\n",
        "    colname[3]: 'search volume',\n",
        "    colname[4]: 'quantity',\n",
        "    colname[5]: 'competition_rate',\n",
        "    colname[6]: 'purchase_conversion'}\n",
        "\n",
        "df = df.rename( columns = new_col_name )"
      ],
      "metadata": {
        "id": "gArxPo_wxND8"
      },
      "execution_count": null,
      "outputs": []
    },
    {
      "cell_type": "markdown",
      "source": [
        "<img src=\"http://s3.amazonaws.com/pix.iemoji.com/images/emoji/apple/ios-12/256/heavy-check-mark.png\" width='20'/><font size = 2>**Python Dictionary에 Key 값에는 기존의 열 이름을, Value 값에는 바꾸고자 하는 열의 이름을 지정하여 저장한 뒤, .rename 함수를 사용하여 열의 이름을 변경할 수 있어요.**</font>\n"
      ],
      "metadata": {
        "id": "j9WWfeUOxcjP"
      }
    },
    {
      "cell_type": "markdown",
      "source": [
        "---"
      ],
      "metadata": {
        "id": "Cf7xWvG6KIbE"
      }
    },
    {
      "cell_type": "markdown",
      "source": [
        "<img src=\"data:image/png;base64,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\" width=\"70\"/>\n",
        "<font color = 'crimson'><font size = 2>* Dictionary의 특징에는 어떤 것들이 있었나요?.</font>\n",
        "\n",
        "    - Dictionary를 사용하여 Key : Value를 함께 지정하여 저장할 수 있어요(Pair).\n",
        "    - Dictionary는 순서를 지정하여 저장해요. 그래서, Key값을 딱 지정하여 데이터를 추출할 수도 있지만 저장된 Key의 순서를 활용할 수도 있답니다."
      ],
      "metadata": {
        "id": "gSYeY_mnGpmA"
      }
    },
    {
      "cell_type": "code",
      "source": [
        "if  new_col_name[list(new_col_name.keys())[0]] == new_col_name[colname[0]]:\n",
        "    print(f'\\n\\t {new_col_name[list(new_col_name.keys())[0]]}')"
      ],
      "metadata": {
        "colab": {
          "base_uri": "https://localhost:8080/"
        },
        "id": "I3j9EZoIIJN4",
        "outputId": "02435fad-09dc-4a57-d740-409746e2afba"
      },
      "execution_count": null,
      "outputs": [
        {
          "output_type": "stream",
          "name": "stdout",
          "text": [
            "\n",
            "\t keyword\n"
          ]
        }
      ]
    },
    {
      "cell_type": "markdown",
      "source": [
        "---"
      ],
      "metadata": {
        "id": "LyKTC7yfKKUb"
      }
    },
    {
      "cell_type": "markdown",
      "source": [
        "> <font size=2><font color = 'blue'>**이번에는 지정된 열 데이터의 색인(Index)를 활용하여 열 이름을 바꿔볼까요?**</font>"
      ],
      "metadata": {
        "id": "rh0nqlMKKWx0"
      }
    },
    {
      "cell_type": "markdown",
      "source": [
        "    1) .shape함수를 통해 데이터프레임의 열의 크기와 행의 크기를 확인해봅시다."
      ],
      "metadata": {
        "id": "lE2SPjACKuHB"
      }
    },
    {
      "cell_type": "code",
      "source": [
        "data_shape = df.shape\n",
        "\n",
        "print(f'\\n\\t- 행의 수: {data_shape[0]}')\n",
        "print(f'\\t- 열의 수: {data_shape[1]}')"
      ],
      "metadata": {
        "colab": {
          "base_uri": "https://localhost:8080/"
        },
        "id": "oysAR8iIywdn",
        "outputId": "54bd8eef-4996-444b-f993-94343d8d7d63"
      },
      "execution_count": null,
      "outputs": [
        {
          "output_type": "stream",
          "name": "stdout",
          "text": [
            "\n",
            "\t- 행의 수: 37\n",
            "\t- 열의 수: 7\n"
          ]
        }
      ]
    },
    {
      "cell_type": "markdown",
      "source": [
        "    2) 열의 크기 7만큼을 반복하여 Index를 추출 및 활용하여 열의 이름을 변경해보겠습니다."
      ],
      "metadata": {
        "id": "8yRKDhcrK6cn"
      }
    },
    {
      "cell_type": "code",
      "source": [
        "new_columns = ['keyword', 'source', 'category', 'search volume', 'quantity', 'competition_rate', 'purchase_conversion']\n",
        "df = pd.read_csv(f'{filename}.csv').iloc[:, 1:]\n",
        "\n",
        "for i in range(data_shape[1]):\n",
        "    df.columns.values[i] = new_columns[i]"
      ],
      "metadata": {
        "id": "UDL9uGujx_TN"
      },
      "execution_count": null,
      "outputs": []
    },
    {
      "cell_type": "markdown",
      "source": [
        "<img src=\"data:image/png;base64,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\" width=\"70\"/>\n",
        "<font color = 'crimson'><font size = 2>* 위에서 확인했던 것과 같이, .columns 함수를 통한 출력된 결과는 class .Index 형태입니다. 아직까지는 print를 통해 확인할 수 있는 일반적인 결과값 뿐 아니라 Index로서의 기능이 포함된 상태임을 유의해야해요.</font>\n",
        "\n",
        "<font size = 2>**이런 이유로,** 열 데이터의 정보를 바꾸어주기 위해서는, .value 함수를 추가적으로 연결하여 우리가 원하는 데이터 만을 추출 후 변경해주어야하죠 :)</font>\n",
        "\n",
        "<img src=\"data:image/png;base64,iVBORw0KGgoAAAANSUhEUgAAAOEAAADhCAMAAAAJbSJIAAAAY1BMVEX////Qz84AAADW1dR9fX0pKSmLiopSUlHT0tFBQUFjYmJoaGhMTEx3d3Zubm6xsbHt7e28vLw1NTSrq6oMDAssLCzl5eWUlJSCgoKbm5sfHx9XV1e0tLNIR0cODg3b2tk8PDyUpOFdAAAB/UlEQVR4nO3dXVPaQBSAYb6EUApUESsWxf//Kyu9aadjSNxN3EN8nuGGm53zkoGLbEJGIwAAAAAAAADg65juJ412pYfM8dDc9+a29JgZfrYqXJYeM8OsVeFN6TEzKBxK4fNxt92dX/86v92uB1K4OFXvm86HUjgdv0/hFVCoMD6FCuNTqDA+hQrjU6gwPoUK41OoMD6FCuNTqDA+hQrjU6gwPoUK41OoMD6FCuMbfuFjq8J96TH/OCxTPLUqvF98/7DFoePAX5MMTYWJq3YaWOUE9lQ4GXdZuO2nsMoq7PQ2jbzCeW3hcRiFzzV958R1rML7x1mCQ33gW+JuneCpr8KX0zRBdalwXKWseNfbMaz7Pn02hQoVlqdQocLyFCpUWJ5ChQrLU6hQYXkKFdYWpp0vvfyxxDpfOll9SzAfXzgnPD1sVh/X2znvRDcXjuAqY904hZNZ7d5T1rqBCq9h//DUT2GgPeBRzj5fT4WrTgNHo9tNirtWhS8pv6dB/m3xmq6nSTP8a6IUKoxPocL4FCqMT6HC+BQqjE+hwvgUKoxPocL4FCqMT6HC+BQqjE+hwvgUKoxPocL4FCqMT6HC+L7K84CX/z3O+e9znTcDKWyiMLLhF7a7Y+S19JgZHloVHkuPmWP82ti37/qfSD/bjyalBwQAAAAAAAAA6MhvAftgbgrcMkYAAAAASUVORK5CYII=\" width=\"30\"/>\n",
        "<font color = 'grey'><font size = 2>.columns.vlues의 DataType은 array에요 :)</font>"
      ],
      "metadata": {
        "id": "2ur8_FWK0jHL"
      }
    },
    {
      "cell_type": "code",
      "source": [
        "df.columns.values"
      ],
      "metadata": {
        "colab": {
          "base_uri": "https://localhost:8080/"
        },
        "id": "IhWoZovA77VG",
        "outputId": "c2674f93-173e-4818-fdca-5afbb8f58680"
      },
      "execution_count": null,
      "outputs": [
        {
          "output_type": "execute_result",
          "data": {
            "text/plain": [
              "array(['keyword', 'source', 'category', 'search volume', 'quantity',\n",
              "       'competition_rate', 'purchase_conversion'], dtype=object)"
            ]
          },
          "metadata": {},
          "execution_count": 29
        }
      ]
    },
    {
      "cell_type": "code",
      "source": [
        "type(df.columns.values)"
      ],
      "metadata": {
        "colab": {
          "base_uri": "https://localhost:8080/"
        },
        "id": "M_ww056F7uIG",
        "outputId": "9dbe1742-01a2-4b64-ff7f-098429a97633"
      },
      "execution_count": null,
      "outputs": [
        {
          "output_type": "execute_result",
          "data": {
            "text/plain": [
              "numpy.ndarray"
            ]
          },
          "metadata": {},
          "execution_count": 30
        }
      ]
    },
    {
      "cell_type": "markdown",
      "source": [
        "<img src=\"https://t3.ftcdn.net/jpg/04/55/55/86/360_F_455558670_uAQfvqw8cT8erAExftZUlNV5H37fqJL5.jpg\" width=\"40\"/> \n",
        "<font color = 'grey'><font size = 2>**\"Array\"**는 **\"배열\"**이에요.</font> \n",
        "\n",
        "<font color = 'grey'><font size = 2>배열 형태의 데이터는 특히 공학, Ai 분야에서 데이터를 활용할 때에 굉장히 중요하게 다루어지는 형태에요.</font>\n",
        "\n",
        "<font color = 'grey'><font size = 2>***(구체적인 학습은 수업의 마지막에 진행할께요 !)***</font>"
      ],
      "metadata": {
        "id": "cREQm2So7tSV"
      }
    },
    {
      "cell_type": "markdown",
      "source": [
        "> <font size=2><font color = 'blue'>**먼저 데이터프레임의 열 이름이 우리가 지정했던 대로 잘 변경되었는지 확인해 보아요 :)**</font>"
      ],
      "metadata": {
        "id": "NsBxWGRfAUfs"
      }
    },
    {
      "cell_type": "code",
      "source": [
        "data_table.DataTable(df, include_index=True, num_rows_per_page=10)"
      ],
      "metadata": {
        "colab": {
          "base_uri": "https://localhost:8080/",
          "height": 314
        },
        "id": "ypA48526uDkp",
        "outputId": "25fd3462-199d-42e7-dd5d-5bcb0c97a683"
      },
      "execution_count": null,
      "outputs": [
        {
          "output_type": "execute_result",
          "data": {
            "text/html": [
              "<div>\n",
              "<style scoped>\n",
              "    .dataframe tbody tr th:only-of-type {\n",
              "        vertical-align: middle;\n",
              "    }\n",
              "\n",
              "    .dataframe tbody tr th {\n",
              "        vertical-align: top;\n",
              "    }\n",
              "\n",
              "    .dataframe thead th {\n",
              "        text-align: right;\n",
              "    }\n",
              "</style>\n",
              "<table border=\"1\" class=\"dataframe\">\n",
              "  <thead>\n",
              "    <tr style=\"text-align: right;\">\n",
              "      <th></th>\n",
              "      <th>keyword</th>\n",
              "      <th>source</th>\n",
              "      <th>category</th>\n",
              "      <th>search volume</th>\n",
              "      <th>quantity</th>\n",
              "      <th>competition_rate</th>\n",
              "      <th>purchase_conversion</th>\n",
              "    </tr>\n",
              "  </thead>\n",
              "  <tbody>\n",
              "    <tr>\n",
              "      <th>0</th>\n",
              "      <td>헬스장</td>\n",
              "      <td>상품</td>\n",
              "      <td>피트니스/PT</td>\n",
              "      <td>307600.0</td>\n",
              "      <td>473360.0</td>\n",
              "      <td>1.53</td>\n",
              "      <td>0.76</td>\n",
              "    </tr>\n",
              "    <tr>\n",
              "      <th>1</th>\n",
              "      <td>헬스</td>\n",
              "      <td>상품</td>\n",
              "      <td>웨이트용품</td>\n",
              "      <td>61210.0</td>\n",
              "      <td>9333156.0</td>\n",
              "      <td>152.47</td>\n",
              "      <td>0.62</td>\n",
              "    </tr>\n",
              "    <tr>\n",
              "      <th>2</th>\n",
              "      <td>벨트</td>\n",
              "      <td>상품</td>\n",
              "      <td>정장벨트</td>\n",
              "      <td>36360.0</td>\n",
              "      <td>9646001.0</td>\n",
              "      <td>265.29</td>\n",
              "      <td>0.10</td>\n",
              "    </tr>\n",
              "    <tr>\n",
              "      <th>3</th>\n",
              "      <td>디자인</td>\n",
              "      <td>상품</td>\n",
              "      <td>디자인문패</td>\n",
              "      <td>24420.0</td>\n",
              "      <td>21640053.0</td>\n",
              "      <td>886.16</td>\n",
              "      <td>0.27</td>\n",
              "    </tr>\n",
              "    <tr>\n",
              "      <th>4</th>\n",
              "      <td>학과</td>\n",
              "      <td>상품</td>\n",
              "      <td>기타교구</td>\n",
              "      <td>19400.0</td>\n",
              "      <td>16837.0</td>\n",
              "      <td>0.86</td>\n",
              "      <td>0.00</td>\n",
              "    </tr>\n",
              "    <tr>\n",
              "      <th>5</th>\n",
              "      <td>마네킹</td>\n",
              "      <td>인기</td>\n",
              "      <td>마네킹</td>\n",
              "      <td>13800.0</td>\n",
              "      <td>270619.0</td>\n",
              "      <td>19.61</td>\n",
              "      <td>3.72</td>\n",
              "    </tr>\n",
              "    <tr>\n",
              "      <th>6</th>\n",
              "      <td>디스플레이</td>\n",
              "      <td>상품</td>\n",
              "      <td>모니터</td>\n",
              "      <td>12570.0</td>\n",
              "      <td>5074783.0</td>\n",
              "      <td>403.72</td>\n",
              "      <td>0.06</td>\n",
              "    </tr>\n",
              "    <tr>\n",
              "      <th>7</th>\n",
              "      <td>여성</td>\n",
              "      <td>상품</td>\n",
              "      <td>중목/장목양말</td>\n",
              "      <td>9430.0</td>\n",
              "      <td>255894816.0</td>\n",
              "      <td>27136.24</td>\n",
              "      <td>0.08</td>\n",
              "    </tr>\n",
              "    <tr>\n",
              "      <th>8</th>\n",
              "      <td>가정용런닝머신</td>\n",
              "      <td>상품</td>\n",
              "      <td>접이식</td>\n",
              "      <td>9200.0</td>\n",
              "      <td>55649.0</td>\n",
              "      <td>6.04</td>\n",
              "      <td>2.47</td>\n",
              "    </tr>\n",
              "    <tr>\n",
              "      <th>9</th>\n",
              "      <td>러닝머신</td>\n",
              "      <td>상품</td>\n",
              "      <td>접이식</td>\n",
              "      <td>9040.0</td>\n",
              "      <td>198830.0</td>\n",
              "      <td>21.99</td>\n",
              "      <td>1.58</td>\n",
              "    </tr>\n",
              "    <tr>\n",
              "      <th>10</th>\n",
              "      <td>의류</td>\n",
              "      <td>상품</td>\n",
              "      <td>다리/발마사지기</td>\n",
              "      <td>6910.0</td>\n",
              "      <td>260913983.0</td>\n",
              "      <td>37758.89</td>\n",
              "      <td>0.28</td>\n",
              "    </tr>\n",
              "    <tr>\n",
              "      <th>11</th>\n",
              "      <td>수업</td>\n",
              "      <td>상품</td>\n",
              "      <td>골프레슨</td>\n",
              "      <td>4500.0</td>\n",
              "      <td>752688.0</td>\n",
              "      <td>167.26</td>\n",
              "      <td>0.01</td>\n",
              "    </tr>\n",
              "    <tr>\n",
              "      <th>12</th>\n",
              "      <td>실습</td>\n",
              "      <td>상품</td>\n",
              "      <td>기타교구</td>\n",
              "      <td>3880.0</td>\n",
              "      <td>124635.0</td>\n",
              "      <td>32.12</td>\n",
              "      <td>0.00</td>\n",
              "    </tr>\n",
              "    <tr>\n",
              "      <th>13</th>\n",
              "      <td>장식</td>\n",
              "      <td>상품</td>\n",
              "      <td>펌프스</td>\n",
              "      <td>2320.0</td>\n",
              "      <td>30415888.0</td>\n",
              "      <td>13110.29</td>\n",
              "      <td>0.12</td>\n",
              "    </tr>\n",
              "    <tr>\n",
              "      <th>14</th>\n",
              "      <td>소형</td>\n",
              "      <td>상품</td>\n",
              "      <td>기타소형기계</td>\n",
              "      <td>2250.0</td>\n",
              "      <td>16547119.0</td>\n",
              "      <td>7354.27</td>\n",
              "      <td>0.03</td>\n",
              "    </tr>\n",
              "    <tr>\n",
              "      <th>15</th>\n",
              "      <td>무음</td>\n",
              "      <td>상품</td>\n",
              "      <td>벽시계</td>\n",
              "      <td>1840.0</td>\n",
              "      <td>2396334.0</td>\n",
              "      <td>1302.35</td>\n",
              "      <td>7.01</td>\n",
              "    </tr>\n",
              "    <tr>\n",
              "      <th>16</th>\n",
              "      <td>전신마네킹</td>\n",
              "      <td>인기</td>\n",
              "      <td>마네킹</td>\n",
              "      <td>1500.0</td>\n",
              "      <td>43808.0</td>\n",
              "      <td>29.20</td>\n",
              "      <td>4.51</td>\n",
              "    </tr>\n",
              "    <tr>\n",
              "      <th>17</th>\n",
              "      <td>L3</td>\n",
              "      <td>상품</td>\n",
              "      <td>노트북</td>\n",
              "      <td>1270.0</td>\n",
              "      <td>293033.0</td>\n",
              "      <td>230.73</td>\n",
              "      <td>0.05</td>\n",
              "    </tr>\n",
              "    <tr>\n",
              "      <th>18</th>\n",
              "      <td>여자마네킹</td>\n",
              "      <td>인기</td>\n",
              "      <td>마네킹</td>\n",
              "      <td>1180.0</td>\n",
              "      <td>79921.0</td>\n",
              "      <td>67.72</td>\n",
              "      <td>6.31</td>\n",
              "    </tr>\n",
              "    <tr>\n",
              "      <th>19</th>\n",
              "      <td>데콜테마네킹</td>\n",
              "      <td>인기</td>\n",
              "      <td>마네킹</td>\n",
              "      <td>1040.0</td>\n",
              "      <td>3001.0</td>\n",
              "      <td>2.88</td>\n",
              "      <td>1.40</td>\n",
              "    </tr>\n",
              "    <tr>\n",
              "      <th>20</th>\n",
              "      <td>중고마네킹</td>\n",
              "      <td>인기</td>\n",
              "      <td>마네킹</td>\n",
              "      <td>850.0</td>\n",
              "      <td>342.0</td>\n",
              "      <td>0.40</td>\n",
              "      <td>11.32</td>\n",
              "    </tr>\n",
              "    <tr>\n",
              "      <th>21</th>\n",
              "      <td>강아지마네킹</td>\n",
              "      <td>인기</td>\n",
              "      <td>마네킹</td>\n",
              "      <td>750.0</td>\n",
              "      <td>9044.0</td>\n",
              "      <td>12.05</td>\n",
              "      <td>2.73</td>\n",
              "    </tr>\n",
              "    <tr>\n",
              "      <th>22</th>\n",
              "      <td>상반신마네킹</td>\n",
              "      <td>인기</td>\n",
              "      <td>마네킹</td>\n",
              "      <td>750.0</td>\n",
              "      <td>26142.0</td>\n",
              "      <td>34.85</td>\n",
              "      <td>3.71</td>\n",
              "    </tr>\n",
              "    <tr>\n",
              "      <th>23</th>\n",
              "      <td>두상마네킹</td>\n",
              "      <td>인기</td>\n",
              "      <td>마네킹</td>\n",
              "      <td>620.0</td>\n",
              "      <td>16605.0</td>\n",
              "      <td>26.78</td>\n",
              "      <td>4.11</td>\n",
              "    </tr>\n",
              "    <tr>\n",
              "      <th>24</th>\n",
              "      <td>가정용</td>\n",
              "      <td>상품</td>\n",
              "      <td>좌욕기</td>\n",
              "      <td>600.0</td>\n",
              "      <td>20825364.0</td>\n",
              "      <td>34708.94</td>\n",
              "      <td>0.00</td>\n",
              "    </tr>\n",
              "    <tr>\n",
              "      <th>25</th>\n",
              "      <td>가봉마네킹</td>\n",
              "      <td>인기</td>\n",
              "      <td>마네킹</td>\n",
              "      <td>580.0</td>\n",
              "      <td>7159.0</td>\n",
              "      <td>12.34</td>\n",
              "      <td>3.24</td>\n",
              "    </tr>\n",
              "    <tr>\n",
              "      <th>26</th>\n",
              "      <td>남자마네킹</td>\n",
              "      <td>인기</td>\n",
              "      <td>마네킹</td>\n",
              "      <td>530.0</td>\n",
              "      <td>32409.0</td>\n",
              "      <td>61.14</td>\n",
              "      <td>3.66</td>\n",
              "    </tr>\n",
              "    <tr>\n",
              "      <th>27</th>\n",
              "      <td>손모형</td>\n",
              "      <td>인기</td>\n",
              "      <td>마네킹</td>\n",
              "      <td>500.0</td>\n",
              "      <td>140521.0</td>\n",
              "      <td>281.04</td>\n",
              "      <td>0.31</td>\n",
              "    </tr>\n",
              "    <tr>\n",
              "      <th>28</th>\n",
              "      <td>아동마네킹</td>\n",
              "      <td>인기</td>\n",
              "      <td>마네킹</td>\n",
              "      <td>480.0</td>\n",
              "      <td>16524.0</td>\n",
              "      <td>34.42</td>\n",
              "      <td>5.22</td>\n",
              "    </tr>\n",
              "    <tr>\n",
              "      <th>29</th>\n",
              "      <td>얼굴마네킹</td>\n",
              "      <td>인기</td>\n",
              "      <td>마네킹</td>\n",
              "      <td>390.0</td>\n",
              "      <td>10562.0</td>\n",
              "      <td>27.08</td>\n",
              "      <td>2.65</td>\n",
              "    </tr>\n",
              "    <tr>\n",
              "      <th>30</th>\n",
              "      <td>피노키오마네킹</td>\n",
              "      <td>인기</td>\n",
              "      <td>마네킹</td>\n",
              "      <td>380.0</td>\n",
              "      <td>5612.0</td>\n",
              "      <td>14.76</td>\n",
              "      <td>8.08</td>\n",
              "    </tr>\n",
              "    <tr>\n",
              "      <th>31</th>\n",
              "      <td>미니마네킹</td>\n",
              "      <td>인기</td>\n",
              "      <td>마네킹</td>\n",
              "      <td>380.0</td>\n",
              "      <td>5959.0</td>\n",
              "      <td>15.68</td>\n",
              "      <td>2.60</td>\n",
              "    </tr>\n",
              "    <tr>\n",
              "      <th>32</th>\n",
              "      <td>목걸이마네킹</td>\n",
              "      <td>인기</td>\n",
              "      <td>마네킹</td>\n",
              "      <td>340.0</td>\n",
              "      <td>12837.0</td>\n",
              "      <td>37.75</td>\n",
              "      <td>1.83</td>\n",
              "    </tr>\n",
              "    <tr>\n",
              "      <th>33</th>\n",
              "      <td>유아마네킹</td>\n",
              "      <td>인기</td>\n",
              "      <td>마네킹</td>\n",
              "      <td>280.0</td>\n",
              "      <td>3368.0</td>\n",
              "      <td>12.02</td>\n",
              "      <td>4.75</td>\n",
              "    </tr>\n",
              "    <tr>\n",
              "      <th>34</th>\n",
              "      <td>철제마네킹</td>\n",
              "      <td>인기</td>\n",
              "      <td>마네킹</td>\n",
              "      <td>210.0</td>\n",
              "      <td>5791.0</td>\n",
              "      <td>27.57</td>\n",
              "      <td>1.75</td>\n",
              "    </tr>\n",
              "    <tr>\n",
              "      <th>35</th>\n",
              "      <td>손마네킹</td>\n",
              "      <td>인기</td>\n",
              "      <td>마네킹</td>\n",
              "      <td>210.0</td>\n",
              "      <td>18327.0</td>\n",
              "      <td>87.27</td>\n",
              "      <td>0.67</td>\n",
              "    </tr>\n",
              "    <tr>\n",
              "      <th>36</th>\n",
              "      <td>발마네킹</td>\n",
              "      <td>인기</td>\n",
              "      <td>마네킹</td>\n",
              "      <td>150.0</td>\n",
              "      <td>12397.0</td>\n",
              "      <td>82.64</td>\n",
              "      <td>1.79</td>\n",
              "    </tr>\n",
              "  </tbody>\n",
              "</table>\n",
              "</div>"
            ],
            "application/vnd.google.colaboratory.module+javascript": "\n      import \"https://ssl.gstatic.com/colaboratory/data_table/a8bd4d5e58f96183/data_table.js\";\n\n      window.createDataTable({\n        data: [[{\n            'v': 0,\n            'f': \"0\",\n        },\n\"\\ud5ec\\uc2a4\\uc7a5\",\n\"\\uc0c1\\ud488\",\n\"\\ud53c\\ud2b8\\ub2c8\\uc2a4/PT\",\n{\n            'v': 307600.0,\n            'f': \"307600.0\",\n        },\n{\n            'v': 473360.0,\n            'f': \"473360.0\",\n        },\n{\n            'v': 1.53,\n            'f': \"1.53\",\n        },\n{\n            'v': 0.76,\n            'f': \"0.76\",\n        }],\n [{\n            'v': 1,\n            'f': \"1\",\n        },\n\"\\ud5ec\\uc2a4\",\n\"\\uc0c1\\ud488\",\n\"\\uc6e8\\uc774\\ud2b8\\uc6a9\\ud488\",\n{\n            'v': 61210.0,\n            'f': \"61210.0\",\n        },\n{\n            'v': 9333156.0,\n            'f': \"9333156.0\",\n        },\n{\n            'v': 152.47,\n            'f': \"152.47\",\n        },\n{\n            'v': 0.62,\n            'f': \"0.62\",\n        }],\n [{\n            'v': 2,\n            'f': \"2\",\n        },\n\"\\ubca8\\ud2b8\",\n\"\\uc0c1\\ud488\",\n\"\\uc815\\uc7a5\\ubca8\\ud2b8\",\n{\n            'v': 36360.0,\n            'f': \"36360.0\",\n        },\n{\n            'v': 9646001.0,\n            'f': \"9646001.0\",\n        },\n{\n            'v': 265.29,\n            'f': \"265.29\",\n        },\n{\n            'v': 0.1,\n            'f': \"0.1\",\n        }],\n [{\n            'v': 3,\n            'f': \"3\",\n        },\n\"\\ub514\\uc790\\uc778\",\n\"\\uc0c1\\ud488\",\n\"\\ub514\\uc790\\uc778\\ubb38\\ud328\",\n{\n            'v': 24420.0,\n            'f': \"24420.0\",\n        },\n{\n            'v': 21640053.0,\n            'f': \"21640053.0\",\n        },\n{\n            'v': 886.16,\n            'f': \"886.16\",\n        },\n{\n            'v': 0.27,\n            'f': \"0.27\",\n        }],\n [{\n            'v': 4,\n            'f': \"4\",\n        },\n\"\\ud559\\uacfc\",\n\"\\uc0c1\\ud488\",\n\"\\uae30\\ud0c0\\uad50\\uad6c\",\n{\n            'v': 19400.0,\n            'f': \"19400.0\",\n        },\n{\n            'v': 16837.0,\n            'f': \"16837.0\",\n        },\n{\n            'v': 0.86,\n            'f': \"0.86\",\n        },\n{\n            'v': 0.0,\n            'f': \"0.0\",\n        }],\n [{\n            'v': 5,\n            'f': \"5\",\n        },\n\"\\ub9c8\\ub124\\ud0b9\",\n\"\\uc778\\uae30\",\n\"\\ub9c8\\ub124\\ud0b9\",\n{\n            'v': 13800.0,\n            'f': \"13800.0\",\n        },\n{\n            'v': 270619.0,\n            'f': \"270619.0\",\n        },\n{\n            'v': 19.61,\n            'f': \"19.61\",\n        },\n{\n            'v': 3.72,\n            'f': \"3.72\",\n        }],\n [{\n            'v': 6,\n            'f': \"6\",\n        },\n\"\\ub514\\uc2a4\\ud50c\\ub808\\uc774\",\n\"\\uc0c1\\ud488\",\n\"\\ubaa8\\ub2c8\\ud130\",\n{\n            'v': 12570.0,\n            'f': \"12570.0\",\n        },\n{\n            'v': 5074783.0,\n            'f': \"5074783.0\",\n        },\n{\n            'v': 403.72,\n            'f': \"403.72\",\n        },\n{\n            'v': 0.06,\n            'f': \"0.06\",\n        }],\n [{\n            'v': 7,\n            'f': \"7\",\n        },\n\"\\uc5ec\\uc131\",\n\"\\uc0c1\\ud488\",\n\"\\uc911\\ubaa9/\\uc7a5\\ubaa9\\uc591\\ub9d0\",\n{\n            'v': 9430.0,\n            'f': \"9430.0\",\n        },\n{\n            'v': 255894816.0,\n            'f': \"255894816.0\",\n        },\n{\n            'v': 27136.24,\n            'f': \"27136.24\",\n        },\n{\n            'v': 0.08,\n            'f': \"0.08\",\n        }],\n [{\n            'v': 8,\n            'f': \"8\",\n        },\n\"\\uac00\\uc815\\uc6a9\\ub7f0\\ub2dd\\uba38\\uc2e0\",\n\"\\uc0c1\\ud488\",\n\"\\uc811\\uc774\\uc2dd\",\n{\n            'v': 9200.0,\n            'f': \"9200.0\",\n        },\n{\n            'v': 55649.0,\n            'f': \"55649.0\",\n        },\n{\n            'v': 6.04,\n            'f': \"6.04\",\n        },\n{\n            'v': 2.47,\n            'f': \"2.47\",\n        }],\n [{\n            'v': 9,\n            'f': \"9\",\n        },\n\"\\ub7ec\\ub2dd\\uba38\\uc2e0\",\n\"\\uc0c1\\ud488\",\n\"\\uc811\\uc774\\uc2dd\",\n{\n            'v': 9040.0,\n            'f': \"9040.0\",\n        },\n{\n            'v': 198830.0,\n            'f': \"198830.0\",\n        },\n{\n            'v': 21.99,\n            'f': \"21.99\",\n        },\n{\n            'v': 1.58,\n            'f': \"1.58\",\n        }],\n [{\n            'v': 10,\n            'f': \"10\",\n        },\n\"\\uc758\\ub958\",\n\"\\uc0c1\\ud488\",\n\"\\ub2e4\\ub9ac/\\ubc1c\\ub9c8\\uc0ac\\uc9c0\\uae30\",\n{\n            'v': 6910.0,\n            'f': \"6910.0\",\n        },\n{\n            'v': 260913983.0,\n            'f': \"260913983.0\",\n        },\n{\n            'v': 37758.89,\n            'f': \"37758.89\",\n        },\n{\n            'v': 0.28,\n            'f': \"0.28\",\n        }],\n [{\n            'v': 11,\n            'f': \"11\",\n        },\n\"\\uc218\\uc5c5\",\n\"\\uc0c1\\ud488\",\n\"\\uace8\\ud504\\ub808\\uc2a8\",\n{\n            'v': 4500.0,\n            'f': \"4500.0\",\n        },\n{\n            'v': 752688.0,\n            'f': \"752688.0\",\n        },\n{\n            'v': 167.26,\n            'f': \"167.26\",\n        },\n{\n            'v': 0.01,\n            'f': \"0.01\",\n        }],\n [{\n            'v': 12,\n            'f': \"12\",\n        },\n\"\\uc2e4\\uc2b5\",\n\"\\uc0c1\\ud488\",\n\"\\uae30\\ud0c0\\uad50\\uad6c\",\n{\n            'v': 3880.0,\n            'f': \"3880.0\",\n        },\n{\n            'v': 124635.0,\n            'f': \"124635.0\",\n        },\n{\n            'v': 32.12,\n            'f': \"32.12\",\n        },\n{\n            'v': 0.0,\n            'f': \"0.0\",\n        }],\n [{\n            'v': 13,\n            'f': \"13\",\n        },\n\"\\uc7a5\\uc2dd\",\n\"\\uc0c1\\ud488\",\n\"\\ud38c\\ud504\\uc2a4\",\n{\n            'v': 2320.0,\n            'f': \"2320.0\",\n        },\n{\n            'v': 30415888.0,\n            'f': \"30415888.0\",\n        },\n{\n            'v': 13110.29,\n            'f': \"13110.29\",\n        },\n{\n            'v': 0.12,\n            'f': \"0.12\",\n        }],\n [{\n            'v': 14,\n            'f': \"14\",\n        },\n\"\\uc18c\\ud615\",\n\"\\uc0c1\\ud488\",\n\"\\uae30\\ud0c0\\uc18c\\ud615\\uae30\\uacc4\",\n{\n            'v': 2250.0,\n            'f': \"2250.0\",\n        },\n{\n            'v': 16547119.0,\n            'f': \"16547119.0\",\n        },\n{\n            'v': 7354.27,\n            'f': \"7354.27\",\n        },\n{\n            'v': 0.03,\n            'f': \"0.03\",\n        }],\n [{\n            'v': 15,\n            'f': \"15\",\n        },\n\"\\ubb34\\uc74c\",\n\"\\uc0c1\\ud488\",\n\"\\ubcbd\\uc2dc\\uacc4\",\n{\n            'v': 1840.0,\n            'f': \"1840.0\",\n        },\n{\n            'v': 2396334.0,\n            'f': \"2396334.0\",\n        },\n{\n            'v': 1302.35,\n            'f': \"1302.35\",\n        },\n{\n            'v': 7.01,\n            'f': \"7.01\",\n        }],\n [{\n            'v': 16,\n            'f': \"16\",\n        },\n\"\\uc804\\uc2e0\\ub9c8\\ub124\\ud0b9\",\n\"\\uc778\\uae30\",\n\"\\ub9c8\\ub124\\ud0b9\",\n{\n            'v': 1500.0,\n            'f': \"1500.0\",\n        },\n{\n            'v': 43808.0,\n            'f': \"43808.0\",\n        },\n{\n            'v': 29.2,\n            'f': \"29.2\",\n        },\n{\n            'v': 4.51,\n            'f': \"4.51\",\n        }],\n [{\n            'v': 17,\n            'f': \"17\",\n        },\n\"L3\",\n\"\\uc0c1\\ud488\",\n\"\\ub178\\ud2b8\\ubd81\",\n{\n            'v': 1270.0,\n            'f': \"1270.0\",\n        },\n{\n            'v': 293033.0,\n            'f': \"293033.0\",\n        },\n{\n            'v': 230.73,\n            'f': \"230.73\",\n        },\n{\n            'v': 0.05,\n            'f': \"0.05\",\n        }],\n [{\n            'v': 18,\n            'f': \"18\",\n        },\n\"\\uc5ec\\uc790\\ub9c8\\ub124\\ud0b9\",\n\"\\uc778\\uae30\",\n\"\\ub9c8\\ub124\\ud0b9\",\n{\n            'v': 1180.0,\n            'f': \"1180.0\",\n        },\n{\n            'v': 79921.0,\n            'f': \"79921.0\",\n        },\n{\n            'v': 67.72,\n            'f': \"67.72\",\n        },\n{\n            'v': 6.31,\n            'f': \"6.31\",\n        }],\n [{\n            'v': 19,\n            'f': \"19\",\n        },\n\"\\ub370\\ucf5c\\ud14c\\ub9c8\\ub124\\ud0b9\",\n\"\\uc778\\uae30\",\n\"\\ub9c8\\ub124\\ud0b9\",\n{\n            'v': 1040.0,\n            'f': \"1040.0\",\n        },\n{\n            'v': 3001.0,\n            'f': \"3001.0\",\n        },\n{\n            'v': 2.88,\n            'f': \"2.88\",\n        },\n{\n            'v': 1.4,\n            'f': \"1.4\",\n        }],\n [{\n            'v': 20,\n            'f': \"20\",\n        },\n\"\\uc911\\uace0\\ub9c8\\ub124\\ud0b9\",\n\"\\uc778\\uae30\",\n\"\\ub9c8\\ub124\\ud0b9\",\n{\n            'v': 850.0,\n            'f': \"850.0\",\n        },\n{\n            'v': 342.0,\n            'f': \"342.0\",\n        },\n{\n            'v': 0.4,\n            'f': \"0.4\",\n        },\n{\n            'v': 11.32,\n            'f': \"11.32\",\n        }],\n [{\n            'v': 21,\n            'f': \"21\",\n        },\n\"\\uac15\\uc544\\uc9c0\\ub9c8\\ub124\\ud0b9\",\n\"\\uc778\\uae30\",\n\"\\ub9c8\\ub124\\ud0b9\",\n{\n            'v': 750.0,\n            'f': \"750.0\",\n        },\n{\n            'v': 9044.0,\n            'f': \"9044.0\",\n        },\n{\n            'v': 12.05,\n            'f': \"12.05\",\n        },\n{\n            'v': 2.73,\n            'f': \"2.73\",\n        }],\n [{\n            'v': 22,\n            'f': \"22\",\n        },\n\"\\uc0c1\\ubc18\\uc2e0\\ub9c8\\ub124\\ud0b9\",\n\"\\uc778\\uae30\",\n\"\\ub9c8\\ub124\\ud0b9\",\n{\n            'v': 750.0,\n            'f': \"750.0\",\n        },\n{\n            'v': 26142.0,\n            'f': \"26142.0\",\n        },\n{\n            'v': 34.85,\n            'f': \"34.85\",\n        },\n{\n            'v': 3.71,\n            'f': \"3.71\",\n        }],\n [{\n            'v': 23,\n            'f': \"23\",\n        },\n\"\\ub450\\uc0c1\\ub9c8\\ub124\\ud0b9\",\n\"\\uc778\\uae30\",\n\"\\ub9c8\\ub124\\ud0b9\",\n{\n            'v': 620.0,\n            'f': \"620.0\",\n        },\n{\n            'v': 16605.0,\n            'f': \"16605.0\",\n        },\n{\n            'v': 26.78,\n            'f': \"26.78\",\n        },\n{\n            'v': 4.11,\n            'f': \"4.11\",\n        }],\n [{\n            'v': 24,\n            'f': \"24\",\n        },\n\"\\uac00\\uc815\\uc6a9\",\n\"\\uc0c1\\ud488\",\n\"\\uc88c\\uc695\\uae30\",\n{\n            'v': 600.0,\n            'f': \"600.0\",\n        },\n{\n            'v': 20825364.0,\n            'f': \"20825364.0\",\n        },\n{\n            'v': 34708.94,\n            'f': \"34708.94\",\n        },\n{\n            'v': 0.0,\n            'f': \"0.0\",\n        }],\n [{\n            'v': 25,\n            'f': \"25\",\n        },\n\"\\uac00\\ubd09\\ub9c8\\ub124\\ud0b9\",\n\"\\uc778\\uae30\",\n\"\\ub9c8\\ub124\\ud0b9\",\n{\n            'v': 580.0,\n            'f': \"580.0\",\n        },\n{\n            'v': 7159.0,\n            'f': \"7159.0\",\n        },\n{\n            'v': 12.34,\n            'f': \"12.34\",\n        },\n{\n            'v': 3.24,\n            'f': \"3.24\",\n        }],\n [{\n            'v': 26,\n            'f': \"26\",\n        },\n\"\\ub0a8\\uc790\\ub9c8\\ub124\\ud0b9\",\n\"\\uc778\\uae30\",\n\"\\ub9c8\\ub124\\ud0b9\",\n{\n            'v': 530.0,\n            'f': \"530.0\",\n        },\n{\n            'v': 32409.0,\n            'f': \"32409.0\",\n        },\n{\n            'v': 61.14,\n            'f': \"61.14\",\n        },\n{\n            'v': 3.66,\n            'f': \"3.66\",\n        }],\n [{\n            'v': 27,\n            'f': \"27\",\n        },\n\"\\uc190\\ubaa8\\ud615\",\n\"\\uc778\\uae30\",\n\"\\ub9c8\\ub124\\ud0b9\",\n{\n            'v': 500.0,\n            'f': \"500.0\",\n        },\n{\n            'v': 140521.0,\n            'f': \"140521.0\",\n        },\n{\n            'v': 281.04,\n            'f': \"281.04\",\n        },\n{\n            'v': 0.31,\n            'f': \"0.31\",\n        }],\n [{\n            'v': 28,\n            'f': \"28\",\n        },\n\"\\uc544\\ub3d9\\ub9c8\\ub124\\ud0b9\",\n\"\\uc778\\uae30\",\n\"\\ub9c8\\ub124\\ud0b9\",\n{\n            'v': 480.0,\n            'f': \"480.0\",\n        },\n{\n            'v': 16524.0,\n            'f': \"16524.0\",\n        },\n{\n            'v': 34.42,\n            'f': \"34.42\",\n        },\n{\n            'v': 5.22,\n            'f': \"5.22\",\n        }],\n [{\n            'v': 29,\n            'f': \"29\",\n        },\n\"\\uc5bc\\uad74\\ub9c8\\ub124\\ud0b9\",\n\"\\uc778\\uae30\",\n\"\\ub9c8\\ub124\\ud0b9\",\n{\n            'v': 390.0,\n            'f': \"390.0\",\n        },\n{\n            'v': 10562.0,\n            'f': \"10562.0\",\n        },\n{\n            'v': 27.08,\n            'f': \"27.08\",\n        },\n{\n            'v': 2.65,\n            'f': \"2.65\",\n        }],\n [{\n            'v': 30,\n            'f': \"30\",\n        },\n\"\\ud53c\\ub178\\ud0a4\\uc624\\ub9c8\\ub124\\ud0b9\",\n\"\\uc778\\uae30\",\n\"\\ub9c8\\ub124\\ud0b9\",\n{\n            'v': 380.0,\n            'f': \"380.0\",\n        },\n{\n            'v': 5612.0,\n            'f': \"5612.0\",\n        },\n{\n            'v': 14.76,\n            'f': \"14.76\",\n        },\n{\n            'v': 8.08,\n            'f': \"8.08\",\n        }],\n [{\n            'v': 31,\n            'f': \"31\",\n        },\n\"\\ubbf8\\ub2c8\\ub9c8\\ub124\\ud0b9\",\n\"\\uc778\\uae30\",\n\"\\ub9c8\\ub124\\ud0b9\",\n{\n            'v': 380.0,\n            'f': \"380.0\",\n        },\n{\n            'v': 5959.0,\n            'f': \"5959.0\",\n        },\n{\n            'v': 15.68,\n            'f': \"15.68\",\n        },\n{\n            'v': 2.6,\n            'f': \"2.6\",\n        }],\n [{\n            'v': 32,\n            'f': \"32\",\n        },\n\"\\ubaa9\\uac78\\uc774\\ub9c8\\ub124\\ud0b9\",\n\"\\uc778\\uae30\",\n\"\\ub9c8\\ub124\\ud0b9\",\n{\n            'v': 340.0,\n            'f': \"340.0\",\n        },\n{\n            'v': 12837.0,\n            'f': \"12837.0\",\n        },\n{\n            'v': 37.75,\n            'f': \"37.75\",\n        },\n{\n            'v': 1.83,\n            'f': \"1.83\",\n        }],\n [{\n            'v': 33,\n            'f': \"33\",\n        },\n\"\\uc720\\uc544\\ub9c8\\ub124\\ud0b9\",\n\"\\uc778\\uae30\",\n\"\\ub9c8\\ub124\\ud0b9\",\n{\n            'v': 280.0,\n            'f': \"280.0\",\n        },\n{\n            'v': 3368.0,\n            'f': \"3368.0\",\n        },\n{\n            'v': 12.02,\n            'f': \"12.02\",\n        },\n{\n            'v': 4.75,\n            'f': \"4.75\",\n        }],\n [{\n            'v': 34,\n            'f': \"34\",\n        },\n\"\\ucca0\\uc81c\\ub9c8\\ub124\\ud0b9\",\n\"\\uc778\\uae30\",\n\"\\ub9c8\\ub124\\ud0b9\",\n{\n            'v': 210.0,\n            'f': \"210.0\",\n        },\n{\n            'v': 5791.0,\n            'f': \"5791.0\",\n        },\n{\n            'v': 27.57,\n            'f': \"27.57\",\n        },\n{\n            'v': 1.75,\n            'f': \"1.75\",\n        }],\n [{\n            'v': 35,\n            'f': \"35\",\n        },\n\"\\uc190\\ub9c8\\ub124\\ud0b9\",\n\"\\uc778\\uae30\",\n\"\\ub9c8\\ub124\\ud0b9\",\n{\n            'v': 210.0,\n            'f': \"210.0\",\n        },\n{\n            'v': 18327.0,\n            'f': \"18327.0\",\n        },\n{\n            'v': 87.27,\n            'f': \"87.27\",\n        },\n{\n            'v': 0.67,\n            'f': \"0.67\",\n        }],\n [{\n            'v': 36,\n            'f': \"36\",\n        },\n\"\\ubc1c\\ub9c8\\ub124\\ud0b9\",\n\"\\uc778\\uae30\",\n\"\\ub9c8\\ub124\\ud0b9\",\n{\n            'v': 150.0,\n            'f': \"150.0\",\n        },\n{\n            'v': 12397.0,\n            'f': \"12397.0\",\n        },\n{\n            'v': 82.64,\n            'f': \"82.64\",\n        },\n{\n            'v': 1.79,\n            'f': \"1.79\",\n        }]],\n        columns: [[\"number\", \"index\"], [\"string\", \"keyword\"], [\"string\", \"source\"], [\"string\", \"category\"], [\"number\", \"search volume\"], [\"number\", \"quantity\"], [\"number\", \"competition_rate\"], [\"number\", \"purchase_conversion\"]],\n        columnOptions: [{\"width\": \"1px\", \"className\": \"index_column\"}],\n        rowsPerPage: 10,\n        helpUrl: \"https://colab.research.google.com/notebooks/data_table.ipynb\",\n        suppressOutputScrolling: true,\n        minimumWidth: undefined,\n      });\n    ",
            "text/plain": [
              "<google.colab.data_table.DataTable object>"
            ]
          },
          "metadata": {},
          "execution_count": 31
        }
      ]
    },
    {
      "cell_type": "markdown",
      "source": [
        "<font color = 'white'><font size = 10>.</font>"
      ],
      "metadata": {
        "id": "cyDlZNOtMe6S"
      }
    },
    {
      "cell_type": "markdown",
      "source": [
        "<img src=\"https://cdn-0.emojis.wiki/emoji-pics/facebook/man-teacher-facebook.png\" width=100/><font size = 2>**정리해봅시다.**</font>\n",
        "\n",
        "<img src=\"http://s3.amazonaws.com/pix.iemoji.com/images/emoji/apple/ios-12/256/heavy-check-mark.png\" width='20'/><font size = 2>**Dictionary를 통해 데이터프레임의 Column명을 변경할 수 있어요.**</font>\n",
        "\n",
        "> <font color = 'grey'><font size = 2>(더불어, Dictionary는 Key값의 **순서**를 지정하여 Value 저장한다는 것도 배웠어요.)</font>\n",
        "\n",
        "<img src=\"http://s3.amazonaws.com/pix.iemoji.com/images/emoji/apple/ios-12/256/heavy-check-mark.png\" width='20'/><font size = 2>**Index를 활용하여 Column명을 변경할 수도 있어요.**</font>\n",
        "\n",
        "<img src=\"data:image/png;base64,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\" width=\"70\"/>\n",
        "<font color = 'crimson'><font size = 2>* 여기서 주의!    Column data 그 자체가 Index 값을 함께 가지고 있기 때문에, .value 함수를 함께 붙여야만 데이터를 지정하고 변경할 수 있었어요.</font>\n",
        "\n",
        "<img src=\"https://t3.ftcdn.net/jpg/04/55/55/86/360_F_455558670_uAQfvqw8cT8erAExftZUlNV5H37fqJL5.jpg\" width=\"40\"/> \n",
        "<font color = 'red'><font size = 2>**이제 감이 오시나요! Column명 변경을 위해, Dictionary를 활용할 수 있었던 이유, .column함수 활용 시 .value를 함께 고려해야만 했던 것 모두, 눈에 보이진 않지만 Column명과 함께 저장되어 있는 데이터의 '색인(Index)'를 활용하기 때문에 가능했던 거에요 :)**</font>\n"
      ],
      "metadata": {
        "id": "X1ryTapaMBX7"
      }
    },
    {
      "cell_type": "markdown",
      "source": [
        "---"
      ],
      "metadata": {
        "id": "sFgJrbiTNiNc"
      }
    },
    {
      "cell_type": "markdown",
      "source": [
        "> <font size=2><font color = 'blue'>**우선 변경한 내용도 있으니 데이터프레임을 새롭게 .csv 파일로 저장해보죠**</font>"
      ],
      "metadata": {
        "id": "fa11GWOINmRK"
      }
    },
    {
      "cell_type": "code",
      "source": [
        "new_fnm = f'{filename}_2.csv'\n",
        "df.to_csv(new_fnm)"
      ],
      "metadata": {
        "id": "wvUQFgd6Mf-g"
      },
      "execution_count": null,
      "outputs": []
    },
    {
      "cell_type": "markdown",
      "source": [
        "> <font size=2><font color = 'blue'>**파일이 정상적으로 저장되었는지 확인해보아요**</font>"
      ],
      "metadata": {
        "id": "j-dJa9blO2ac"
      }
    },
    {
      "cell_type": "code",
      "source": [
        "new_fnm in os.listdir(os.getcwd())"
      ],
      "metadata": {
        "colab": {
          "base_uri": "https://localhost:8080/"
        },
        "id": "6S96W6WdO-XT",
        "outputId": "1a7070df-e770-43e6-a027-ed7fbfaf7254"
      },
      "execution_count": null,
      "outputs": [
        {
          "output_type": "execute_result",
          "data": {
            "text/plain": [
              "True"
            ]
          },
          "metadata": {},
          "execution_count": 33
        }
      ]
    },
    {
      "cell_type": "markdown",
      "source": [
        "<font color = 'white'><font size = 30>***------***</font>"
      ],
      "metadata": {
        "id": "plCrReqnGoNU"
      }
    },
    {
      "cell_type": "markdown",
      "source": [
        "### <font size=3><font color = 'grey'>**2. 데이터프레임의 '행'은 오직 '행의 색인'으로 구분지을 수 있어요.**</font>\n",
        "\n",
        "<font color = 'white'><font size = 2>.</font>"
      ],
      "metadata": {
        "id": "mi4u_6msQILx"
      }
    },
    {
      "cell_type": "markdown",
      "source": [
        "> <font size=2><font color = 'blue'>**우선 보기에 편하도록 데이터 중 상단 5개 행(row)만을 출력시켜보아요. .head() 함수를 사용해여 출력하면 기본적으로 5개의 행이 출력되어요.**</font>\n",
        "\n",
        "<img src=\"data:image/png;base64,iVBORw0KGgoAAAANSUhEUgAAAOEAAADhCAMAAAAJbSJIAAAAY1BMVEX////Qz84AAADW1dR9fX0pKSmLiopSUlHT0tFBQUFjYmJoaGhMTEx3d3Zubm6xsbHt7e28vLw1NTSrq6oMDAssLCzl5eWUlJSCgoKbm5sfHx9XV1e0tLNIR0cODg3b2tk8PDyUpOFdAAAB/UlEQVR4nO3dXVPaQBSAYb6EUApUESsWxf//Kyu9aadjSNxN3EN8nuGGm53zkoGLbEJGIwAAAAAAAADg65juJ412pYfM8dDc9+a29JgZfrYqXJYeM8OsVeFN6TEzKBxK4fNxt92dX/86v92uB1K4OFXvm86HUjgdv0/hFVCoMD6FCuNTqDA+hQrjU6gwPoUK41OoMD6FCuNTqDA+hQrjU6gwPoUK41OoMD6FCuMbfuFjq8J96TH/OCxTPLUqvF98/7DFoePAX5MMTYWJq3YaWOUE9lQ4GXdZuO2nsMoq7PQ2jbzCeW3hcRiFzzV958R1rML7x1mCQ33gW+JuneCpr8KX0zRBdalwXKWseNfbMaz7Pn02hQoVlqdQocLyFCpUWJ5ChQrLU6hQYXkKFdYWpp0vvfyxxDpfOll9SzAfXzgnPD1sVh/X2znvRDcXjuAqY904hZNZ7d5T1rqBCq9h//DUT2GgPeBRzj5fT4WrTgNHo9tNirtWhS8pv6dB/m3xmq6nSTP8a6IUKoxPocL4FCqMT6HC+BQqjE+hwvgUKoxPocL4FCqMT6HC+BQqjE+hwvgUKoxPocL4FCqMT6HC+L7K84CX/z3O+e9znTcDKWyiMLLhF7a7Y+S19JgZHloVHkuPmWP82ti37/qfSD/bjyalBwQAAAAAAAAA6MhvAftgbgrcMkYAAAAASUVORK5CYII=\" width=\"30\"/>\n",
        "<font color = 'grey'><font size = 2>더 많거나 더 적은 수의 행을 출력하고 싶다면, 괄호 안에 원하는 만큼의 숫자를 입력하면 되요.</font>\n",
        "\n",
        "<img src=\"data:image/png;base64,iVBORw0KGgoAAAANSUhEUgAAAOEAAADhCAMAAAAJbSJIAAAAY1BMVEX////Qz84AAADW1dR9fX0pKSmLiopSUlHT0tFBQUFjYmJoaGhMTEx3d3Zubm6xsbHt7e28vLw1NTSrq6oMDAssLCzl5eWUlJSCgoKbm5sfHx9XV1e0tLNIR0cODg3b2tk8PDyUpOFdAAAB/UlEQVR4nO3dXVPaQBSAYb6EUApUESsWxf//Kyu9aadjSNxN3EN8nuGGm53zkoGLbEJGIwAAAAAAAADg65juJ412pYfM8dDc9+a29JgZfrYqXJYeM8OsVeFN6TEzKBxK4fNxt92dX/86v92uB1K4OFXvm86HUjgdv0/hFVCoMD6FCuNTqDA+hQrjU6gwPoUK41OoMD6FCuNTqDA+hQrjU6gwPoUK41OoMD6FCuMbfuFjq8J96TH/OCxTPLUqvF98/7DFoePAX5MMTYWJq3YaWOUE9lQ4GXdZuO2nsMoq7PQ2jbzCeW3hcRiFzzV958R1rML7x1mCQ33gW+JuneCpr8KX0zRBdalwXKWseNfbMaz7Pn02hQoVlqdQocLyFCpUWJ5ChQrLU6hQYXkKFdYWpp0vvfyxxDpfOll9SzAfXzgnPD1sVh/X2znvRDcXjuAqY904hZNZ7d5T1rqBCq9h//DUT2GgPeBRzj5fT4WrTgNHo9tNirtWhS8pv6dB/m3xmq6nSTP8a6IUKoxPocL4FCqMT6HC+BQqjE+hwvgUKoxPocL4FCqMT6HC+BQqjE+hwvgUKoxPocL4FCqMT6HC+L7K84CX/z3O+e9znTcDKWyiMLLhF7a7Y+S19JgZHloVHkuPmWP82ti37/qfSD/bjyalBwQAAAAAAAAA6MhvAftgbgrcMkYAAAAASUVORK5CYII=\" width=\"30\"/><font color = 'grey'><font size = 2> 아래부터 행을 추출하고 싶을 때는 .tail 함수를 사용하기도 하죠 :)</font>"
      ],
      "metadata": {
        "id": "FhUj7T28vlZs"
      }
    },
    {
      "cell_type": "code",
      "source": [
        "df.head()"
      ],
      "metadata": {
        "id": "11TIAzBpLfZL",
        "colab": {
          "base_uri": "https://localhost:8080/",
          "height": 206
        },
        "outputId": "ae19cf1d-5361-434b-c8f4-b34cd5965b0d"
      },
      "execution_count": null,
      "outputs": [
        {
          "output_type": "execute_result",
          "data": {
            "text/plain": [
              "  keyword source category  search volume    quantity  competition_rate  \\\n",
              "0     헬스장     상품  피트니스/PT       307600.0    473360.0              1.53   \n",
              "1      헬스     상품    웨이트용품        61210.0   9333156.0            152.47   \n",
              "2      벨트     상품     정장벨트        36360.0   9646001.0            265.29   \n",
              "3     디자인     상품    디자인문패        24420.0  21640053.0            886.16   \n",
              "4      학과     상품     기타교구        19400.0     16837.0              0.86   \n",
              "\n",
              "   purchase_conversion  \n",
              "0                 0.76  \n",
              "1                 0.62  \n",
              "2                 0.10  \n",
              "3                 0.27  \n",
              "4                 0.00  "
            ],
            "text/html": [
              "\n",
              "  <div id=\"df-0fad1912-98b9-4df1-919b-9425052922a3\">\n",
              "    <div class=\"colab-df-container\">\n",
              "      <div>\n",
              "<style scoped>\n",
              "    .dataframe tbody tr th:only-of-type {\n",
              "        vertical-align: middle;\n",
              "    }\n",
              "\n",
              "    .dataframe tbody tr th {\n",
              "        vertical-align: top;\n",
              "    }\n",
              "\n",
              "    .dataframe thead th {\n",
              "        text-align: right;\n",
              "    }\n",
              "</style>\n",
              "<table border=\"1\" class=\"dataframe\">\n",
              "  <thead>\n",
              "    <tr style=\"text-align: right;\">\n",
              "      <th></th>\n",
              "      <th>keyword</th>\n",
              "      <th>source</th>\n",
              "      <th>category</th>\n",
              "      <th>search volume</th>\n",
              "      <th>quantity</th>\n",
              "      <th>competition_rate</th>\n",
              "      <th>purchase_conversion</th>\n",
              "    </tr>\n",
              "  </thead>\n",
              "  <tbody>\n",
              "    <tr>\n",
              "      <th>0</th>\n",
              "      <td>헬스장</td>\n",
              "      <td>상품</td>\n",
              "      <td>피트니스/PT</td>\n",
              "      <td>307600.0</td>\n",
              "      <td>473360.0</td>\n",
              "      <td>1.53</td>\n",
              "      <td>0.76</td>\n",
              "    </tr>\n",
              "    <tr>\n",
              "      <th>1</th>\n",
              "      <td>헬스</td>\n",
              "      <td>상품</td>\n",
              "      <td>웨이트용품</td>\n",
              "      <td>61210.0</td>\n",
              "      <td>9333156.0</td>\n",
              "      <td>152.47</td>\n",
              "      <td>0.62</td>\n",
              "    </tr>\n",
              "    <tr>\n",
              "      <th>2</th>\n",
              "      <td>벨트</td>\n",
              "      <td>상품</td>\n",
              "      <td>정장벨트</td>\n",
              "      <td>36360.0</td>\n",
              "      <td>9646001.0</td>\n",
              "      <td>265.29</td>\n",
              "      <td>0.10</td>\n",
              "    </tr>\n",
              "    <tr>\n",
              "      <th>3</th>\n",
              "      <td>디자인</td>\n",
              "      <td>상품</td>\n",
              "      <td>디자인문패</td>\n",
              "      <td>24420.0</td>\n",
              "      <td>21640053.0</td>\n",
              "      <td>886.16</td>\n",
              "      <td>0.27</td>\n",
              "    </tr>\n",
              "    <tr>\n",
              "      <th>4</th>\n",
              "      <td>학과</td>\n",
              "      <td>상품</td>\n",
              "      <td>기타교구</td>\n",
              "      <td>19400.0</td>\n",
              "      <td>16837.0</td>\n",
              "      <td>0.86</td>\n",
              "      <td>0.00</td>\n",
              "    </tr>\n",
              "  </tbody>\n",
              "</table>\n",
              "</div>\n",
              "      <button class=\"colab-df-convert\" onclick=\"convertToInteractive('df-0fad1912-98b9-4df1-919b-9425052922a3')\"\n",
              "              title=\"Convert this dataframe to an interactive table.\"\n",
              "              style=\"display:none;\">\n",
              "        \n",
              "  <svg xmlns=\"http://www.w3.org/2000/svg\" height=\"24px\"viewBox=\"0 0 24 24\"\n",
              "       width=\"24px\">\n",
              "    <path d=\"M0 0h24v24H0V0z\" fill=\"none\"/>\n",
              "    <path d=\"M18.56 5.44l.94 2.06.94-2.06 2.06-.94-2.06-.94-.94-2.06-.94 2.06-2.06.94zm-11 1L8.5 8.5l.94-2.06 2.06-.94-2.06-.94L8.5 2.5l-.94 2.06-2.06.94zm10 10l.94 2.06.94-2.06 2.06-.94-2.06-.94-.94-2.06-.94 2.06-2.06.94z\"/><path d=\"M17.41 7.96l-1.37-1.37c-.4-.4-.92-.59-1.43-.59-.52 0-1.04.2-1.43.59L10.3 9.45l-7.72 7.72c-.78.78-.78 2.05 0 2.83L4 21.41c.39.39.9.59 1.41.59.51 0 1.02-.2 1.41-.59l7.78-7.78 2.81-2.81c.8-.78.8-2.07 0-2.86zM5.41 20L4 18.59l7.72-7.72 1.47 1.35L5.41 20z\"/>\n",
              "  </svg>\n",
              "      </button>\n",
              "      \n",
              "  <style>\n",
              "    .colab-df-container {\n",
              "      display:flex;\n",
              "      flex-wrap:wrap;\n",
              "      gap: 12px;\n",
              "    }\n",
              "\n",
              "    .colab-df-convert {\n",
              "      background-color: #E8F0FE;\n",
              "      border: none;\n",
              "      border-radius: 50%;\n",
              "      cursor: pointer;\n",
              "      display: none;\n",
              "      fill: #1967D2;\n",
              "      height: 32px;\n",
              "      padding: 0 0 0 0;\n",
              "      width: 32px;\n",
              "    }\n",
              "\n",
              "    .colab-df-convert:hover {\n",
              "      background-color: #E2EBFA;\n",
              "      box-shadow: 0px 1px 2px rgba(60, 64, 67, 0.3), 0px 1px 3px 1px rgba(60, 64, 67, 0.15);\n",
              "      fill: #174EA6;\n",
              "    }\n",
              "\n",
              "    [theme=dark] .colab-df-convert {\n",
              "      background-color: #3B4455;\n",
              "      fill: #D2E3FC;\n",
              "    }\n",
              "\n",
              "    [theme=dark] .colab-df-convert:hover {\n",
              "      background-color: #434B5C;\n",
              "      box-shadow: 0px 1px 3px 1px rgba(0, 0, 0, 0.15);\n",
              "      filter: drop-shadow(0px 1px 2px rgba(0, 0, 0, 0.3));\n",
              "      fill: #FFFFFF;\n",
              "    }\n",
              "  </style>\n",
              "\n",
              "      <script>\n",
              "        const buttonEl =\n",
              "          document.querySelector('#df-0fad1912-98b9-4df1-919b-9425052922a3 button.colab-df-convert');\n",
              "        buttonEl.style.display =\n",
              "          google.colab.kernel.accessAllowed ? 'block' : 'none';\n",
              "\n",
              "        async function convertToInteractive(key) {\n",
              "          const element = document.querySelector('#df-0fad1912-98b9-4df1-919b-9425052922a3');\n",
              "          const dataTable =\n",
              "            await google.colab.kernel.invokeFunction('convertToInteractive',\n",
              "                                                     [key], {});\n",
              "          if (!dataTable) return;\n",
              "\n",
              "          const docLinkHtml = 'Like what you see? Visit the ' +\n",
              "            '<a target=\"_blank\" href=https://colab.research.google.com/notebooks/data_table.ipynb>data table notebook</a>'\n",
              "            + ' to learn more about interactive tables.';\n",
              "          element.innerHTML = '';\n",
              "          dataTable['output_type'] = 'display_data';\n",
              "          await google.colab.output.renderOutput(dataTable, element);\n",
              "          const docLink = document.createElement('div');\n",
              "          docLink.innerHTML = docLinkHtml;\n",
              "          element.appendChild(docLink);\n",
              "        }\n",
              "      </script>\n",
              "    </div>\n",
              "  </div>\n",
              "  "
            ]
          },
          "metadata": {},
          "execution_count": 34
        }
      ]
    },
    {
      "cell_type": "markdown",
      "source": [
        "<font color = 'white'><font size = 2>.</font>"
      ],
      "metadata": {
        "id": "kAkqLCp1DGwL"
      }
    },
    {
      "cell_type": "markdown",
      "source": [
        "<img src=\"https://img.freepik.com/premium-vector/cute-funny-think-emoji-smile-face-with-question-mark-vector-flat-line-doodle-cartoon-kawaii-character-illustration-icon-isolated-white-background-yellow-emoji-circle-think-character-concept_92289-3170.jpg\" width='50'/><img src=\"https://gifimage.net/wp-content/uploads/2018/10/3-min-gif-4.gif\" width='100'/><font size = 3> **데이터를 보면서 잠깐 함께 토론해봐요**</font>\n",
        "<font size = 2><u>행(Row)만이 가지고 있는 큰 차이점은 무엇일까요?</u></font>"
      ],
      "metadata": {
        "id": "nDQEXHSFx_Tm"
      }
    },
    {
      "cell_type": "markdown",
      "source": [
        "<font color = 'white'><font size = 2>.</font>"
      ],
      "metadata": {
        "id": "CR_g5NTRAsDy"
      }
    },
    {
      "cell_type": "markdown",
      "source": [
        "---"
      ],
      "metadata": {
        "id": "3MzPN61XDDO6"
      }
    },
    {
      "cell_type": "markdown",
      "source": [
        "\n",
        "\n",
        "<font size =5>1.</font>\n",
        "<font size=2><font color = 'blue'> **먼저 .head()함수를 사용해 첫 번째와 두 번째 행을 추출해볼꺼에요.**</font> "
      ],
      "metadata": {
        "id": "0tklBOS91MDj"
      }
    },
    {
      "cell_type": "code",
      "source": [
        "df.head(1)"
      ],
      "metadata": {
        "colab": {
          "base_uri": "https://localhost:8080/",
          "height": 81
        },
        "id": "vXCE-0mGzeIe",
        "outputId": "ee812dbd-bdda-41eb-8164-1e253b56c612"
      },
      "execution_count": null,
      "outputs": [
        {
          "output_type": "execute_result",
          "data": {
            "text/plain": [
              "  keyword source category  search volume  quantity  competition_rate  \\\n",
              "0     헬스장     상품  피트니스/PT       307600.0  473360.0              1.53   \n",
              "\n",
              "   purchase_conversion  \n",
              "0                 0.76  "
            ],
            "text/html": [
              "\n",
              "  <div id=\"df-97e6ecb7-a186-4cd3-a16d-1f2cc721f102\">\n",
              "    <div class=\"colab-df-container\">\n",
              "      <div>\n",
              "<style scoped>\n",
              "    .dataframe tbody tr th:only-of-type {\n",
              "        vertical-align: middle;\n",
              "    }\n",
              "\n",
              "    .dataframe tbody tr th {\n",
              "        vertical-align: top;\n",
              "    }\n",
              "\n",
              "    .dataframe thead th {\n",
              "        text-align: right;\n",
              "    }\n",
              "</style>\n",
              "<table border=\"1\" class=\"dataframe\">\n",
              "  <thead>\n",
              "    <tr style=\"text-align: right;\">\n",
              "      <th></th>\n",
              "      <th>keyword</th>\n",
              "      <th>source</th>\n",
              "      <th>category</th>\n",
              "      <th>search volume</th>\n",
              "      <th>quantity</th>\n",
              "      <th>competition_rate</th>\n",
              "      <th>purchase_conversion</th>\n",
              "    </tr>\n",
              "  </thead>\n",
              "  <tbody>\n",
              "    <tr>\n",
              "      <th>0</th>\n",
              "      <td>헬스장</td>\n",
              "      <td>상품</td>\n",
              "      <td>피트니스/PT</td>\n",
              "      <td>307600.0</td>\n",
              "      <td>473360.0</td>\n",
              "      <td>1.53</td>\n",
              "      <td>0.76</td>\n",
              "    </tr>\n",
              "  </tbody>\n",
              "</table>\n",
              "</div>\n",
              "      <button class=\"colab-df-convert\" onclick=\"convertToInteractive('df-97e6ecb7-a186-4cd3-a16d-1f2cc721f102')\"\n",
              "              title=\"Convert this dataframe to an interactive table.\"\n",
              "              style=\"display:none;\">\n",
              "        \n",
              "  <svg xmlns=\"http://www.w3.org/2000/svg\" height=\"24px\"viewBox=\"0 0 24 24\"\n",
              "       width=\"24px\">\n",
              "    <path d=\"M0 0h24v24H0V0z\" fill=\"none\"/>\n",
              "    <path d=\"M18.56 5.44l.94 2.06.94-2.06 2.06-.94-2.06-.94-.94-2.06-.94 2.06-2.06.94zm-11 1L8.5 8.5l.94-2.06 2.06-.94-2.06-.94L8.5 2.5l-.94 2.06-2.06.94zm10 10l.94 2.06.94-2.06 2.06-.94-2.06-.94-.94-2.06-.94 2.06-2.06.94z\"/><path d=\"M17.41 7.96l-1.37-1.37c-.4-.4-.92-.59-1.43-.59-.52 0-1.04.2-1.43.59L10.3 9.45l-7.72 7.72c-.78.78-.78 2.05 0 2.83L4 21.41c.39.39.9.59 1.41.59.51 0 1.02-.2 1.41-.59l7.78-7.78 2.81-2.81c.8-.78.8-2.07 0-2.86zM5.41 20L4 18.59l7.72-7.72 1.47 1.35L5.41 20z\"/>\n",
              "  </svg>\n",
              "      </button>\n",
              "      \n",
              "  <style>\n",
              "    .colab-df-container {\n",
              "      display:flex;\n",
              "      flex-wrap:wrap;\n",
              "      gap: 12px;\n",
              "    }\n",
              "\n",
              "    .colab-df-convert {\n",
              "      background-color: #E8F0FE;\n",
              "      border: none;\n",
              "      border-radius: 50%;\n",
              "      cursor: pointer;\n",
              "      display: none;\n",
              "      fill: #1967D2;\n",
              "      height: 32px;\n",
              "      padding: 0 0 0 0;\n",
              "      width: 32px;\n",
              "    }\n",
              "\n",
              "    .colab-df-convert:hover {\n",
              "      background-color: #E2EBFA;\n",
              "      box-shadow: 0px 1px 2px rgba(60, 64, 67, 0.3), 0px 1px 3px 1px rgba(60, 64, 67, 0.15);\n",
              "      fill: #174EA6;\n",
              "    }\n",
              "\n",
              "    [theme=dark] .colab-df-convert {\n",
              "      background-color: #3B4455;\n",
              "      fill: #D2E3FC;\n",
              "    }\n",
              "\n",
              "    [theme=dark] .colab-df-convert:hover {\n",
              "      background-color: #434B5C;\n",
              "      box-shadow: 0px 1px 3px 1px rgba(0, 0, 0, 0.15);\n",
              "      filter: drop-shadow(0px 1px 2px rgba(0, 0, 0, 0.3));\n",
              "      fill: #FFFFFF;\n",
              "    }\n",
              "  </style>\n",
              "\n",
              "      <script>\n",
              "        const buttonEl =\n",
              "          document.querySelector('#df-97e6ecb7-a186-4cd3-a16d-1f2cc721f102 button.colab-df-convert');\n",
              "        buttonEl.style.display =\n",
              "          google.colab.kernel.accessAllowed ? 'block' : 'none';\n",
              "\n",
              "        async function convertToInteractive(key) {\n",
              "          const element = document.querySelector('#df-97e6ecb7-a186-4cd3-a16d-1f2cc721f102');\n",
              "          const dataTable =\n",
              "            await google.colab.kernel.invokeFunction('convertToInteractive',\n",
              "                                                     [key], {});\n",
              "          if (!dataTable) return;\n",
              "\n",
              "          const docLinkHtml = 'Like what you see? Visit the ' +\n",
              "            '<a target=\"_blank\" href=https://colab.research.google.com/notebooks/data_table.ipynb>data table notebook</a>'\n",
              "            + ' to learn more about interactive tables.';\n",
              "          element.innerHTML = '';\n",
              "          dataTable['output_type'] = 'display_data';\n",
              "          await google.colab.output.renderOutput(dataTable, element);\n",
              "          const docLink = document.createElement('div');\n",
              "          docLink.innerHTML = docLinkHtml;\n",
              "          element.appendChild(docLink);\n",
              "        }\n",
              "      </script>\n",
              "    </div>\n",
              "  </div>\n",
              "  "
            ]
          },
          "metadata": {},
          "execution_count": 35
        }
      ]
    },
    {
      "cell_type": "markdown",
      "source": [
        "<font size =5>2.</font>\n",
        "<font size=2><font color = 'blue'> **이번엔, values 함수를 사용하여 데이터 하나하나를 출력 해 볼께요.**</font>"
      ],
      "metadata": {
        "id": "NbrktvvvDL9p"
      }
    },
    {
      "cell_type": "code",
      "source": [
        "df.head(1).values[0]"
      ],
      "metadata": {
        "colab": {
          "base_uri": "https://localhost:8080/"
        },
        "id": "-XHi4oHZzeGY",
        "outputId": "0d4fa64f-b079-4311-cbec-916797b4ed0b"
      },
      "execution_count": null,
      "outputs": [
        {
          "output_type": "execute_result",
          "data": {
            "text/plain": [
              "array(['헬스장', '상품', '피트니스/PT', 307600.0, 473360.0, 1.53, 0.76],\n",
              "      dtype=object)"
            ]
          },
          "metadata": {},
          "execution_count": 36
        }
      ]
    },
    {
      "cell_type": "markdown",
      "source": [
        "<img src=\"data:image/png;base64,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\" width=\"70\"/>\n",
        "<font color = 'crimson'><font size = 2>* 여기서 주의!    .values 뒤에 [0]를 붙여주었어요. 즉. index를 지정해주었죠. 왜 일까요?</font>"
      ],
      "metadata": {
        "id": "sbIivgUK4oiW"
      }
    },
    {
      "cell_type": "markdown",
      "source": [
        "<font color = 'white'><font size = 2>.</font>"
      ],
      "metadata": {
        "id": "MkWwk-OlEAxh"
      }
    },
    {
      "cell_type": "markdown",
      "source": [
        "</font><img src=\"https://us.123rf.com/450wm/dragontiger8/dragontiger81907/dragontiger8190700062/127897173-%EB%AC%B8%EC%A0%9C%EC%97%90-%EB%8C%80%ED%95%B4-%EC%9D%B4%EC%95%BC%EA%B8%B0%ED%95%98%EB%8A%94-%EB%91%90-%EC%82%AC%EB%9E%8C-%EC%86%90%EC%9C%BC%EB%A1%9C-%EA%B7%B8%EB%A6%B0.jpg?ver=6\" width=\"130\"/><font color = 'grey'><font size=4><b><i>HINT</i></b>\n",
        "\n",
        "<img src=\"http://s3.amazonaws.com/pix.iemoji.com/images/emoji/apple/ios-12/256/heavy-check-mark.png\" width='20'/><font size = 2> 기억하나요! 자료형 '리스트'를 공부할 때, <u>리스트 안에 <b>리스트를 하나의 데이터로서  저장할 수 있다고 하였어요.</b></u></font>\n",
        "\n",
        "<img src=\"http://s3.amazonaws.com/pix.iemoji.com/images/emoji/apple/ios-12/256/heavy-check-mark.png\" width='20'/><font size = 2> 위의 코드셀에서 인덱싱 [0]의 결과 값이 어떠했죠? <u>첫 번째 데이터인 '헬스장이 출력될꺼란 예상과는 달리 첫 번째 행의 전체 데이터가 추출되었어요</u></font>"
      ],
      "metadata": {
        "id": "znJNdXBX59jh"
      }
    },
    {
      "cell_type": "markdown",
      "source": [
        "<font color = 'crimeson'><font size = 2>위와 같은 사실들로서 우리가 추리해 볼 수 있는 것은, <b>행(Row)의 데이터</b>는 하나 하나 개별단위로 존재하기 이전에 <b>하나의 덩어리 형태로 저장</b>된다는 점이에요.</font> \n",
        "\n"
      ],
      "metadata": {
        "id": "jARmfATF-gDw"
      }
    },
    {
      "cell_type": "markdown",
      "source": [
        "---"
      ],
      "metadata": {
        "id": "4u049YS-LUAa"
      }
    },
    {
      "cell_type": "markdown",
      "source": [
        "<font size = 4><font color = 'crimson'>***Q.***</font><font color = 'grey'><font size = 3> **<i>그럼, 행 데이터에서 덩어리 속 각 하나하나의 데이터들은 무엇을 통해 구분되어지고 저장되어졌을까 ?</i>**</font>\n",
        "\n",
        "<img src=\"https://t3.ftcdn.net/jpg/04/55/55/86/360_F_455558670_uAQfvqw8cT8erAExftZUlNV5H37fqJL5.jpg\" width=\"40\"/><font size = 3><font color = 'crimeson'><b> 중요해요 !</b></font>\n",
        "\n",
        "> <font size = 4><font color = 'crimson'>***A.***</font><font size = 2> **열(Column) 정보를 Key 값으로 활용하여 구분되어져 저장되어있어요.**</font>\n"
      ],
      "metadata": {
        "id": "wwudjOP6Eg0D"
      }
    },
    {
      "cell_type": "markdown",
      "source": [
        "---"
      ],
      "metadata": {
        "id": "QsGP9rMLLXf1"
      }
    },
    {
      "cell_type": "markdown",
      "source": [
        "> <font size=2><font color = 'blue'>**.keys()함수를 활용하여 정보를 추출했을 때, 행에 대해 어떤 정보를 추출해주는지 확인해 볼까요?**</font>\n"
      ],
      "metadata": {
        "id": "UQ5_k-m1LOOn"
      }
    },
    {
      "cell_type": "code",
      "source": [
        "df.head(1).keys()"
      ],
      "metadata": {
        "colab": {
          "base_uri": "https://localhost:8080/"
        },
        "id": "_fGBe181EfTa",
        "outputId": "b12e8949-2c3e-4e50-bf02-196cf7778c7f"
      },
      "execution_count": null,
      "outputs": [
        {
          "output_type": "execute_result",
          "data": {
            "text/plain": [
              "Index(['keyword', 'source', 'category', 'search volume', 'quantity',\n",
              "       'competition_rate', 'purchase_conversion'],\n",
              "      dtype='object')"
            ]
          },
          "metadata": {},
          "execution_count": 37
        }
      ]
    },
    {
      "cell_type": "markdown",
      "source": [
        "<img src=\"https://i.pinimg.com/originals/8a/dd/cd/8addcd0dad97ceac659e066944a771fa.gif\" width=\"150\"/>\n",
        "\n",
        "<font color = 'whithe'><font size = 3>.</font>\n",
        "\n",
        "<img src=\"http://s3.amazonaws.com/pix.iemoji.com/images/emoji/apple/ios-12/256/heavy-check-mark.png\" width='20'/><font size = 2> 행을 이루는 데이터들의 순서에 맞추어 열의 이름들을 <u><font color = 'crimeson'><font size = 4><b>덩어리</b></font> <font color = 'black'>형태로 반환해주고 있어요.</u></font>"
      ],
      "metadata": {
        "id": "GHS-hKo8189O"
      }
    },
    {
      "cell_type": "markdown",
      "source": [
        "<img src=\"http://s3.amazonaws.com/pix.iemoji.com/images/emoji/apple/ios-12/256/heavy-check-mark.png\" width='20'/><font size = 2> 더불어, 모든 행은 동일한 열 이름을 공유하죠.</font> \n",
        "\n",
        "> <font size = 2><b><u>우리가 많은 행들을 추출하더라도</u> 특별히 열 정보를 제한하거나 선택하지 않는 이상 <u>모든 경우에 동일한 열의 이름들이 덩어리 형태로 반환될꺼에요.</u></b></font>"
      ],
      "metadata": {
        "id": "NNqqcNzbGzJS"
      }
    },
    {
      "cell_type": "code",
      "source": [
        "df.keys() == df.head(1).keys()"
      ],
      "metadata": {
        "colab": {
          "base_uri": "https://localhost:8080/"
        },
        "id": "pXfGqvInFer-",
        "outputId": "fe7722b1-22fd-4dd4-c76f-205454455979"
      },
      "execution_count": null,
      "outputs": [
        {
          "output_type": "execute_result",
          "data": {
            "text/plain": [
              "array([ True,  True,  True,  True,  True,  True,  True])"
            ]
          },
          "metadata": {},
          "execution_count": 38
        }
      ]
    },
    {
      "cell_type": "markdown",
      "source": [
        "<img src=\"data:image/png;base64,iVBORw0KGgoAAAANSUhEUgAAAOEAAADhCAMAAAAJbSJIAAABklBMVEX////+24D/3Ib+//7/4zD/3Yz+yT/+4Zr/3jH+13P+35T/1m3+4JP/2Hr+2C3/4DD/45//5KX+68D+6LD+0i7/1i3+7sv/67v/56z+z1z/6rb+vTv+2zD+7Lz/02j+xDv+y1X/ni7/zDX/lSf/miP+rCX/wCr/+vL+8dOhaBn/uDr/sTf/qjX+zjL+pyj/syn+uSfzihFwRw6TXBX+x1CoaxpqPQb+pTL/mSr+qCX/sCfw8PH/xyv+oiT+vir97dv41rb0uY/upm7smlnqkkrurXrphSvsgRfpk0zpjDj0xJ/5u0/4xGT7zn792Jb53cTogx3jvWGScjJkRBWCYSrOq1jvyadTLQCti0PpwV1+TxPAmkT/2mLMnzaSbB6HXhmpgCySVwvswUO0lzH78GDMtUTasT2hgii+pjz90kTr0Lvm0U1RIwCBahz/6lD93Ebo2MzalSUmAADYoitDAABrNgblvzBZGgV2OAxgKACAQhDjxTHk1TXGsCf/9D3d3NjTw7LYp3vRsZLFwr3RqITUnmkM8kSRAAAJG0lEQVR4nO2aC1caSRaAnTTDYBIlJL6bBNFuWbu1G2yC8mggoCA+RpKZxAmT+IjJOOahyc64G42Civ7vube6eegkru45e+x275fwsE5xTn3cW7eqi25pIQiCIAiCIAiCIAiCIAiCIAiCIAiCIAiCIAiCIAiCIAiCIAiCIAiCIAiCIAiCIAiCIIj/Zzj2nz1aml6vDxxT4sz/3HVUDKTSjzLZycnCZDbzKJ0KsMZrogkhS6WnJnP5fMgkn89NT6VT1yaSgXQmB3KCX1cYuq77BbTMpAO19LUrHAw/NVPIhwRdV6KiGENEJAqeYFmYCXC2jiPXEkA/CB7YSbNz8z8y5udmJRBVdL/paFcgOguT+RDqybPznu6uf9TpuntnflYVIWND+ekFu4YRAjgF8VMgevMetOtqAv/yzEmxqAK5+ihw1WP9b4CoLEyGBEVWpfnurm/QNy+poi7ksykbRpHj0jlI0Jg6dw9U7n6Drp45OQapmktf9XgvCS50MzAD5Zj047fkasxLMWU8lHtmryjCIjGTn4AMnfXc7Wbcv19/wpf73XXuerDkTBSf2cuw5Vkep+BsT/e9PqS772t0s0c3KMrjQjF91aO+OBDBdBEj2N/Td+8CdHvCqqyEcgs22t6kCjAH1bCn52L03QlLsh6aTNnGMJAFQYm/6bkoPd/zkqiHMnbZ3nAzIV2UpDbPnXP5of7Oc8fTxqtRPW+PgspxqZygSMH+Hy5Ff1BWhELqqkd/EbhAJqRAjt64idy+bTzgib3cNFtvGy236803eJyKU7bYvy3k/aIU7P3+kvQHJVkoLtggTaHMKBLPt924JG08D0tGxgYrxkIeygwf/u7Gd5ckDPXUn7f6osixWSjxvt62S9Ob5FUlNGVxwxYuVYRZyPsetJ4CBFpbzzadaXjggyBav5ziWijzvO9WM62Pn/z089PWU01Pf/7pyeNTvdBQhjXR4jGMZwVMUueDJm49XYyMjS3+cqup6RdoWow8vtXczweKUGsC1l72YbWHtdAX7q3zoPd5ZKyklUqLT1/0ogg8vfh1saRppbHI8weNjr1ODCKmqaUN03nckfqcTQN/8WRM04aHQahhDcrQokVWXpw11PNvr9rhXOKPWCX1OfsbPI+AzUMQirx0Gmz8ajShdFNHH6QpLIkzlg5hPBPCSurzhes4X45pww8fos+SaehcLg0bTSAdDvebPU3DTNzCilyqIBiGhiK+cy5hRiLasin4aqzWUlpxQuHleVPQx6uiMG3h9YLj3hb1mMTGXMe3rGmrwysrq5o29so0jEDTysrwKoS1uSsgKULuo3VjCIas0OBITSA8y6XVtdevX79Z1SK/GYa/geEbaFrXSsthvt6TfczapQYPoCCGEhOUGZIEhuubG07n5u+lhmHpzSYUnNdLYGh2lCXjc3Cpb21DdnVv+I0gsswvR945cT5uLi++GjCy9P3SJjZtvIss82bHEeYoyWho5SzF8wscKYx6nDEywq//vsEqzsa7DxvmavHh3QYa8ltra3yjJzrK1o5hC8ZQkVn8xv0IDFze2uKZoW9rs2a4ueVkhvzWhtzoOYKfVCwew2chv2EIw54AYOR4osEMB07BDDHYjZ5MUfFbOYZYSwVFlEWFDXtwEAauK6IaDCZ9iYGz+JLJoIo/k0JH6IpfBv42LFi6lsJ6KChR/AnbGPbgoKBHwTA5lEDD0TrwRyIxZBgKRk/8MhQ0zH28ao/z+FhApWh92A1D1OswgFdw/Jsh+60fpuGkhQ05rpKFYhr9u2EiUdOrWY6ahtFaV0HAmxnAMBO/ao/ziB+G9CgzFGrDFmNqcOiMYaepGFRjYlNXBT8ZOrS2If6qBoo6jFtgox7/FDRD2NmEGcVkUvqkCNhVMARZobG0YcvbHJYaNhMRXf/0T80HgqNMsL0GOoLhwB/bEdXoCV2jMIP1wYKFN94ITsQo3hKkG0QHPvy5/QfLzIYfCLaDYufoyvs/94MQcN28owgMcRpaWjF+jIZ451NUUXDQwb3tnZ2lf7m8KOjFh9ewdHlfRnb+vd4OPdER75gSRUUIHVk7SVu4g6IAhqqq4t1dMXjT8WXn8/bO0r7X4Xa7Uc/rdbkdji9rpZ3tz0sOVm1E44YwNCxYeK0wgDSFXQxsY4Iqe04OOfa3d3e3d8bW9794XQ7Au/dlbSmys7v7ebncARsb7Al98UvRQyeVqzb4T8SPimyBYCRxMzPq2NN2tdVSBCxLy8BY5P32bklb3V0vt8OSMYSSQfaVRPXigcWTFNK0khWiMQgdkkiwMuoor5c0Rgkx3q6W9svto7hmgCRYJpNqTBeylg+hEcQY24maflBFHeW9ldXhZjRtrVz2msuiKamKdgghUMkIUZUZsq1oJ1ZQd7m8t7bUEFzf3ys7vMa6aEpCyVFsMAsBLn6AQTQ3arBGeF2A21EGyf39NWAf9MoON7R6TUnchyeDol6wRQghiIchRWU7tU62NrhgmcAaipIG8B7a3KiIjri/YSE8rlh6sa8Tr2YFDCIaGn6G4GnchqOLKY4mYBYKmao9QgiKBwU9lhwaMAwxRc8xZDGEEMYEu+QoHipWoJ6qwQRTdIPg16JoCrowgqNDyZieO7JJjjIqh0WcimaefiVRmZyRop0dA4lgTC8e26GO1uDi1cOJmiI4wk6UWTYw/Mw5CCmqFO1SZWqAYhHnohFGr6tu5TJDatRRFsAki6BtqkyNePW4gHub+qLhdZ3CXAohgFhFC0e2E8REPZoURDyjYRf46NgkaSyDEEAQjArTBxXbCbbgHvzgZEIXa6c07cbq3+Q3ijMQdjITJ1U7FZkGsGhgGGup2lE7p4HZ127s1PA4URemIUPtVWSaiFcODguCIgaDQ+Z1Ru20lB0Iq3hNf1i1ZYbW4CrVg5OCoONVf5JdLw7AP+MwOBbVwe/AxgE0iIPjcdaPp6G1K3/jvAL0skdVm87AM1SqIJkpFCb85hGjLviL0yfHB/bOz1NAINHyJDs9WSgUprNoV71Gfox4vIKaJpVK/HrpmXBxE6vfJUsQBEEQBEEQBEEQBEEQBEEQBEEQBEEQBEEQBEEQBEEQBEEQBEEQBEEQBEEQBEEQBEEQ/2v+Ap7Ei6kQPEQ6AAAAAElFTkSuQmCC\" width=\"70\"/>\n",
        "<font color = 'crimson'><font size = 2>* 위와 같은 형태는 dictionary에서도 동일하게 확인할 수 있어요.</font>"
      ],
      "metadata": {
        "id": "r_SffADyLk6s"
      }
    },
    {
      "cell_type": "code",
      "source": [
        "dic = {}\n",
        "i = 0\n",
        "for ki in df.keys():\n",
        "    dic[ki] = df.head(1).values[0][i]\n",
        "    i += 1    \n",
        "\n",
        "dic    "
      ],
      "metadata": {
        "colab": {
          "base_uri": "https://localhost:8080/"
        },
        "id": "hqlpTYX2EfRV",
        "outputId": "bb1566ea-b1e3-4f55-fcc3-5a227d50112c"
      },
      "execution_count": null,
      "outputs": [
        {
          "output_type": "execute_result",
          "data": {
            "text/plain": [
              "{'keyword': '헬스장',\n",
              " 'source': '상품',\n",
              " 'category': '피트니스/PT',\n",
              " 'search volume': 307600.0,\n",
              " 'quantity': 473360.0,\n",
              " 'competition_rate': 1.53,\n",
              " 'purchase_conversion': 0.76}"
            ]
          },
          "metadata": {},
          "execution_count": 39
        }
      ]
    },
    {
      "cell_type": "code",
      "source": [
        "dic.keys()"
      ],
      "metadata": {
        "colab": {
          "base_uri": "https://localhost:8080/"
        },
        "id": "Mt-2tHNlJGdZ",
        "outputId": "36e0fba9-be92-47b0-bb3b-c193510ee980"
      },
      "execution_count": null,
      "outputs": [
        {
          "output_type": "execute_result",
          "data": {
            "text/plain": [
              "dict_keys(['keyword', 'source', 'category', 'search volume', 'quantity', 'competition_rate', 'purchase_conversion'])"
            ]
          },
          "metadata": {},
          "execution_count": 40
        }
      ]
    },
    {
      "cell_type": "code",
      "source": [
        "dic.values()"
      ],
      "metadata": {
        "colab": {
          "base_uri": "https://localhost:8080/"
        },
        "id": "wcZ4nIGwEfOu",
        "outputId": "5954d153-8f98-4510-d88d-a9e17d8d2867"
      },
      "execution_count": null,
      "outputs": [
        {
          "output_type": "execute_result",
          "data": {
            "text/plain": [
              "dict_values(['헬스장', '상품', '피트니스/PT', 307600.0, 473360.0, 1.53, 0.76])"
            ]
          },
          "metadata": {},
          "execution_count": 41
        }
      ]
    },
    {
      "cell_type": "markdown",
      "source": [
        "<font color = 'white'><font size = 10>.</font>"
      ],
      "metadata": {
        "id": "qoBk3n6UZL4H"
      }
    },
    {
      "cell_type": "markdown",
      "source": [
        "<img src=\"https://cdn-0.emojis.wiki/emoji-pics/facebook/man-teacher-facebook.png\" width=100/><font size = 2>**정리해봅시다.**</font>\n",
        "\n",
        "<img src=\"http://s3.amazonaws.com/pix.iemoji.com/images/emoji/apple/ios-12/256/heavy-check-mark.png\" width='20'/><font size = 2><b><u>데이터프레임의 행(row)는 오직 행의 색인(Index)를 통해서만 구분할 수 있어요.</u> 이것이, 행의 값들을 .value 함수를 통해 출력하려고 할 때, <u>데이터 하나하나를 바로 활용할 수 없는 이유에요.</u> <img src=\"https://www.emojiall.com/en/header-svg/%F0%9F%A5%B9.png\" width=\"30\"/> 데이터가 <font size=4><font color = 'crimson'>덩어리</font> <font size = 2>형태로 출력되기 때문이죠.</b></font>\n",
        "\n",
        "<img src=\"http://s3.amazonaws.com/pix.iemoji.com/images/emoji/apple/ios-12/256/heavy-check-mark.png\" width='20'/><font size = 3><b>그러나,</font> <font size = 2><font color = 'blue'>Pandas</font>의 데이터프레임은 <u>열의 정보를 <font color = 'crimson'>Key</u></font>값으로서 활용하기 때문에 데이터를 쉽게 구분하고 관리할 있어요. :)</b></font>"
      ],
      "metadata": {
        "id": "ULvoqiSKZL4I"
      }
    },
    {
      "cell_type": "markdown",
      "source": [
        "---"
      ],
      "metadata": {
        "id": "9ohvM9JzG7mO"
      }
    },
    {
      "cell_type": "markdown",
      "source": [
        "<img src=\"data:image/png;base64,iVBORw0KGgoAAAANSUhEUgAAAOEAAADhCAMAAAAJbSJIAAAAY1BMVEX////Qz84AAADW1dR9fX0pKSmLiopSUlHT0tFBQUFjYmJoaGhMTEx3d3Zubm6xsbHt7e28vLw1NTSrq6oMDAssLCzl5eWUlJSCgoKbm5sfHx9XV1e0tLNIR0cODg3b2tk8PDyUpOFdAAAB/UlEQVR4nO3dXVPaQBSAYb6EUApUESsWxf//Kyu9aadjSNxN3EN8nuGGm53zkoGLbEJGIwAAAAAAAADg65juJ412pYfM8dDc9+a29JgZfrYqXJYeM8OsVeFN6TEzKBxK4fNxt92dX/86v92uB1K4OFXvm86HUjgdv0/hFVCoMD6FCuNTqDA+hQrjU6gwPoUK41OoMD6FCuNTqDA+hQrjU6gwPoUK41OoMD6FCuMbfuFjq8J96TH/OCxTPLUqvF98/7DFoePAX5MMTYWJq3YaWOUE9lQ4GXdZuO2nsMoq7PQ2jbzCeW3hcRiFzzV958R1rML7x1mCQ33gW+JuneCpr8KX0zRBdalwXKWseNfbMaz7Pn02hQoVlqdQocLyFCpUWJ5ChQrLU6hQYXkKFdYWpp0vvfyxxDpfOll9SzAfXzgnPD1sVh/X2znvRDcXjuAqY904hZNZ7d5T1rqBCq9h//DUT2GgPeBRzj5fT4WrTgNHo9tNirtWhS8pv6dB/m3xmq6nSTP8a6IUKoxPocL4FCqMT6HC+BQqjE+hwvgUKoxPocL4FCqMT6HC+BQqjE+hwvgUKoxPocL4FCqMT6HC+L7K84CX/z3O+e9znTcDKWyiMLLhF7a7Y+S19JgZHloVHkuPmWP82ti37/qfSD/bjyalBwQAAAAAAAAA6MhvAftgbgrcMkYAAAAASUVORK5CYII=\" width=\"30\"/>\n",
        "<font color = 'grey'><font size = 2>열(Column) 정보를 Key 값으로 활용하는 성질을 활용해 우리는,</font>\n"
      ],
      "metadata": {
        "id": "JWMGV-1GZUET"
      }
    },
    {
      "cell_type": "markdown",
      "source": [
        "<font size =5>1.</font>\n",
        "<font size=2><font color = 'blue'> <b>여러 개의 Dictionary를 병합하여 데이터프레임을 만들어 낼 수 있어요.</b></font> "
      ],
      "metadata": {
        "id": "JNVe4ZPOeSO2"
      }
    },
    {
      "cell_type": "markdown",
      "source": [
        "> <font color = 'grey'><font size = 2>지난 시간, URL과 함께 파이썬 안에서 데이터를 받을 수 있는 방법을 공부했어요. 이번 시간에는, <u>확장자가 .txt 파일</u>을 공유받아, <b><font color = 'black'>pickle 라이브러리</b></font>를 통해 데이터를 활성화시켜 봅시다.</font>"
      ],
      "metadata": {
        "id": "Mj4In8-6H942"
      }
    },
    {
      "cell_type": "code",
      "source": [
        "URL = 'https://drive.google.com/file/d/1-gytVFIRawF0aCqBzlaPJ1pScAZMNbmH/view?usp=sharing'\n",
        "auth.authenticate_user()\n",
        "gauth = GoogleAuth()\n",
        "gauth.credentials = GoogleCredentials.get_application_default()\n",
        "drive = GoogleDrive(gauth)\n",
        "shared_drv_id = URL[URL.find('/d/'):].split('/')[2]\n",
        "drive.CreateFile({'id':shared_drv_id}).GetContentFile(f'{os.getcwd()}/{filename}.txt') \n",
        "\n",
        "import pickle\n",
        "with open(f'{filename}.txt', 'rb') as f:\n",
        "    T = pickle.load(f)"
      ],
      "metadata": {
        "id": "Nvil7UB8PSQh"
      },
      "execution_count": null,
      "outputs": []
    },
    {
      "cell_type": "markdown",
      "source": [
        "> <font color = 'grey'><font size = 2>.txt 파일에는 <b><font color = 'black'>\"리스트\"가 저장되어 있어요.</font></b> 리스트 안에는 <u><font color = 'black'>여러 개의 dictionary가 저장</font></u>되어 있어요.</font>"
      ],
      "metadata": {
        "id": "0M8F3HpAL-fV"
      }
    },
    {
      "cell_type": "code",
      "source": [
        "print(T[1])\n",
        "print(T[2])\n",
        "print(T[7])"
      ],
      "metadata": {
        "colab": {
          "base_uri": "https://localhost:8080/"
        },
        "id": "x-VzabwQJw4E",
        "outputId": "17618e14-5a27-4fae-9ecf-13dcfd8cc3e1"
      },
      "execution_count": null,
      "outputs": [
        {
          "output_type": "stream",
          "name": "stdout",
          "text": [
            "{'keyword': '헬스', 'source': '상품', 'category': '웨이트용품', 'search volume': 61210.0, 'quantity': 9333156.0, 'competition_rate': 152.47, 'purchase_conversion': 0.62}\n",
            "{'keyword': '벨트', 'source': '상품', 'category': '정장벨트', 'search volume': 36360.0, 'quantity': 9646001.0, 'competition_rate': 265.29, 'purchase_conversion': 0.1}\n",
            "{'keyword': '여성', 'source': '상품', 'category': '중목/장목양말', 'search volume': 9430.0, 'quantity': 255894816.0, 'competition_rate': 27136.24, 'purchase_conversion': 0.08}\n"
          ]
        }
      ]
    },
    {
      "cell_type": "markdown",
      "source": [
        "> <font color = 'grey'><font size = 2><u>여러 개의 dictionary는 데이터 프레임의 열 정보를 Key값으로 활용하고 있어요. <b><font color='black'><font size=3> '같은 데이터'</font></b>, <b><font color='black'><font size=3>'같은 순서'</font></b>를 공유하고 있는 것이죠.</u></font>\n",
        "\n",
        "\n",
        "<img src=\"https://t3.ftcdn.net/jpg/04/55/55/86/360_F_455558670_uAQfvqw8cT8erAExftZUlNV5H37fqJL5.jpg\" width=\"40\"/><font color = 'crimeson'><font size = 2><b>위와 같은 여러개의 dictionary를 list로 묶으면 데이터프레임을 바로 생성해낼 수 있어요</b></font>"
      ],
      "metadata": {
        "id": "bjJ2T4fHMVy2"
      }
    },
    {
      "cell_type": "code",
      "source": [
        "pd.DataFrame(T).head()"
      ],
      "metadata": {
        "colab": {
          "base_uri": "https://localhost:8080/",
          "height": 206
        },
        "id": "TjCtFQJ0Pj2-",
        "outputId": "56c14e18-5acc-40b2-9c7c-affaf4325eff"
      },
      "execution_count": null,
      "outputs": [
        {
          "output_type": "execute_result",
          "data": {
            "text/plain": [
              "  keyword source category  search volume    quantity  competition_rate  \\\n",
              "0     헬스장     상품  피트니스/PT       307600.0    473360.0              1.53   \n",
              "1      헬스     상품    웨이트용품        61210.0   9333156.0            152.47   \n",
              "2      벨트     상품     정장벨트        36360.0   9646001.0            265.29   \n",
              "3     디자인     상품    디자인문패        24420.0  21640053.0            886.16   \n",
              "4      학과     상품     기타교구        19400.0     16837.0              0.86   \n",
              "\n",
              "   purchase_conversion  \n",
              "0                 0.76  \n",
              "1                 0.62  \n",
              "2                 0.10  \n",
              "3                 0.27  \n",
              "4                 0.00  "
            ],
            "text/html": [
              "\n",
              "  <div id=\"df-60f27767-4528-415b-a6ad-2fd6ab8fd375\">\n",
              "    <div class=\"colab-df-container\">\n",
              "      <div>\n",
              "<style scoped>\n",
              "    .dataframe tbody tr th:only-of-type {\n",
              "        vertical-align: middle;\n",
              "    }\n",
              "\n",
              "    .dataframe tbody tr th {\n",
              "        vertical-align: top;\n",
              "    }\n",
              "\n",
              "    .dataframe thead th {\n",
              "        text-align: right;\n",
              "    }\n",
              "</style>\n",
              "<table border=\"1\" class=\"dataframe\">\n",
              "  <thead>\n",
              "    <tr style=\"text-align: right;\">\n",
              "      <th></th>\n",
              "      <th>keyword</th>\n",
              "      <th>source</th>\n",
              "      <th>category</th>\n",
              "      <th>search volume</th>\n",
              "      <th>quantity</th>\n",
              "      <th>competition_rate</th>\n",
              "      <th>purchase_conversion</th>\n",
              "    </tr>\n",
              "  </thead>\n",
              "  <tbody>\n",
              "    <tr>\n",
              "      <th>0</th>\n",
              "      <td>헬스장</td>\n",
              "      <td>상품</td>\n",
              "      <td>피트니스/PT</td>\n",
              "      <td>307600.0</td>\n",
              "      <td>473360.0</td>\n",
              "      <td>1.53</td>\n",
              "      <td>0.76</td>\n",
              "    </tr>\n",
              "    <tr>\n",
              "      <th>1</th>\n",
              "      <td>헬스</td>\n",
              "      <td>상품</td>\n",
              "      <td>웨이트용품</td>\n",
              "      <td>61210.0</td>\n",
              "      <td>9333156.0</td>\n",
              "      <td>152.47</td>\n",
              "      <td>0.62</td>\n",
              "    </tr>\n",
              "    <tr>\n",
              "      <th>2</th>\n",
              "      <td>벨트</td>\n",
              "      <td>상품</td>\n",
              "      <td>정장벨트</td>\n",
              "      <td>36360.0</td>\n",
              "      <td>9646001.0</td>\n",
              "      <td>265.29</td>\n",
              "      <td>0.10</td>\n",
              "    </tr>\n",
              "    <tr>\n",
              "      <th>3</th>\n",
              "      <td>디자인</td>\n",
              "      <td>상품</td>\n",
              "      <td>디자인문패</td>\n",
              "      <td>24420.0</td>\n",
              "      <td>21640053.0</td>\n",
              "      <td>886.16</td>\n",
              "      <td>0.27</td>\n",
              "    </tr>\n",
              "    <tr>\n",
              "      <th>4</th>\n",
              "      <td>학과</td>\n",
              "      <td>상품</td>\n",
              "      <td>기타교구</td>\n",
              "      <td>19400.0</td>\n",
              "      <td>16837.0</td>\n",
              "      <td>0.86</td>\n",
              "      <td>0.00</td>\n",
              "    </tr>\n",
              "  </tbody>\n",
              "</table>\n",
              "</div>\n",
              "      <button class=\"colab-df-convert\" onclick=\"convertToInteractive('df-60f27767-4528-415b-a6ad-2fd6ab8fd375')\"\n",
              "              title=\"Convert this dataframe to an interactive table.\"\n",
              "              style=\"display:none;\">\n",
              "        \n",
              "  <svg xmlns=\"http://www.w3.org/2000/svg\" height=\"24px\"viewBox=\"0 0 24 24\"\n",
              "       width=\"24px\">\n",
              "    <path d=\"M0 0h24v24H0V0z\" fill=\"none\"/>\n",
              "    <path d=\"M18.56 5.44l.94 2.06.94-2.06 2.06-.94-2.06-.94-.94-2.06-.94 2.06-2.06.94zm-11 1L8.5 8.5l.94-2.06 2.06-.94-2.06-.94L8.5 2.5l-.94 2.06-2.06.94zm10 10l.94 2.06.94-2.06 2.06-.94-2.06-.94-.94-2.06-.94 2.06-2.06.94z\"/><path d=\"M17.41 7.96l-1.37-1.37c-.4-.4-.92-.59-1.43-.59-.52 0-1.04.2-1.43.59L10.3 9.45l-7.72 7.72c-.78.78-.78 2.05 0 2.83L4 21.41c.39.39.9.59 1.41.59.51 0 1.02-.2 1.41-.59l7.78-7.78 2.81-2.81c.8-.78.8-2.07 0-2.86zM5.41 20L4 18.59l7.72-7.72 1.47 1.35L5.41 20z\"/>\n",
              "  </svg>\n",
              "      </button>\n",
              "      \n",
              "  <style>\n",
              "    .colab-df-container {\n",
              "      display:flex;\n",
              "      flex-wrap:wrap;\n",
              "      gap: 12px;\n",
              "    }\n",
              "\n",
              "    .colab-df-convert {\n",
              "      background-color: #E8F0FE;\n",
              "      border: none;\n",
              "      border-radius: 50%;\n",
              "      cursor: pointer;\n",
              "      display: none;\n",
              "      fill: #1967D2;\n",
              "      height: 32px;\n",
              "      padding: 0 0 0 0;\n",
              "      width: 32px;\n",
              "    }\n",
              "\n",
              "    .colab-df-convert:hover {\n",
              "      background-color: #E2EBFA;\n",
              "      box-shadow: 0px 1px 2px rgba(60, 64, 67, 0.3), 0px 1px 3px 1px rgba(60, 64, 67, 0.15);\n",
              "      fill: #174EA6;\n",
              "    }\n",
              "\n",
              "    [theme=dark] .colab-df-convert {\n",
              "      background-color: #3B4455;\n",
              "      fill: #D2E3FC;\n",
              "    }\n",
              "\n",
              "    [theme=dark] .colab-df-convert:hover {\n",
              "      background-color: #434B5C;\n",
              "      box-shadow: 0px 1px 3px 1px rgba(0, 0, 0, 0.15);\n",
              "      filter: drop-shadow(0px 1px 2px rgba(0, 0, 0, 0.3));\n",
              "      fill: #FFFFFF;\n",
              "    }\n",
              "  </style>\n",
              "\n",
              "      <script>\n",
              "        const buttonEl =\n",
              "          document.querySelector('#df-60f27767-4528-415b-a6ad-2fd6ab8fd375 button.colab-df-convert');\n",
              "        buttonEl.style.display =\n",
              "          google.colab.kernel.accessAllowed ? 'block' : 'none';\n",
              "\n",
              "        async function convertToInteractive(key) {\n",
              "          const element = document.querySelector('#df-60f27767-4528-415b-a6ad-2fd6ab8fd375');\n",
              "          const dataTable =\n",
              "            await google.colab.kernel.invokeFunction('convertToInteractive',\n",
              "                                                     [key], {});\n",
              "          if (!dataTable) return;\n",
              "\n",
              "          const docLinkHtml = 'Like what you see? Visit the ' +\n",
              "            '<a target=\"_blank\" href=https://colab.research.google.com/notebooks/data_table.ipynb>data table notebook</a>'\n",
              "            + ' to learn more about interactive tables.';\n",
              "          element.innerHTML = '';\n",
              "          dataTable['output_type'] = 'display_data';\n",
              "          await google.colab.output.renderOutput(dataTable, element);\n",
              "          const docLink = document.createElement('div');\n",
              "          docLink.innerHTML = docLinkHtml;\n",
              "          element.appendChild(docLink);\n",
              "        }\n",
              "      </script>\n",
              "    </div>\n",
              "  </div>\n",
              "  "
            ]
          },
          "metadata": {},
          "execution_count": 48
        }
      ]
    },
    {
      "cell_type": "markdown",
      "source": [
        "    매일 매일 새로운 데이터가 모이여지는 상황이라면, 매일 세로운 데이터프레임을 생성하는 것 보다 dictionary 형태로 저장하며 관리하는 것이 좋아요 :)"
      ],
      "metadata": {
        "id": "Hn9EHeB9ui0e"
      }
    },
    {
      "cell_type": "markdown",
      "source": [
        "<font size =5>2.</font>\n",
        "<font size=2><font color = 'blue'> <b>.iterrows() 함수를 활용하면, 행 단위로 loop문 활용이 가능해요.</b></font>"
      ],
      "metadata": {
        "id": "v63hWStRemDB"
      }
    },
    {
      "cell_type": "markdown",
      "source": [
        "> <font size = 2><u><b>만약,</b> iterrows()와 '반복문'을 함께 활용하여, 데이터프레임의 행의 수{len(df)} 만큼을 '루핑 작업'하면</u>, <b>i</b>번 반복할 때마다 <b>\"행의 색인(Index)\"</b>와 <b>\"열 이름들\"</b>, <b>\"해당 행위 모든 값들\"</b>을 함께 출력할 수 있어요.</font>"
      ],
      "metadata": {
        "id": "CP7cBoynDIsR"
      }
    },
    {
      "cell_type": "code",
      "source": [
        "for idx, row in df.iterrows():\n",
        "    print(f'\\033[1mrow: \\033[0m {idx}')\n",
        "    for ii, ri in zip(row.index, row):\n",
        "        print(f'\\t{ii}: {ri}')\n",
        "    \n",
        "    print('\\n')\n",
        "\n",
        "    if idx == 1:\n",
        "        break"
      ],
      "metadata": {
        "colab": {
          "base_uri": "https://localhost:8080/"
        },
        "id": "7_tw_f-6naIM",
        "outputId": "98986991-d627-404c-85bb-8a630f6f72f8"
      },
      "execution_count": null,
      "outputs": [
        {
          "output_type": "stream",
          "name": "stdout",
          "text": [
            "\u001b[1mrow: \u001b[0m 0\n",
            "\tkeyword: 헬스장\n",
            "\tsource: 상품\n",
            "\tcategory: 피트니스/PT\n",
            "\tsearch volume: 307600.0\n",
            "\tquantity: 473360.0\n",
            "\tcompetition_rate: 1.53\n",
            "\tpurchase_conversion: 0.76\n",
            "\n",
            "\n",
            "\u001b[1mrow: \u001b[0m 1\n",
            "\tkeyword: 헬스\n",
            "\tsource: 상품\n",
            "\tcategory: 웨이트용품\n",
            "\tsearch volume: 61210.0\n",
            "\tquantity: 9333156.0\n",
            "\tcompetition_rate: 152.47\n",
            "\tpurchase_conversion: 0.62\n",
            "\n",
            "\n"
          ]
        }
      ]
    },
    {
      "cell_type": "markdown",
      "source": [
        "<font color = 'white'><font size = 30>.</font>"
      ],
      "metadata": {
        "id": "wz2tdpiKReKQ"
      }
    },
    {
      "cell_type": "markdown",
      "source": [
        "<img src=\"https://img.freepik.com/premium-vector/cute-funny-think-emoji-smile-face-with-question-mark-vector-flat-line-doodle-cartoon-kawaii-character-illustration-icon-isolated-white-background-yellow-emoji-circle-think-character-concept_92289-3170.jpg\" width='50'/><img src=\"https://gifimage.net/wp-content/uploads/2018/10/3-min-gif-4.gif\" width='100'/><font size = 3> <b>잠깐 생각하는 시간을 가져요. 데이터프레임의 행과 열은 서로에게 어떤 역할이 되어주고 있었죠 ?</b></font>\n"
      ],
      "metadata": {
        "id": "K1lOUckmnxh2"
      }
    },
    {
      "cell_type": "markdown",
      "source": [
        "<font color = 'white'><font size = 30>.</font>"
      ],
      "metadata": {
        "id": "DTSQ337hqKSk"
      }
    },
    {
      "cell_type": "markdown",
      "source": [
        "---"
      ],
      "metadata": {
        "id": "nwoNcOMkrXZs"
      }
    },
    {
      "cell_type": "markdown",
      "source": [
        "## <font color = 'red'><b><i>Q</b></i></font><font size = 3><b>: 데이터프레임의 열과 행의 성질을 이용하여 데이터프레임을 만들려면 어떻게 해야 할까?</b></font>"
      ],
      "metadata": {
        "id": "hYWRyCLSHPSC"
      }
    },
    {
      "cell_type": "markdown",
      "source": [
        "<font size =5>1.</font>\n",
        "<font size=2><font color = 'blue'> <b>여러 개의 Dictionary를 병합하여 데이터프레임을 만들어 낼 수 있어요.</b></font> "
      ],
      "metadata": {
        "id": "jzXk6QTQrUKy"
      }
    },
    {
      "cell_type": "markdown",
      "source": [
        "<font size =5>2.</font>\n",
        "<font size=2><font color = 'blue'> <b>각 행들의 데이터 및 행의 순서를 조합하여 생성한 Array를 사용해 데이터프레임을 만들어 낼 수 있어요.</b></font> \n"
      ],
      "metadata": {
        "id": "FrQXBRrftzEe"
      }
    },
    {
      "cell_type": "code",
      "source": [
        "pd.DataFrame(data=np.array([[4, 5, 2],\n",
        "                            [5, 4, 3],\n",
        "                            [6, 3, 4],\n",
        "                            [3, 0, 2],\n",
        "                            [1, 2, 7]]),\n",
        "             columns = ['Mango', 'Apple', 'Banana'])"
      ],
      "metadata": {
        "colab": {
          "base_uri": "https://localhost:8080/",
          "height": 206
        },
        "id": "8g2ObQi5tkWk",
        "outputId": "32be94cd-e136-4ab9-db54-35d9317f2982"
      },
      "execution_count": null,
      "outputs": [
        {
          "output_type": "execute_result",
          "data": {
            "text/plain": [
              "   Mango  Apple  Banana\n",
              "0      4      5       2\n",
              "1      5      4       3\n",
              "2      6      3       4\n",
              "3      3      0       2\n",
              "4      1      2       7"
            ],
            "text/html": [
              "\n",
              "  <div id=\"df-e6581658-ae1c-4d49-b560-1257e78aa872\">\n",
              "    <div class=\"colab-df-container\">\n",
              "      <div>\n",
              "<style scoped>\n",
              "    .dataframe tbody tr th:only-of-type {\n",
              "        vertical-align: middle;\n",
              "    }\n",
              "\n",
              "    .dataframe tbody tr th {\n",
              "        vertical-align: top;\n",
              "    }\n",
              "\n",
              "    .dataframe thead th {\n",
              "        text-align: right;\n",
              "    }\n",
              "</style>\n",
              "<table border=\"1\" class=\"dataframe\">\n",
              "  <thead>\n",
              "    <tr style=\"text-align: right;\">\n",
              "      <th></th>\n",
              "      <th>Mango</th>\n",
              "      <th>Apple</th>\n",
              "      <th>Banana</th>\n",
              "    </tr>\n",
              "  </thead>\n",
              "  <tbody>\n",
              "    <tr>\n",
              "      <th>0</th>\n",
              "      <td>4</td>\n",
              "      <td>5</td>\n",
              "      <td>2</td>\n",
              "    </tr>\n",
              "    <tr>\n",
              "      <th>1</th>\n",
              "      <td>5</td>\n",
              "      <td>4</td>\n",
              "      <td>3</td>\n",
              "    </tr>\n",
              "    <tr>\n",
              "      <th>2</th>\n",
              "      <td>6</td>\n",
              "      <td>3</td>\n",
              "      <td>4</td>\n",
              "    </tr>\n",
              "    <tr>\n",
              "      <th>3</th>\n",
              "      <td>3</td>\n",
              "      <td>0</td>\n",
              "      <td>2</td>\n",
              "    </tr>\n",
              "    <tr>\n",
              "      <th>4</th>\n",
              "      <td>1</td>\n",
              "      <td>2</td>\n",
              "      <td>7</td>\n",
              "    </tr>\n",
              "  </tbody>\n",
              "</table>\n",
              "</div>\n",
              "      <button class=\"colab-df-convert\" onclick=\"convertToInteractive('df-e6581658-ae1c-4d49-b560-1257e78aa872')\"\n",
              "              title=\"Convert this dataframe to an interactive table.\"\n",
              "              style=\"display:none;\">\n",
              "        \n",
              "  <svg xmlns=\"http://www.w3.org/2000/svg\" height=\"24px\"viewBox=\"0 0 24 24\"\n",
              "       width=\"24px\">\n",
              "    <path d=\"M0 0h24v24H0V0z\" fill=\"none\"/>\n",
              "    <path d=\"M18.56 5.44l.94 2.06.94-2.06 2.06-.94-2.06-.94-.94-2.06-.94 2.06-2.06.94zm-11 1L8.5 8.5l.94-2.06 2.06-.94-2.06-.94L8.5 2.5l-.94 2.06-2.06.94zm10 10l.94 2.06.94-2.06 2.06-.94-2.06-.94-.94-2.06-.94 2.06-2.06.94z\"/><path d=\"M17.41 7.96l-1.37-1.37c-.4-.4-.92-.59-1.43-.59-.52 0-1.04.2-1.43.59L10.3 9.45l-7.72 7.72c-.78.78-.78 2.05 0 2.83L4 21.41c.39.39.9.59 1.41.59.51 0 1.02-.2 1.41-.59l7.78-7.78 2.81-2.81c.8-.78.8-2.07 0-2.86zM5.41 20L4 18.59l7.72-7.72 1.47 1.35L5.41 20z\"/>\n",
              "  </svg>\n",
              "      </button>\n",
              "      \n",
              "  <style>\n",
              "    .colab-df-container {\n",
              "      display:flex;\n",
              "      flex-wrap:wrap;\n",
              "      gap: 12px;\n",
              "    }\n",
              "\n",
              "    .colab-df-convert {\n",
              "      background-color: #E8F0FE;\n",
              "      border: none;\n",
              "      border-radius: 50%;\n",
              "      cursor: pointer;\n",
              "      display: none;\n",
              "      fill: #1967D2;\n",
              "      height: 32px;\n",
              "      padding: 0 0 0 0;\n",
              "      width: 32px;\n",
              "    }\n",
              "\n",
              "    .colab-df-convert:hover {\n",
              "      background-color: #E2EBFA;\n",
              "      box-shadow: 0px 1px 2px rgba(60, 64, 67, 0.3), 0px 1px 3px 1px rgba(60, 64, 67, 0.15);\n",
              "      fill: #174EA6;\n",
              "    }\n",
              "\n",
              "    [theme=dark] .colab-df-convert {\n",
              "      background-color: #3B4455;\n",
              "      fill: #D2E3FC;\n",
              "    }\n",
              "\n",
              "    [theme=dark] .colab-df-convert:hover {\n",
              "      background-color: #434B5C;\n",
              "      box-shadow: 0px 1px 3px 1px rgba(0, 0, 0, 0.15);\n",
              "      filter: drop-shadow(0px 1px 2px rgba(0, 0, 0, 0.3));\n",
              "      fill: #FFFFFF;\n",
              "    }\n",
              "  </style>\n",
              "\n",
              "      <script>\n",
              "        const buttonEl =\n",
              "          document.querySelector('#df-e6581658-ae1c-4d49-b560-1257e78aa872 button.colab-df-convert');\n",
              "        buttonEl.style.display =\n",
              "          google.colab.kernel.accessAllowed ? 'block' : 'none';\n",
              "\n",
              "        async function convertToInteractive(key) {\n",
              "          const element = document.querySelector('#df-e6581658-ae1c-4d49-b560-1257e78aa872');\n",
              "          const dataTable =\n",
              "            await google.colab.kernel.invokeFunction('convertToInteractive',\n",
              "                                                     [key], {});\n",
              "          if (!dataTable) return;\n",
              "\n",
              "          const docLinkHtml = 'Like what you see? Visit the ' +\n",
              "            '<a target=\"_blank\" href=https://colab.research.google.com/notebooks/data_table.ipynb>data table notebook</a>'\n",
              "            + ' to learn more about interactive tables.';\n",
              "          element.innerHTML = '';\n",
              "          dataTable['output_type'] = 'display_data';\n",
              "          await google.colab.output.renderOutput(dataTable, element);\n",
              "          const docLink = document.createElement('div');\n",
              "          docLink.innerHTML = docLinkHtml;\n",
              "          element.appendChild(docLink);\n",
              "        }\n",
              "      </script>\n",
              "    </div>\n",
              "  </div>\n",
              "  "
            ]
          },
          "metadata": {},
          "execution_count": 55
        }
      ]
    },
    {
      "cell_type": "markdown",
      "source": [
        "<font size =5>3.</font>\n",
        "<font size=2><font color = 'blue'> <b>열 이름을 기준으로 데이터를 조합하여 생성한 dictionary를 사용해 데이터프레임을 만들어 낼 수 있어요.</b></font> \n",
        "\n",
        "<img src=\"https://www.datasciencemadesimple.com/wp-content/uploads/2020/05/create-series-in-python-pandas-0.png?ezimgfmt=ng%3Awebp%2Fngcb1%2Frs%3Adevice%2Frscb1-1\" width=\"600\"/>"
      ],
      "metadata": {
        "id": "oWJddupVrYi8"
      }
    },
    {
      "cell_type": "code",
      "source": [
        "dic = {\n",
        "    'Mango' :[4,5,6,3,1],\n",
        "    'Apple' :[5,4,3,0,2],\n",
        "    'Banana':[2,3,4,2,7]\n",
        "}\n",
        "pd.DataFrame(dic)"
      ],
      "metadata": {
        "id": "QOyVxk8DHjUR",
        "colab": {
          "base_uri": "https://localhost:8080/",
          "height": 206
        },
        "outputId": "74f77c9a-1c18-4b65-87d1-e4ef5e1a4dfa"
      },
      "execution_count": null,
      "outputs": [
        {
          "output_type": "execute_result",
          "data": {
            "text/plain": [
              "   Mango  Apple  Banana\n",
              "0      4      5       2\n",
              "1      5      4       3\n",
              "2      6      3       4\n",
              "3      3      0       2\n",
              "4      1      2       7"
            ],
            "text/html": [
              "\n",
              "  <div id=\"df-3bf0b0b1-e542-4157-bdcc-65ebbe00ba2a\">\n",
              "    <div class=\"colab-df-container\">\n",
              "      <div>\n",
              "<style scoped>\n",
              "    .dataframe tbody tr th:only-of-type {\n",
              "        vertical-align: middle;\n",
              "    }\n",
              "\n",
              "    .dataframe tbody tr th {\n",
              "        vertical-align: top;\n",
              "    }\n",
              "\n",
              "    .dataframe thead th {\n",
              "        text-align: right;\n",
              "    }\n",
              "</style>\n",
              "<table border=\"1\" class=\"dataframe\">\n",
              "  <thead>\n",
              "    <tr style=\"text-align: right;\">\n",
              "      <th></th>\n",
              "      <th>Mango</th>\n",
              "      <th>Apple</th>\n",
              "      <th>Banana</th>\n",
              "    </tr>\n",
              "  </thead>\n",
              "  <tbody>\n",
              "    <tr>\n",
              "      <th>0</th>\n",
              "      <td>4</td>\n",
              "      <td>5</td>\n",
              "      <td>2</td>\n",
              "    </tr>\n",
              "    <tr>\n",
              "      <th>1</th>\n",
              "      <td>5</td>\n",
              "      <td>4</td>\n",
              "      <td>3</td>\n",
              "    </tr>\n",
              "    <tr>\n",
              "      <th>2</th>\n",
              "      <td>6</td>\n",
              "      <td>3</td>\n",
              "      <td>4</td>\n",
              "    </tr>\n",
              "    <tr>\n",
              "      <th>3</th>\n",
              "      <td>3</td>\n",
              "      <td>0</td>\n",
              "      <td>2</td>\n",
              "    </tr>\n",
              "    <tr>\n",
              "      <th>4</th>\n",
              "      <td>1</td>\n",
              "      <td>2</td>\n",
              "      <td>7</td>\n",
              "    </tr>\n",
              "  </tbody>\n",
              "</table>\n",
              "</div>\n",
              "      <button class=\"colab-df-convert\" onclick=\"convertToInteractive('df-3bf0b0b1-e542-4157-bdcc-65ebbe00ba2a')\"\n",
              "              title=\"Convert this dataframe to an interactive table.\"\n",
              "              style=\"display:none;\">\n",
              "        \n",
              "  <svg xmlns=\"http://www.w3.org/2000/svg\" height=\"24px\"viewBox=\"0 0 24 24\"\n",
              "       width=\"24px\">\n",
              "    <path d=\"M0 0h24v24H0V0z\" fill=\"none\"/>\n",
              "    <path d=\"M18.56 5.44l.94 2.06.94-2.06 2.06-.94-2.06-.94-.94-2.06-.94 2.06-2.06.94zm-11 1L8.5 8.5l.94-2.06 2.06-.94-2.06-.94L8.5 2.5l-.94 2.06-2.06.94zm10 10l.94 2.06.94-2.06 2.06-.94-2.06-.94-.94-2.06-.94 2.06-2.06.94z\"/><path d=\"M17.41 7.96l-1.37-1.37c-.4-.4-.92-.59-1.43-.59-.52 0-1.04.2-1.43.59L10.3 9.45l-7.72 7.72c-.78.78-.78 2.05 0 2.83L4 21.41c.39.39.9.59 1.41.59.51 0 1.02-.2 1.41-.59l7.78-7.78 2.81-2.81c.8-.78.8-2.07 0-2.86zM5.41 20L4 18.59l7.72-7.72 1.47 1.35L5.41 20z\"/>\n",
              "  </svg>\n",
              "      </button>\n",
              "      \n",
              "  <style>\n",
              "    .colab-df-container {\n",
              "      display:flex;\n",
              "      flex-wrap:wrap;\n",
              "      gap: 12px;\n",
              "    }\n",
              "\n",
              "    .colab-df-convert {\n",
              "      background-color: #E8F0FE;\n",
              "      border: none;\n",
              "      border-radius: 50%;\n",
              "      cursor: pointer;\n",
              "      display: none;\n",
              "      fill: #1967D2;\n",
              "      height: 32px;\n",
              "      padding: 0 0 0 0;\n",
              "      width: 32px;\n",
              "    }\n",
              "\n",
              "    .colab-df-convert:hover {\n",
              "      background-color: #E2EBFA;\n",
              "      box-shadow: 0px 1px 2px rgba(60, 64, 67, 0.3), 0px 1px 3px 1px rgba(60, 64, 67, 0.15);\n",
              "      fill: #174EA6;\n",
              "    }\n",
              "\n",
              "    [theme=dark] .colab-df-convert {\n",
              "      background-color: #3B4455;\n",
              "      fill: #D2E3FC;\n",
              "    }\n",
              "\n",
              "    [theme=dark] .colab-df-convert:hover {\n",
              "      background-color: #434B5C;\n",
              "      box-shadow: 0px 1px 3px 1px rgba(0, 0, 0, 0.15);\n",
              "      filter: drop-shadow(0px 1px 2px rgba(0, 0, 0, 0.3));\n",
              "      fill: #FFFFFF;\n",
              "    }\n",
              "  </style>\n",
              "\n",
              "      <script>\n",
              "        const buttonEl =\n",
              "          document.querySelector('#df-3bf0b0b1-e542-4157-bdcc-65ebbe00ba2a button.colab-df-convert');\n",
              "        buttonEl.style.display =\n",
              "          google.colab.kernel.accessAllowed ? 'block' : 'none';\n",
              "\n",
              "        async function convertToInteractive(key) {\n",
              "          const element = document.querySelector('#df-3bf0b0b1-e542-4157-bdcc-65ebbe00ba2a');\n",
              "          const dataTable =\n",
              "            await google.colab.kernel.invokeFunction('convertToInteractive',\n",
              "                                                     [key], {});\n",
              "          if (!dataTable) return;\n",
              "\n",
              "          const docLinkHtml = 'Like what you see? Visit the ' +\n",
              "            '<a target=\"_blank\" href=https://colab.research.google.com/notebooks/data_table.ipynb>data table notebook</a>'\n",
              "            + ' to learn more about interactive tables.';\n",
              "          element.innerHTML = '';\n",
              "          dataTable['output_type'] = 'display_data';\n",
              "          await google.colab.output.renderOutput(dataTable, element);\n",
              "          const docLink = document.createElement('div');\n",
              "          docLink.innerHTML = docLinkHtml;\n",
              "          element.appendChild(docLink);\n",
              "        }\n",
              "      </script>\n",
              "    </div>\n",
              "  </div>\n",
              "  "
            ]
          },
          "metadata": {},
          "execution_count": 50
        }
      ]
    },
    {
      "cell_type": "markdown",
      "source": [
        "---"
      ],
      "metadata": {
        "id": "kmnnGdb486G8"
      }
    },
    {
      "cell_type": "markdown",
      "source": [
        "## <font color = 'red'><b><i>Q</b></i></font><font size = 3><b>: 데이터프레임의 열과 행의 위치를 바꾸어 활용할 순 없을까? <img src=\"https://img.freepik.com/premium-vector/cute-funny-think-emoji-smile-face-with-question-mark-vector-flat-line-doodle-cartoon-kawaii-character-illustration-icon-isolated-white-background-yellow-emoji-circle-think-character-concept_92289-3170.jpg\" width='40'/><font color='grey'><font size = 2><i>( 각 열들도 동일한 행의 색인을 공유한다고 공부했는데 ? )</i></b></font>"
      ],
      "metadata": {
        "id": "r0I3N4fS8157"
      }
    },
    {
      "cell_type": "markdown",
      "source": [
        "<img src=\"http://s3.amazonaws.com/pix.iemoji.com/images/emoji/apple/ios-12/256/heavy-check-mark.png\" width='20'/><font size = 2><b> .T</b>(ranspose) <b> 함수를 활용하여, 데이터프레임의 행과 열의 위치를 바꾸어 데이터를 활용할 수 있어요. </b></font>\n"
      ],
      "metadata": {
        "id": "r4oh_M_i_YB3"
      }
    },
    {
      "cell_type": "markdown",
      "source": [
        "<img src=\"data:image/png;base64,iVBORw0KGgoAAAANSUhEUgAAAOEAAADhCAMAAAAJbSJIAAAAY1BMVEX////Qz84AAADW1dR9fX0pKSmLiopSUlHT0tFBQUFjYmJoaGhMTEx3d3Zubm6xsbHt7e28vLw1NTSrq6oMDAssLCzl5eWUlJSCgoKbm5sfHx9XV1e0tLNIR0cODg3b2tk8PDyUpOFdAAAB/UlEQVR4nO3dXVPaQBSAYb6EUApUESsWxf//Kyu9aadjSNxN3EN8nuGGm53zkoGLbEJGIwAAAAAAAADg65juJ412pYfM8dDc9+a29JgZfrYqXJYeM8OsVeFN6TEzKBxK4fNxt92dX/86v92uB1K4OFXvm86HUjgdv0/hFVCoMD6FCuNTqDA+hQrjU6gwPoUK41OoMD6FCuNTqDA+hQrjU6gwPoUK41OoMD6FCuMbfuFjq8J96TH/OCxTPLUqvF98/7DFoePAX5MMTYWJq3YaWOUE9lQ4GXdZuO2nsMoq7PQ2jbzCeW3hcRiFzzV958R1rML7x1mCQ33gW+JuneCpr8KX0zRBdalwXKWseNfbMaz7Pn02hQoVlqdQocLyFCpUWJ5ChQrLU6hQYXkKFdYWpp0vvfyxxDpfOll9SzAfXzgnPD1sVh/X2znvRDcXjuAqY904hZNZ7d5T1rqBCq9h//DUT2GgPeBRzj5fT4WrTgNHo9tNirtWhS8pv6dB/m3xmq6nSTP8a6IUKoxPocL4FCqMT6HC+BQqjE+hwvgUKoxPocL4FCqMT6HC+BQqjE+hwvgUKoxPocL4FCqMT6HC+L7K84CX/z3O+e9znTcDKWyiMLLhF7a7Y+S19JgZHloVHkuPmWP82ti37/qfSD/bjyalBwQAAAAAAAAA6MhvAftgbgrcMkYAAAAASUVORK5CYII=\" width=\"30\"/>\n",
        "<font color = 'grey'><font size = 2>이러한 활용은 특히, 여러개의 데이터를 합칠 때에 유용하게 활용될 수 있어요. 우리는 \"데이터 쿼리\" 단원 공부할 때 자세히 학습 할거에요.</font>\n"
      ],
      "metadata": {
        "id": "5wtrp9OoBrBj"
      }
    },
    {
      "cell_type": "code",
      "source": [
        "df.T.head(2)"
      ],
      "metadata": {
        "colab": {
          "base_uri": "https://localhost:8080/",
          "height": 220
        },
        "id": "DlQbqPmE8uHO",
        "outputId": "ff2a1cf3-0840-47d2-e389-0bb794a29431"
      },
      "execution_count": null,
      "outputs": [
        {
          "output_type": "execute_result",
          "data": {
            "text/plain": [
              "      0   1   2    3   4    5      6   7        8     9   ...   27     28  \\\n",
              "키워드  헬스장  헬스  벨트  디자인  학과  마네킹  디스플레이  여성  가정용런닝머신  러닝머신  ...  손모형  아동마네킹   \n",
              "출처    상품  상품  상품   상품  상품   인기     상품  상품       상품    상품  ...   인기     인기   \n",
              "\n",
              "        29       30     31      32     33     34    35    36  \n",
              "키워드  얼굴마네킹  피노키오마네킹  미니마네킹  목걸이마네킹  유아마네킹  철제마네킹  손마네킹  발마네킹  \n",
              "출처      인기       인기     인기      인기     인기     인기    인기    인기  \n",
              "\n",
              "[2 rows x 37 columns]"
            ],
            "text/html": [
              "\n",
              "  <div id=\"df-d72abd20-9129-46ee-a203-aa0e4803de94\">\n",
              "    <div class=\"colab-df-container\">\n",
              "      <div>\n",
              "<style scoped>\n",
              "    .dataframe tbody tr th:only-of-type {\n",
              "        vertical-align: middle;\n",
              "    }\n",
              "\n",
              "    .dataframe tbody tr th {\n",
              "        vertical-align: top;\n",
              "    }\n",
              "\n",
              "    .dataframe thead th {\n",
              "        text-align: right;\n",
              "    }\n",
              "</style>\n",
              "<table border=\"1\" class=\"dataframe\">\n",
              "  <thead>\n",
              "    <tr style=\"text-align: right;\">\n",
              "      <th></th>\n",
              "      <th>0</th>\n",
              "      <th>1</th>\n",
              "      <th>2</th>\n",
              "      <th>3</th>\n",
              "      <th>4</th>\n",
              "      <th>5</th>\n",
              "      <th>6</th>\n",
              "      <th>7</th>\n",
              "      <th>8</th>\n",
              "      <th>9</th>\n",
              "      <th>...</th>\n",
              "      <th>27</th>\n",
              "      <th>28</th>\n",
              "      <th>29</th>\n",
              "      <th>30</th>\n",
              "      <th>31</th>\n",
              "      <th>32</th>\n",
              "      <th>33</th>\n",
              "      <th>34</th>\n",
              "      <th>35</th>\n",
              "      <th>36</th>\n",
              "    </tr>\n",
              "  </thead>\n",
              "  <tbody>\n",
              "    <tr>\n",
              "      <th>키워드</th>\n",
              "      <td>헬스장</td>\n",
              "      <td>헬스</td>\n",
              "      <td>벨트</td>\n",
              "      <td>디자인</td>\n",
              "      <td>학과</td>\n",
              "      <td>마네킹</td>\n",
              "      <td>디스플레이</td>\n",
              "      <td>여성</td>\n",
              "      <td>가정용런닝머신</td>\n",
              "      <td>러닝머신</td>\n",
              "      <td>...</td>\n",
              "      <td>손모형</td>\n",
              "      <td>아동마네킹</td>\n",
              "      <td>얼굴마네킹</td>\n",
              "      <td>피노키오마네킹</td>\n",
              "      <td>미니마네킹</td>\n",
              "      <td>목걸이마네킹</td>\n",
              "      <td>유아마네킹</td>\n",
              "      <td>철제마네킹</td>\n",
              "      <td>손마네킹</td>\n",
              "      <td>발마네킹</td>\n",
              "    </tr>\n",
              "    <tr>\n",
              "      <th>출처</th>\n",
              "      <td>상품</td>\n",
              "      <td>상품</td>\n",
              "      <td>상품</td>\n",
              "      <td>상품</td>\n",
              "      <td>상품</td>\n",
              "      <td>인기</td>\n",
              "      <td>상품</td>\n",
              "      <td>상품</td>\n",
              "      <td>상품</td>\n",
              "      <td>상품</td>\n",
              "      <td>...</td>\n",
              "      <td>인기</td>\n",
              "      <td>인기</td>\n",
              "      <td>인기</td>\n",
              "      <td>인기</td>\n",
              "      <td>인기</td>\n",
              "      <td>인기</td>\n",
              "      <td>인기</td>\n",
              "      <td>인기</td>\n",
              "      <td>인기</td>\n",
              "      <td>인기</td>\n",
              "    </tr>\n",
              "  </tbody>\n",
              "</table>\n",
              "<p>2 rows × 37 columns</p>\n",
              "</div>\n",
              "      <button class=\"colab-df-convert\" onclick=\"convertToInteractive('df-d72abd20-9129-46ee-a203-aa0e4803de94')\"\n",
              "              title=\"Convert this dataframe to an interactive table.\"\n",
              "              style=\"display:none;\">\n",
              "        \n",
              "  <svg xmlns=\"http://www.w3.org/2000/svg\" height=\"24px\"viewBox=\"0 0 24 24\"\n",
              "       width=\"24px\">\n",
              "    <path d=\"M0 0h24v24H0V0z\" fill=\"none\"/>\n",
              "    <path d=\"M18.56 5.44l.94 2.06.94-2.06 2.06-.94-2.06-.94-.94-2.06-.94 2.06-2.06.94zm-11 1L8.5 8.5l.94-2.06 2.06-.94-2.06-.94L8.5 2.5l-.94 2.06-2.06.94zm10 10l.94 2.06.94-2.06 2.06-.94-2.06-.94-.94-2.06-.94 2.06-2.06.94z\"/><path d=\"M17.41 7.96l-1.37-1.37c-.4-.4-.92-.59-1.43-.59-.52 0-1.04.2-1.43.59L10.3 9.45l-7.72 7.72c-.78.78-.78 2.05 0 2.83L4 21.41c.39.39.9.59 1.41.59.51 0 1.02-.2 1.41-.59l7.78-7.78 2.81-2.81c.8-.78.8-2.07 0-2.86zM5.41 20L4 18.59l7.72-7.72 1.47 1.35L5.41 20z\"/>\n",
              "  </svg>\n",
              "      </button>\n",
              "      \n",
              "  <style>\n",
              "    .colab-df-container {\n",
              "      display:flex;\n",
              "      flex-wrap:wrap;\n",
              "      gap: 12px;\n",
              "    }\n",
              "\n",
              "    .colab-df-convert {\n",
              "      background-color: #E8F0FE;\n",
              "      border: none;\n",
              "      border-radius: 50%;\n",
              "      cursor: pointer;\n",
              "      display: none;\n",
              "      fill: #1967D2;\n",
              "      height: 32px;\n",
              "      padding: 0 0 0 0;\n",
              "      width: 32px;\n",
              "    }\n",
              "\n",
              "    .colab-df-convert:hover {\n",
              "      background-color: #E2EBFA;\n",
              "      box-shadow: 0px 1px 2px rgba(60, 64, 67, 0.3), 0px 1px 3px 1px rgba(60, 64, 67, 0.15);\n",
              "      fill: #174EA6;\n",
              "    }\n",
              "\n",
              "    [theme=dark] .colab-df-convert {\n",
              "      background-color: #3B4455;\n",
              "      fill: #D2E3FC;\n",
              "    }\n",
              "\n",
              "    [theme=dark] .colab-df-convert:hover {\n",
              "      background-color: #434B5C;\n",
              "      box-shadow: 0px 1px 3px 1px rgba(0, 0, 0, 0.15);\n",
              "      filter: drop-shadow(0px 1px 2px rgba(0, 0, 0, 0.3));\n",
              "      fill: #FFFFFF;\n",
              "    }\n",
              "  </style>\n",
              "\n",
              "      <script>\n",
              "        const buttonEl =\n",
              "          document.querySelector('#df-d72abd20-9129-46ee-a203-aa0e4803de94 button.colab-df-convert');\n",
              "        buttonEl.style.display =\n",
              "          google.colab.kernel.accessAllowed ? 'block' : 'none';\n",
              "\n",
              "        async function convertToInteractive(key) {\n",
              "          const element = document.querySelector('#df-d72abd20-9129-46ee-a203-aa0e4803de94');\n",
              "          const dataTable =\n",
              "            await google.colab.kernel.invokeFunction('convertToInteractive',\n",
              "                                                     [key], {});\n",
              "          if (!dataTable) return;\n",
              "\n",
              "          const docLinkHtml = 'Like what you see? Visit the ' +\n",
              "            '<a target=\"_blank\" href=https://colab.research.google.com/notebooks/data_table.ipynb>data table notebook</a>'\n",
              "            + ' to learn more about interactive tables.';\n",
              "          element.innerHTML = '';\n",
              "          dataTable['output_type'] = 'display_data';\n",
              "          await google.colab.output.renderOutput(dataTable, element);\n",
              "          const docLink = document.createElement('div');\n",
              "          docLink.innerHTML = docLinkHtml;\n",
              "          element.appendChild(docLink);\n",
              "        }\n",
              "      </script>\n",
              "    </div>\n",
              "  </div>\n",
              "  "
            ]
          },
          "metadata": {},
          "execution_count": 59
        }
      ]
    },
    {
      "cell_type": "markdown",
      "source": [
        "<font color = 'white'><font size = 30>.</font>"
      ],
      "metadata": {
        "id": "4qk24motQyki"
      }
    },
    {
      "cell_type": "markdown",
      "source": [
        "# <font size = 4><b>MINI PROJECT 준비하기</b></font>\n",
        "> # <font size = 4><font color = 'grey'><b>STEP1</b></font>"
      ],
      "metadata": {
        "id": "mzNOROiHQ4HN"
      }
    },
    {
      "cell_type": "markdown",
      "source": [
        "    데이터를 수집하는 경과가 궁급하다면 하단의 스크래핑 코드를 공부해보아요\n",
        "    구체적인 데이터 스크레핑 방법은 데이터 심화 학습에서 학습합니다 :)"
      ],
      "metadata": {
        "id": "Tt3P8BPJWtTo"
      }
    },
    {
      "cell_type": "code",
      "source": [
        "#@title <font color = 'grey'><font size = 3><b>Scraping (OUTPUT=FD)</b></font>\n",
        "search_word = \"\\uAC8C\\uC784 \\uC601\\uD654 \\uAC00\\uC694\" #@param {type:\"string\"}\n",
        "page_range = 17 #@param {type:\"integer\"}\n",
        "\n",
        "!pip install selenium\n",
        "!apt-get update\n",
        "!apt install chromium-chromedriver\n",
        "!cp /usr/lib/chromium-browser/chromedriver /usr/bin\n",
        "from IPython import display; display.clear_output()\n",
        "\n",
        "import time\n",
        "from tqdm import tqdm\n",
        "\n",
        "from bs4 import BeautifulSoup\n",
        "from selenium import webdriver\n",
        "\n",
        "class dsta_scrap():\n",
        "    def chr_options():\n",
        "        chrome_options = webdriver.ChromeOptions()\n",
        "        chrome_options.add_argument('--headless')\n",
        "        chrome_options.add_argument('--no-sandbox')\n",
        "        chrome_options.add_argument('--disable-dev-shm-usage')\n",
        "        driver = webdriver.Chrome('chromedriver',chrome_options=chrome_options); display.clear_output()\n",
        "        return driver \n",
        "\n",
        "    def get_urls(qe, max_pg):\n",
        "        global urlL_FN\n",
        "        url_Ky = f\"https://search.naver.com/search.naver?where=news&sm=tab_jum&query={qe}\"\n",
        "        driver = dsta_scrap.chr_options()\n",
        "        driver.get(url_Ky)\n",
        "\n",
        "        urlL_FN = []\n",
        "        for pi in tqdm(range(1, max_pg+1)): \n",
        "            p_num = pi\n",
        "            driver.find_element(\"xpath\", f\"/html/body/div[3]/div[2]/div/div[1]/div[2]/div/div/a[{p_num}]\").click()\n",
        "\n",
        "            html = driver.page_source\n",
        "            soup = BeautifulSoup(html,\"html.parser\")\n",
        "            spL = soup.find_all(class_='info', href=True)\n",
        "            urlL = [x['href'] for x in spL if \"n.news.naver\" in x['href']]\n",
        "\n",
        "            urlL_FN.append(urlL)\n",
        "        return list(set(sum(urlL_FN, [])))    \n",
        "\n",
        "    def srp(input_url, find_c):\n",
        "        try:\n",
        "            driver = dsta_scrap.chr_options()\n",
        "            driver.get(input_url)\n",
        "\n",
        "            html = driver.page_source\n",
        "            soup = BeautifulSoup(html,\"html.parser\")\n",
        "            contents = soup.find_all(class_=find_c)[0].text.strip()\n",
        "        except:\n",
        "            contents = ''\n",
        "            pass\n",
        "        return contents\n",
        "\n",
        "    def merge_contents(cats, pg_rng):\n",
        "        dic = {}\n",
        "        for cat, pgs in zip(cats, pg_rng): \n",
        "            contents = []\n",
        "            for pi in tqdm(dsta_scrap.get_urls(cat, pgs)):\n",
        "                from IPython import display; display.clear_output()\n",
        "                y = dsta_scrap.srp(pi, \"go_trans _article_content\")\n",
        "                contents.append(y)     \n",
        "            dic[cat] = contents\n",
        "        return dic\n",
        "\n",
        "# scrapping\n",
        "FD = dsta_scrap.merge_contents(cats=search_word.split(' '), pg_rng=[page_range for _ in range(3)])    \n",
        "# preprocessing\n",
        "dic = {}; key_nms = list(FD.keys())\n",
        "for ki in key_nms:\n",
        "    small_cont = [x for x in FD[ki] if x != '']; dic[ki] = small_cont;\n",
        "# data store\n",
        "root = f'{os.getcwd()}/srp_dtset'; \n",
        "if root.split('/')[-1] not in os.listdir(os.getcwd()): os.makedirs(root);\n",
        "for nmi in key_nms:\n",
        "    f_path = f'{root}/{nmi}'\n",
        "    if f_path.split('/')[-1] not in os.listdir(root): os.makedirs(f_path);    \n",
        "\n",
        "    idx = 1\n",
        "    for j in tqdm(dic[nmi]):\n",
        "        with open(f'{f_path}/{nmi}_{idx}.txt', 'wb') as f: pickle.dump(j, f); \n",
        "        idx += 1"
      ],
      "metadata": {
        "id": "WphdQZ3Fuvc-"
      },
      "execution_count": null,
      "outputs": []
    }
  ]
}