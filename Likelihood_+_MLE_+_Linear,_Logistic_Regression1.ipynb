{
  "nbformat": 4,
  "nbformat_minor": 0,
  "metadata": {
    "colab": {
      "provenance": [],
      "toc_visible": true,
      "authorship_tag": "ABX9TyNszRAogu9Pw8LjBKG80lhg",
      "include_colab_link": true
    },
    "kernelspec": {
      "name": "python3",
      "display_name": "Python 3"
    },
    "language_info": {
      "name": "python"
    }
  },
  "cells": [
    {
      "cell_type": "markdown",
      "metadata": {
        "id": "view-in-github",
        "colab_type": "text"
      },
      "source": [
        "<a href=\"https://colab.research.google.com/github/mwithgod3952/ML_jh/blob/master/Likelihood_%2B_MLE_%2B_Linear%2C_Logistic_Regression1.ipynb\" target=\"_parent\"><img src=\"https://colab.research.google.com/assets/colab-badge.svg\" alt=\"Open In Colab\"/></a>"
      ]
    },
    {
      "cell_type": "markdown",
      "source": [
        "<img src=\"http://s3.amazonaws.com/pix.iemoji.com/images/emoji/apple/ios-12/256/heavy-check-mark.png\" width='30'/><font size = 4><font color = 'grey'> <b>ML의 Historical Background</b></font>\n"
      ],
      "metadata": {
        "id": "ms8GhrYTXeo6"
      }
    },
    {
      "cell_type": "markdown",
      "source": [
        "<img src = \"https://www.algotive.ai/hs-fs/hubfs/00%20Blog/02%20Machine%20Learning/timeline.jpg?width=800&name=timeline.jpg\" width = \"1000\">\n",
        "\n"
      ],
      "metadata": {
        "id": "98etRpgmYUT9"
      }
    },
    {
      "cell_type": "markdown",
      "source": [
        "---"
      ],
      "metadata": {
        "id": "YNZ7GTM0b-9V"
      }
    },
    {
      "cell_type": "markdown",
      "source": [
        "# <font size = 3><b>- Bayes’ theorem (베이즈 정리)</b></font>"
      ],
      "metadata": {
        "id": "3Nhdf0zvb_74"
      }
    },
    {
      "cell_type": "markdown",
      "source": [
        "\\begin{align}\n",
        "        P(A \\mid B) = \\frac{P(B \\mid A) \\, P(A)}{P(B)}\n",
        "    \\end{align}"
      ],
      "metadata": {
        "id": "2oEcibVrcjpX"
      }
    },
    {
      "cell_type": "markdown",
      "source": [
        "    - 베이즈 정리는 두 확률변수의 사전, 사후 확률 간의 관계를 나타내기 위한 정리입니다.\n",
        "<font size = 2>* <b>정리의 목적</b>: 이는, \"사전확률\"로부터, \"사후확률\"을 구해내는 것에 그 목적이 있습니다.</font>\n",
        "\n",
        "    - <P(A|B)>는 [사후확률], <P(A), P(B)>는 각 A, B의 [사전확률], <P(B|A)>는 [우도(likelihood)]를 의미합니다.\n"
      ],
      "metadata": {
        "id": "9b5Auguec1GX"
      }
    },
    {
      "cell_type": "markdown",
      "source": [
        "## <font size = 3><b>- Linear Regression</b></font>"
      ],
      "metadata": {
        "id": "xq-HFoPfFbs8"
      }
    },
    {
      "cell_type": "markdown",
      "source": [
        "### <font size = 2><b>- 우도 == 가능도 (Likelihood)</b></font>"
      ],
      "metadata": {
        "id": "WnX6uHLBJ38u"
      }
    },
    {
      "cell_type": "markdown",
      "source": [
        "<img src=\"data:image/png;base64,iVBORw0KGgoAAAANSUhEUgAAAOEAAADhCAMAAAAJbSJIAAAAY1BMVEX////Qz84AAADW1dR9fX0pKSmLiopSUlHT0tFBQUFjYmJoaGhMTEx3d3Zubm6xsbHt7e28vLw1NTSrq6oMDAssLCzl5eWUlJSCgoKbm5sfHx9XV1e0tLNIR0cODg3b2tk8PDyUpOFdAAAB/UlEQVR4nO3dXVPaQBSAYb6EUApUESsWxf//Kyu9aadjSNxN3EN8nuGGm53zkoGLbEJGIwAAAAAAAADg65juJ412pYfM8dDc9+a29JgZfrYqXJYeM8OsVeFN6TEzKBxK4fNxt92dX/86v92uB1K4OFXvm86HUjgdv0/hFVCoMD6FCuNTqDA+hQrjU6gwPoUK41OoMD6FCuNTqDA+hQrjU6gwPoUK41OoMD6FCuMbfuFjq8J96TH/OCxTPLUqvF98/7DFoePAX5MMTYWJq3YaWOUE9lQ4GXdZuO2nsMoq7PQ2jbzCeW3hcRiFzzV958R1rML7x1mCQ33gW+JuneCpr8KX0zRBdalwXKWseNfbMaz7Pn02hQoVlqdQocLyFCpUWJ5ChQrLU6hQYXkKFdYWpp0vvfyxxDpfOll9SzAfXzgnPD1sVh/X2znvRDcXjuAqY904hZNZ7d5T1rqBCq9h//DUT2GgPeBRzj5fT4WrTgNHo9tNirtWhS8pv6dB/m3xmq6nSTP8a6IUKoxPocL4FCqMT6HC+BQqjE+hwvgUKoxPocL4FCqMT6HC+BQqjE+hwvgUKoxPocL4FCqMT6HC+L7K84CX/z3O+e9znTcDKWyiMLLhF7a7Y+S19JgZHloVHkuPmWP82ti37/qfSD/bjyalBwQAAAAAAAAA6MhvAftgbgrcMkYAAAAASUVORK5CYII=\" width=\"30\"/><font size = 1><b><font color = 'grey'> ** </font> 용어정리 <font color = 'grey'> ** </font></b></font>\n",
        "\n",
        "<font size = 1><b>1.확률변수: </b>'표본공간'<i>(시행에서 얻어지는 모든 결과들의 집합)</i>정으역으로 하고, 특정 '실수'를 공역으로하는 함수</font>\n",
        "\n",
        "<font size = 1><b>2.확률분포: </b>확률변수로부터 파생된 실수에 대하여 이에 대한, 각 확률값을 공역으로 하는 함수</font>\n",
        "\n",
        "---"
      ],
      "metadata": {
        "id": "5foimpZiKJ_0"
      }
    },
    {
      "cell_type": "markdown",
      "source": [
        "#### <font size =5>1.</font><font size = 2><font color = 'blue'><i><b> 일반적 정의</b></i></font>\n",
        "\n",
        "    - 확률분포의 모수(Population Parameter)가 어떤 확률변수(Random variable)의 표집값과 일관되는 정도를 나타내는 값 == joint probability\n",
        "    - 주어진 표집괎에 대한 모수의 가능도는 이 모수를 따르는 분포가 주어진 관측값에 대하여 부여하는 확률이다. 가능도 함수는 확률 분포가 아니며, 합하여 1이 되지 않을 수 있다.\n",
        "\n"
      ],
      "metadata": {
        "id": "YKqO7KFEggHQ"
      }
    },
    {
      "cell_type": "markdown",
      "source": [
        "#### <font size =5>2.</font><font size = 2><font color = 'blue'><i><b> 확률분포와의 대조를 통한 이해</b></i></font>"
      ],
      "metadata": {
        "id": "Hl48SGmIgmXh"
      }
    },
    {
      "cell_type": "markdown",
      "source": [
        "    먼저, 중심극한정리 (Central limit theorem)에 기준하여, 임의의 정규분포를 아래와 같이 가정해 보겠습니다."
      ],
      "metadata": {
        "id": "2sv0RZTNrDQn"
      }
    },
    {
      "cell_type": "markdown",
      "source": [
        "\\begin{align}\n",
        "        f(x) = \\frac{1}{\\sqrt{2\\pi\\sigma^2}}e^{-(x-\\mu)^2}\n",
        "    \\end{align}"
      ],
      "metadata": {
        "id": "4-6dXth2-YTq"
      }
    },
    {
      "cell_type": "markdown",
      "source": [
        "<center><img src = \"data:image/jpeg;base64,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\" width = 400><b>Fig1</b></center>\n",
        "\n",
        "    Fig1의 P(a < X < b)는 \"확률변수\"a와 b 사이에서 특정 사건이 일어날 확률을 의미하고, 해당 결과값은 \"확률밀도함수(Probability Density Function)\"를 통해 확인할 수 있습니다.\n",
        "<font size = 2><font color = 'red'><b>* 이 때, 우리는 $m$과 $s$값 즉, 분포의 성질을 반드시 함께 제공해야 합니다. ($N(\\mu,\\sigma)$)</b>. <u><i>(probabilities are the areas under a fixed distribution)</i></u></font>\n",
        "\n",
        "\n",
        "    \n"
      ],
      "metadata": {
        "id": "OAT8XMsjiL8d"
      }
    },
    {
      "cell_type": "markdown",
      "source": [
        "<font size = 2><b>* 다른 측면에서 생각해보면, 분포가 일정한 경우가 아니라면 확률역시 달라진다는 것이죠.<i>(probabilities are the areas under a fixed distribution)</i></u></b></font>\n",
        "\n",
        "<center><img src = \"https://sebastianraschka.com/images/faq/probability-vs-likelihood/likelihood-2.png\" width = \"450\"></center>\n",
        "    \n",
        "<font size = 2><b>즉, likelihood는 우리가 가정한 어떠한 모델로부터의 확률을 의미하는 것입니다.  $L(distribution|data)$</b></font>"
      ],
      "metadata": {
        "id": "EBAjfRUbmnpT"
      }
    },
    {
      "cell_type": "markdown",
      "source": [
        "#### <font size =5>3.</font><font size = 2><font color = 'blue'><i><b> MLE (Maximum Likelihood)</b></i></font>"
      ],
      "metadata": {
        "id": "5JExJJtgwXzd"
      }
    },
    {
      "cell_type": "markdown",
      "source": [
        "<font size = 2>우리에게 주어진 <font color = \"red\"><b><font size = 5>각</b></font> <b><font color = \"black\">\"데이터\"로부터</b> <b>가장 적합시되는 probability distribution</b>를 찾아 이의 <b>parameter</b>를 예측하는 것에 그 목적이 있습니다.</font>"
      ],
      "metadata": {
        "id": "sEW33CsA0-nN"
      }
    },
    {
      "cell_type": "markdown",
      "source": [
        "<center><img src = \"https://miro.medium.com/max/640/1*uLKl0Nz1vFg6bmfiqpCKZQ.webp\" width = \"500\"></\n",
        "center><right><b>Fig2</b></right>"
      ],
      "metadata": {
        "id": "v-M95Zb-3Iw_"
      }
    },
    {
      "cell_type": "markdown",
      "source": [
        "<center><img src = \"https://media2.giphy.com/media/b73wUq1jFLBTy/giphy.gif\" width = \"200\"></center>"
      ],
      "metadata": {
        "id": "1fE3ac4s3acs"
      }
    },
    {
      "cell_type": "markdown",
      "source": [
        "<center><img src = \"https://images.squarespace-cdn.com/content/v1/60bf6a0ed36614062037a08b/1629547928811-OI9HN7Q480VKLSO181PL/maximum+likelihood+estimation.png?format=750w\" width = \"450\"></center>\n",
        "<right><b>Fig3</b></right>"
      ],
      "metadata": {
        "id": "A19HWhyntj-N"
      }
    },
    {
      "cell_type": "markdown",
      "source": [
        "    - Fig2의 예시를 통해 확인할 수 있는 것은 무엇입니까?\n",
        "<font size = 2><b>*</b> <u>std(standard deviation)은 일정하다고 가정하고, <b>특정 분포의 \"평균\"만을 고려한다면</b></u>, f1, f2, f3를 우리가 가진 데이터와 대조하여 적합하다고 평가할 수 있습니다.</font>\n",
        "\n",
        "<font size = 2><b>*</b> <u>평균 뿐만 아니라 <b>std를 함께 고려하면</u></b>, f1이 우리가 가진 데이터를 포괄적으로 가장 잘 대표한다고 볼 수 있습니다.</font>"
      ],
      "metadata": {
        "id": "ngvRjdDp6Dy1"
      }
    },
    {
      "cell_type": "markdown",
      "source": [
        "##### <font size =5>3-1.</font><font size = 2><font color = 'blue'><i><b> Linear regression 구현</b></i></font>"
      ],
      "metadata": {
        "id": "tNRhd6aYhg8-"
      }
    },
    {
      "cell_type": "code",
      "execution_count": null,
      "metadata": {
        "id": "YWV5pJV-Uoxa"
      },
      "outputs": [],
      "source": [
        "# https://www.kaggle.com/code/billbasener/probabilities-likelihoods-and-bayes-theorem|"
      ]
    }
  ]
}