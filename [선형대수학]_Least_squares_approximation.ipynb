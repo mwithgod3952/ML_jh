{
  "nbformat": 4,
  "nbformat_minor": 0,
  "metadata": {
    "colab": {
      "name": "[선형대수학]_Least squares approximation",
      "provenance": [],
      "collapsed_sections": [],
      "authorship_tag": "ABX9TyOeC7hCah4JXUKn58TyAozh",
      "include_colab_link": true
    },
    "kernelspec": {
      "name": "python3",
      "display_name": "Python 3"
    },
    "language_info": {
      "name": "python"
    }
  },
  "cells": [
    {
      "cell_type": "markdown",
      "metadata": {
        "id": "view-in-github",
        "colab_type": "text"
      },
      "source": [
        "<a href=\"https://colab.research.google.com/github/mwithgod3952/Machine_Learning_Theory_jh/blob/master/%5B%EC%84%A0%ED%98%95%EB%8C%80%EC%88%98%ED%95%99%5D_Least_squares_approximation.ipynb\" target=\"_parent\"><img src=\"https://colab.research.google.com/assets/colab-badge.svg\" alt=\"Open In Colab\"/></a>"
      ]
    },
    {
      "cell_type": "markdown",
      "metadata": {
        "id": "94GSHpztff_1"
      },
      "source": [
        "##### ***Preview***"
      ]
    },
    {
      "cell_type": "markdown",
      "metadata": {
        "id": "ct1IeZSrgQa8"
      },
      "source": [
        "***1) $R^n < R^n$***\n",
        "\n",
        "    - 임의의 Vector Space n차의 R이 있다고 가정했을 때, \n",
        "    임의의 n개의 독립적 벡터 (V1,V2, ... V_n)에 의한, Span(V1,V2, ... V_n)는 Vector Space n차의 R에 속한다.\n",
        "\n",
        "**That is, we know that the span of any vector set creates a subset of the vector space and, we can generalize this to a rule that R^n is a subspace of itself.**"
      ]
    },
    {
      "cell_type": "markdown",
      "metadata": {
        "id": "cWKSJ4gbgdsB"
      },
      "source": [
        "##### ***Least squares approximation***"
      ]
    },
    {
      "cell_type": "markdown",
      "metadata": {
        "id": "i3APTyOfki07"
      },
      "source": [
        "$A_{nk}\\vec X = \\vec b $\n",
        "\n",
        "    : 위와 같은 Vector 간 관계가 성립된다고 할 때, \n",
        "$\\vec X \\in \\Re^k$ , $\\vec b \\in \\Re^n$\n",
        "\n",
        "    : X는 열 벡터에, b는 행 벡터에 종속된다.\n",
        "\n",
        "$\\begin{bmatrix} \\vec a_1 & \\vec a_2 & .. &\\vec a_k\\\\ \\end{bmatrix}* \\begin{bmatrix} \\vec x_1\\\\ \\vec x_2\\\\ .\\\\ .\\\\ \\vec x_k\\\\\n",
        "\\end{bmatrix} = \\vec b$"
      ]
    },
    {
      "cell_type": "code",
      "metadata": {
        "id": "04s6-qKXavWI"
      },
      "source": [
        ""
      ],
      "execution_count": null,
      "outputs": []
    }
  ]
}