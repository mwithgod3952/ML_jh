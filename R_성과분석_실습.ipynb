{
  "nbformat": 4,
  "nbformat_minor": 0,
  "metadata": {
    "colab": {
      "name": "R_성과분석_실습",
      "private_outputs": true,
      "provenance": [],
      "collapsed_sections": [],
      "authorship_tag": "ABX9TyNS7XBsKCLxEv9be8lsvLMg",
      "include_colab_link": true
    },
    "kernelspec": {
      "name": "ir",
      "display_name": "R"
    },
    "language_info": {
      "name": "R"
    },
    "accelerator": "GPU"
  },
  "cells": [
    {
      "cell_type": "markdown",
      "metadata": {
        "id": "view-in-github",
        "colab_type": "text"
      },
      "source": [
        "<a href=\"https://colab.research.google.com/github/mwithgod3952/Machine_Learning_Theory_jh/blob/master/R_%EC%84%B1%EA%B3%BC%EB%B6%84%EC%84%9D_%EC%8B%A4%EC%8A%B5.ipynb\" target=\"_parent\"><img src=\"https://colab.research.google.com/assets/colab-badge.svg\" alt=\"Open In Colab\"/></a>"
      ]
    },
    {
      "cell_type": "code",
      "metadata": {
        "id": "2STQZxLngonI"
      },
      "source": [
        "install.packages(\"party\")"
      ],
      "execution_count": null,
      "outputs": []
    },
    {
      "cell_type": "code",
      "metadata": {
        "id": "mEovJXS-g4th"
      },
      "source": [
        "install.packages(\"ROCR\")"
      ],
      "execution_count": null,
      "outputs": []
    },
    {
      "cell_type": "code",
      "metadata": {
        "id": "QpQPhVNxg_p0"
      },
      "source": [
        "library(rpart)\n",
        "library(party)\n",
        "library(ROCR)"
      ],
      "execution_count": null,
      "outputs": []
    },
    {
      "cell_type": "code",
      "metadata": {
        "id": "NVbO0DDjhAUs"
      },
      "source": [
        "x <- kyphosis[sample(1:nrow(kyphosis), nrow(kyphosis), replace=F),]\n",
        "x.train <- kyphosis[1:floor(nrow(x)*0.75),]\n",
        "x.evaluate <- kyphosis[1:floor(nrow(x)*0.75):nrow(x),]"
      ],
      "execution_count": null,
      "outputs": []
    },
    {
      "cell_type": "code",
      "metadata": {
        "id": "BXniwjEVjtGc"
      },
      "source": [
        "x.model <- cforest(Kyphosis~Age+Number+Start, data=x.train)\n",
        "x.evaluate$prediction <- predict(x.model, newdata=x.evaluate)\n",
        "x.evaluate$correct <- x.evaluate$prediction == x.evaluate$Kyphosis"
      ],
      "execution_count": null,
      "outputs": []
    },
    {
      "cell_type": "code",
      "metadata": {
        "id": "Ys8Q4fTnkjSc"
      },
      "source": [
        "print(paste(\"% of predicted classification correct\", mean(x.evaluate$correct)))"
      ],
      "execution_count": null,
      "outputs": []
    },
    {
      "cell_type": "code",
      "metadata": {
        "id": "t8QWR9tukbIT"
      },
      "source": [
        "x.evaluate$probabilities <- 1 - unlist(treeresponse(x.model, newdata=x.evaluate), use.names=F)[seq(1,nrow(x.evaluate)*2,2)]"
      ],
      "execution_count": null,
      "outputs": []
    },
    {
      "cell_type": "code",
      "metadata": {
        "id": "7RUdEbeKlTLw"
      },
      "source": [
        "pred <- prediction(x.evaluate$probabilities, x.evaluate$Kyphosis)\n",
        "perf <- performance(pred, \"tpr\", \"fpr\")\n",
        "plot(perf, main=\"ROC curve\", colorize=T)"
      ],
      "execution_count": null,
      "outputs": []
    },
    {
      "cell_type": "code",
      "metadata": {
        "id": "e1P-v34sl1B_"
      },
      "source": [
        "perf <- performance(pred, \"lift\", \"rpp\")\n",
        "plot(perf, main=\"lift curve\")"
      ],
      "execution_count": null,
      "outputs": []
    }
  ]
}